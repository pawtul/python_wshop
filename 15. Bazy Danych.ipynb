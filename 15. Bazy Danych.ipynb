{
 "cells": [
  {
   "cell_type": "markdown",
   "metadata": {},
   "source": [
    "PEP 249 definiuje API dla baz danych:\n",
    "\n",
    "https://www.python.org/dev/peps/pep-0249/\n",
    "\n",
    "\n",
    "Zazwyczaj w przypadku baz danych, korzysta się z ORMów. Jeden z popularniejszych ORMów to SQLAlchemy - \n",
    "\n",
    "peewee\n",
    "ponyorm\n",
    "SQLObject"
   ]
  }
 ],
 "metadata": {
  "kernelspec": {
   "display_name": "Python 2",
   "language": "python",
   "name": "python2"
  },
  "language_info": {
   "codemirror_mode": {
    "name": "ipython",
    "version": 2
   },
   "file_extension": ".py",
   "mimetype": "text/x-python",
   "name": "python",
   "nbconvert_exporter": "python",
   "pygments_lexer": "ipython2",
   "version": "2.7.13"
  }
 },
 "nbformat": 4,
 "nbformat_minor": 2
}
