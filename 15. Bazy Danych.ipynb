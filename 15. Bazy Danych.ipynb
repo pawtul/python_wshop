{
 "cells": [
  {
   "cell_type": "markdown",
   "metadata": {},
   "source": [
    "PEP 249 definiuje API dla baz danych:\n",
    "\n",
    "https://www.python.org/dev/peps/pep-0249/\n",
    "\n",
    "\n",
    "W przypadku baz danych, zazwyczaj, korzysta się z ORMów. Jeden z popularniejszych ORMów to SQLAlchemy. Inne ORMy to\n",
    "\n",
    "* peewee - ORM dla baz relacyjnych (PostgreSQL, MySQL, SQLite, możliwe inne bazy danych po doinstalowaniu pliginów) - http://docs.peewee-orm.com/en/latest/\n",
    "* PonyORM - Zapytania SQL są tworzone na podstawie kodu pythonowego - https://ponyorm.com/\n",
    "* SQLObject - http://www.sqlobject.org/\n",
    "\n",
    "\n",
    "## bazy nierelacyjne\n",
    "\n",
    "* MongoDB - PyMongo\n",
    "* Redis - redis-py"
   ]
  },
  {
   "cell_type": "markdown",
   "metadata": {},
   "source": [
    "## Na co trzeba uważać\n",
    "\n",
    "- wstawianie parametrów do zapytania i obsługa znaków specjalnych - domyśłnie obsługiwane w ORMach\n",
    "- Długie wyniki z bazy danych lepiej obsługiwać w formie iteratora a nie konwertować na listę\n",
    "- Nie używać 'SELECT *' w zapytaniach tylko określać konkretne kolumny - wtedy jest pewność, że są konkretne pola (nawet jeżeli zostaną dodane w przyszłości inne kolumny) i wpływa to pozytywnie na wydajność\n",
    "- Wykonywanie operacji bazodanowych podczas zapytań - Oszczędza to czas i iteracji oraz ewentualnych kolejnych zapytań\n",
    "\n",
    "## Dodatkowa optymalizacja\n",
    "- W bazach relacyjnych można dodać indeks na kolumnę, co przyspiesza odczyt (ale spowalnia zapis)\n",
    "- Cache'owanie - zmniejszy liczbę zapytań co może pozytywnie przełożyć się na szybkość działąnia aplikacji"
   ]
  }
 ],
 "metadata": {
  "kernelspec": {
   "display_name": "Python 2",
   "language": "python",
   "name": "python2"
  },
  "language_info": {
   "codemirror_mode": {
    "name": "ipython",
    "version": 2
   },
   "file_extension": ".py",
   "mimetype": "text/x-python",
   "name": "python",
   "nbconvert_exporter": "python",
   "pygments_lexer": "ipython2",
   "version": "2.7.13"
  }
 },
 "nbformat": 4,
 "nbformat_minor": 2
}
