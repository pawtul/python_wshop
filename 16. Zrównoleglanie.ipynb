{
 "cells": [
  {
   "cell_type": "markdown",
   "metadata": {},
   "source": [
    "# wprowadzenie i GIL"
   ]
  },
  {
   "cell_type": "markdown",
   "metadata": {},
   "source": [
    "## Wątki\n",
    "\n",
    "pakiet threading - do programowania wielowątkowego\n",
    "\n",
    "\n",
    "Uruchomienie funkcji w nowym wątku jest proste:"
   ]
  },
  {
   "cell_type": "code",
   "execution_count": 15,
   "metadata": {},
   "outputs": [
    {
     "name": "stdout",
     "output_type": "stream",
     "text": [
      "f((0,) ,{'kwa': 'rg'})f((1,) ,{'kwa': 'rg'}) f((2,) ,{'kwa': 'rg'})\n",
      "\n",
      "\n",
      "f((3,) ,{'kwa': 'rg'})\n",
      "asdff((4,) ,{'kwa': 'rg'})\n",
      "\n"
     ]
    }
   ],
   "source": [
    "from random import randint\n",
    "from time import sleep\n",
    "from threading import Thread\n",
    "\n",
    "# Thread(group=None, target=None, name=None, args=(), kwargs={})\n",
    "# group - zarezerwowane na przyszłość\n",
    "# target - funkcja do wywołania\n",
    "# name - unikalna nazwa wątku\n",
    "# args, kwargs - argumenty przekazywane do funkcji\n",
    "\n",
    "\n",
    "def f(*args, **kwargs):\n",
    "    print \"f({} ,{})\".format(args, kwargs)\n",
    "    sleep(randint(0, 3))\n",
    "    return\n",
    "\n",
    "\n",
    "for i in range(5):\n",
    "    t = Thread(target=f, args=(i,), kwargs={'kwa': 'rg'})\n",
    "    t.start()  # uruchomienie wątku \n",
    "    #t.join()  # oczekiwanie przez wątek wywołujący na wykonanie wątku wywoływanego\n",
    "    \n",
    "print \"asdf\""
   ]
  }
 ],
 "metadata": {
  "kernelspec": {
   "display_name": "Python 2",
   "language": "python",
   "name": "python2"
  },
  "language_info": {
   "codemirror_mode": {
    "name": "ipython",
    "version": 2
   },
   "file_extension": ".py",
   "mimetype": "text/x-python",
   "name": "python",
   "nbconvert_exporter": "python",
   "pygments_lexer": "ipython2",
   "version": "2.7.13"
  }
 },
 "nbformat": 4,
 "nbformat_minor": 2
}
