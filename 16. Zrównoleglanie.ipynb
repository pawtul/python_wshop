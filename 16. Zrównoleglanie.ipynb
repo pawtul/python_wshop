{
 "cells": [
  {
   "cell_type": "markdown",
   "metadata": {},
   "source": [
    "# wprowadzenie i GIL"
   ]
  },
  {
   "cell_type": "markdown",
   "metadata": {},
   "source": [
    "## Wątki\n",
    "\n",
    "pakiet threading - do programowania wielowątkowego\n",
    "\n",
    "\n",
    "Uruchomienie funkcji w nowym wątku jest proste:"
   ]
  },
  {
   "cell_type": "code",
   "execution_count": 1,
   "metadata": {},
   "outputs": [
    {
     "name": "stdout",
     "output_type": "stream",
     "text": [
      "f((1,) ,{'kwa': 'rg'})\n",
      "f((0,) ,{'kwa': 'rg'})\n",
      "f((2,) ,{'kwa': 'rg'})\n",
      "f((3,) ,{'kwa': 'rg'})\n",
      "asdf\n",
      "f((4,) ,{'kwa': 'rg'})\n"
     ]
    }
   ],
   "source": [
    "from random import randint\n",
    "from time import sleep\n",
    "from threading import Thread\n",
    "\n",
    "# Thread(group=None, target=None, name=None, args=(), kwargs={})\n",
    "# group - zarezerwowane na przyszłość\n",
    "# target - funkcja do wywołania\n",
    "# name - unikalna nazwa wątku\n",
    "# args, kwargs - argumenty przekazywane do funkcji\n",
    "\n",
    "\n",
    "def f(*args, **kwargs):\n",
    "    print \"f({} ,{})\".format(args, kwargs)\n",
    "    sleep(randint(0, 3))\n",
    "    return\n",
    "\n",
    "\n",
    "for i in range(5):\n",
    "    t = Thread(target=f, args=(i,), kwargs={'kwa': 'rg'})\n",
    "    t.start()  # uruchomienie wątku \n",
    "    #t.join()  # oczekiwanie przez wątek wywołujący na wykonanie wątku wywoływanego\n",
    "    \n",
    "print \"asdf\""
   ]
  },
  {
   "cell_type": "markdown",
   "metadata": {},
   "source": [
    "Wątek można stworzyć dziedzicząc po klasie Thread"
   ]
  },
  {
   "cell_type": "code",
   "execution_count": 8,
   "metadata": {},
   "outputs": [
    {
     "name": "stdout",
     "output_type": "stream",
     "text": [
      "thread is running\n",
      "(1, 2, 3, 4, 5)\n",
      "{'a': 1, 'b': 3}\n"
     ]
    }
   ],
   "source": [
    "from threading import Thread\n",
    "\n",
    "\n",
    "class NewThread(Thread):\n",
    "    def __init__(self, *args, **kwargs):\n",
    "        super(NewThread, self).__init__()\n",
    "        self.args = args\n",
    "        self.kwargs = kwargs\n",
    "        \n",
    "    def run(self):\n",
    "        # metoda wywoływana przy wywołaniu .start()\n",
    "        print 'thread is running'\n",
    "        print self.args\n",
    "        print self.kwargs\n",
    "    \n",
    "    \n",
    "t = NewThread(1, 2, 3, 4, 5, a=1, b=3)\n",
    "t.start()\n",
    "t.join()"
   ]
  },
  {
   "cell_type": "markdown",
   "metadata": {},
   "source": [
    "## Współdzielenie zasobów\n",
    "\n",
    "ograniczenie dostępu do seksji krytycznej przez pechanizm:\n",
    "* Lock/RLock\n",
    "* Semafor\n",
    "* Event"
   ]
  },
  {
   "cell_type": "markdown",
   "metadata": {},
   "source": [
    "### Lock/RLock\n",
    "\n",
    "Lock i RLock działają podobnie - jedyna różnica to ta, że RLock może być zwolniony tylko przez wątek, który go zajął"
   ]
  },
  {
   "cell_type": "code",
   "execution_count": 21,
   "metadata": {},
   "outputs": [
    {
     "name": "stdout",
     "output_type": "stream",
     "text": [
      "Wykonuje watek 1\n",
      "Wykonuje watek 2 Konczy watek 1\n",
      "Wykonuje watek 3\n",
      "\n",
      "Konczy watek 2Konczy watek 3\n",
      "==================================================\n",
      "Wykonuje watek 1\n",
      "\n",
      "Konczy watek 1\n",
      "Wykonuje watek 2\n",
      "Konczy watek 2Wykonuje watek 3\n",
      "\n",
      "Konczy watek 3\n",
      "==================================================\n",
      "\n",
      "\n",
      "Wykonuje watek 1\n",
      "Konczy watek 1Wykonuje watek 2\n",
      "\n",
      "Konczy watek 2Wykonuje watek 3\n",
      "\n",
      "Konczy watek 3\n"
     ]
    }
   ],
   "source": [
    "from random import randint\n",
    "from time import sleep\n",
    "from threading import Thread, Lock\n",
    "\n",
    "def print_thread(thread):\n",
    "    print 'Wykonuje watek {}'.format(thread)\n",
    "    sleep(randint(0, 2))  # sekcja krytyczna\n",
    "    print 'Konczy watek {}'.format(thread)\n",
    "    \n",
    "    \n",
    "t1 = Thread(target=print_thread, args=(1,))\n",
    "t2 = Thread(target=print_thread, args=(2,))\n",
    "t3 = Thread(target=print_thread, args=(3,))\n",
    "\n",
    "t1.start()\n",
    "t2.start()\n",
    "t3.start()\n",
    "\n",
    "t1.join()\n",
    "t2.join()\n",
    "t3.join()\n",
    "\n",
    "print 50 * '='\n",
    "def print_thread_lock(thread, lock):\n",
    "    #try:  # eksperyment - zwolanianie locka przez inny wątek - na klasie Lock DZIAŁA\n",
    "    #    lock.release()\n",
    "    #except:\n",
    "    #    pass\n",
    "    lock.acquire()  # lock, zostaje przechwycony\n",
    "    print 'Wykonuje watek {}'.format(thread)\n",
    "    sleep(randint(0, 2))  # sekcja krytyczna\n",
    "    print 'Konczy watek {}'.format(thread)\n",
    "    lock.release()  # lock zostaje zwolniony - nie zwolnienie blokady zablokuje inne wątki\n",
    "    \n",
    "\n",
    "lock = Lock()    \n",
    "t1 = Thread(target=print_thread_lock, args=(1, lock))\n",
    "t2 = Thread(target=print_thread_lock, args=(2, lock))\n",
    "t3 = Thread(target=print_thread_lock, args=(3, lock))\n",
    "\n",
    "t1.start()\n",
    "t2.start()\n",
    "t3.start()\n",
    "\n",
    "t1.join()\n",
    "t2.join()\n",
    "t3.join()\n",
    "\n",
    "print 50 * '=' + '\\n\\n'\n",
    "def print_thread_lock_with(thread, lock):\n",
    "    with lock:  # to samo co wcześniej tylko z managerem kontekstu\n",
    "        print 'Wykonuje watek {}'.format(thread)\n",
    "        sleep(randint(0, 2))  # sekcja krytyczna\n",
    "        print 'Konczy watek {}'.format(thread)\n",
    "    \n",
    "\n",
    "lock = Lock()    \n",
    "t1 = Thread(target=print_thread_lock_with, args=(1, lock))\n",
    "t2 = Thread(target=print_thread_lock_with, args=(2, lock))\n",
    "t3 = Thread(target=print_thread_lock_with, args=(3, lock))\n",
    "\n",
    "t1.start()\n",
    "t2.start()\n",
    "t3.start()\n",
    "\n",
    "t1.join()\n",
    "t2.join()\n",
    "t3.join()"
   ]
  },
  {
   "cell_type": "code",
   "execution_count": 26,
   "metadata": {},
   "outputs": [
    {
     "name": "stdout",
     "output_type": "stream",
     "text": [
      "Wykonuje watek 1\n",
      "Konczy watek 1\n",
      "Wykonuje watek 2\n",
      "Konczy watek 2Wykonuje watek 3==================================================\n",
      "\n",
      "\n",
      "\n",
      "\n",
      "Wykonuje watek 1Konczy watek 3Wykonuje watek 2\n",
      "\n",
      "\n",
      "Konczy watek 1Wykonuje watek 3Konczy watek 2\n",
      "\n",
      "\n",
      "Konczy watek 3\n"
     ]
    }
   ],
   "source": [
    "# RLock\n",
    "\n",
    "from random import randint\n",
    "from time import sleep\n",
    "from threading import Thread, RLock\n",
    "\n",
    "\n",
    "def print_thread_lock(thread, lock):\n",
    "    #try:  # eksperyment - zwolanianie locka przez inny wątek - na RLock NIE DZIAŁA\n",
    "    #    lock.release()\n",
    "    #except:\n",
    "    #    pass\n",
    "    lock.acquire()  # lock, zostaje przechwycony\n",
    "    print 'Wykonuje watek {}'.format(thread)\n",
    "    sleep(randint(0, 2))  # sekcja krytyczna\n",
    "    print 'Konczy watek {}'.format(thread)\n",
    "    lock.release()  # lock zostaje zwolniony - nie zwolnienie blokady zablokuje inne wątki\n",
    "    \n",
    "\n",
    "lock = RLock()    \n",
    "t1 = Thread(target=print_thread_lock, args=(1, lock))\n",
    "t2 = Thread(target=print_thread_lock, args=(2, lock))\n",
    "t3 = Thread(target=print_thread_lock, args=(3, lock))\n",
    "\n",
    "t1.start()\n",
    "t2.start()\n",
    "t3.start()\n",
    "\n",
    "t1.join()\n",
    "t2.join()\n",
    "t3.join()\n",
    "\n",
    "print 50 * '=' + '\\n\\n'\n",
    "def print_thread_lock_with(thread, lock):\n",
    "    with lock:  # to samo co wcześniej tylko z managerem kontekstu\n",
    "        print 'Wykonuje watek {}'.format(thread)\n",
    "        sleep(randint(0, 2))  # sekcja krytyczna\n",
    "        print 'Konczy watek {}'.format(thread)\n",
    "    \n",
    "\n",
    "lock = RLock()    \n",
    "t1 = Thread(target=print_thread_lock_with, args=(1, lock))\n",
    "t2 = Thread(target=print_thread_lock_with, args=(2, lock))\n",
    "t3 = Thread(target=print_thread_lock_with, args=(3, lock))\n",
    "\n",
    "t1.start()\n",
    "t2.start()\n",
    "t3.start()\n",
    "\n",
    "t1.join()\n",
    "t2.join()\n",
    "t3.join()"
   ]
  },
  {
   "cell_type": "markdown",
   "metadata": {},
   "source": [
    "### Semafor\n",
    "\n",
    "Semafor pozwala kilku wątkom na dostęp do jednego zasobu - zawiera wewnętrzna wartosć określającą ile wątków może mieć dostęp do zasobu.\n",
    "\n",
    "Zajmowanie semafora:\n",
    "- jeżeli wartość semafora jest >= 0, wątek obniża wartosć o 1 i kontynuuje wykonanie swojego kodu\n"
   ]
  }
 ],
 "metadata": {
  "kernelspec": {
   "display_name": "Python 2",
   "language": "python",
   "name": "python2"
  },
  "language_info": {
   "codemirror_mode": {
    "name": "ipython",
    "version": 2
   },
   "file_extension": ".py",
   "mimetype": "text/x-python",
   "name": "python",
   "nbconvert_exporter": "python",
   "pygments_lexer": "ipython2",
   "version": "2.7.13"
  }
 },
 "nbformat": 4,
 "nbformat_minor": 2
}
