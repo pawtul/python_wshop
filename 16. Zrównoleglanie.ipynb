{
 "cells": [
  {
   "cell_type": "markdown",
   "metadata": {},
   "source": [
    "# wprowadzenie i GIL"
   ]
  },
  {
   "cell_type": "markdown",
   "metadata": {},
   "source": [
    "Upraszcza implementację interpretera kosztem jednowątkowości w jego obrębie - na raz może zostac wykonana tylko jedna instrukcja.\n"
   ]
  },
  {
   "cell_type": "markdown",
   "metadata": {},
   "source": [
    "# Wątki\n",
    "\n",
    "pakiet threading - do programowania wielowątkowego\n",
    "\n",
    "\n",
    "Uruchomienie funkcji w nowym wątku jest proste:"
   ]
  },
  {
   "cell_type": "code",
   "execution_count": null,
   "metadata": {
    "collapsed": true
   },
   "outputs": [],
   "source": [
    "from random import randint\n",
    "from time import sleep\n",
    "from threading import Thread\n",
    "\n",
    "# Thread(group=None, target=None, name=None, args=(), kwargs={})\n",
    "# group - zarezerwowane na przyszłość\n",
    "# target - funkcja do wywołania\n",
    "# name - unikalna nazwa wątku\n",
    "# args, kwargs - argumenty przekazywane do funkcji\n",
    "\n",
    "\n",
    "def f(*args, **kwargs):\n",
    "    print \"f({} ,{})\".format(args, kwargs)\n",
    "    sleep(randint(0, 3))\n",
    "    return\n",
    "\n",
    "\n",
    "for i in range(5):\n",
    "    t = Thread(target=f, args=(i,), kwargs={'kwa': 'rg'})\n",
    "    t.start()  # uruchomienie wątku \n",
    "    #t.join()  # oczekiwanie przez wątek wywołujący na wykonanie wątku wywoływanego\n",
    "    \n",
    "print \"asdf\""
   ]
  },
  {
   "cell_type": "markdown",
   "metadata": {},
   "source": [
    "Wątek można stworzyć dziedzicząc po klasie Thread"
   ]
  },
  {
   "cell_type": "code",
   "execution_count": null,
   "metadata": {
    "collapsed": true
   },
   "outputs": [],
   "source": [
    "from threading import Thread\n",
    "\n",
    "\n",
    "class NewThread(Thread):\n",
    "    def __init__(self, *args, **kwargs):\n",
    "        super(NewThread, self).__init__()\n",
    "        self.args = args\n",
    "        self.kwargs = kwargs\n",
    "        \n",
    "    def run(self):\n",
    "        # metoda wywoływana przy wywołaniu .start()\n",
    "        print 'thread is running'\n",
    "        print self.args\n",
    "        print self.kwargs\n",
    "    \n",
    "    \n",
    "t = NewThread(1, 2, 3, 4, 5, a=1, b=3)\n",
    "t.start()\n",
    "t.join()"
   ]
  },
  {
   "cell_type": "markdown",
   "metadata": {},
   "source": [
    "## Współdzielenie zasobów\n",
    "\n",
    "ograniczenie dostępu do seksji krytycznej przez pechanizm:\n",
    "* Lock/RLock\n",
    "* Semafor\n",
    "* Event\n",
    "* Barrier (Python3) - dzieli program na fazy. Przejście do kolejnej fazy jest konieczne tylko po zakończeniu wszystkich wątków z poprzeniej fazy"
   ]
  },
  {
   "cell_type": "markdown",
   "metadata": {},
   "source": [
    "### Lock/RLock\n",
    "\n",
    "Lock i RLock działają podobnie - jedyna różnica to ta, że RLock może być zwolniony tylko przez wątek, który go zajął"
   ]
  },
  {
   "cell_type": "code",
   "execution_count": null,
   "metadata": {
    "collapsed": true
   },
   "outputs": [],
   "source": [
    "from random import randint\n",
    "from time import sleep\n",
    "from threading import Thread, Lock\n",
    "\n",
    "def print_thread(thread):\n",
    "    print 'Wykonuje watek {}'.format(thread)\n",
    "    sleep(randint(0, 2))  # sekcja krytyczna\n",
    "    print 'Konczy watek {}'.format(thread)\n",
    "    \n",
    "    \n",
    "t1 = Thread(target=print_thread, args=(1,))\n",
    "t2 = Thread(target=print_thread, args=(2,))\n",
    "t3 = Thread(target=print_thread, args=(3,))\n",
    "\n",
    "t1.start()\n",
    "t2.start()\n",
    "t3.start()\n",
    "\n",
    "t1.join()\n",
    "t2.join()\n",
    "t3.join()\n",
    "\n",
    "print 50 * '='\n",
    "def print_thread_lock(thread, lock):\n",
    "    #try:  # eksperyment - zwolanianie locka przez inny wątek - na klasie Lock DZIAŁA\n",
    "    #    lock.release()\n",
    "    #except:\n",
    "    #    pass\n",
    "    lock.acquire()  # lock, zostaje przechwycony\n",
    "    print 'Wykonuje watek {}'.format(thread)\n",
    "    sleep(randint(0, 2))  # sekcja krytyczna\n",
    "    print 'Konczy watek {}'.format(thread)\n",
    "    lock.release()  # lock zostaje zwolniony - nie zwolnienie blokady zablokuje inne wątki\n",
    "    \n",
    "\n",
    "lock = Lock()    \n",
    "t1 = Thread(target=print_thread_lock, args=(1, lock))\n",
    "t2 = Thread(target=print_thread_lock, args=(2, lock))\n",
    "t3 = Thread(target=print_thread_lock, args=(3, lock))\n",
    "\n",
    "t1.start()\n",
    "t2.start()\n",
    "t3.start()\n",
    "\n",
    "t1.join()\n",
    "t2.join()\n",
    "t3.join()\n",
    "\n",
    "print 50 * '=' + '\\n\\n'\n",
    "def print_thread_lock_with(thread, lock):\n",
    "    with lock:  # to samo co wcześniej tylko z managerem kontekstu\n",
    "        print 'Wykonuje watek {}'.format(thread)\n",
    "        sleep(randint(0, 2))  # sekcja krytyczna\n",
    "        print 'Konczy watek {}'.format(thread)\n",
    "    \n",
    "\n",
    "lock = Lock()    \n",
    "t1 = Thread(target=print_thread_lock_with, args=(1, lock))\n",
    "t2 = Thread(target=print_thread_lock_with, args=(2, lock))\n",
    "t3 = Thread(target=print_thread_lock_with, args=(3, lock))\n",
    "\n",
    "t1.start()\n",
    "t2.start()\n",
    "t3.start()\n",
    "\n",
    "t1.join()\n",
    "t2.join()\n",
    "t3.join()"
   ]
  },
  {
   "cell_type": "code",
   "execution_count": null,
   "metadata": {
    "collapsed": true
   },
   "outputs": [],
   "source": [
    "# RLock\n",
    "\n",
    "from random import randint\n",
    "from time import sleep\n",
    "from threading import Thread, RLock\n",
    "\n",
    "\n",
    "def print_thread_lock(thread, lock):\n",
    "    #try:  # eksperyment - zwolanianie locka przez inny wątek - na RLock NIE DZIAŁA\n",
    "    #    lock.release()\n",
    "    #except:\n",
    "    #    pass\n",
    "    lock.acquire()  # lock, zostaje przechwycony\n",
    "    print 'Wykonuje watek {}'.format(thread)\n",
    "    sleep(randint(0, 2))  # sekcja krytyczna\n",
    "    print 'Konczy watek {}'.format(thread)\n",
    "    lock.release()  # lock zostaje zwolniony - nie zwolnienie blokady zablokuje inne wątki\n",
    "    \n",
    "\n",
    "lock = RLock()    \n",
    "t1 = Thread(target=print_thread_lock, args=(1, lock))\n",
    "t2 = Thread(target=print_thread_lock, args=(2, lock))\n",
    "t3 = Thread(target=print_thread_lock, args=(3, lock))\n",
    "\n",
    "t1.start()\n",
    "t2.start()\n",
    "t3.start()\n",
    "\n",
    "t1.join()\n",
    "t2.join()\n",
    "t3.join()\n",
    "\n",
    "print 50 * '=' + '\\n\\n'\n",
    "def print_thread_lock_with(thread, lock):\n",
    "    with lock:  # to samo co wcześniej tylko z managerem kontekstu\n",
    "        print 'Wykonuje watek {}'.format(thread)\n",
    "        sleep(randint(0, 2))  # sekcja krytyczna\n",
    "        print 'Konczy watek {}'.format(thread)\n",
    "    \n",
    "\n",
    "lock = RLock()    \n",
    "t1 = Thread(target=print_thread_lock_with, args=(1, lock))\n",
    "t2 = Thread(target=print_thread_lock_with, args=(2, lock))\n",
    "t3 = Thread(target=print_thread_lock_with, args=(3, lock))\n",
    "\n",
    "t1.start()\n",
    "t2.start()\n",
    "t3.start()\n",
    "\n",
    "t1.join()\n",
    "t2.join()\n",
    "t3.join()"
   ]
  },
  {
   "cell_type": "markdown",
   "metadata": {},
   "source": [
    "### Semafor\n",
    "\n",
    "Semafor pozwala kilku wątkom na dostęp do jednego zasobu - zawiera wewnętrzna wartosć określającą ile wątków może mieć dostęp do zasobu.\n",
    "\n",
    "Zajmowanie semafora:\n",
    "- jeżeli wartość semafora jest > 0, wątek obniża wartosć o 1 i kontynuuje wykonanie swojego kodu\n",
    "- jeżeli wartosć to 0 to wątek obniża wartosć semafora i czeka, aż wartość semafora będzie nieujemna\n",
    "- jeżeli wartosć semafora < 0 wątek czeka aż ktoś zwolni dostęp do zasobu\n"
   ]
  },
  {
   "cell_type": "code",
   "execution_count": null,
   "metadata": {
    "collapsed": true
   },
   "outputs": [],
   "source": [
    "from threading import Semaphore, BoundedSemaphore\n",
    "\n",
    "semaphore = Semaphore(0)\n",
    "print semaphore._Semaphore__value\n",
    "\n",
    "# release zwiększa wartość wewnętrzego licznika semafora o 1\n",
    "semaphore.release()\n",
    "semaphore.release()\n",
    "semaphore.release()\n",
    "# acquire zmniejsza wewnętrzny licznik semafora o 1\n",
    "semaphore.acquire()\n",
    "print semaphore._Semaphore__value\n",
    "\n",
    "\n",
    "print 50 * '='\n",
    "# BoundedSemaphore nie pozwala na zwiększenie wewnętrzego licznika powyżej początkowego\n",
    "semaphore = BoundedSemaphore(4)\n",
    "print semaphore._Semaphore__value\n",
    "semaphore.acquire()\n",
    "print semaphore._Semaphore__value\n",
    "semaphore.release()\n",
    "print semaphore._Semaphore__value\n",
    "semaphore.release()\n",
    "\n",
    "\n",
    "# Semafory mogą byc używane jako managery kontekstu"
   ]
  },
  {
   "cell_type": "markdown",
   "metadata": {},
   "source": [
    "mutex to semafor zainicjalizowany wartością 1"
   ]
  },
  {
   "cell_type": "markdown",
   "metadata": {},
   "source": [
    "### Synchronizacja warunkami (Conditions)\n",
    "\n",
    "Condition wykrywa zmianę stanu aplikacji i powiadamia inny wątek czekajacy na tę zmianę stanu"
   ]
  },
  {
   "cell_type": "code",
   "execution_count": null,
   "metadata": {
    "collapsed": true
   },
   "outputs": [],
   "source": [
    "from time import sleep\n",
    "from threading import Thread, Condition\n",
    "\n",
    "def consumer(condition):\n",
    "    print 'wewnatrz consumera; '\n",
    "    condition.acquire()  # acquire i release są konieczne do powiadamiania i czekania na powiadomienie\n",
    "    print 'consumer oczekuje na warunek; '\n",
    "    condition.wait()  # bez wywołania wait() consumer kontynuuje działanie\n",
    "    print 'consumer kontynuuje; '\n",
    "    condition.release()\n",
    "    print 'consumerer konczy; '\n",
    "    \n",
    "\n",
    "def producer(condition):\n",
    "    print 'wewnatrz producera; '\n",
    "    sleep(1)\n",
    "    condition.acquire()\n",
    "    sleep(1)\n",
    "    print 'producer powiadiamia; '\n",
    "    condition.notify()\n",
    "    print 'producer zwalnia condition; '\n",
    "    sleep(3)  \n",
    "    condition.release()  # póki producer nie zwolni warunku, consumer nie będzie mógł kontynuować\n",
    "    print 'producer konczy; '\n",
    "    \n",
    "    \n",
    "cond = Condition()\n",
    "t1 = Thread(target=consumer, args=(cond,))\n",
    "t2 = Thread(target=producer, args=(cond,))\n",
    "\n",
    "t1.start()\n",
    "t2.start()\n",
    "\n",
    "t1.join()\n",
    "t2.join()\n",
    "\n",
    "# Warunki mogą być też używane jako managery kontekstu"
   ]
  },
  {
   "cell_type": "markdown",
   "metadata": {},
   "source": [
    "### Synchronizacja zdarzeniem (Event\n",
    "\n",
    "Działa podobnie do Condition, z tym że ustawia wewnatrzna flasę na true/false oznaczającą czy inny wątek może kontynuować"
   ]
  },
  {
   "cell_type": "code",
   "execution_count": 7,
   "metadata": {},
   "outputs": [
    {
     "name": "stdout",
     "output_type": "stream",
     "text": [
      "wewnatrz consumera; \n",
      "consumer oczekuje na zdarzenie; wewnatrz producera; \n",
      "\n",
      "producer ustawia flage; consumer kontynuuje; \n",
      "\n",
      "producer ustawil flage; consumerer konczy; \n",
      "\n",
      "producer konczy; \n"
     ]
    }
   ],
   "source": [
    "from time import sleep\n",
    "from threading import Thread, Event\n",
    "\n",
    "# nie przechwytuje się i zwalniania eventu (acquire/release)\n",
    "\n",
    "def consumer(event):\n",
    "    print 'wewnatrz consumera; '\n",
    "    print 'consumer oczekuje na zdarzenie; '\n",
    "    event.wait()  # oczekuje na flagę eventu będącą true\n",
    "    print 'consumer kontynuuje; '\n",
    "    event.clear()\n",
    "    print 'consumerer konczy; '\n",
    "    \n",
    "\n",
    "def producer(event):\n",
    "    print 'wewnatrz producera; '\n",
    "    sleep(1)\n",
    "    print 'producer ustawia flage; '\n",
    "    event.set()  # inny wątek oczekujacy wykona się od razu\n",
    "    print 'producer ustawil flage; '\n",
    "    sleep(3)  \n",
    "    print 'producer konczy; '\n",
    "    \n",
    "    \n",
    "evt = Event()\n",
    "t1 = Thread(target=consumer, args=(evt,))\n",
    "t2 = Thread(target=producer, args=(evt,))\n",
    "\n",
    "t1.start()\n",
    "t2.start()\n",
    "\n",
    "t1.join()\n",
    "t2.join()"
   ]
  },
  {
   "cell_type": "markdown",
   "metadata": {},
   "source": [
    "### Komunikacja przy użyciu kolejki (queue)\n",
    "\n",
    "najważńiejsze 4 metody:\n",
    "* put - dodaje element do kolejki\n",
    "* get - pobiera element z kolejki\n",
    "* task_done - oznacza zakończenie przetwarzania elementu (musi być wywołane)\n",
    "* join - oczekuje na opróżnienie kolejki"
   ]
  },
  {
   "cell_type": "code",
   "execution_count": null,
   "metadata": {
    "collapsed": true
   },
   "outputs": [],
   "source": [
    "from Queue import Queue  # moduł to queue w pythonie3\n",
    "from random import randint\n",
    "from time import sleep\n",
    "from threading import Thread\n",
    "\n",
    "\n",
    "def producer(name, queue):\n",
    "    x = randint(1, 14)\n",
    "    print 'producer {} puts {}; '.format(name, x)\n",
    "    queue.put(x)  # jezeli kolejka jest pełna to wyrzuca wyjatek - chyba że dodamy block=True\n",
    "    print 'producer {} finishes; '.format(name)\n",
    "    \n",
    "    \n",
    "def consumer(name, queue):\n",
    "    print 'consumer {} starts; '.format(name)\n",
    "    x = queue.get()  # jeżeli kolejka jest pusta to czeka aż się coś pojawi\n",
    "    sleep(randint(0, 2))\n",
    "    print 'consumer {} got {}; '.format(name, x)\n",
    "    queue.task_done()\n",
    "    print 'consumer {} finishes; '.format(name)\n",
    "    \n",
    "\n",
    "queue = Queue()\n",
    "producers = [Thread(target=producer, args=(i, queue)) for i in range(5)]\n",
    "consumers = [Thread(target=consumer, args=(i, queue)) for i in range(5)]\n",
    "\n",
    "for producer, consumer in zip(producers, consumers):\n",
    "    producer.start()\n",
    "    consumer.start()\n",
    "    "
   ]
  },
  {
   "cell_type": "markdown",
   "metadata": {},
   "source": [
    "# Procesy\n",
    "\n",
    "pakiet multiprocessing - zezwala na wspóldzielenie pamięci\n",
    "\n",
    "interfejs modułu multiprocessing jest bardzo podobny do interfejsu modułu threading"
   ]
  },
  {
   "cell_type": "code",
   "execution_count": 14,
   "metadata": {},
   "outputs": [
    {
     "name": "stdout",
     "output_type": "stream",
     "text": [
      "running function f\n",
      "koniec programu\n"
     ]
    }
   ],
   "source": [
    "# multiprocessing/ex1.py\n",
    "import multiprocessing\n",
    "import time\n",
    "\n",
    "def f():\n",
    "    time.sleep(1)\n",
    "    print \"running function f\"\n",
    "    \n",
    "\n",
    "proc = multiprocessing.Process(target=f)\n",
    "proc.start()  # uruchomienie procesu\n",
    "proc.join()  # oczekiwanie na zakończenie procesu\n",
    "\n",
    "print \"koniec programu\""
   ]
  },
  {
   "cell_type": "code",
   "execution_count": 15,
   "metadata": {},
   "outputs": [
    {
     "name": "stdout",
     "output_type": "stream",
     "text": [
      "koniec programu\n",
      "running function f\n"
     ]
    }
   ],
   "source": [
    "# multiprocessing/ex2.py\n",
    "# żeby uruchomić proces w tle trzeba ustawić atrybut daemon na True \n",
    "# daemon jest zabijany, jezeli jego proces-rodzic skończy działanie\n",
    "import multiprocessing\n",
    "import time\n",
    "\n",
    "def f():\n",
    "    time.sleep(1)\n",
    "    open('daemon-log', 'w').close()  # zostawianie pliku jako ślad po uruchomieniu daemona\n",
    "    print \"running function f\"       # jezeli proces-rodzic zakończy się wcześniej niż daemon\n",
    "                                     # ta linijka nie będzie wywołana i plik nie powstanie\n",
    "\n",
    "    \n",
    "proc = multiprocessing.Process(target=f)\n",
    "proc.daemon = True\n",
    "proc.start()\n",
    "# proc.join()  # dodanie join oczekuje na zakończenie daemona\n",
    "\n",
    "print \"koniec programu\""
   ]
  },
  {
   "cell_type": "code",
   "execution_count": null,
   "metadata": {
    "collapsed": true
   },
   "outputs": [],
   "source": [
    "# multiprocessing/ex3.py\n",
    "# Daemon nie może tworzyć procesów potomnych\n",
    "\n",
    "import multiprocessing\n",
    "import time\n",
    "\n",
    "def daemon_child():\n",
    "    time.sleep(1)\n",
    "    open('daemon-child-log', 'w').close()\n",
    "\n",
    "\n",
    "def daemon():\n",
    "    child = multiprocessing.Process(target=daemon_child)\n",
    "    child.daemon = True\n",
    "    child.start()\n",
    "    time.sleep(2)\n",
    "    open('daemon-log', 'w').close()\n",
    "    print \"running function f\"\n",
    "\n",
    "    \n",
    "proc = multiprocessing.Process(target=daemon)\n",
    "proc.daemon = True\n",
    "proc.start()\n",
    "time.sleep(0.1)\n",
    "\n",
    "print \"koniec programu\""
   ]
  },
  {
   "cell_type": "markdown",
   "metadata": {},
   "source": [
    "to ręcznego ubicia procesu służy metoda .terminate() a do sprawdzenia czy proces jest uruchomiony służy metoda .is_alive().\n",
    "\n",
    "kod ze statusem procesu można uzyskać z parametru .exitcode\n",
    "status == 0 oznacza, że proces zakończył sie sukcesem\n",
    "status > 0 oznacza, zę proces zakończył sie z tym statusem\n",
    "status < 0 oznacza numer sygnału jaki został wysąłny do procesu"
   ]
  },
  {
   "cell_type": "markdown",
   "metadata": {},
   "source": [
    "### Proces jako klasa\n",
    "\n",
    "Tak jak w przypadku wątków"
   ]
  },
  {
   "cell_type": "code",
   "execution_count": null,
   "metadata": {
    "collapsed": true
   },
   "outputs": [],
   "source": [
    "import multiprocessing\n",
    "\n",
    "\n",
    "class NewProcess(multiprocessing.Process):\n",
    "    def __init__(self, *args, **kwargs):  # __init__ nie jest konieczny\n",
    "        super(NewProcess, self).__init__()\n",
    "        # kod\n",
    "        \n",
    "    def run(self):\n",
    "        print 'Proces sie uruchomil'\n",
    "        \n",
    "proc = NewProcess()\n",
    "proc.start()\n",
    "proc.join()"
   ]
  },
  {
   "cell_type": "markdown",
   "metadata": {},
   "source": [
    "## Komunikacja pomiędzy procesami\n",
    "\n",
    "kolejki (Queues) i Potoki (Pipes)"
   ]
  },
  {
   "cell_type": "markdown",
   "metadata": {},
   "source": [
    "### kolejki"
   ]
  },
  {
   "cell_type": "code",
   "execution_count": 12,
   "metadata": {},
   "outputs": [
    {
     "name": "stdout",
     "output_type": "stream",
     "text": [
      "producer startuje\n",
      "producer wyprodukowal: 1\n",
      "consumer startuje\n",
      "producer wyprodukowal: 1\n",
      "consumer2 startuje\n",
      "producer wyprodukowal: 3\n",
      "producer wyprodukowal: 4\n",
      "consumer przetworzyl 1\n",
      "consumer2 przetworzyl 1\n",
      "producer wyprodukowal: 2\n",
      "producer konczy\n",
      "consumer przetworzyl 3\n",
      "consumer2 przetworzyl 4\n",
      "consumer2 konczy\n",
      "consumer przetworzyl 2\n",
      "consumer konczy\n",
      "koniec programu\n"
     ]
    }
   ],
   "source": [
    "# multiprocessing/ex4.py\n",
    "import multiprocessing\n",
    "import time\n",
    "from random import randint\n",
    "\n",
    "\n",
    "def producer(queue):\n",
    "    print 'producer startuje'\n",
    "    for i in range(5):\n",
    "        time.sleep(0.5)\n",
    "        x = randint(1, 5)\n",
    "        print 'producer wyprodukowal: {}'.format(x)\n",
    "        queue.put(x)\n",
    "    print 'producer konczy'\n",
    "    \n",
    "    \n",
    "def consumer(queue):\n",
    "    print 'consumer startuje'\n",
    "    while not queue.empty():  # pobiera póki kolejka nie będzie pusta\n",
    "        x = queue.get()  # nie trzeba sygnalizować przetworzenia elementu\n",
    "        time.sleep(1.3)\n",
    "        # time.sleep(0.3)  # szybsza konsumpcja niz produkcja doprowadzi do opróznienia kolejki\n",
    "                           # i zakończenia działania nawet jak potem jeszcze bedą produkowane\n",
    "                           # elementy\n",
    "        print 'consumer przetworzyl {}'.format(x)\n",
    "    print 'consumer konczy'\n",
    "    \n",
    "def consumer2(queue):\n",
    "    print 'consumer2 startuje'\n",
    "    while not queue.empty():  # pobiera póki kolejka nie będzie pusta\n",
    "        x = queue.get()  # nie trzeba sygnalizować przetworzenia elementu\n",
    "        time.sleep(1.3)\n",
    "        # time.sleep(0.3)  # szybsza konsumpcja niz produkcja doprowadzi do opróznienia kolejki\n",
    "                           # i zakończenia działania nawet jak potem jeszcze bedą produkowane\n",
    "                           # elementy\n",
    "        print 'consumer2 przetworzyl {}'.format(x)\n",
    "    print 'consumer2 konczy'\n",
    "\n",
    "queue = multiprocessing.Queue()\n",
    "prod = multiprocessing.Process(target=producer, args=(queue,))\n",
    "cons = multiprocessing.Process(target=consumer, args=(queue,))\n",
    "cons2 = multiprocessing.Process(target=consumer2, args=(queue,))\n",
    "\n",
    "prod.start()\n",
    "time.sleep(1)\n",
    "cons.start()\n",
    "cons2.start()\n",
    "\n",
    "prod.join()\n",
    "cons.join()\n",
    "cons2.join()\n",
    "print 'koniec programu'"
   ]
  },
  {
   "cell_type": "code",
   "execution_count": null,
   "metadata": {
    "collapsed": true
   },
   "outputs": [],
   "source": [
    "# multiprocessing/ex5.py\n",
    "# JoinableQueue posiada dodatkowe metody .task_done i .join\n",
    "# do synchronizacji przetwarzania elementów\n",
    "\n",
    "\n",
    "import multiprocessing\n",
    "import time\n",
    "import Queue\n",
    "from random import randint\n",
    "\n",
    "\n",
    "def producer(queue):\n",
    "    print 'producer startuje'\n",
    "    for i in range(5):\n",
    "        time.sleep(0.5)\n",
    "        x = randint(1, 5)\n",
    "        print 'producer wyprodukowal: {}'.format(x)\n",
    "        queue.put(x)\n",
    "        queue.join()  # oczekiwanie na zakończenie przetwarzania\n",
    "    print 'producer konczy'\n",
    "    \n",
    "    \n",
    "def consumer(queue):\n",
    "    print 'consumer startuje'\n",
    "    while True:\n",
    "        try:\n",
    "            x = queue.get(timeout=2)\n",
    "        except Queue.Empty:\n",
    "            break\n",
    "        time.sleep(1.3)\n",
    "        queue.task_done()  # sygnalizacja zakończenia przetwarzania\n",
    "        print 'consumer przetworzyl {}'.format(x)\n",
    "    print 'consumer konczy'\n",
    "    \n",
    "\n",
    "queue = multiprocessing.JoinableQueue()\n",
    "prod = multiprocessing.Process(target=producer, args=(queue,))\n",
    "cons = multiprocessing.Process(target=consumer, args=(queue,))\n",
    "\n",
    "prod.start()\n",
    "time.sleep(0.5)\n",
    "cons.start()\n",
    "\n",
    "prod.join()\n",
    "cons.join()\n",
    "print 'koniec programu'"
   ]
  },
  {
   "cell_type": "markdown",
   "metadata": {},
   "source": [
    "### Potoki (Pipe)\n",
    "\n",
    "Zwraca parę obiektów połaczonych przez potok. Do transmisji służą metody .send() i .recv()"
   ]
  },
  {
   "cell_type": "code",
   "execution_count": null,
   "metadata": {},
   "outputs": [],
   "source": [
    "import multiprocessing\n",
    "\n",
    "\n",
    "koniec1, koniec2 = multiprocessing.Pipe()\n",
    "\n",
    "koniec1.send('hello world')\n",
    "msg = koniec2.recv()\n",
    "print msg\n",
    "\n",
    "\n",
    "# domyśłnie potoki są dwukierunkowe\n",
    "koniec2.send('hello world')\n",
    "msg = koniec1.recv()\n",
    "print msg\n",
    "\n",
    "koniec1.send('witam')\n",
    "koniec1.send('serdecznie')\n",
    "msg = koniec2.recv()  # odbiera tylko jedną wiadomość\n",
    "print msg\n",
    "msg = koniec2.recv()\n",
    "print msg"
   ]
  },
  {
   "cell_type": "code",
   "execution_count": null,
   "metadata": {
    "collapsed": true
   },
   "outputs": [],
   "source": [
    "# multiprocessing/ex6.py\n",
    "import multiprocessing\n",
    "import time\n",
    "from random import randint\n",
    "\n",
    "\n",
    "def producer(pipe):\n",
    "    print 'producer startuje'\n",
    "    for i in range(5):\n",
    "        time.sleep(0.5)\n",
    "        x = randint(1, 5)\n",
    "        print 'producer wyprodukowal: {}'.format(x)\n",
    "        pipe.send(x)\n",
    "    print 'producer konczy'\n",
    "    \n",
    "    \n",
    "def consumer(pipe):\n",
    "    print 'consumer startuje'\n",
    "    while pipe.poll(3):  # sprawdzanie czy coś jest - max 3 sekundy\n",
    "        x = pipe.recv()\n",
    "        time.sleep(1.3)\n",
    "        print 'consumer przetworzyl {}'.format(x)\n",
    "    print 'consumer konczy'\n",
    "    \n",
    "\n",
    "koniec1, koniec2 = multiprocessing.Pipe()\n",
    "prod = multiprocessing.Process(target=producer, args=(koniec1,))\n",
    "cons = multiprocessing.Process(target=consumer, args=(koniec2,))\n",
    "\n",
    "prod.start()\n",
    "time.sleep(0.5)\n",
    "cons.start()\n",
    "\n",
    "prod.join()\n",
    "cons.join()\n",
    "print 'koniec programu'"
   ]
  },
  {
   "cell_type": "markdown",
   "metadata": {
    "collapsed": true
   },
   "source": [
    "## Synchronizacja\n",
    "\n",
    "Synchronizacja wygląda podobnie jak dla wątków:\n",
    "* Lock/RLock\n",
    "* Event\n",
    "* Condition\n",
    "* Semaphore\n",
    "* Barrier (Python3) - dzieli program na fazy - przejście do kolejnej fazy jest możliwe tylko po zakończeniu wszystkich procesów z poprzedniej fazy"
   ]
  },
  {
   "cell_type": "markdown",
   "metadata": {},
   "source": [
    "## Pula procesów\n",
    "\n",
    "Do zrównoleglania wykonania funkcji można użyc Puli procesów"
   ]
  },
  {
   "cell_type": "code",
   "execution_count": 20,
   "metadata": {},
   "outputs": [
    {
     "name": "stdout",
     "output_type": "stream",
     "text": [
      "funkcja startuje, argument 3\n",
      "funkcja startuje, argument 1\n",
      "funkcja startuje, argument 3\n",
      "funkcja startuje, argument 4\n",
      "funkcja startuje, argument 5\n",
      "funkcja startuje, argument 7\n",
      "funkcja startuje, argument 0\n",
      "funkcja startuje, argument 6\n",
      "funkcja startuje, argument 2\n",
      "funkcja startuje, argument 9\n",
      "funkcja startuje, argument 8\n",
      "funkcja startuje, argument 1\n",
      "funkcja startuje, argument 3\n",
      "funkcja startuje, argument 0\n",
      "funkcja startuje, argument 2\n",
      "funkcja startuje, argument 5\n",
      "funkcja startuje, argument 6\n",
      "funkcja startuje, argument 7\n",
      "funkcja startuje, argument 4\n",
      "funkcja startuje, argument 8\n",
      "funkcja startuje, argument 9\n",
      "funkcja startuje, argument 10\n",
      "3\n",
      "==================================================\n",
      "[0, 1, 2, 3, 4, 5, 6, 7, 8, 9]\n",
      "==================================================\n",
      "0\n",
      "1\n",
      "2\n",
      "3\n",
      "4\n",
      "5\n",
      "6\n",
      "7\n",
      "8\n",
      "9\n",
      "10\n",
      "==================================================\n"
     ]
    },
    {
     "ename": "TimeoutError",
     "evalue": "",
     "output_type": "error",
     "traceback": [
      "\u001b[0;31m---------------------------------------------------------------------------\u001b[0m",
      "\u001b[0;31mTimeoutError\u001b[0m                              Traceback (most recent call last)",
      "\u001b[0;32m<ipython-input-20-6c2bfc4c4a16>\u001b[0m in \u001b[0;36m<module>\u001b[0;34m()\u001b[0m\n\u001b[1;32m     27\u001b[0m \u001b[0;32mprint\u001b[0m \u001b[0;36m50\u001b[0m \u001b[0;34m*\u001b[0m \u001b[0;34m'='\u001b[0m\u001b[0;34m\u001b[0m\u001b[0m\n\u001b[1;32m     28\u001b[0m \u001b[0mresult\u001b[0m \u001b[0;34m=\u001b[0m \u001b[0mpool\u001b[0m\u001b[0;34m.\u001b[0m\u001b[0mapply_async\u001b[0m\u001b[0;34m(\u001b[0m\u001b[0mtime\u001b[0m\u001b[0;34m.\u001b[0m\u001b[0msleep\u001b[0m\u001b[0;34m,\u001b[0m \u001b[0;34m(\u001b[0m\u001b[0;36m10\u001b[0m\u001b[0;34m,\u001b[0m\u001b[0;34m)\u001b[0m\u001b[0;34m)\u001b[0m\u001b[0;34m\u001b[0m\u001b[0m\n\u001b[0;32m---> 29\u001b[0;31m \u001b[0;32mprint\u001b[0m \u001b[0mresult\u001b[0m\u001b[0;34m.\u001b[0m\u001b[0mget\u001b[0m\u001b[0;34m(\u001b[0m\u001b[0mtimeout\u001b[0m\u001b[0;34m=\u001b[0m\u001b[0;36m0.9\u001b[0m\u001b[0;34m)\u001b[0m  \u001b[0;31m# TimeoutError\u001b[0m\u001b[0;34m\u001b[0m\u001b[0m\n\u001b[0m\u001b[1;32m     30\u001b[0m \u001b[0;34m\u001b[0m\u001b[0m\n\u001b[1;32m     31\u001b[0m \u001b[0;34m\u001b[0m\u001b[0m\n",
      "\u001b[0;32m/usr/lib/python2.7/multiprocessing/pool.pyc\u001b[0m in \u001b[0;36mget\u001b[0;34m(self, timeout)\u001b[0m\n\u001b[1;32m    561\u001b[0m         \u001b[0mself\u001b[0m\u001b[0;34m.\u001b[0m\u001b[0mwait\u001b[0m\u001b[0;34m(\u001b[0m\u001b[0mtimeout\u001b[0m\u001b[0;34m)\u001b[0m\u001b[0;34m\u001b[0m\u001b[0m\n\u001b[1;32m    562\u001b[0m         \u001b[0;32mif\u001b[0m \u001b[0;32mnot\u001b[0m \u001b[0mself\u001b[0m\u001b[0;34m.\u001b[0m\u001b[0m_ready\u001b[0m\u001b[0;34m:\u001b[0m\u001b[0;34m\u001b[0m\u001b[0m\n\u001b[0;32m--> 563\u001b[0;31m             \u001b[0;32mraise\u001b[0m \u001b[0mTimeoutError\u001b[0m\u001b[0;34m\u001b[0m\u001b[0m\n\u001b[0m\u001b[1;32m    564\u001b[0m         \u001b[0;32mif\u001b[0m \u001b[0mself\u001b[0m\u001b[0;34m.\u001b[0m\u001b[0m_success\u001b[0m\u001b[0;34m:\u001b[0m\u001b[0;34m\u001b[0m\u001b[0m\n\u001b[1;32m    565\u001b[0m             \u001b[0;32mreturn\u001b[0m \u001b[0mself\u001b[0m\u001b[0;34m.\u001b[0m\u001b[0m_value\u001b[0m\u001b[0;34m\u001b[0m\u001b[0m\n",
      "\u001b[0;31mTimeoutError\u001b[0m: "
     ]
    }
   ],
   "source": [
    "from multiprocessing import Pool\n",
    "import time\n",
    "\n",
    "def f(x):\n",
    "    print 'funkcja startuje, argument {}'.format(x)\n",
    "    time.sleep(x/10)\n",
    "    return x\n",
    "\n",
    "    \n",
    "pool = Pool(processes=4)  # tworzy póle 4 procesów\n",
    "\n",
    "result = pool.apply_async(f, (3,))  # wywołuję funkcję f z argumentem 3 i nie blokuje się\n",
    "print result.get(timeout=0.9)  # próbuje pobrać wartość po wykonaniu funkcji, ale daje na to\n",
    "                               # tylko 0.9 sekundy\n",
    "\n",
    "print 50 * '='\n",
    "print pool.map(f, range(10))   # wywołuje funkcję f na liscie 10 elementów - blokujące\n",
    "\n",
    "print 50 * '='\n",
    "it = pool.imap(f, range(11))   # działa jak map tylko nie blokuje się i zwraca iterator\n",
    "print it.next()  # pobierany następny element z listy wyników\n",
    "print it.next()\n",
    "print it.next(timeout=0.9)  # pobieranie następnego elementu, ale z timeoutem\n",
    "for i in it:\n",
    "    print i\n",
    "\n",
    "print 50 * '='\n",
    "result = pool.apply_async(time.sleep, (10,))\n",
    "#print result.get(timeout=0.9)  # TimeoutError\n",
    "\n",
    "\n",
    "pool.close()  # nie możńa dodawać nowych zadań do puli\n",
    "#result = pool.apply_async(f, (3,))  # AssertionError\n",
    "\n",
    "pool.join()  # oczekuje na zakończenie wszystkich pracujących procesów z puli"
   ]
  },
  {
   "cell_type": "markdown",
   "metadata": {
    "collapsed": true
   },
   "source": [
    "# Asynchroniczność\n",
    "\n",
    "- Twisted (2.7)\n",
    "- Tornado\n",
    "- Asyncio (3.4+)\n",
    "\n",
    "Asynchroniczność działa podobnie jak wątki, tylko przełączaniem pomiędzy wykonywanymi zadaniami zarządza petla event loop. Programista ma większy wpływ na kontrolę kiedy jakie zadanie jest przerywane"
   ]
  }
 ],
 "metadata": {
  "kernelspec": {
   "display_name": "Python 2",
   "language": "python",
   "name": "python2"
  },
  "language_info": {
   "codemirror_mode": {
    "name": "ipython",
    "version": 2
   },
   "file_extension": ".py",
   "mimetype": "text/x-python",
   "name": "python",
   "nbconvert_exporter": "python",
   "pygments_lexer": "ipython2",
   "version": "2.7.13"
  }
 },
 "nbformat": 4,
 "nbformat_minor": 2
}
