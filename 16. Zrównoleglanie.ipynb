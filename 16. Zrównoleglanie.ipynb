{
 "cells": [
  {
   "cell_type": "markdown",
   "metadata": {},
   "source": [
    "# wprowadzenie i GIL"
   ]
  },
  {
   "cell_type": "markdown",
   "metadata": {},
   "source": [
    "Upraszcza implementację interpretera kosztem jednowątkowości w jego obrębie.\n"
   ]
  },
  {
   "cell_type": "markdown",
   "metadata": {},
   "source": [
    "## Wątki\n",
    "\n",
    "pakiet threading - do programowania wielowątkowego\n",
    "\n",
    "\n",
    "Uruchomienie funkcji w nowym wątku jest proste:"
   ]
  },
  {
   "cell_type": "code",
   "execution_count": null,
   "metadata": {},
   "outputs": [],
   "source": [
    "from random import randint\n",
    "from time import sleep\n",
    "from threading import Thread\n",
    "\n",
    "# Thread(group=None, target=None, name=None, args=(), kwargs={})\n",
    "# group - zarezerwowane na przyszłość\n",
    "# target - funkcja do wywołania\n",
    "# name - unikalna nazwa wątku\n",
    "# args, kwargs - argumenty przekazywane do funkcji\n",
    "\n",
    "\n",
    "def f(*args, **kwargs):\n",
    "    print \"f({} ,{})\".format(args, kwargs)\n",
    "    sleep(randint(0, 3))\n",
    "    return\n",
    "\n",
    "\n",
    "for i in range(5):\n",
    "    t = Thread(target=f, args=(i,), kwargs={'kwa': 'rg'})\n",
    "    t.start()  # uruchomienie wątku \n",
    "    #t.join()  # oczekiwanie przez wątek wywołujący na wykonanie wątku wywoływanego\n",
    "    \n",
    "print \"asdf\""
   ]
  },
  {
   "cell_type": "markdown",
   "metadata": {},
   "source": [
    "Wątek można stworzyć dziedzicząc po klasie Thread"
   ]
  },
  {
   "cell_type": "code",
   "execution_count": null,
   "metadata": {},
   "outputs": [],
   "source": [
    "from threading import Thread\n",
    "\n",
    "\n",
    "class NewThread(Thread):\n",
    "    def __init__(self, *args, **kwargs):\n",
    "        super(NewThread, self).__init__()\n",
    "        self.args = args\n",
    "        self.kwargs = kwargs\n",
    "        \n",
    "    def run(self):\n",
    "        # metoda wywoływana przy wywołaniu .start()\n",
    "        print 'thread is running'\n",
    "        print self.args\n",
    "        print self.kwargs\n",
    "    \n",
    "    \n",
    "t = NewThread(1, 2, 3, 4, 5, a=1, b=3)\n",
    "t.start()\n",
    "t.join()"
   ]
  },
  {
   "cell_type": "markdown",
   "metadata": {},
   "source": [
    "## Współdzielenie zasobów\n",
    "\n",
    "ograniczenie dostępu do seksji krytycznej przez pechanizm:\n",
    "* Lock/RLock\n",
    "* Semafor\n",
    "* Event"
   ]
  },
  {
   "cell_type": "markdown",
   "metadata": {},
   "source": [
    "### Lock/RLock\n",
    "\n",
    "Lock i RLock działają podobnie - jedyna różnica to ta, że RLock może być zwolniony tylko przez wątek, który go zajął"
   ]
  },
  {
   "cell_type": "code",
   "execution_count": null,
   "metadata": {},
   "outputs": [],
   "source": [
    "from random import randint\n",
    "from time import sleep\n",
    "from threading import Thread, Lock\n",
    "\n",
    "def print_thread(thread):\n",
    "    print 'Wykonuje watek {}'.format(thread)\n",
    "    sleep(randint(0, 2))  # sekcja krytyczna\n",
    "    print 'Konczy watek {}'.format(thread)\n",
    "    \n",
    "    \n",
    "t1 = Thread(target=print_thread, args=(1,))\n",
    "t2 = Thread(target=print_thread, args=(2,))\n",
    "t3 = Thread(target=print_thread, args=(3,))\n",
    "\n",
    "t1.start()\n",
    "t2.start()\n",
    "t3.start()\n",
    "\n",
    "t1.join()\n",
    "t2.join()\n",
    "t3.join()\n",
    "\n",
    "print 50 * '='\n",
    "def print_thread_lock(thread, lock):\n",
    "    #try:  # eksperyment - zwolanianie locka przez inny wątek - na klasie Lock DZIAŁA\n",
    "    #    lock.release()\n",
    "    #except:\n",
    "    #    pass\n",
    "    lock.acquire()  # lock, zostaje przechwycony\n",
    "    print 'Wykonuje watek {}'.format(thread)\n",
    "    sleep(randint(0, 2))  # sekcja krytyczna\n",
    "    print 'Konczy watek {}'.format(thread)\n",
    "    lock.release()  # lock zostaje zwolniony - nie zwolnienie blokady zablokuje inne wątki\n",
    "    \n",
    "\n",
    "lock = Lock()    \n",
    "t1 = Thread(target=print_thread_lock, args=(1, lock))\n",
    "t2 = Thread(target=print_thread_lock, args=(2, lock))\n",
    "t3 = Thread(target=print_thread_lock, args=(3, lock))\n",
    "\n",
    "t1.start()\n",
    "t2.start()\n",
    "t3.start()\n",
    "\n",
    "t1.join()\n",
    "t2.join()\n",
    "t3.join()\n",
    "\n",
    "print 50 * '=' + '\\n\\n'\n",
    "def print_thread_lock_with(thread, lock):\n",
    "    with lock:  # to samo co wcześniej tylko z managerem kontekstu\n",
    "        print 'Wykonuje watek {}'.format(thread)\n",
    "        sleep(randint(0, 2))  # sekcja krytyczna\n",
    "        print 'Konczy watek {}'.format(thread)\n",
    "    \n",
    "\n",
    "lock = Lock()    \n",
    "t1 = Thread(target=print_thread_lock_with, args=(1, lock))\n",
    "t2 = Thread(target=print_thread_lock_with, args=(2, lock))\n",
    "t3 = Thread(target=print_thread_lock_with, args=(3, lock))\n",
    "\n",
    "t1.start()\n",
    "t2.start()\n",
    "t3.start()\n",
    "\n",
    "t1.join()\n",
    "t2.join()\n",
    "t3.join()"
   ]
  },
  {
   "cell_type": "code",
   "execution_count": null,
   "metadata": {},
   "outputs": [],
   "source": [
    "# RLock\n",
    "\n",
    "from random import randint\n",
    "from time import sleep\n",
    "from threading import Thread, RLock\n",
    "\n",
    "\n",
    "def print_thread_lock(thread, lock):\n",
    "    #try:  # eksperyment - zwolanianie locka przez inny wątek - na RLock NIE DZIAŁA\n",
    "    #    lock.release()\n",
    "    #except:\n",
    "    #    pass\n",
    "    lock.acquire()  # lock, zostaje przechwycony\n",
    "    print 'Wykonuje watek {}'.format(thread)\n",
    "    sleep(randint(0, 2))  # sekcja krytyczna\n",
    "    print 'Konczy watek {}'.format(thread)\n",
    "    lock.release()  # lock zostaje zwolniony - nie zwolnienie blokady zablokuje inne wątki\n",
    "    \n",
    "\n",
    "lock = RLock()    \n",
    "t1 = Thread(target=print_thread_lock, args=(1, lock))\n",
    "t2 = Thread(target=print_thread_lock, args=(2, lock))\n",
    "t3 = Thread(target=print_thread_lock, args=(3, lock))\n",
    "\n",
    "t1.start()\n",
    "t2.start()\n",
    "t3.start()\n",
    "\n",
    "t1.join()\n",
    "t2.join()\n",
    "t3.join()\n",
    "\n",
    "print 50 * '=' + '\\n\\n'\n",
    "def print_thread_lock_with(thread, lock):\n",
    "    with lock:  # to samo co wcześniej tylko z managerem kontekstu\n",
    "        print 'Wykonuje watek {}'.format(thread)\n",
    "        sleep(randint(0, 2))  # sekcja krytyczna\n",
    "        print 'Konczy watek {}'.format(thread)\n",
    "    \n",
    "\n",
    "lock = RLock()    \n",
    "t1 = Thread(target=print_thread_lock_with, args=(1, lock))\n",
    "t2 = Thread(target=print_thread_lock_with, args=(2, lock))\n",
    "t3 = Thread(target=print_thread_lock_with, args=(3, lock))\n",
    "\n",
    "t1.start()\n",
    "t2.start()\n",
    "t3.start()\n",
    "\n",
    "t1.join()\n",
    "t2.join()\n",
    "t3.join()"
   ]
  },
  {
   "cell_type": "markdown",
   "metadata": {},
   "source": [
    "### Semafor\n",
    "\n",
    "Semafor pozwala kilku wątkom na dostęp do jednego zasobu - zawiera wewnętrzna wartosć określającą ile wątków może mieć dostęp do zasobu.\n",
    "\n",
    "Zajmowanie semafora:\n",
    "- jeżeli wartość semafora jest > 0, wątek obniża wartosć o 1 i kontynuuje wykonanie swojego kodu\n",
    "- jeżeli wartosć to 0 to wątek obniża wartosć semafora i czeka, aż wartość semafora będzie nieujemna\n",
    "- jeżeli wartosć semafora < 0 wątek czeka aż ktoś zwolni dostęp do zasobu\n"
   ]
  },
  {
   "cell_type": "code",
   "execution_count": 27,
   "metadata": {},
   "outputs": [
    {
     "name": "stdout",
     "output_type": "stream",
     "text": [
      "0\n",
      "2\n",
      "==================================================\n",
      "4\n",
      "3\n",
      "4\n"
     ]
    },
    {
     "ename": "ValueError",
     "evalue": "Semaphore released too many times",
     "output_type": "error",
     "traceback": [
      "\u001b[0;31m---------------------------------------------------------------------------\u001b[0m",
      "\u001b[0;31mValueError\u001b[0m                                Traceback (most recent call last)",
      "\u001b[0;32m<ipython-input-27-4c24f0c0c103>\u001b[0m in \u001b[0;36m<module>\u001b[0;34m()\u001b[0m\n\u001b[1;32m     21\u001b[0m \u001b[0msemaphore\u001b[0m\u001b[0;34m.\u001b[0m\u001b[0mrelease\u001b[0m\u001b[0;34m(\u001b[0m\u001b[0;34m)\u001b[0m\u001b[0;34m\u001b[0m\u001b[0m\n\u001b[1;32m     22\u001b[0m \u001b[0;32mprint\u001b[0m \u001b[0msemaphore\u001b[0m\u001b[0;34m.\u001b[0m\u001b[0m_Semaphore__value\u001b[0m\u001b[0;34m\u001b[0m\u001b[0m\n\u001b[0;32m---> 23\u001b[0;31m \u001b[0msemaphore\u001b[0m\u001b[0;34m.\u001b[0m\u001b[0mrelease\u001b[0m\u001b[0;34m(\u001b[0m\u001b[0;34m)\u001b[0m\u001b[0;34m\u001b[0m\u001b[0m\n\u001b[0m\u001b[1;32m     24\u001b[0m \u001b[0;34m\u001b[0m\u001b[0m\n\u001b[1;32m     25\u001b[0m \u001b[0;34m\u001b[0m\u001b[0m\n",
      "\u001b[0;32m/Library/Frameworks/Python.framework/Versions/2.7/lib/python2.7/threading.pyc\u001b[0m in \u001b[0;36mrelease\u001b[0;34m(self)\u001b[0m\n\u001b[1;32m    535\u001b[0m         \u001b[0;32mwith\u001b[0m \u001b[0mself\u001b[0m\u001b[0;34m.\u001b[0m\u001b[0m_Semaphore__cond\u001b[0m\u001b[0;34m:\u001b[0m\u001b[0;34m\u001b[0m\u001b[0m\n\u001b[1;32m    536\u001b[0m             \u001b[0;32mif\u001b[0m \u001b[0mself\u001b[0m\u001b[0;34m.\u001b[0m\u001b[0m_Semaphore__value\u001b[0m \u001b[0;34m>=\u001b[0m \u001b[0mself\u001b[0m\u001b[0;34m.\u001b[0m\u001b[0m_initial_value\u001b[0m\u001b[0;34m:\u001b[0m\u001b[0;34m\u001b[0m\u001b[0m\n\u001b[0;32m--> 537\u001b[0;31m                 \u001b[0;32mraise\u001b[0m \u001b[0mValueError\u001b[0m\u001b[0;34m(\u001b[0m\u001b[0;34m\"Semaphore released too many times\"\u001b[0m\u001b[0;34m)\u001b[0m\u001b[0;34m\u001b[0m\u001b[0m\n\u001b[0m\u001b[1;32m    538\u001b[0m             \u001b[0mself\u001b[0m\u001b[0;34m.\u001b[0m\u001b[0m_Semaphore__value\u001b[0m \u001b[0;34m+=\u001b[0m \u001b[0;36m1\u001b[0m\u001b[0;34m\u001b[0m\u001b[0m\n\u001b[1;32m    539\u001b[0m             \u001b[0mself\u001b[0m\u001b[0;34m.\u001b[0m\u001b[0m_Semaphore__cond\u001b[0m\u001b[0;34m.\u001b[0m\u001b[0mnotify\u001b[0m\u001b[0;34m(\u001b[0m\u001b[0;34m)\u001b[0m\u001b[0;34m\u001b[0m\u001b[0m\n",
      "\u001b[0;31mValueError\u001b[0m: Semaphore released too many times"
     ]
    }
   ],
   "source": [
    "from threading import Semaphore, BoundedSemaphore\n",
    "\n",
    "semaphore = Semaphore(0)\n",
    "print semaphore._Semaphore__value\n",
    "\n",
    "# release zwiększa wartość wewnętrzego licznika semafora o 1\n",
    "semaphore.release()\n",
    "semaphore.release()\n",
    "semaphore.release()\n",
    "# acquire zmniejsza wewnętrzny licznik semafora o 1\n",
    "semaphore.acquire()\n",
    "print semaphore._Semaphore__value\n",
    "\n",
    "\n",
    "print 50 * '='\n",
    "# BoundedSemaphore nie pozwala na zwiększenie wewnętrzego licznika powyżej początkowego\n",
    "semaphore = BoundedSemaphore(4)\n",
    "print semaphore._Semaphore__value\n",
    "semaphore.acquire()\n",
    "print semaphore._Semaphore__value\n",
    "semaphore.release()\n",
    "print semaphore._Semaphore__value\n",
    "semaphore.release()\n",
    "\n",
    "\n",
    "# Semafory mogą byc używane jako managery kontekstu"
   ]
  },
  {
   "cell_type": "markdown",
   "metadata": {},
   "source": [
    "mutex to semafor zainicjalizowany wartością 1"
   ]
  },
  {
   "cell_type": "markdown",
   "metadata": {},
   "source": [
    "### Synchronizacja warunkami (Conditions)\n",
    "\n",
    "Condition wykrywa zmianę stanu aplikacji i powiadamia inny wątek czekajacy na tę zmianę stanu"
   ]
  },
  {
   "cell_type": "code",
   "execution_count": 28,
   "metadata": {},
   "outputs": [
    {
     "name": "stdout",
     "output_type": "stream",
     "text": [
      "wewnatrz producera; wewnatrz consumera; \n",
      "\n",
      "consumer oczekuje na warunek; \n",
      "producer powiadiamia; \n",
      "producer zwalnia condition; \n",
      "producer konczy; \n",
      "consumer kontynuuje; \n",
      "consumerer konczy; \n"
     ]
    }
   ],
   "source": [
    "from time import sleep\n",
    "from threading import Thread, Condition\n",
    "\n",
    "def consumer(condition):\n",
    "    print 'wewnatrz consumera; '\n",
    "    condition.acquire()  # acquire i release są konieczne do powiadamiania i czekania na powiadomienie\n",
    "    print 'consumer oczekuje na warunek; '\n",
    "    condition.wait()  # bez wywołania wait() consumer kontynuuje działanie\n",
    "    print 'consumer kontynuuje; '\n",
    "    condition.release()\n",
    "    print 'consumerer konczy; '\n",
    "    \n",
    "\n",
    "def producer(condition):\n",
    "    print 'wewnatrz producera; '\n",
    "    sleep(1)\n",
    "    condition.acquire()\n",
    "    sleep(1)\n",
    "    print 'producer powiadiamia; '\n",
    "    condition.notify()\n",
    "    print 'producer zwalnia condition; '\n",
    "    sleep(3)  \n",
    "    condition.release()  # póki producer nie zwolni warunku, consumer nie będzie mógł kontynuować\n",
    "    print 'producer konczy; '\n",
    "    \n",
    "    \n",
    "cond = Condition()\n",
    "t1 = Thread(target=consumer, args=(cond,))\n",
    "t2 = Thread(target=producer, args=(cond,))\n",
    "\n",
    "t1.start()\n",
    "t2.start()\n",
    "\n",
    "t1.join()\n",
    "t2.join()\n",
    "\n",
    "# Warunki mogą być też używane jako managery kontekstu"
   ]
  },
  {
   "cell_type": "markdown",
   "metadata": {},
   "source": [
    "### Synchronizacja zdarzeniem (Event\n",
    "\n",
    "Działa podobnie do Condition, z tym że ustawia wewnatrzna flasę na true/false oznaczającą czy inny wątek może kontynuować"
   ]
  },
  {
   "cell_type": "code",
   "execution_count": 26,
   "metadata": {},
   "outputs": [
    {
     "name": "stdout",
     "output_type": "stream",
     "text": [
      "wewnatrz producera; wewnatrz consumera; \n",
      "\n",
      "consumer oczekuje na zdarzenie; \n",
      "producer ustawia flage; consumer kontynuuje; \n",
      "\n",
      "producer ustawil flage; consumerer konczy; \n",
      "\n",
      "producer konczy; \n"
     ]
    }
   ],
   "source": [
    "from time import sleep\n",
    "from threading import Thread, Event\n",
    "\n",
    "# nie przechwytuje się i zwalniania eventu (acquire/release)\n",
    "\n",
    "def consumer(event):\n",
    "    print 'wewnatrz consumera; '\n",
    "    print 'consumer oczekuje na zdarzenie; '\n",
    "    event.wait()  # oczekuje na flagę eventu będącą true\n",
    "    print 'consumer kontynuuje; '\n",
    "    event.clear()\n",
    "    print 'consumerer konczy; '\n",
    "    \n",
    "\n",
    "def producer(event):\n",
    "    print 'wewnatrz producera; '\n",
    "    sleep(1)\n",
    "    print 'producer ustawia flage; '\n",
    "    event.set()  # inny wątek oczekujacy wykona się od razu\n",
    "    print 'producer ustawil flage; '\n",
    "    sleep(3)  \n",
    "    print 'producer konczy; '\n",
    "    \n",
    "    \n",
    "evt = Event()\n",
    "t1 = Thread(target=consumer, args=(evt,))\n",
    "t2 = Thread(target=producer, args=(evt,))\n",
    "\n",
    "t1.start()\n",
    "t2.start()\n",
    "\n",
    "t1.join()\n",
    "t2.join()"
   ]
  },
  {
   "cell_type": "markdown",
   "metadata": {},
   "source": [
    "### Komunikacja przy użyciu kolejki (queue)\n",
    "\n",
    "najważńiejsze 4 metody:\n",
    "* put - dodaje element do kolejki\n",
    "* get - pobiera element z kolejki\n",
    "* task_done - oznacza zakończenie przetwarzania elementu (musi być wywołane)\n",
    "* join - oczekuje na opróżnienie kolejki"
   ]
  },
  {
   "cell_type": "code",
   "execution_count": 35,
   "metadata": {},
   "outputs": [
    {
     "name": "stdout",
     "output_type": "stream",
     "text": [
      "producer 0 puts 5;  producer 1 puts 5; consumer 1 starts; consumer 0 starts; \n",
      " consumer 2 starts;   \n",
      "\n",
      "\n",
      "producer 1 finishes; producer 2 puts 5; \n",
      "producer 3 puts 3; consumer 3 starts; producer 4 puts 8; consumer 4 starts; producer 0 finishes; \n",
      "\n",
      "\n",
      "\n",
      "\n",
      "\n",
      "producer 4 finishes; \n",
      " producer 2 finishes; consumer 4 got 8; \n",
      "\n",
      "producer 3 finishes; \n",
      "\n",
      "consumer 4 finishes; \n",
      "consumer 0 got 5; \n",
      "consumer 0 finishes; \n",
      "consumer 3 got 3; \n",
      "consumer 3 finishes; \n",
      "consumer 1 got 5; \n",
      "consumer 1 finishes; \n",
      "consumer 2 got 5; \n",
      "consumer 2 finishes; \n"
     ]
    }
   ],
   "source": [
    "from Queue import Queue  # moduł to queue w pythonie3\n",
    "from random import randint\n",
    "from time import sleep\n",
    "from threading import Thread\n",
    "\n",
    "\n",
    "def producer(name, queue):\n",
    "    x = randint(1, 14)\n",
    "    print 'producer {} puts {}; '.format(name, x)\n",
    "    queue.put(x)  # jezeli kolejka jest pełna to wyrzuca wyjatek - chyba że dodamy block=True\n",
    "    print 'producer {} finishes; '.format(name)\n",
    "    \n",
    "    \n",
    "def consumer(name, queue):\n",
    "    print 'consumer {} starts; '.format(name)\n",
    "    x = queue.get()  # jeżeli kolejka jest pusta to czeka aż się coś pojawi\n",
    "    sleep(randint(0, 2))\n",
    "    print 'consumer {} got {}; '.format(name, x)\n",
    "    queue.task_done()\n",
    "    print 'consumer {} finishes; '.format(name)\n",
    "    \n",
    "\n",
    "queue = Queue()\n",
    "producers = [Thread(target=producer, args=(i, queue)) for i in range(5)]\n",
    "consumers = [Thread(target=consumer, args=(i, queue)) for i in range(5)]\n",
    "\n",
    "for producer, consumer in zip(producers, consumers):\n",
    "    producer.start()\n",
    "    consumer.start()\n",
    "    "
   ]
  },
  {
   "cell_type": "markdown",
   "metadata": {},
   "source": [
    "## Procesy"
   ]
  }
 ],
 "metadata": {
  "kernelspec": {
   "display_name": "Python 2",
   "language": "python",
   "name": "python2"
  },
  "language_info": {
   "codemirror_mode": {
    "name": "ipython",
    "version": 2
   },
   "file_extension": ".py",
   "mimetype": "text/x-python",
   "name": "python",
   "nbconvert_exporter": "python",
   "pygments_lexer": "ipython2",
   "version": "2.7.13"
  }
 },
 "nbformat": 4,
 "nbformat_minor": 2
}
