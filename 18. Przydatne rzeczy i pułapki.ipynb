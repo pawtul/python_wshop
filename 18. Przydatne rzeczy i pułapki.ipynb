{
 "cells": [
  {
   "cell_type": "markdown",
   "metadata": {
    "collapsed": true
   },
   "source": [
    "## Styl Kodu\n",
    "\n",
    "Ogólnie przyjęte zasaday co do jakości kodu są opisane w PEP8. Funkcjonują moduły Pythonowe, które sprawdzają styl kodu i wskazują gdzie jakie błedy zostały popełnione. Te moduły to:\n",
    "\n",
    "- flake8\n",
    "- pep8\n",
    "- pylint\n",
    "\n",
    "\n",
    "do sortowania importów słyży *isort*"
   ]
  },
  {
   "cell_type": "markdown",
   "metadata": {},
   "source": [
    "## Trikowe rzeczy\n",
    "\n",
    "### \"kopiowanie\" krotki"
   ]
  },
  {
   "cell_type": "code",
   "execution_count": null,
   "metadata": {},
   "outputs": [],
   "source": [
    "x = (1, 2, 3, 4)\n",
    "y = tuple(x)  # kopiowanie\n",
    "x is y  # nie skopiowało"
   ]
  },
  {
   "cell_type": "markdown",
   "metadata": {},
   "source": [
    "### tworzenie listy list na skróty"
   ]
  },
  {
   "cell_type": "code",
   "execution_count": null,
   "metadata": {},
   "outputs": [],
   "source": [
    "x = [[]] * 5  # lista 5ciu list\n",
    "print(x)\n",
    "\n",
    "x[0].append(3)\n",
    "print(x)  # dodało się wszędzie - Python zamiast stworzyć 5 list, stworzył 1\n",
    "         # i skopiował referencje\n",
    "\n",
    "print('---')\n",
    "# poprawny sposób\n",
    "x = [[] for i in range(5)]\n",
    "print(x)\n",
    "\n",
    "x[0].append(3)\n",
    "print(x)  # teraz działa"
   ]
  },
  {
   "cell_type": "markdown",
   "metadata": {},
   "source": [
    "### hash ma znaczenie"
   ]
  },
  {
   "cell_type": "code",
   "execution_count": null,
   "metadata": {},
   "outputs": [],
   "source": [
    "print(hash(True), hash(1), hash(1.0))\n",
    "\n",
    "print(set([True, 1, 1.0]))\n",
    "\n",
    "print({True: 1, 1: 2, 1.0: 3})\n",
    "\n",
    "print('---')\n",
    "print(True in {1})"
   ]
  },
  {
   "cell_type": "markdown",
   "metadata": {},
   "source": [
    "### funkcja iter i usuwanie elementów podczas iteracji"
   ]
  },
  {
   "cell_type": "code",
   "execution_count": null,
   "metadata": {},
   "outputs": [],
   "source": [
    "print('--- używanie iteratora do obiektu - iter()')\n",
    "x = [1, 2, 3, 4, 5]\n",
    "ix = iter(x)\n",
    "print(ix)\n",
    "print(next(ix))\n",
    "print(next(ix))\n",
    "print(next(ix))\n",
    "print(next(ix))\n",
    "print(next(ix))\n",
    "\n",
    "print()\n",
    "print('--- iterowanie aż do napotkania wartości kończącej')\n",
    "# inne zastosowanie iter - iter(funkcja, obiekt) - funkcja wykonuje sie tak długo,\n",
    "# aż napotka <obiekt>\n",
    "from functools import partial\n",
    "from random import randint\n",
    "\n",
    "x = iter(partial(randint, 1, 5), 4)\n",
    "print(list(x))  # przy każdym uruchomieniu będzie inny wynik bo losuje liczby aż napotka 4\n",
    "\n",
    "\n",
    "\n",
    "# USUWANIE ELEMENTÓW PODCZAS ITERACJI\n",
    "\n",
    "print()\n",
    "print('--- usuwanie elementów 2,3,6 z listy podczas iteracji')\n",
    "# usuwanie elementów podczas iteracji\n",
    "x = list(range(10))\n",
    "for i, item in enumerate(x):\n",
    "    print(item)\n",
    "    if item in (2, 3, 6):  # chcemy usunąć liczby 2, 3, 6\n",
    "        print('popped: ', x.pop(i))  # 3 NIE zostaje usunięte\n",
    "print(\"WNIOSEK: 3 zostaje pominięte\")\n",
    "\n",
    "# w printach zostaną pominięte 2 i 5 - lista zostaje \"przesunięta\" dwa razy -\n",
    "# najpierw 2 wskakuje na miejsce 1 a potem 5 na miejsce 4\n",
    "\n",
    "\n",
    "\n",
    "# OBEJŚCIE?\n",
    "print()\n",
    "print('--- usuwanie elementów 2,3,6 z listy podczas iteracji - płytka kopia')\n",
    "x = list(range(10))\n",
    "for i, item in enumerate(list(x)):  # płytka kopia - nie iterujemy po modyfikowanej liście\n",
    "    print(item)\n",
    "    if item in (2, 3, 6):\n",
    "        print('popped: ', x.pop(i))  # usuwa 2, 4 i 8 - JESZCZE GORZEJ!!\n",
    "                                     # wcześniej przynajmniej nie usuwało tego co nie trzeba\n",
    "print(\"WNIOSEK: zostają usuniete nie te elementy co trzeba\")\n",
    "            \n",
    "            \n",
    "# WNIOSEK: Nie modyfikować listy po której się iteruje\n",
    "# alternatywa: list comprehension\n",
    "print()\n",
    "print('--- usuwanie elementów 2,3,6 z listy podczas iteracji - list comprehension')\n",
    "x = list(range(10))\n",
    "x2 = [i for i in x if i not in (2, 3, 6)]\n",
    "print(x2)\n",
    "print(\"WNIOSEK: efekt jest poprawny, ale mamy nową listę w pamięci\")"
   ]
  },
  {
   "cell_type": "markdown",
   "metadata": {},
   "source": [
    "### Asercje\n",
    "\n",
    "nie nalezy dodawać nawiasów po assert"
   ]
  },
  {
   "cell_type": "code",
   "execution_count": null,
   "metadata": {},
   "outputs": [],
   "source": [
    "assert (False, \"Error message\")  # przejdzie - bo interpretuje jako krotkę dwuelementową\n",
    "\n",
    "assert False, \"Error Message 2\""
   ]
  },
  {
   "cell_type": "code",
   "execution_count": null,
   "metadata": {},
   "outputs": [],
   "source": []
  }
 ],
 "metadata": {
  "kernelspec": {
   "display_name": "Python 3",
   "language": "python",
   "name": "python3"
  },
  "language_info": {
   "codemirror_mode": {
    "name": "ipython",
    "version": 3
   },
   "file_extension": ".py",
   "mimetype": "text/x-python",
   "name": "python",
   "nbconvert_exporter": "python",
   "pygments_lexer": "ipython3",
   "version": "3.6.1"
  }
 },
 "nbformat": 4,
 "nbformat_minor": 2
}
