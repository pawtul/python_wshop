{
 "cells": [
  {
   "cell_type": "markdown",
   "metadata": {
    "collapsed": true
   },
   "source": [
    "## Styl Kodu\n",
    "\n",
    "Ogólnie przyjęte zasaday co do jakości kodu są opisane w PEP8. Funkcjonują moduły Pythonowe, które sprawdzają styl kodu i wskazują gdzie jakie błedy zostały popełnione. Te moduły to:\n",
    "\n",
    "- flake8\n",
    "- pep8\n",
    "- pylint\n",
    "\n",
    "\n",
    "do sortowania importów słyży *isort*"
   ]
  },
  {
   "cell_type": "markdown",
   "metadata": {},
   "source": [
    "## Trikowe rzeczy\n",
    "\n",
    "### \"kopiowanie\" krotki"
   ]
  },
  {
   "cell_type": "code",
   "execution_count": null,
   "metadata": {
    "collapsed": true
   },
   "outputs": [],
   "source": [
    "x = (1, 2, 3, 4)\n",
    "y = tuple(x)  # kopiowanie\n",
    "x is y  # nie skopiowało"
   ]
  },
  {
   "cell_type": "markdown",
   "metadata": {},
   "source": [
    "### tworzenie listy list na skróty"
   ]
  },
  {
   "cell_type": "code",
   "execution_count": null,
   "metadata": {
    "collapsed": true
   },
   "outputs": [],
   "source": [
    "x = [[]] * 5  # lista 5ciu list\n",
    "print x\n",
    "\n",
    "x[0].append(3)\n",
    "print x  # dodało się wszędzie - Python zamiast stworzyć 5 list, stworzył 1\n",
    "         # i skopiował referencje\n",
    "\n",
    "print '---'\n",
    "# poprawny sposób\n",
    "x = [[] for i in range(5)]\n",
    "print x\n",
    "\n",
    "x[0].append(3)\n",
    "print x  # teraz działa"
   ]
  },
  {
   "cell_type": "markdown",
   "metadata": {},
   "source": [
    "### hash ma znaczenie"
   ]
  },
  {
   "cell_type": "code",
   "execution_count": null,
   "metadata": {
    "collapsed": true
   },
   "outputs": [],
   "source": [
    "print hash(True), hash(1), hash(1.0)\n",
    "\n",
    "print set([True, 1, 1.0])\n",
    "\n",
    "print {True: 1, 1: 2, 1.0: 3}\n",
    "\n",
    "print '---'\n",
    "print True in {1}"
   ]
  },
  {
   "cell_type": "markdown",
   "metadata": {},
   "source": [
    "### funkcja iter"
   ]
  },
  {
   "cell_type": "code",
   "execution_count": null,
   "metadata": {
    "collapsed": true
   },
   "outputs": [],
   "source": [
    "x = [1, 2, 3, 4, 5]\n",
    "ix = iter(x)\n",
    "print ix\n",
    "print ix.next()\n",
    "print ix.next()\n",
    "print ix.next()\n",
    "print ix.next()\n",
    "print ix.next()\n",
    "\n",
    "print '---'\n",
    "# teraz to samo, tylko z usunięciem elementu w liscie\n",
    "x = [1, 2, 3, 4, 5]\n",
    "ix = iter(x)\n",
    "print ix\n",
    "print ix.next()\n",
    "print ix.next()\n",
    "del x[0] # przeskoczy jeden element!!\n",
    "print ix.next()\n",
    "print ix.next()\n",
    "# print ix.next()  # StopIteration\n",
    "\n",
    "print '---'\n",
    "# inne zastosowanie iter - iter(funkcja, obiekt) - funkcja wykonuje sie tak długo,\n",
    "# póki napotka obiekt\n",
    "from functools import partial\n",
    "from random import randint\n",
    "\n",
    "x = iter(partial(randint, 1, 5), 4)\n",
    "print list(x)  # przy każdym uruchomieniu będzie inny wynik"
   ]
  },
  {
   "cell_type": "markdown",
   "metadata": {},
   "source": [
    "### Asercje\n",
    "\n",
    "nie nalezy dodawać nawiasów po assert"
   ]
  },
  {
   "cell_type": "code",
   "execution_count": null,
   "metadata": {},
   "outputs": [],
   "source": [
    "assert (False, \"Error message\")  # przejdzie - bo krotka dwuelementowa\n",
    "\n",
    "assert False, \"Error Message 2\""
   ]
  }
 ],
 "metadata": {
  "kernelspec": {
   "display_name": "Python 2",
   "language": "python",
   "name": "python2"
  },
  "language_info": {
   "codemirror_mode": {
    "name": "ipython",
    "version": 2
   },
   "file_extension": ".py",
   "mimetype": "text/x-python",
   "name": "python",
   "nbconvert_exporter": "python",
   "pygments_lexer": "ipython2",
   "version": "2.7.13"
  }
 },
 "nbformat": 4,
 "nbformat_minor": 2
}
