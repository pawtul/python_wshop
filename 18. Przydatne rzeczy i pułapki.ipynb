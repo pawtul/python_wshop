{
 "cells": [
  {
   "cell_type": "markdown",
   "metadata": {
    "collapsed": true
   },
   "source": [
    "## Styl Kodu\n",
    "\n",
    "Ogólnie przyjęte zasaday co do jakości kodu są opisane w PEP8. Funkcjonują moduły Pythonowe, które sprawdzają styl kodu i wskazują gdzie jakie błedy zostały popełnione. Te moduły to:\n",
    "\n",
    "- flake8\n",
    "- pep8\n",
    "- pylint\n",
    "\n",
    "\n",
    "do sortowania importów słyży *isort*"
   ]
  },
  {
   "cell_type": "markdown",
   "metadata": {},
   "source": [
    "## Tuple unpacking"
   ]
  },
  {
   "cell_type": "code",
   "execution_count": null,
   "metadata": {},
   "outputs": [],
   "source": [
    "a, b = 1, 2  # a=1, b=2\n",
    "a, b = (1, 2)  # a=1, b=2\n",
    "\n",
    "# Python 3\n",
    "a, b, *_ = (1, 2, 3, 4, 5)\n",
    "print(a, b, _)\n",
    "\n",
    "a, *_, b = (1, 2, 3, 4, 5)\n",
    "print(a, b, _)\n",
    "\n",
    "*_, a,  b = (1, 2, 3, 4, 5)\n",
    "print(a, b, _)"
   ]
  },
  {
   "cell_type": "code",
   "execution_count": null,
   "metadata": {},
   "outputs": [],
   "source": [
    "# Python 3.5+\n",
    "# można używać tuple i dict unpacking do tworzenia innych list i słowników\n",
    "\n",
    "d1 = {1:11, 2:22}\n",
    "d2 = {3:33, 4:44}\n",
    "\n",
    "d3 = {**d1, **d2}\n",
    "print(d3)\n",
    "\n",
    "print('>>><<<')\n",
    "\n",
    "l1 = [1, 2, 3]\n",
    "l2 = [4, 5, 6]\n",
    "\n",
    "l3 = [*l1, *l2]\n",
    "print(l3)\n",
    "\n",
    "print('>>><<<')\n",
    "l4 = [*d1]  # rozpakowuje tylko klucze do listy\n",
    "print(l4)"
   ]
  },
  {
   "cell_type": "markdown",
   "metadata": {},
   "source": [
    "## Trikowe rzeczy\n",
    "\n",
    "### \"kopiowanie\" krotki"
   ]
  },
  {
   "cell_type": "code",
   "execution_count": null,
   "metadata": {},
   "outputs": [],
   "source": [
    "x = (1, 2, 3, 4)\n",
    "y = tuple(x)  # kopiowanie\n",
    "x is y  # nie skopiowało"
   ]
  },
  {
   "cell_type": "markdown",
   "metadata": {},
   "source": [
    "### tworzenie listy list na skróty"
   ]
  },
  {
   "cell_type": "code",
   "execution_count": null,
   "metadata": {},
   "outputs": [],
   "source": [
    "x = [[]] * 5  # lista 5ciu list\n",
    "print(x)\n",
    "\n",
    "x[0].append(3)\n",
    "print(x)  # dodało się wszędzie - Python zamiast stworzyć 5 list, stworzył 1\n",
    "         # i skopiował referencje do niej\n",
    "\n",
    "print('---')\n",
    "# poprawny sposób\n",
    "x = [[] for i in range(5)]\n",
    "print(x)\n",
    "\n",
    "x[0].append(3)\n",
    "print(x)  # teraz działa"
   ]
  },
  {
   "cell_type": "markdown",
   "metadata": {},
   "source": [
    "### hash ma znaczenie"
   ]
  },
  {
   "cell_type": "code",
   "execution_count": null,
   "metadata": {},
   "outputs": [],
   "source": [
    "print(hash(True), hash(1), hash(1.0))\n",
    "\n",
    "print(set([True, 1, 1.0]))\n",
    "\n",
    "print({True: 1, 1: 2, 1.0: 3})\n",
    "\n",
    "print('---')\n",
    "print(True in {1})"
   ]
  },
  {
   "cell_type": "markdown",
   "metadata": {},
   "source": [
    "### funkcja iter i usuwanie elementów podczas iteracji"
   ]
  },
  {
   "cell_type": "code",
   "execution_count": null,
   "metadata": {},
   "outputs": [],
   "source": [
    "print('--- używanie iteratora do obiektu - iter()')\n",
    "x = [1, 2, 3, 4, 5]\n",
    "ix = iter(x)\n",
    "print(ix)\n",
    "print(next(ix))\n",
    "print(next(ix))\n",
    "print(next(ix))\n",
    "print(next(ix))\n",
    "print(next(ix))\n",
    "\n",
    "print()\n",
    "print('--- iterowanie aż do napotkania wartości kończącej')\n",
    "# inne zastosowanie iter - iter(funkcja, obiekt) - funkcja wykonuje sie tak długo,\n",
    "# aż napotka <obiekt>\n",
    "from functools import partial\n",
    "from random import randint\n",
    "\n",
    "x = iter(partial(randint, 1, 5), 4)\n",
    "print(list(x))  # przy każdym uruchomieniu będzie inny wynik bo losuje liczby aż napotka 4"
   ]
  },
  {
   "cell_type": "code",
   "execution_count": null,
   "metadata": {},
   "outputs": [],
   "source": [
    "# USUWANIE ELEMENTÓW PODCZAS ITERACJI\n",
    "print('--- usuwanie elementów 2, 3, 6 z listy podczas iteracji')\n",
    "# usuwanie elementów podczas iteracji\n",
    "x = list(range(10))\n",
    "for i, item in enumerate(x):\n",
    "    print(item)\n",
    "    if item in (2, 3, 6):  # chcemy usunąć liczby 2, 3, 6\n",
    "        print('popped: ', x.pop(i))  # 3 NIE zostaje usunięte\n",
    "print(\"WNIOSEK: 3 zostaje pominięte\")\n",
    "\n",
    "# w printach zostaną pominięte 2 i 5 - lista zostaje \"przesunięta\" dwa razy -\n",
    "# najpierw 2 wskakuje na miejsce 1 a potem 5 na miejsce 4"
   ]
  },
  {
   "cell_type": "code",
   "execution_count": null,
   "metadata": {},
   "outputs": [],
   "source": [
    "# OBEJŚCIE?\n",
    "print('--- usuwanie elementów 2,3,6 z listy podczas iteracji - płytka kopia')\n",
    "x = list(range(10))\n",
    "for i, item in enumerate(list(x)):  # płytka kopia - nie iterujemy po modyfikowanej liście\n",
    "    print(item)\n",
    "    if item in (2, 3, 6):\n",
    "        print('popped: ', x.pop(i))  # usuwa 2, 4 i 8 - JESZCZE GORZEJ!!\n",
    "                                     # wcześniej przynajmniej nie usuwało tego co nie trzeba\n",
    "print(\"WNIOSEK: zostają usuniete nie te elementy co trzeba\")"
   ]
  },
  {
   "cell_type": "code",
   "execution_count": null,
   "metadata": {},
   "outputs": [],
   "source": [
    "# WNIOSEK: Nie modyfikować listy po której się iteruje\n",
    "# alternatywa: list comprehension\n",
    "print('--- usuwanie elementów 2,3,6 z listy podczas iteracji - list comprehension')\n",
    "x = list(range(10))\n",
    "x2 = [i for i in x if i not in (2, 3, 6)]\n",
    "print(x2)\n",
    "print(\"WNIOSEK: efekt jest poprawny, ale mamy nową listę w pamięci\")\n",
    "print('W zależności od potrzeb, można zastąpić listę generatorem i oszczędzić trochę miejsca i czasu')"
   ]
  },
  {
   "cell_type": "markdown",
   "metadata": {},
   "source": [
    "### Asercje\n",
    "\n",
    "nie nalezy dodawać nawiasów po assert"
   ]
  },
  {
   "cell_type": "code",
   "execution_count": null,
   "metadata": {},
   "outputs": [],
   "source": [
    "assert (False, \"Error message\")  # przejdzie - bo interpretuje jako krotkę dwuelementową\n",
    "\n",
    "assert False, \"Error Message 2\""
   ]
  },
  {
   "cell_type": "markdown",
   "metadata": {},
   "source": [
    "### AST\n",
    "\n",
    "Python udostępnia moduł ast, który pozwala rozbić kod pythonowy na drzewo składniowe"
   ]
  },
  {
   "cell_type": "code",
   "execution_count": null,
   "metadata": {},
   "outputs": [],
   "source": [
    "from __future__ import print_function\n",
    "import ast\n",
    "\n",
    "code = \"\"\"\n",
    "x = 23\n",
    "\n",
    "class A(object):\n",
    "    def __init__(self):\n",
    "        self.attr = 33\n",
    "        \n",
    "        \n",
    "for i in range(4):\n",
    "    print i\n",
    "\n",
    "def f(x):\n",
    "    return x ** 2\n",
    "\"\"\"\n",
    "\n",
    "tree = ast.parse(code)  # aprsujemy kod źródłowy jako drzewo\n",
    "print('content of tree: ', dir(tree))\n",
    "print()\n",
    "\n",
    "print('tree.body: ', tree.body)  # body tego elementu (oznaczającego \"plik\" code) zawiera przypisanie, definicję klasy,\n",
    "                  # pętle for i definicję fuknkcji\n",
    "print()\n",
    "    \n",
    "assign, classdef, forloop, functiondef = tree.body\n",
    "\n",
    "print('assign ', dir(assign))\n",
    "print()\n",
    "print('classdef ', dir(classdef))\n",
    "print()\n",
    "print('forloop ', dir(forloop))\n",
    "print()\n",
    "print('functiondef ', dir(functiondef))"
   ]
  },
  {
   "cell_type": "markdown",
   "metadata": {},
   "source": [
    "Generalnie modułu ast można używać do modyfikowania \"kodu źródłowego\" (bo to juz jest zinterpretowany kod a nie kod w formie pliku) w locie"
   ]
  },
  {
   "cell_type": "markdown",
   "metadata": {},
   "source": [
    "### wrzucanie pliku .pth do site-packages\n",
    "\n",
    "do katalogu site-packages w lib/python.../site-packages można wrzucić plik z rozszerzeniem .pth to każda linijka zaczynająca się od \"import\" zostanie wykonana (funkcją exec) przy uruchomieniu interpretera"
   ]
  },
  {
   "cell_type": "markdown",
   "metadata": {},
   "source": [
    "### modyfikowanie sys.path\n",
    "lepiej tego unikać, może to prowadzić do ciężkich do wykrycia błędów - przykład w examples/dodatkowe/manipulacja_path"
   ]
  }
 ],
 "metadata": {
  "kernelspec": {
   "display_name": "Python 3",
   "language": "python",
   "name": "python3"
  },
  "language_info": {
   "codemirror_mode": {
    "name": "ipython",
    "version": 3
   },
   "file_extension": ".py",
   "mimetype": "text/x-python",
   "name": "python",
   "nbconvert_exporter": "python",
   "pygments_lexer": "ipython3",
   "version": "3.6.1"
  }
 },
 "nbformat": 4,
 "nbformat_minor": 2
}
