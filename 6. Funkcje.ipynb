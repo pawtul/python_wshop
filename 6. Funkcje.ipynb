{
 "cells": [
  {
   "cell_type": "markdown",
   "metadata": {},
   "source": [
    "## Definiowanie"
   ]
  },
  {
   "cell_type": "markdown",
   "metadata": {},
   "source": [
    "### Funkcje definiuje się przy pomocy słowa kluczowego def:\n",
    "\n",
    "def nazwa([parametry]):\n",
    "    \n",
    "    ...\n",
    "    \n",
    "    [return [wartość]]\n",
    "    \n",
    "jeżeli funkcja \"nie zwraca nic\" (nie ma nigdzie słowa kluczowego return) to funkcja zwraca None. Tak samo w przypadku kiedy funkcja ma wpisaną instrukcję return, ale nie ma podanej konkretnej wartosci."
   ]
  },
  {
   "cell_type": "code",
   "execution_count": null,
   "metadata": {},
   "outputs": [],
   "source": [
    "def f():\n",
    "    return 2\n",
    "print f()\n",
    "\n",
    "print 10 * '='\n",
    "def f():\n",
    "    print 'f'\n",
    "\n",
    "print f()\n",
    "\n",
    "print 10 * '='\n",
    "def f():\n",
    "    print 'f'\n",
    "    return\n",
    "\n",
    "print f()"
   ]
  },
  {
   "cell_type": "markdown",
   "metadata": {},
   "source": [
    "Do funkcji można dodawać docstring - drobną dokumentację. jest to string umieszczony pod nazwą funkcji przy definicji:"
   ]
  },
  {
   "cell_type": "code",
   "execution_count": null,
   "metadata": {},
   "outputs": [],
   "source": [
    "def f():\n",
    "    \"\"\"\n",
    "    funkcja nic nie robi\n",
    "    \"\"\"\n",
    "    \n",
    "print f.__doc__\n",
    "\n",
    "print \"=\" * 10\n",
    "def f():\n",
    "    \"funkcja nic nie robi\"\n",
    "    \n",
    "print f.__doc__\n"
   ]
  },
  {
   "cell_type": "markdown",
   "metadata": {},
   "source": [
    "Funkjci w pythonie nie przeciaża się - każda kolejna definicja funkcji przykrywa poprzednią funkcję o tej samej nazwie:"
   ]
  },
  {
   "cell_type": "code",
   "execution_count": null,
   "metadata": {},
   "outputs": [],
   "source": [
    "def f():\n",
    "    print 'pierwsza'\n",
    "\n",
    "def f(arg):\n",
    "    print 'druga'\n",
    "\n",
    "    \n",
    "print f(0)\n",
    "print f()"
   ]
  },
  {
   "cell_type": "markdown",
   "metadata": {},
   "source": [
    "Ponieważ funkcje są \"first-class citizens\" (mają takie same właściwosci jak innezmienne) to możemy przypisać funkcję do zmiennej:"
   ]
  },
  {
   "cell_type": "code",
   "execution_count": null,
   "metadata": {},
   "outputs": [],
   "source": [
    "def f():\n",
    "    print 'f'\n",
    "\n",
    "print f\n",
    "g = f\n",
    "print g"
   ]
  },
  {
   "cell_type": "code",
   "execution_count": null,
   "metadata": {},
   "outputs": [],
   "source": [
    "f()\n",
    "g()"
   ]
  },
  {
   "cell_type": "markdown",
   "metadata": {},
   "source": [
    "oryginalną funkcję można usunąć i używać aliasu:"
   ]
  },
  {
   "cell_type": "code",
   "execution_count": null,
   "metadata": {},
   "outputs": [],
   "source": [
    "del f\n",
    "g()"
   ]
  },
  {
   "cell_type": "code",
   "execution_count": null,
   "metadata": {},
   "outputs": [],
   "source": [
    "# funkcja g ma zachowaną nazwę funkcji f\n",
    "\n",
    "print g.__name__"
   ]
  },
  {
   "cell_type": "markdown",
   "metadata": {},
   "source": [
    "Od strony interpretera tworzenie funkcji wygląda następująco:\n",
    "1. Python interpretuje kod funkcji jako code object\n",
    "2. Python tworzy obiekt funkcji do którego przypisuje poprzednio stworzony kod i inne argumenty - m. in. \\__name\\__, do którego przypisuje nazwę nadaną podczas definicji\n",
    "3. Python przypisuje obiekt funkcji do zmiennej o nazwie tej funkcji\n",
    "\n",
    "Nazwę funkcji można zmienic:"
   ]
  },
  {
   "cell_type": "code",
   "execution_count": null,
   "metadata": {},
   "outputs": [],
   "source": [
    "g.__name__ = 'kot'\n",
    "print g"
   ]
  },
  {
   "cell_type": "markdown",
   "metadata": {},
   "source": [
    "również kod źródłowy można \"przeszczepić\":"
   ]
  },
  {
   "cell_type": "code",
   "execution_count": null,
   "metadata": {},
   "outputs": [],
   "source": [
    "def f():\n",
    "    print 'f'\n",
    "    \n",
    "def g():\n",
    "    print 'g'\n",
    "    \n",
    "\n",
    "f()\n",
    "g()\n",
    "    \n",
    "f.func_code = g.func_code\n",
    "\n",
    "f()\n",
    "g()"
   ]
  },
  {
   "cell_type": "markdown",
   "metadata": {},
   "source": [
    "### Parametry\n",
    "To ciąg nazw zmiennych używanych w kodzie źródłowym funkcji:"
   ]
  },
  {
   "cell_type": "code",
   "execution_count": null,
   "metadata": {},
   "outputs": [],
   "source": [
    "def f(a, b, c):\n",
    "    print a, b, c\n",
    "    \n",
    "f(1, 2, 3)"
   ]
  },
  {
   "cell_type": "markdown",
   "metadata": {},
   "source": [
    "Parametrom można przypisywać domyślne wartości - jednek każdy parametr deklarowany po paraetrze z wartoscią domyślną, również musi mieć taka wartosć"
   ]
  },
  {
   "cell_type": "code",
   "execution_count": null,
   "metadata": {},
   "outputs": [],
   "source": [
    "def f(a, b, c=1):\n",
    "    pass\n",
    "\n",
    "print '=' * 10\n",
    "def f(a, b, c=9, d):\n",
    "    pass\n"
   ]
  },
  {
   "cell_type": "markdown",
   "metadata": {},
   "source": [
    "Do argumentów można się odwoływać poprzez nazwę"
   ]
  },
  {
   "cell_type": "code",
   "execution_count": null,
   "metadata": {},
   "outputs": [],
   "source": [
    "def f(a, b, c):\n",
    "    print a, b, c\n",
    "    \n",
    "f(c=1, a=2, b=3)"
   ]
  },
  {
   "cell_type": "code",
   "execution_count": null,
   "metadata": {},
   "outputs": [],
   "source": [
    "# wywołanie funkcji z wartosciami domyślnymi:\n",
    "def f(a, b, c=6):\n",
    "    print a, b, c\n",
    "    \n",
    "f(1, 3)"
   ]
  },
  {
   "cell_type": "markdown",
   "metadata": {},
   "source": [
    "Parametry mające wartosci domysłne nazywa się tez \"keywords\"\n",
    "\n",
    "\n",
    "W Pythonie można obsłuzyc zmienną liczbą argumentó∑ pozycyjnych i keywordsów.\n",
    "osiąga się to przez użycie \\* lub \\*\\*. \\*oznacza argumenty pozycyjne, a \\*\\* oznacza słowa kluczowe"
   ]
  },
  {
   "cell_type": "code",
   "execution_count": null,
   "metadata": {},
   "outputs": [],
   "source": [
    "def f(*args, **kwargs):\n",
    "    print args, kwargs\n",
    "    \n",
    "f(1, 2, 3, 4, 5, 6, a=33, b='a', c='1.9')"
   ]
  },
  {
   "cell_type": "markdown",
   "metadata": {},
   "source": [
    "### UWAGA - Mutowalne wartosci domyślne\n",
    "Szczególną uwagę należy zachować przy ustawieniu typów mutowalnych jako argument domyślny funkcji - Python tworzy instancję tego obiektu **podczas definicji** a nei wywołąnia funkcji co może skutkować modyfikacją tego obiektu pomiędzy wywołaniami"
   ]
  },
  {
   "cell_type": "code",
   "execution_count": null,
   "metadata": {},
   "outputs": [],
   "source": [
    "def f(l=[]):\n",
    "    l.append(3)\n",
    "    return l\n",
    "\n",
    "print f()\n",
    "print f([])\n",
    "print f()  # Wynik nie będzie taki jak oczekiwany"
   ]
  },
  {
   "cell_type": "markdown",
   "metadata": {},
   "source": [
    "Zamiast ustawiania typów mutowalnych jako wartosci domyśłne powinno się ustawiać je na NOne i wewnatrz funkcji je tworzyć"
   ]
  },
  {
   "cell_type": "code",
   "execution_count": null,
   "metadata": {},
   "outputs": [],
   "source": [
    "def f(l=None):\n",
    "    if l is None:\n",
    "        l = []\n",
    "    l.append(3)\n",
    "    return l\n",
    "\n",
    "print f()\n",
    "print f([])\n",
    "print f()  # Teraz działa"
   ]
  },
  {
   "cell_type": "markdown",
   "metadata": {},
   "source": [
    "## Call by sharing - przekazywanie argumentów mutowalnych do funkcji\n",
    "W Pythonie argumenty przekazywane są metodą \"call by sharing\" - jest to podobne do przekazywania przez referencję w innych językach - póki do tej zmiennej nie zostanie przypisany nowy argument, modyfikujemy oryginalny obiekt"
   ]
  },
  {
   "cell_type": "code",
   "execution_count": null,
   "metadata": {},
   "outputs": [],
   "source": [
    "def f(l):\n",
    "    l.append(3)\n",
    "    l = []\n",
    "    return l\n",
    "\n",
    "l = []\n",
    "print f(l)\n",
    "print(l)  # <- oryginalna lista zmodyfikowana\n",
    "\n",
    "print 10 * '='\n",
    "\n",
    "def f(l):\n",
    "    l = []\n",
    "    l.append(3)\n",
    "    return l\n",
    "\n",
    "l = []\n",
    "print f(l)\n",
    "print(l)"
   ]
  },
  {
   "cell_type": "markdown",
   "metadata": {},
   "source": [
    "Operatory +=, -=, \\*=... również modyfikują obiekty **mutowalne** w miejscu"
   ]
  },
  {
   "cell_type": "markdown",
   "metadata": {},
   "source": [
    "## Funkcje Anonimowe - lambdy\n",
    "\n",
    "lambdy definiujemy przy pomocy słowa kluczowego *lambda*\n",
    "Zaletą lambd jest to, ze mogą byc przekazywane jako argumenty do innych funkcji podczas definicji. Składnia jest następująca:\n",
    "\n",
    "lambda [argumenty]: [wartosć zwracana]"
   ]
  },
  {
   "cell_type": "code",
   "execution_count": null,
   "metadata": {},
   "outputs": [],
   "source": [
    "def f(func):\n",
    "    print func()\n",
    "    \n",
    "f(lambda: 22)"
   ]
  },
  {
   "cell_type": "markdown",
   "metadata": {},
   "source": [
    "## Generatory\n",
    "Generator to funkcja, która zawiera w kodzie słowo yield (nie może zawierać return).\n",
    "Głównym celem generatora jest \"zawieszenie\" wykonania kodu do casu \"wybudzenia\" generatora.\n",
    "Kiedy utuchamiamy generator, kod jest wykonywany do czasu napotkania słowa yield - wtedy wartość następująca po yield jest \"zwracana\" i generator zawiesza działanie, zeby je wznowić, należy wywołać metodę next() generatora - wtedy wywołanie zostanie wznowione aż do kolejnego napotkania yield.\n",
    "\n",
    "Kiedy instrukcje do wykonania zakończą się, wtedy generator wyrzuci wyjątek StopIteration"
   ]
  },
  {
   "cell_type": "code",
   "execution_count": null,
   "metadata": {},
   "outputs": [],
   "source": [
    "# definicja generatora\n",
    "def counter():\n",
    "    s = 0\n",
    "    while True:\n",
    "        yield s\n",
    "        s += 1\n",
    "    \n",
    "print counter\n",
    "# tworzymy instancję generatora\n",
    "count = counter()\n",
    "print count\n",
    "print count.next()  # pobieramy pierwszą wartosć generatora\n",
    "print count.next()\n",
    "print count.next()\n"
   ]
  },
  {
   "cell_type": "code",
   "execution_count": null,
   "metadata": {},
   "outputs": [],
   "source": [
    "def gen():\n",
    "    s = 0\n",
    "    yield s\n",
    "    x = 1\n",
    "    yield x\n",
    "    y = 2\n",
    "    yield y\n",
    "    \n",
    "g = gen()\n",
    "print g.next()\n",
    "print g.next()\n",
    "print g.next()\n",
    "print g.next()\n"
   ]
  },
  {
   "cell_type": "markdown",
   "metadata": {},
   "source": [
    "### Generator Expression\n",
    "\n",
    "Podobnie do Comprehensions funkcjonuje Generator Expression - to wyrażenie tworzy generator. \n",
    "Różnica pomiędzy List Comprehension to nawiasy () zamist [].\n",
    "\n",
    "Generator stworzony przez Generator expression jest od razu gotowy do użytku."
   ]
  },
  {
   "cell_type": "code",
   "execution_count": null,
   "metadata": {},
   "outputs": [],
   "source": [
    "gen = (i for i in range(10))\n",
    "print gen"
   ]
  },
  {
   "cell_type": "code",
   "execution_count": null,
   "metadata": {},
   "outputs": [],
   "source": [
    "print gen.next()\n",
    "print gen.next()\n",
    "print gen.next()"
   ]
  },
  {
   "cell_type": "markdown",
   "metadata": {},
   "source": [
    "tematy do omówienia:\n",
    "\n",
    "* late binding\n",
    "* domknięcia/free variables\n",
    "* funkcje wyższych rzędów + map, filter\n",
    "* dekoratory"
   ]
  }
 ],
 "metadata": {
  "kernelspec": {
   "display_name": "Python 2",
   "language": "python",
   "name": "python2"
  },
  "language_info": {
   "codemirror_mode": {
    "name": "ipython",
    "version": 2
   },
   "file_extension": ".py",
   "mimetype": "text/x-python",
   "name": "python",
   "nbconvert_exporter": "python",
   "pygments_lexer": "ipython2",
   "version": "2.7.13"
  }
 },
 "nbformat": 4,
 "nbformat_minor": 2
}
