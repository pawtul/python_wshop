{
 "cells": [
  {
   "cell_type": "markdown",
   "metadata": {},
   "source": [
    "## Definiowanie"
   ]
  },
  {
   "cell_type": "markdown",
   "metadata": {},
   "source": [
    "### Funkcje definiuje się przy pomocy słowa kluczowego def:\n",
    "\n",
    "def nazwa([parametry]):\n",
    "    \n",
    "    ...\n",
    "    \n",
    "    [return [wartość]]\n",
    "    \n",
    "jeżeli funkcja \"nie zwraca nic\" (nie ma nigdzie słowa kluczowego return) to funkcja zwraca None. Tak samo w przypadku kiedy funkcja ma wpisaną instrukcję return, ale nie ma podanej konkretnej wartosci."
   ]
  },
  {
   "cell_type": "code",
   "execution_count": null,
   "metadata": {
    "collapsed": true
   },
   "outputs": [],
   "source": [
    "def f():\n",
    "    return 2\n",
    "print f()\n",
    "\n",
    "print 10 * '='\n",
    "def f():\n",
    "    print 'f'\n",
    "\n",
    "print f()\n",
    "\n",
    "print 10 * '='\n",
    "def f():\n",
    "    print 'f'\n",
    "    return\n",
    "\n",
    "print f()"
   ]
  },
  {
   "cell_type": "markdown",
   "metadata": {},
   "source": [
    "Do funkcji można dodawać docstring - drobną dokumentację. jest to string umieszczony pod nazwą funkcji przy definicji:"
   ]
  },
  {
   "cell_type": "code",
   "execution_count": null,
   "metadata": {
    "collapsed": true
   },
   "outputs": [],
   "source": [
    "def f():\n",
    "    \"\"\"\n",
    "    funkcja nic nie robi\n",
    "    \"\"\"\n",
    "    \n",
    "print f.__doc__\n",
    "\n",
    "print \"=\" * 10\n",
    "def f():\n",
    "    \"funkcja nic nie robi\"\n",
    "    \n",
    "print f.__doc__\n"
   ]
  },
  {
   "cell_type": "markdown",
   "metadata": {},
   "source": [
    "Funkjci w pythonie nie przeciaża się - każda kolejna definicja funkcji przykrywa poprzednią funkcję o tej samej nazwie:"
   ]
  },
  {
   "cell_type": "code",
   "execution_count": null,
   "metadata": {
    "collapsed": true
   },
   "outputs": [],
   "source": [
    "def f():\n",
    "    print 'pierwsza'\n",
    "\n",
    "def f(arg):\n",
    "    print 'druga'\n",
    "\n",
    "    \n",
    "print f(0)\n",
    "print f()"
   ]
  },
  {
   "cell_type": "markdown",
   "metadata": {},
   "source": [
    "Ponieważ funkcje są \"first-class citizens\" (mają takie same właściwosci jak innezmienne) to możemy przypisać funkcję do zmiennej:"
   ]
  },
  {
   "cell_type": "code",
   "execution_count": null,
   "metadata": {
    "collapsed": true
   },
   "outputs": [],
   "source": [
    "def f():\n",
    "    print 'f'\n",
    "\n",
    "print f\n",
    "g = f\n",
    "print g"
   ]
  },
  {
   "cell_type": "code",
   "execution_count": null,
   "metadata": {
    "collapsed": true
   },
   "outputs": [],
   "source": [
    "f()\n",
    "g()"
   ]
  },
  {
   "cell_type": "markdown",
   "metadata": {},
   "source": [
    "oryginalną funkcję można usunąć i używać aliasu:"
   ]
  },
  {
   "cell_type": "code",
   "execution_count": null,
   "metadata": {
    "collapsed": true
   },
   "outputs": [],
   "source": [
    "del f\n",
    "g()"
   ]
  },
  {
   "cell_type": "code",
   "execution_count": null,
   "metadata": {
    "collapsed": true
   },
   "outputs": [],
   "source": [
    "# funkcja g ma zachowaną nazwę funkcji f\n",
    "\n",
    "print g.__name__"
   ]
  },
  {
   "cell_type": "markdown",
   "metadata": {},
   "source": [
    "Od strony interpretera tworzenie funkcji wygląda następująco:\n",
    "1. Python interpretuje kod funkcji jako code object\n",
    "2. Python tworzy obiekt funkcji do którego przypisuje poprzednio stworzony kod i inne argumenty - m. in. \\__name\\__, do którego przypisuje nazwę nadaną podczas definicji\n",
    "3. Python przypisuje obiekt funkcji do zmiennej o nazwie tej funkcji\n",
    "\n",
    "Nazwę funkcji można zmienic:"
   ]
  },
  {
   "cell_type": "code",
   "execution_count": null,
   "metadata": {
    "collapsed": true
   },
   "outputs": [],
   "source": [
    "g.__name__ = 'kot'\n",
    "print g"
   ]
  },
  {
   "cell_type": "markdown",
   "metadata": {},
   "source": [
    "również kod źródłowy można \"przeszczepić\":"
   ]
  },
  {
   "cell_type": "code",
   "execution_count": null,
   "metadata": {
    "collapsed": true
   },
   "outputs": [],
   "source": [
    "def f():\n",
    "    print 'f'\n",
    "    \n",
    "def g():\n",
    "    print 'g'\n",
    "    \n",
    "\n",
    "f()\n",
    "g()\n",
    "    \n",
    "f.func_code = g.func_code\n",
    "\n",
    "f()\n",
    "g()"
   ]
  },
  {
   "cell_type": "markdown",
   "metadata": {},
   "source": [
    "### Parametry\n",
    "To ciąg nazw zmiennych używanych w kodzie źródłowym funkcji:"
   ]
  },
  {
   "cell_type": "code",
   "execution_count": null,
   "metadata": {
    "collapsed": true
   },
   "outputs": [],
   "source": [
    "def f(a, b, c):\n",
    "    print a, b, c\n",
    "    \n",
    "f(1, 2, 3)"
   ]
  },
  {
   "cell_type": "markdown",
   "metadata": {},
   "source": [
    "Parametrom można przypisywać domyślne wartości - jednek każdy parametr deklarowany po paraetrze z wartoscią domyślną, również musi mieć taka wartosć"
   ]
  },
  {
   "cell_type": "code",
   "execution_count": null,
   "metadata": {
    "collapsed": true
   },
   "outputs": [],
   "source": [
    "def f(a, b, c=1):\n",
    "    pass\n",
    "\n",
    "print '=' * 10\n",
    "def f(a, b, c=9, d):\n",
    "    pass\n"
   ]
  },
  {
   "cell_type": "markdown",
   "metadata": {},
   "source": [
    "Do argumentów można się odwoływać poprzez nazwę"
   ]
  },
  {
   "cell_type": "code",
   "execution_count": null,
   "metadata": {
    "collapsed": true
   },
   "outputs": [],
   "source": [
    "def f(a, b, c):\n",
    "    print a, b, c\n",
    "    \n",
    "f(c=1, a=2, b=3)"
   ]
  },
  {
   "cell_type": "code",
   "execution_count": null,
   "metadata": {
    "collapsed": true
   },
   "outputs": [],
   "source": [
    "# wywołanie funkcji z wartosciami domyślnymi:\n",
    "def f(a, b, c=6):\n",
    "    print a, b, c\n",
    "    \n",
    "f(1, 3)"
   ]
  },
  {
   "cell_type": "markdown",
   "metadata": {},
   "source": [
    "Parametry mające wartosci domysłne nazywa się tez \"keywords\"\n",
    "\n",
    "\n",
    "W Pythonie można obsłuzyc zmienną liczbą argumentó∑ pozycyjnych i keywordsów.\n",
    "osiąga się to przez użycie \\* lub \\*\\*. \\*oznacza argumenty pozycyjne, a \\*\\* oznacza słowa kluczowe"
   ]
  },
  {
   "cell_type": "code",
   "execution_count": null,
   "metadata": {
    "collapsed": true
   },
   "outputs": [],
   "source": [
    "def f(*args, **kwargs):\n",
    "    print args, kwargs\n",
    "    \n",
    "f(1, 2, 3, 4, 5, 6, a=33, b='a', c='1.9')"
   ]
  },
  {
   "cell_type": "markdown",
   "metadata": {},
   "source": [
    "### UWAGA - Mutowalne wartosci domyślne\n",
    "Szczególną uwagę należy zachować przy ustawieniu typów mutowalnych jako argument domyślny funkcji - Python tworzy instancję tego obiektu **podczas definicji** a nei wywołąnia funkcji co może skutkować modyfikacją tego obiektu pomiędzy wywołaniami"
   ]
  },
  {
   "cell_type": "code",
   "execution_count": null,
   "metadata": {
    "collapsed": true
   },
   "outputs": [],
   "source": [
    "def f(l=[]):\n",
    "    l.append(3)\n",
    "    return l\n",
    "\n",
    "print f()\n",
    "print f([])\n",
    "print f()  # Wynik nie będzie taki jak oczekiwany"
   ]
  },
  {
   "cell_type": "markdown",
   "metadata": {},
   "source": [
    "Zamiast ustawiania typów mutowalnych jako wartosci domyśłne powinno się ustawiać je na NOne i wewnatrz funkcji je tworzyć"
   ]
  },
  {
   "cell_type": "code",
   "execution_count": null,
   "metadata": {
    "collapsed": true
   },
   "outputs": [],
   "source": [
    "def f(l=None):\n",
    "    if l is None:\n",
    "        l = []\n",
    "    l.append(3)\n",
    "    return l\n",
    "\n",
    "print f()\n",
    "print f([])\n",
    "print f()  # Teraz działa"
   ]
  },
  {
   "cell_type": "markdown",
   "metadata": {},
   "source": [
    "## Call by sharing - przekazywanie argumentów mutowalnych do funkcji\n",
    "W Pythonie argumenty przekazywane są metodą \"call by sharing\" - jest to podobne do przekazywania przez referencję w innych językach - póki do tej zmiennej nie zostanie przypisany nowy argument, modyfikujemy oryginalny obiekt"
   ]
  },
  {
   "cell_type": "code",
   "execution_count": null,
   "metadata": {
    "collapsed": true
   },
   "outputs": [],
   "source": [
    "def f(l):\n",
    "    l.append(3)\n",
    "    l = []\n",
    "    return l\n",
    "\n",
    "l = []\n",
    "print f(l)\n",
    "print(l)  # <- oryginalna lista zmodyfikowana\n",
    "\n",
    "print 10 * '='\n",
    "\n",
    "def f(l):\n",
    "    l = []\n",
    "    l.append(3)\n",
    "    return l\n",
    "\n",
    "l = []\n",
    "print f(l)\n",
    "print(l)"
   ]
  },
  {
   "cell_type": "markdown",
   "metadata": {},
   "source": [
    "Operatory +=, -=, \\*=... również modyfikują obiekty **mutowalne** w miejscu"
   ]
  },
  {
   "cell_type": "markdown",
   "metadata": {},
   "source": [
    "## Funkcje Anonimowe - lambdy\n",
    "\n",
    "lambdy definiujemy przy pomocy słowa kluczowego *lambda*\n",
    "Zaletą lambd jest to, ze mogą byc przekazywane jako argumenty do innych funkcji podczas definicji. Składnia jest następująca:\n",
    "\n",
    "lambda [argumenty]: [wartosć zwracana]"
   ]
  },
  {
   "cell_type": "code",
   "execution_count": null,
   "metadata": {
    "collapsed": true
   },
   "outputs": [],
   "source": [
    "def f(func):\n",
    "    print func()\n",
    "    \n",
    "f(lambda: 22)"
   ]
  },
  {
   "cell_type": "markdown",
   "metadata": {},
   "source": [
    "## Generatory\n",
    "Generator to funkcja, która zawiera w kodzie słowo yield (nie może zawierać return).\n",
    "Głównym celem generatora jest \"zawieszenie\" wykonania kodu do casu \"wybudzenia\" generatora.\n",
    "Kiedy utuchamiamy generator, kod jest wykonywany do czasu napotkania słowa yield - wtedy wartość następująca po yield jest \"zwracana\" i generator zawiesza działanie, zeby je wznowić, należy wywołać metodę next() generatora - wtedy wywołanie zostanie wznowione aż do kolejnego napotkania yield.\n",
    "\n",
    "Kiedy instrukcje do wykonania zakończą się, wtedy generator wyrzuci wyjątek StopIteration"
   ]
  },
  {
   "cell_type": "code",
   "execution_count": null,
   "metadata": {
    "collapsed": true
   },
   "outputs": [],
   "source": [
    "# definicja generatora\n",
    "def counter():\n",
    "    s = 0\n",
    "    while True:\n",
    "        yield s\n",
    "        s += 1\n",
    "    \n",
    "print counter\n",
    "# tworzymy instancję generatora\n",
    "count = counter()\n",
    "print count\n",
    "print count.next()  # pobieramy pierwszą wartosć generatora\n",
    "print count.next()\n",
    "print count.next()\n"
   ]
  },
  {
   "cell_type": "code",
   "execution_count": null,
   "metadata": {
    "collapsed": true
   },
   "outputs": [],
   "source": [
    "def gen():\n",
    "    s = 0\n",
    "    yield s\n",
    "    x = 1\n",
    "    yield x\n",
    "    y = 2\n",
    "    yield y\n",
    "    \n",
    "g = gen()\n",
    "print g.next()\n",
    "print g.next()\n",
    "print g.next()\n",
    "print g.next()\n"
   ]
  },
  {
   "cell_type": "markdown",
   "metadata": {},
   "source": [
    "Generatory mają równiez metodę send - pozwala przesłąć wartosć do generatora.\n",
    "Gdy generator zatrzymuje się na yield, wywołanie metody send spowoduje przekazanie obiektu do generatora i wywołanie metody next"
   ]
  },
  {
   "cell_type": "code",
   "execution_count": 7,
   "metadata": {
    "scrolled": true
   },
   "outputs": [
    {
     "name": "stdout",
     "output_type": "stream",
     "text": [
      "None\n",
      "x: 1\n",
      "x: None\n"
     ]
    }
   ],
   "source": [
    "def gen():\n",
    "    x = None\n",
    "    while True:\n",
    "        x = yield x    # oznacza to tyle - najpierw zostanie z'yeldowany' obiekt x, potem \n",
    "        print 'x:', x  # generator się zatrzyma i przesłąnie obiektu metodą send poskutkuje\n",
    "                       # przypisaniem nowego obiektu do zmiennej i iwykonanie kodu aż do\n",
    "                       # następnego zatrzymania - czyli z'yeldowania' x\n",
    "                    \n",
    "g = gen()\n",
    "y = next(g)\n",
    "print y\n",
    "g.send(1)\n",
    "g.next()"
   ]
  },
  {
   "cell_type": "markdown",
   "metadata": {},
   "source": [
    "Generatorów nie można wywoływać, kiedy są w trakcie wywołania (coś na kszatałt rekurencji)"
   ]
  },
  {
   "cell_type": "code",
   "execution_count": 10,
   "metadata": {},
   "outputs": [
    {
     "ename": "ValueError",
     "evalue": "generator already executing",
     "output_type": "error",
     "traceback": [
      "\u001b[0;31m---------------------------------------------------------------------------\u001b[0m",
      "\u001b[0;31mValueError\u001b[0m                                Traceback (most recent call last)",
      "\u001b[0;32m<ipython-input-10-60c9feec4172>\u001b[0m in \u001b[0;36m<module>\u001b[0;34m()\u001b[0m\n\u001b[1;32m      7\u001b[0m \u001b[0mg\u001b[0m \u001b[0;34m=\u001b[0m \u001b[0mgen\u001b[0m\u001b[0;34m(\u001b[0m\u001b[0;34m)\u001b[0m\u001b[0;34m\u001b[0m\u001b[0m\n\u001b[1;32m      8\u001b[0m \u001b[0mnext\u001b[0m\u001b[0;34m(\u001b[0m\u001b[0mg\u001b[0m\u001b[0;34m)\u001b[0m  \u001b[0;31m# przeskakujemy do yield\u001b[0m\u001b[0;34m\u001b[0m\u001b[0m\n\u001b[0;32m----> 9\u001b[0;31m \u001b[0mg\u001b[0m\u001b[0;34m.\u001b[0m\u001b[0msend\u001b[0m\u001b[0;34m(\u001b[0m\u001b[0mg\u001b[0m\u001b[0;34m)\u001b[0m\u001b[0;34m\u001b[0m\u001b[0m\n\u001b[0m",
      "\u001b[0;32m<ipython-input-10-60c9feec4172>\u001b[0m in \u001b[0;36mgen\u001b[0;34m()\u001b[0m\n\u001b[1;32m      2\u001b[0m     \u001b[0;32mwhile\u001b[0m \u001b[0mTrue\u001b[0m\u001b[0;34m:\u001b[0m\u001b[0;34m\u001b[0m\u001b[0m\n\u001b[1;32m      3\u001b[0m         \u001b[0mgenerator\u001b[0m \u001b[0;34m=\u001b[0m \u001b[0;32myield\u001b[0m  \u001b[0;31m# przyjmujemy obiekt z zewnątrz\u001b[0m\u001b[0;34m\u001b[0m\u001b[0m\n\u001b[0;32m----> 4\u001b[0;31m         \u001b[0mnext\u001b[0m\u001b[0;34m(\u001b[0m\u001b[0mgenerator\u001b[0m\u001b[0;34m)\u001b[0m  \u001b[0;31m# bierzemy kolejny element otrzymanego generatora\u001b[0m\u001b[0;34m\u001b[0m\u001b[0m\n\u001b[0m\u001b[1;32m      5\u001b[0m \u001b[0;34m\u001b[0m\u001b[0m\n\u001b[1;32m      6\u001b[0m \u001b[0;34m\u001b[0m\u001b[0m\n",
      "\u001b[0;31mValueError\u001b[0m: generator already executing"
     ]
    }
   ],
   "source": [
    "def gen():\n",
    "    while True:\n",
    "        generator = yield  # przyjmujemy obiekt z zewnątrz\n",
    "        next(generator)  # bierzemy kolejny element otrzymanego generatora\n",
    "        \n",
    "\n",
    "g = gen()\n",
    "next(g)  # przeskakujemy do yield\n",
    "g.send(g)"
   ]
  },
  {
   "cell_type": "markdown",
   "metadata": {},
   "source": [
    "### Generator Expression\n",
    "\n",
    "Podobnie do Comprehensions funkcjonuje Generator Expression - to wyrażenie tworzy generator. \n",
    "Różnica pomiędzy List Comprehension to nawiasy () zamist [].\n",
    "\n",
    "Generator stworzony przez Generator expression jest od razu gotowy do użytku."
   ]
  },
  {
   "cell_type": "code",
   "execution_count": null,
   "metadata": {
    "collapsed": true
   },
   "outputs": [],
   "source": [
    "gen = (i for i in range(10))\n",
    "print gen"
   ]
  },
  {
   "cell_type": "code",
   "execution_count": 1,
   "metadata": {},
   "outputs": [
    {
     "ename": "NameError",
     "evalue": "name 'gen' is not defined",
     "output_type": "error",
     "traceback": [
      "\u001b[0;31m---------------------------------------------------------------------------\u001b[0m",
      "\u001b[0;31mNameError\u001b[0m                                 Traceback (most recent call last)",
      "\u001b[0;32m<ipython-input-1-15261b4460f0>\u001b[0m in \u001b[0;36m<module>\u001b[0;34m()\u001b[0m\n\u001b[0;32m----> 1\u001b[0;31m \u001b[0;32mprint\u001b[0m \u001b[0mgen\u001b[0m\u001b[0;34m.\u001b[0m\u001b[0mnext\u001b[0m\u001b[0;34m(\u001b[0m\u001b[0;34m)\u001b[0m\u001b[0;34m\u001b[0m\u001b[0m\n\u001b[0m\u001b[1;32m      2\u001b[0m \u001b[0;32mprint\u001b[0m \u001b[0mgen\u001b[0m\u001b[0;34m.\u001b[0m\u001b[0mnext\u001b[0m\u001b[0;34m(\u001b[0m\u001b[0;34m)\u001b[0m\u001b[0;34m\u001b[0m\u001b[0m\n\u001b[1;32m      3\u001b[0m \u001b[0;32mprint\u001b[0m \u001b[0mgen\u001b[0m\u001b[0;34m.\u001b[0m\u001b[0mnext\u001b[0m\u001b[0;34m(\u001b[0m\u001b[0;34m)\u001b[0m\u001b[0;34m\u001b[0m\u001b[0m\n",
      "\u001b[0;31mNameError\u001b[0m: name 'gen' is not defined"
     ]
    }
   ],
   "source": [
    "print gen.next()\n",
    "print gen.next()\n",
    "print gen.next()"
   ]
  },
  {
   "cell_type": "markdown",
   "metadata": {},
   "source": [
    "Ponieważ wartosci \"z otoczenia\" brane są dopiero w czasie wykonania funkcji a nie definicji, łatwo mozna nadziać sie na pewien problem:"
   ]
  },
  {
   "cell_type": "code",
   "execution_count": 14,
   "metadata": {},
   "outputs": [
    {
     "name": "stdout",
     "output_type": "stream",
     "text": [
      "12\n",
      "12\n",
      "12\n",
      "12\n",
      "==================================================\n",
      "12\n",
      "12\n",
      "12\n",
      "12\n",
      "==================================================\n",
      "<function mult at 0x10668bde8> 12\n",
      "<function mult at 0x10668bf50> 12\n",
      "<function mult at 0x10668b410> 12\n",
      "<function mult at 0x10668b8c0> 12\n"
     ]
    }
   ],
   "source": [
    "def multiplater_factory():\n",
    "    return [lambda x: x * i for i in range(1, 5)]  # oczekujemy, ze zwróci listę 4 funkcji,\n",
    "                                                   # z których każda będzie mnożyć argument\n",
    "                                                   # przez inną liczbę\n",
    "\n",
    "multipliers = multiplater_factory()\n",
    "for f in multipliers:\n",
    "    print f(3)  # lipa\n",
    "    \n",
    "    \n",
    "print 50 * '='\n",
    "# to co wcześniej tylko nie przez list comprehension\n",
    "def multiplater_factory():\n",
    "    lista = []\n",
    "    for i in range(1, 5):\n",
    "        lista.append(lambda x: x * i)\n",
    "    return lista\n",
    "\n",
    "multipliers = multiplater_factory()\n",
    "for f in multipliers:\n",
    "    print f(3)  # znowu lipa\n",
    "    \n",
    "\n",
    "print 50 * '='\n",
    "# to co wcześniej tylko nie przez lambdy\n",
    "def multiplater_factory():\n",
    "    lista = []\n",
    "    for i in range(1, 5):\n",
    "        def mult(x):\n",
    "            return x * i\n",
    "        lista.append(mult)\n",
    "    return lista\n",
    "\n",
    "multipliers = multiplater_factory()\n",
    "for f in multipliers:\n",
    "    print f, f(3)  # znowu lipa - a funkcje rózne"
   ]
  },
  {
   "cell_type": "markdown",
   "metadata": {},
   "source": [
    "Funkcje pobierają wartosći zmiennych spoza swojego bloku podczas wykonania a nie definicji"
   ]
  },
  {
   "cell_type": "code",
   "execution_count": 15,
   "metadata": {},
   "outputs": [
    {
     "name": "stdout",
     "output_type": "stream",
     "text": [
      "4\n"
     ]
    }
   ],
   "source": [
    "x = 3\n",
    "x = 4\n",
    "def f():\n",
    "    print x\n",
    "    \n",
    "f()"
   ]
  },
  {
   "cell_type": "code",
   "execution_count": 16,
   "metadata": {},
   "outputs": [
    {
     "name": "stdout",
     "output_type": "stream",
     "text": [
      "5\n"
     ]
    }
   ],
   "source": [
    "x = 3\n",
    "x = 4\n",
    "def f():\n",
    "    print x\n",
    "   \n",
    "x = 5\n",
    "\n",
    "f()"
   ]
  },
  {
   "cell_type": "code",
   "execution_count": 18,
   "metadata": {},
   "outputs": [
    {
     "name": "stdout",
     "output_type": "stream",
     "text": [
      "5\n"
     ]
    }
   ],
   "source": [
    "def f():\n",
    "    print x  # gdyby brało wartosć podczas definicji to powinien być bład\n",
    "   \n",
    "x = 5\n",
    "\n",
    "f()"
   ]
  },
  {
   "cell_type": "markdown",
   "metadata": {},
   "source": [
    "Żeby sobie z tym poradzić, trzeba w jakiś sposub \"zaprosić\" zmienną do zakresu funkcji - np, przez dawanie jej jako argumentu domyślnego podczas definicji"
   ]
  },
  {
   "cell_type": "code",
   "execution_count": 22,
   "metadata": {},
   "outputs": [
    {
     "name": "stdout",
     "output_type": "stream",
     "text": [
      " <function mult at 0x10668ba28> 3\n",
      "<function mult at 0x10668bf50> 6\n",
      "<function mult at 0x10668b9b0> 9\n",
      "<function mult at 0x10668baa0> 12\n"
     ]
    }
   ],
   "source": [
    "def multiplater_factory():\n",
    "    lista = []\n",
    "    for i in range(1, 5):\n",
    "        def mult(x, i=i):  # <- tutaj zmiana\n",
    "            return x * i\n",
    "        lista.append(mult)\n",
    "    return lista\n",
    "\n",
    "multipliers = multiplater_factory()\n",
    "for f in multipliers:\n",
    "    print f, f(3)  # Działa"
   ]
  },
  {
   "cell_type": "markdown",
   "metadata": {},
   "source": [
    "## Domknięcia\n",
    "\n",
    "zakres okalający funkcje to jej domknięcie, a zmienne w tym zakresie to free-variables (nie są skojarzone z zakresem lokalnym funkcji (bound) )"
   ]
  },
  {
   "cell_type": "markdown",
   "metadata": {},
   "source": [
    "## Dekoratory\n",
    "\n",
    "Wiemy, że funkcje to first-class citizens - czyli mozna je m.in przekazywać jako argumenty do innych funkcji. Wykorzystajmy to"
   ]
  },
  {
   "cell_type": "code",
   "execution_count": 36,
   "metadata": {},
   "outputs": [
    {
     "name": "stdout",
     "output_type": "stream",
     "text": [
      "==================================================dekorator v 1.0\n",
      "teraz wywoluje:  g\n",
      "funkcja g\n",
      "koniec wywolania, wartosc zwrocona:  23\n",
      "==================================================dekorator v 1.1\n",
      "wywoluje:  <function g at 0x1066bff50>\n",
      "funkcja g\n",
      "otrzymana wartosc:  23\n",
      "==================================================dekoratorowanie oryginału\n",
      "wywoluje:  <function g at 0x1066bff50>\n",
      "funkcja g\n",
      "otrzymana wartosc:  23\n",
      "==================================================dekorator @\n",
      "wywoluje:  <function h at 0x1066bf5f0>\n",
      "ha ha ha\n",
      "otrzymana wartosc:  55\n",
      "==================================================dekorator - dodawanie argumentów\n",
      "funkcja_koks\n",
      "funkcja koks:  <function suma at 0x1066a88c0> (1, 3) {}\n",
      "koniec funkcji koksa:  4\n",
      "4\n",
      "==================================================dekorator - functools.wraps\n",
      "suma\n"
     ]
    }
   ],
   "source": [
    "print \"=\" * 50 + \"dekorator v 1.0\"\n",
    "\n",
    "def f(func):\n",
    "    print \"teraz wywoluje: \", func.__name__\n",
    "    val = func()\n",
    "    print \"koniec wywolania, wartosc zwrocona: \", val\n",
    "    return val\n",
    "\n",
    "def g():\n",
    "    print 'funkcja g'\n",
    "    return 23\n",
    "\n",
    "var = f(g)\n",
    "\n",
    "print \"=\" * 50 + \"dekorator v 1.1\"\n",
    "\n",
    "# w ten sposób stworzylismy sobie dekorator - funkcję,\n",
    "# która dodała jakąs funkcjonalność do innej fukncji - jest to bardzo prymitywna forma\n",
    "\n",
    "# czasami jest tak, zę funkcja dekorująca jest użyteczna - np. dodaje śledzenie wywołania\n",
    "# (jak ta funkcja wcześniej) - niestety poprzednią funkcja musimy za każdym razem wywoływać\n",
    "# kiedy chcemy, żeby wywołanie było rejestrowane - a nie zawsze jest to pożądane\n",
    "\n",
    "# Zamiast tego, możemy stworzyć funkcje, która przyjmuję jedną funkcją i zwraca inną,\n",
    "# ale wywołującą naszą pierwszą funkcję:\n",
    "\n",
    "def dekorator(func):\n",
    "    def podrasowana_funkcja():\n",
    "        print 'wywoluje: ', func\n",
    "        var = func()\n",
    "        print 'otrzymana wartosc: ', var\n",
    "        return var\n",
    "    return podrasowana_funkcja\n",
    "\n",
    "podrasowane_g = dekorator(g)\n",
    "podrasowane_g()\n",
    "\n",
    "print '=' * 50  + \"dekoratorowanie oryginału\"\n",
    "# jezeli chcemy \"nadpisać\" funkcję g - nie ma problemu:\n",
    "g = dekorator(g)\n",
    "g()  # teraz funkcja g jest podrasowana \n",
    "\n",
    "print '=' * 50 + \"dekorator @\"\n",
    "# żeby za każdym razem nie dekorować ręcznie - dodany został operator @:\n",
    "\n",
    "@dekorator\n",
    "def h():\n",
    "    print 'ha ha ha'\n",
    "    return 55\n",
    "\n",
    "h()\n",
    "\n",
    "\n",
    "print '=' * 50 + \"dekorator - dodawanie argumentów\"\n",
    "# Mamy przypadek kiedy dekorowana funkcja nie przyjmuje argumentów - \n",
    "# a to raczej rzadki przypadek. Dodamy obsługę argumentów\n",
    "\n",
    "# Generalnie, żeby dekorator był uzyteczny dla danej funkcji,\n",
    "# powinien przyjmować takie same argumenty - lub ogólnie - *args i **kwargs\n",
    "\n",
    "def dekorator(func):\n",
    "    def funkcja_koks(*args, **kwargs):\n",
    "        print 'funkcja koks: ', func, args, kwargs\n",
    "        var = func(*args, **kwargs)\n",
    "        print 'koniec funkcji koksa: ', var\n",
    "        return var\n",
    "    return funkcja_koks\n",
    "\n",
    "\n",
    "@dekorator\n",
    "def suma(a, b):\n",
    "    return a + b\n",
    "\n",
    "print suma.__name__  # to już inna funkcja\n",
    "print suma(1, 3)     # ale działa tak samo\n",
    "\n",
    "# suma(1, 2, 3, 4, 5)  # czyżby? - przyjęła wszystkie argumenty\n",
    "# suma(a=1, b=2, c=3)  # słowa kluczowe też...\n",
    "\n",
    "# niestety to inna funkcja, ale każdy kto spojrzy na definicję będzie wiedział\n",
    "# jakie parametry przekazać\n",
    "\n",
    "print '=' * 50 + \"dekorator - functools.wraps\"\n",
    "# żeby zachować oryginale atrybuty funkcji, np. __doc__ w module functools jest dekorator wraps:\n",
    "# którym dekorujemy funkcję_koksa\n",
    "\n",
    "from functools import wraps\n",
    "\n",
    "def dekorator(func):\n",
    "    @wraps(func)\n",
    "    def funkcja_koks(*args, **kwargs):\n",
    "        print 'funkcja koks: ', func, args, kwargs\n",
    "        var = func(*args, **kwargs)\n",
    "        print 'koniec funkcji koksa: ', var\n",
    "        return var\n",
    "    return funkcja_koks\n",
    "\n",
    "\n",
    "@dekorator\n",
    "def suma(a, b):\n",
    "    return a + b\n",
    "\n",
    "print suma.__name__  # ta sama nazwa"
   ]
  },
  {
   "cell_type": "markdown",
   "metadata": {},
   "source": [
    "### Dekoratory sparametryzowane\n",
    "Dekoratory można sparametryzować, żeby \"wyciągnąć\" z nich jeszcze więcej np:"
   ]
  },
  {
   "cell_type": "code",
   "execution_count": 13,
   "metadata": {},
   "outputs": [
    {
     "name": "stdout",
     "output_type": "stream",
     "text": [
      "parametryzacja:  1 2\n",
      "poczatek wywolania:  <function suma at 0x7fe284aa56e0>\n",
      "po wywolaniu\n",
      "4\n",
      "==================================================\n",
      "parametryzacja:  1 2\n",
      "poczatek wywolania:  <function suma at 0x7fe284ad0140>\n",
      "po wywolaniu\n",
      "4\n",
      "==================================================\n",
      "parametryzacja:  None None\n",
      "poczatek wywolania:  <function suma at 0x7fe284ad0758>\n",
      "po wywolaniu\n",
      "4\n",
      "==================================================asdasd\n",
      "parametryzacja:  1 2\n",
      "poczatek wywolania:  <function suma at 0x7fe284ad0d70>\n",
      "po wywolaniu\n",
      "4\n",
      "parametryzacja:  None None\n",
      "poczatek wywolania:  <function suma at 0x7fe284ad0f50>\n",
      "po wywolaniu\n",
      "4\n"
     ]
    }
   ],
   "source": [
    "# @log_do_pliku(plik='file.log')\n",
    "# def restart_bsc():\n",
    "#     pass\n",
    "\n",
    "\n",
    "# takie dekoratory możemy robić przy pomocy klas, albo funkcji\n",
    "from functools import wraps\n",
    "\n",
    "class Dekorator(object):\n",
    "    def __init__(self, parametr1=None, parametr2=None):\n",
    "        print 'parametryzacja: ', parametr1, parametr2\n",
    "        self.p1 = parametr1\n",
    "        self.p2 = parametr2\n",
    "    \n",
    "    def __call__(self, func):  # Python nie sprawdza czy dekorator jest funkcją czy klasą, tylko wywołuje ten obiekt\n",
    "        @wraps(func)           # trzeba przeciążyć ()\n",
    "        def inner(*a, **kw):\n",
    "            print 'poczatek wywolania: ', func\n",
    "            var = func(*a, **kw)\n",
    "            print 'po wywolaniu'\n",
    "            return var\n",
    "        return inner\n",
    "        \n",
    "\n",
    "@Dekorator(1, 2)\n",
    "def suma(a, b):\n",
    "    return a + b\n",
    "\n",
    "print suma(1, 3)\n",
    "\n",
    "\n",
    "print 50 * '='\n",
    "# ten sam efekt można uzyskać używajac funkcji:\n",
    "def Dekorator(parametr1=None, parametr2=None):\n",
    "    def wlasciwy_dekorator(func):\n",
    "        print 'parametryzacja: ', parametr1, parametr2\n",
    "        @wraps(func)\n",
    "        def inner(*a, **kw): # to będzie ulepszona funkcja, ale jeszcze nie jest gotowa w 100% - nie ma pewnosci co do func\n",
    "            print 'poczatek wywolania: ', func\n",
    "            var = func(*a, **kw)\n",
    "            print 'po wywolaniu'\n",
    "            return var\n",
    "        return inner\n",
    "    return wlasciwy_dekorator\n",
    "    \n",
    "    \n",
    "@Dekorator(parametr1=1, parametr2=2)\n",
    "def suma(a, b):\n",
    "    return a + b\n",
    "\n",
    "print suma(1, 3)\n",
    "\n",
    "\n",
    "print 50 * '='\n",
    "@Dekorator()  # problem jest taki, że zawsze trzeba tutaj tę funkcje Dekorator wywołać - inaczej będzie bład\n",
    "def suma(a, b):\n",
    "    return a + b\n",
    "\n",
    "print suma(1, 3)\n",
    "\n",
    "# @Dekorator  # teraz będzie błąd\n",
    "# def suma(a, b):\n",
    "#     return a + b\n",
    "\n",
    "# print suma(1, 3)\n",
    "\n",
    "\n",
    "print 50 * '=' + 'asdasd'\n",
    "# parametry i funkcja w jednym miejscu\n",
    "def Dekorator(func=None, parametr1=None, parametr2=None):\n",
    "    def wlasciwy_dekorator(func):\n",
    "        print 'parametryzacja: ', parametr1, parametr2\n",
    "        @wraps(func)\n",
    "        def inner(*a, **kw): # to będzie ulepszona funkcja, ale jeszcze nie jest gotowa w 100% - nie ma pewnosci co do func\n",
    "            print 'poczatek wywolania: ', func\n",
    "            var = func(*a, **kw)\n",
    "            print 'po wywolaniu'\n",
    "            return var\n",
    "        return inner\n",
    "    if func is not None:\n",
    "        return wlasciwy_dekorator(func)\n",
    "    else:\n",
    "        return wlasciwy_dekorator\n",
    "    \n",
    "    \n",
    "@Dekorator(parametr1=1, parametr2=2)  # parametry możńa przekazywać tylko jako słowa kluczowe\n",
    "def suma(a, b):\n",
    "    return a + b\n",
    "\n",
    "print suma(1, 3)\n",
    "\n",
    "\n",
    "@Dekorator  # bez parametrów funkcja jest dekorowana od razu\n",
    "def suma(a, b):\n",
    "    return a + b\n",
    "\n",
    "print suma(1, 3)"
   ]
  },
  {
   "cell_type": "markdown",
   "metadata": {},
   "source": [
    "## Funkcje wyższych rzędów\n",
    "\n",
    "Funkcje, które przyjmują inne funkcje jako parametry są zwane funkcjami wyższego rzędu.\n",
    "Takie funkcje to m. in. map i filter"
   ]
  },
  {
   "cell_type": "code",
   "execution_count": 15,
   "metadata": {},
   "outputs": [
    {
     "name": "stdout",
     "output_type": "stream",
     "text": [
      "Help on built-in function map in module __builtin__:\n",
      "\n",
      "map(...)\n",
      "    map(function, sequence[, sequence, ...]) -> list\n",
      "    \n",
      "    Return a list of the results of applying the function to the items of\n",
      "    the argument sequence(s).  If more than one sequence is given, the\n",
      "    function is called with an argument list consisting of the corresponding\n",
      "    item of each sequence, substituting None for missing values when not all\n",
      "    sequences have the same length.  If the function is None, return a list of\n",
      "    the items of the sequence (or a list of tuples if more than one sequence).\n",
      "\n",
      "None\n",
      "Help on built-in function filter in module __builtin__:\n",
      "\n",
      "filter(...)\n",
      "    filter(function or None, sequence) -> list, tuple, or string\n",
      "    \n",
      "    Return those items of sequence for which function(item) is true.  If\n",
      "    function is None, return the items that are true.  If sequence is a tuple\n",
      "    or string, return the same type, else return a list.\n",
      "\n",
      "None\n"
     ]
    }
   ],
   "source": [
    "print help(map)\n",
    "print help(filter)\n"
   ]
  },
  {
   "cell_type": "code",
   "execution_count": 21,
   "metadata": {},
   "outputs": [
    {
     "name": "stdout",
     "output_type": "stream",
     "text": [
      "[0, 1, 4, 9]\n",
      "[1, 9]\n",
      "[0, 1, 4, 9, 16]\n",
      "[1, 9]\n",
      "[1, 9]\n"
     ]
    }
   ],
   "source": [
    "x = map(lambda x: x**2, range(4))\n",
    "print x\n",
    "print filter(lambda x: x%2, x)\n",
    "\n",
    "# praktyce to samo uzyskuje się uzywając list comprehension:\n",
    "x = [i**2 for i in range(5)]\n",
    "print x\n",
    "print [i for i in x if i%2]\n",
    "\n",
    "# lub krócej:\n",
    "print [i**2 for i in range(5) if i%2]"
   ]
  },
  {
   "cell_type": "markdown",
   "metadata": {},
   "source": [
    "### Inne przydatne funkcje"
   ]
  },
  {
   "cell_type": "code",
   "execution_count": null,
   "metadata": {
    "collapsed": true
   },
   "outputs": [],
   "source": []
  }
 ],
 "metadata": {
  "kernelspec": {
   "display_name": "Python 2",
   "language": "python",
   "name": "python2"
  },
  "language_info": {
   "codemirror_mode": {
    "name": "ipython",
    "version": 2
   },
   "file_extension": ".py",
   "mimetype": "text/x-python",
   "name": "python",
   "nbconvert_exporter": "python",
   "pygments_lexer": "ipython2",
   "version": "2.7.12"
  }
 },
 "nbformat": 4,
 "nbformat_minor": 2
}
