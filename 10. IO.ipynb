{
 "cells": [
  {
   "cell_type": "markdown",
   "metadata": {},
   "source": [
    "## praca z plikami\n",
    "\n",
    "- [prezentacja ze szkolenia w ericpol]"
   ]
  },
  {
   "cell_type": "markdown",
   "metadata": {},
   "source": [
    "## Ciekawostki\n",
    "\n",
    "stdin, stdout i stderr są plikami i znajdują się w module sys"
   ]
  },
  {
   "cell_type": "code",
   "execution_count": null,
   "metadata": {},
   "outputs": [],
   "source": [
    "import sys\n",
    "print sys.stdin\n",
    "print sys.stdout\n",
    "print sys.stderr"
   ]
  },
  {
   "cell_type": "code",
   "execution_count": 1,
   "metadata": {},
   "outputs": [
    {
     "name": "stdout",
     "output_type": "stream",
     "text": [
      "ASD\n",
      "asd\n"
     ]
    }
   ],
   "source": [
    "## zachowanie stdout/err można przechwycić\n",
    "import sys\n",
    "\n",
    "class Out(object):\n",
    "    out = sys.stdout\n",
    "    def write(self, text):\n",
    "        self.out.write(text.upper())\n",
    "        \n",
    "sys.stdout = Out()\n",
    "print 'asd'\n",
    "sys.stdout = Out.out\n",
    "print 'asd'"
   ]
  },
  {
   "cell_type": "code",
   "execution_count": 3,
   "metadata": {},
   "outputs": [
    {
     "name": "stdout",
     "output_type": "stream",
     "text": [
      "out content\n",
      "sadf\n",
      "qwe\n",
      "\n",
      "========\n"
     ]
    }
   ],
   "source": [
    "## i np. zrobić z tego contextmanager\n",
    "from io import BytesIO\n",
    "import sys\n",
    "\n",
    "class OutWrapper(object):\n",
    "    def __enter__(self):\n",
    "        self.out = sys.stdout\n",
    "        newout = BytesIO()\n",
    "        sys.stdout = newout\n",
    "        return newout\n",
    "    \n",
    "    def __exit__(self, *exc_details):\n",
    "        sys.stdout = self.out\n",
    "        return True\n",
    "\n",
    "    \n",
    "with OutWrapper() as out:  # zmienna out jest tylko po to, zeby potem podejrzeć tekst\n",
    "    print 'sadf'\n",
    "    print 'qwe'\n",
    "    \n",
    "out.seek(0)\n",
    "print 'out content'\n",
    "print out.read()\n",
    "\n",
    "\n",
    "\n",
    "print '========'\n",
    "with OutWrapper():\n",
    "    print 'sadf'\n",
    "    print 'qwe'\n"
   ]
  },
  {
   "cell_type": "markdown",
   "metadata": {},
   "source": [
    "W przypadku podmienienia stdout, będzie tez podmieniony gdy zaimportowane moduły będą 'printowały'"
   ]
  }
 ],
 "metadata": {
  "kernelspec": {
   "display_name": "Python 2",
   "language": "python",
   "name": "python2"
  },
  "language_info": {
   "codemirror_mode": {
    "name": "ipython",
    "version": 2
   },
   "file_extension": ".py",
   "mimetype": "text/x-python",
   "name": "python",
   "nbconvert_exporter": "python",
   "pygments_lexer": "ipython2",
   "version": "2.7.13"
  }
 },
 "nbformat": 4,
 "nbformat_minor": 2
}
