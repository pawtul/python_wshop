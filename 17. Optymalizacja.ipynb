{
 "cells": [
  {
   "cell_type": "markdown",
   "metadata": {},
   "source": [
    "## Profilowanie CPU\n",
    "\n",
    "- dekorowanie funkcji z użyciem funkcji time.time()\n",
    "- cProfile i pstats\n",
    "- line_profiler\n",
    "- %timeit\n",
    "- dis"
   ]
  },
  {
   "cell_type": "code",
   "execution_count": 7,
   "metadata": {
    "collapsed": true
   },
   "outputs": [],
   "source": [
    "# cProfiler wyświetla informacje o czaie wywołąnia fukncji\n",
    "\n",
    "# profiling/ex1.py\n",
    "def has_item(collection, item):\n",
    "    found = False\n",
    "    for i in collection:\n",
    "        if item == i:\n",
    "            found = True\n",
    "    return found\n",
    "\n",
    "\n",
    "#collection = range(100000000)\n",
    "#print has_item(collection, 100000000)\n",
    "\n",
    "\n",
    "\n",
    "\n",
    "# profiling/ex1a.py\n",
    "def has_item(collection, item):\n",
    "    return item in collection\n",
    "\n",
    "\n",
    "#collection = range(100000000)\n",
    "#print has_item(collection, 100000000)\n",
    "\n",
    "\n",
    "\n",
    "# profiling/ex1.sh\n",
    "# python -m cProfile ex1.py\n",
    "\n",
    "# python -m cProfile ex1a.py"
   ]
  },
  {
   "cell_type": "code",
   "execution_count": 9,
   "metadata": {},
   "outputs": [
    {
     "ename": "NameError",
     "evalue": "name 'profile' is not defined",
     "output_type": "error",
     "traceback": [
      "\u001b[0;31m---------------------------------------------------------------------------\u001b[0m",
      "\u001b[0;31mNameError\u001b[0m                                 Traceback (most recent call last)",
      "\u001b[0;32m<ipython-input-9-4e0c4f850954>\u001b[0m in \u001b[0;36m<module>\u001b[0;34m()\u001b[0m\n\u001b[1;32m      3\u001b[0m \u001b[0;31m# do wyprofilowania funkcji, należy ją udekorować dekoratorem @profile i uruchomić przez kernprof\u001b[0m\u001b[0;34m\u001b[0m\u001b[0;34m\u001b[0m\u001b[0m\n\u001b[1;32m      4\u001b[0m \u001b[0;34m\u001b[0m\u001b[0m\n\u001b[0;32m----> 5\u001b[0;31m \u001b[0;34m@\u001b[0m\u001b[0mprofile\u001b[0m  \u001b[0;31m# ten dekorator nie jest z nikąd importowany\u001b[0m\u001b[0;34m\u001b[0m\u001b[0m\n\u001b[0m\u001b[1;32m      6\u001b[0m \u001b[0;32mdef\u001b[0m \u001b[0mhas_item\u001b[0m\u001b[0;34m(\u001b[0m\u001b[0mcollection\u001b[0m\u001b[0;34m,\u001b[0m \u001b[0mitem\u001b[0m\u001b[0;34m)\u001b[0m\u001b[0;34m:\u001b[0m\u001b[0;34m\u001b[0m\u001b[0m\n\u001b[1;32m      7\u001b[0m     \u001b[0mfound\u001b[0m \u001b[0;34m=\u001b[0m \u001b[0mFalse\u001b[0m\u001b[0;34m\u001b[0m\u001b[0m\n",
      "\u001b[0;31mNameError\u001b[0m: name 'profile' is not defined"
     ]
    }
   ],
   "source": [
    "# profiling/ex2.py\n",
    "# line profiler wyświetla czasy wykonania poszczagólnych linii\n",
    "# do wyprofilowania funkcji, należy ją udekorować dekoratorem @profile i uruchomić przez kernprof\n",
    "\n",
    "@profile  # ten dekorator nie jest z nikąd importowany\n",
    "def has_item(collection, item):\n",
    "    found = False\n",
    "    for i in collection:\n",
    "        if item == i:\n",
    "            found = True\n",
    "    return found\n",
    "\n",
    "\n",
    "#collection = range(100000000)\n",
    "#print has_item(collection, 100000000)\n",
    "\n",
    "\n",
    "# profiling/ex2.sh\n",
    "#kernprof -l -v ex2.py"
   ]
  },
  {
   "cell_type": "code",
   "execution_count": 20,
   "metadata": {},
   "outputs": [
    {
     "name": "stdout",
     "output_type": "stream",
     "text": [
      "1 loop, best of 3: 467 ms per loop\n"
     ]
    }
   ],
   "source": [
    "# %timeit w IPythonie pozwala na profilowanie w sesji interaktywnego interpretera\n",
    "\n",
    "%timeit has_item(range(10000000), 10000000)"
   ]
  },
  {
   "cell_type": "code",
   "execution_count": 15,
   "metadata": {},
   "outputs": [
    {
     "name": "stdout",
     "output_type": "stream",
     "text": [
      "  6           0 LOAD_CONST               1 (1)\n",
      "              3 STORE_FAST               0 (x)\n",
      "\n",
      "  7           6 BUILD_LIST               0\n",
      "              9 STORE_FAST               1 (y)\n",
      "\n",
      "  8          12 LOAD_FAST                1 (y)\n",
      "             15 LOAD_ATTR                0 (append)\n",
      "             18 LOAD_FAST                0 (x)\n",
      "             21 CALL_FUNCTION            1\n",
      "             24 POP_TOP             \n",
      "\n",
      "  9          25 LOAD_FAST                1 (y)\n",
      "             28 PRINT_ITEM          \n",
      "             29 PRINT_NEWLINE       \n",
      "\n",
      " 10          30 LOAD_FAST                0 (x)\n",
      "             33 LOAD_CONST               2 (2)\n",
      "             36 BINARY_POWER        \n",
      "             37 RETURN_VALUE        \n"
     ]
    }
   ],
   "source": [
    "# dis słuzy do deasemblacji kodu pythonowego na instrukcje dla maszyny wirtualnej\n",
    "import dis\n",
    "\n",
    "\n",
    "def f():\n",
    "    x = 1\n",
    "    y = []\n",
    "    y.append(x)\n",
    "    print y\n",
    "    return x ** 2\n",
    "\n",
    "\n",
    "dis.dis(f)"
   ]
  },
  {
   "cell_type": "markdown",
   "metadata": {},
   "source": [
    "## Profilowanie Pamięci\n",
    "\n",
    "- memory_profiler"
   ]
  },
  {
   "cell_type": "code",
   "execution_count": 19,
   "metadata": {},
   "outputs": [
    {
     "ename": "NameError",
     "evalue": "name 'profile' is not defined",
     "output_type": "error",
     "traceback": [
      "\u001b[0;31m---------------------------------------------------------------------------\u001b[0m",
      "\u001b[0;31mNameError\u001b[0m                                 Traceback (most recent call last)",
      "\u001b[0;32m<ipython-input-19-9fa1e0580e29>\u001b[0m in \u001b[0;36m<module>\u001b[0;34m()\u001b[0m\n\u001b[1;32m     10\u001b[0m \u001b[0;34m\u001b[0m\u001b[0m\n\u001b[1;32m     11\u001b[0m \u001b[0;34m\u001b[0m\u001b[0m\n\u001b[0;32m---> 12\u001b[0;31m \u001b[0;34m@\u001b[0m\u001b[0mprofile\u001b[0m  \u001b[0;31m# tak jak w przypadku linear_profiler dekorujemy funkcję nieimportowanym dekoratorem\u001b[0m\u001b[0;34m\u001b[0m\u001b[0m\n\u001b[0m\u001b[1;32m     13\u001b[0m \u001b[0;32mdef\u001b[0m \u001b[0mmain\u001b[0m\u001b[0;34m(\u001b[0m\u001b[0;34m)\u001b[0m\u001b[0;34m:\u001b[0m\u001b[0;34m\u001b[0m\u001b[0m\n\u001b[1;32m     14\u001b[0m     \u001b[0mcollection\u001b[0m \u001b[0;34m=\u001b[0m \u001b[0mrange\u001b[0m\u001b[0;34m(\u001b[0m\u001b[0;36m100000000\u001b[0m\u001b[0;34m)\u001b[0m\u001b[0;34m\u001b[0m\u001b[0m\n",
      "\u001b[0;31mNameError\u001b[0m: name 'profile' is not defined"
     ]
    }
   ],
   "source": [
    "# profiling/ex3.py\n",
    "# moduł psutil przyspiesza działąnie mempry_profilera\n",
    "\n",
    "def has_item(collection, item):\n",
    "    found = False\n",
    "    for i in collection:\n",
    "        if item == i:\n",
    "            found = True\n",
    "    return found\n",
    "\n",
    "\n",
    "@profile  # tak jak w przypadku linear_profiler dekorujemy funkcję nieimportowanym dekoratorem\n",
    "def main():\n",
    "    collection = range(100000000)\n",
    "    print has_item(collection, 100000000)\n",
    "\n",
    "\n",
    "#main()\n",
    "\n",
    "\n",
    "# profiling/ex3.sh\n",
    "#python -m memory_profiler ex3.py"
   ]
  },
  {
   "cell_type": "markdown",
   "metadata": {},
   "source": [
    "## Efektywne wykorzystanie typów wbudowanych i zasobów"
   ]
  },
  {
   "cell_type": "markdown",
   "metadata": {},
   "source": [
    "### Lista i Krotka\n",
    "lista jest alokowana z pewnym zapasem (dodatkowe puste pola), ale jeżeli zostanie zapełńiona, to zostaje zaalokowana nowa pamięć na jeszcze większą listę a oryginalna lista zostaje skopiowana z nowe miejsce. Krotka nie alokuje dodatkowego miejsca na nowe elementy (bo nie ma po co), dlatego w przypadku, kiedy lista ma byc niezmienna oszczedniej jest użyć krotki zamist listy. Złożoność obliczeniowa dostępu do doługości listy/krotki to O(1)"
   ]
  },
  {
   "cell_type": "markdown",
   "metadata": {},
   "source": [
    "### Słownik i zbiór\n",
    "\n",
    "Używają tablicy haszujacych do wsadzania/wyjmowania obiektów. Obiekt musi mieć zaimplementowane metody \\_\\_hash\\_\\_ i \\_\\_eq\\_\\_ żeby moża go było wsadzić do zbioru/słownika. Dzięki temu złozónosć obliczeniowa dodawania/usuwania ze zbioru/słownika to O(1) natomiast nie ma mozliwosći umieszczenia kiklu elementów o tym samym haszu. Dostęp do ilości elementów wynosi O(1)"
   ]
  },
  {
   "cell_type": "markdown",
   "metadata": {},
   "source": [
    "### Generatory i Iteratory\n",
    "Są przydatne podczas iteracji, szczególnie, jeżeli element po którym jest iterowane miałby być użytyt tylko raz (np. for i in range(X)).\n",
    "\n",
    "Pozwalają zaoszczędzić czas i pamięć na tworzenie listy (Generatory/Iteratory, przechowują tylko stan a nie elementy sekwencji) a ponadto umożliwiają generowanie nieskończonych sekwencji i przerywanie wykonia aż do następnego wybudzenia."
   ]
  },
  {
   "cell_type": "markdown",
   "metadata": {},
   "source": [
    "### Własne klasy\n",
    "\n",
    "Jeżeli mamy własną klasę, która ma mieć określony zestaw atrybutów a instancji tej klasy ma być bardzo dużo, można użīc obiektu namedtuple z modułu collections lub we własnej klasie zdefiniować atrybut \\_\\_slots\\_\\_"
   ]
  },
  {
   "cell_type": "code",
   "execution_count": 7,
   "metadata": {},
   "outputs": [
    {
     "name": "stdout",
     "output_type": "stream",
     "text": [
      "<class '__main__.A'>\n",
      "A(a=1, b=2, c=3) 1 1\n",
      "==================================================\n",
      "<__main__.Slotted object at 0x1066ac3f8> 1 1 1\n"
     ]
    },
    {
     "ename": "AttributeError",
     "evalue": "'Slotted' object has no attribute 'd'",
     "output_type": "error",
     "traceback": [
      "\u001b[0;31m---------------------------------------------------------------------------\u001b[0m",
      "\u001b[0;31mAttributeError\u001b[0m                            Traceback (most recent call last)",
      "\u001b[0;32m<ipython-input-7-794fa670d3d3>\u001b[0m in \u001b[0;36m<module>\u001b[0;34m()\u001b[0m\n\u001b[1;32m     17\u001b[0m \u001b[0;34m\u001b[0m\u001b[0m\n\u001b[1;32m     18\u001b[0m \u001b[0;32mprint\u001b[0m \u001b[0ms\u001b[0m\u001b[0;34m,\u001b[0m \u001b[0ms\u001b[0m\u001b[0;34m.\u001b[0m\u001b[0ma\u001b[0m\u001b[0;34m,\u001b[0m \u001b[0ms\u001b[0m\u001b[0;34m.\u001b[0m\u001b[0mb\u001b[0m\u001b[0;34m,\u001b[0m \u001b[0ms\u001b[0m\u001b[0;34m.\u001b[0m\u001b[0mc\u001b[0m\u001b[0;34m\u001b[0m\u001b[0m\n\u001b[0;32m---> 19\u001b[0;31m \u001b[0ms\u001b[0m\u001b[0;34m.\u001b[0m\u001b[0md\u001b[0m \u001b[0;34m=\u001b[0m \u001b[0;36m44\u001b[0m  \u001b[0;31m# AttributeError - nie możńa dodawać atrybutów\u001b[0m\u001b[0;34m\u001b[0m\u001b[0m\n\u001b[0m",
      "\u001b[0;31mAttributeError\u001b[0m: 'Slotted' object has no attribute 'd'"
     ]
    }
   ],
   "source": [
    "from collections import namedtuple\n",
    "\n",
    "A = namedtuple('A', 'a b c')  # zamiast stringa, może byc lista z nazwami atrybutów\n",
    "print A\n",
    "a = A(1, 2, 3)\n",
    "print a, a[0], a.a  # do atrybutów namedtuple można odwoływać się przez indeks albo nazwę\n",
    "\n",
    "print 50 * '='\n",
    "\n",
    "class Slotted(object):\n",
    "    __slots__ = ['a', 'b', 'c']\n",
    "\n",
    "s = Slotted()\n",
    "s.a = 1\n",
    "s.b = 1\n",
    "s.c = 1\n",
    "\n",
    "print s, s.a, s.b, s.c\n",
    "s.d = 44  # AttributeError - nie możńa dodawać atrybutów"
   ]
  },
  {
   "cell_type": "markdown",
   "metadata": {},
   "source": [
    "# Inne metody optymalizacji"
   ]
  },
  {
   "cell_type": "markdown",
   "metadata": {},
   "source": [
    "## Uruchomienie kodu przez PyPy\n",
    "\n",
    "Implementacją, która często jest polecana przy problemach z wydajnością, jest impolementacja w Pythonie (PyPy). Dzięki kompilacji JIT (just in time - podczas wykonania kodu) rezultaty są często porównywalne do kodu napisanego w C"
   ]
  },
  {
   "cell_type": "markdown",
   "metadata": {},
   "source": [
    "## Kompilacja kodu i rozszerzenia w C\n",
    "\n",
    "- Cython\n",
    "- C\n",
    "\n",
    "Do optymalizacji wąskich gardeł można wykorzystać kod napisany w Cythonie (język pośredni pomiędzy C i Pythonem), który następnie jest kompilowany do biblioteki .so, którą można zaimportować i używać bezposrednio w kodzie Pyhonowym.\n",
    "\n",
    "Do napisania modułu bezpośrednio w C konieczne jest dołączenie pliku nagłówkowego Python.h"
   ]
  }
 ],
 "metadata": {
  "kernelspec": {
   "display_name": "Python 2",
   "language": "python",
   "name": "python2"
  },
  "language_info": {
   "codemirror_mode": {
    "name": "ipython",
    "version": 2
   },
   "file_extension": ".py",
   "mimetype": "text/x-python",
   "name": "python",
   "nbconvert_exporter": "python",
   "pygments_lexer": "ipython2",
   "version": "2.7.13"
  }
 },
 "nbformat": 4,
 "nbformat_minor": 2
}
