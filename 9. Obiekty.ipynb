{
 "cells": [
  {
   "cell_type": "markdown",
   "metadata": {},
   "source": [
    "Wszystko jest obiektem.\n",
    "\n",
    "Duck Typing - liczy się interfejs a nie typ\n",
    "\n",
    "W pythonie 2 wyróżna się 2 typy klass - old style i new style. Klasy starego typu są odradzane, jako że są dosyć ograniczone. Różnoca pomiędzy klasą nowego a starego typu to dziedziczenie po *object* (klasy nowego typu)\n",
    "\n",
    "\n",
    "Definicja klasy:"
   ]
  },
  {
   "cell_type": "code",
   "execution_count": null,
   "metadata": {
    "collapsed": true
   },
   "outputs": [],
   "source": [
    "# klasa o nazwie Nazwa dziedzicząca po object i nie posiadająca zadnych atrybutóœ i metod zdefiniowanych przez użytkownika\n",
    "\n",
    "class Nazwa(object):\n",
    "    pass\n"
   ]
  },
  {
   "cell_type": "markdown",
   "metadata": {},
   "source": [
    "Wszystkie atrybuty klasy i instancji są publiczne, a określanie atrybutów jako prywatne i protected to tylko konwencja nazewnictwa:\n",
    "\n",
    "atrybuty zaczynające się od pojedyńczego podkreślnika \\_atrybut - są to atrybuty protected\n",
    "atrybuty zaczynające się od dwóch podkreslników \\_\\_atrybut - są to atrybuty prywatne - Python wspiera prywatnosć atrybutów przez mechanizm *name mangling*\n",
    "\n",
    "atrybuty zaczynające się i kończące \\_\\_ (tzw. dunder) to specjalne atrybuty zarezerwowane dla interpretera (np. przeciążanie operatorów itp.)\n"
   ]
  },
  {
   "cell_type": "code",
   "execution_count": null,
   "metadata": {},
   "outputs": [],
   "source": [
    "class A(object):\n",
    "    def __init__(self, x):\n",
    "        self.__x = x\n",
    "        self.y = 2 * x\n",
    "        self._z = x ** 2\n",
    "        \n",
    "a = A(1)\n",
    "# name mangling przed nazwą atrybutu doczepia _ z nazwą klasy (żeby uniknąć kolizji w klasach dziedziczących)\n",
    "dir(a)"
   ]
  },
  {
   "cell_type": "markdown",
   "metadata": {},
   "source": [
    "Atrybuty obiektu przechowywane są w specjalnym słowniku \\_\\_dict\\_\\_. Słownik ten możńa modyfikować:"
   ]
  },
  {
   "cell_type": "code",
   "execution_count": null,
   "metadata": {},
   "outputs": [],
   "source": [
    "print A.__dict__\n",
    "\n",
    "print a.__dict__\n",
    "\n",
    "a.__dict__['a'] = 13\n",
    "print a.__dict__"
   ]
  },
  {
   "cell_type": "markdown",
   "metadata": {},
   "source": [
    "## Monkey Patching\n",
    "  \n",
    "To dodawanei metod po definicji klasy, w praktyce wyglada to następująco:"
   ]
  },
  {
   "cell_type": "code",
   "execution_count": null,
   "metadata": {},
   "outputs": [],
   "source": [
    "class A(object):\n",
    "    pass\n",
    "\n",
    "a = A()\n",
    "\n",
    "def f(self):\n",
    "    print self\n",
    "    \n",
    "A.f = f\n",
    "\n",
    "a.f()"
   ]
  },
  {
   "cell_type": "markdown",
   "metadata": {},
   "source": [
    "Jak dodajemy metody do instancji t obez parametru self:"
   ]
  },
  {
   "cell_type": "code",
   "execution_count": null,
   "metadata": {},
   "outputs": [],
   "source": [
    "class A(object):\n",
    "    pass\n",
    "\n",
    "a = A()\n",
    "\n",
    "def f():\n",
    "    print 'f'\n",
    "    \n",
    "a.f = f\n",
    "\n",
    "a.f()"
   ]
  },
  {
   "cell_type": "markdown",
   "metadata": {},
   "source": [
    "## Magiczne (dunder) Metody\n",
    "\n",
    "\\_\\_new\\_\\_ - tworzenie obiektu\n",
    "\n",
    "\\_\\_init\\_\\_ - inicjalizacja\n",
    "\n",
    "\\_\\_str\\_\\_, \\_\\_repr\\_\\_, \\_\\_unicode\\_\\_, \\_\\_format\\_\\_ - reprezentacja tekstowa\n",
    "\n",
    "\\_\\_iter\\_\\_ - rzutowanie na listę/krotkę\n",
    "\n",
    "\n",
    "### 3 typy operatorów:\n",
    "* \"normalne\": \\_\\_add\\_\\_, \\_\\_mul\\_\\_\n",
    "* \"i\" - inplace: \\_\\_iadd\\_\\_, \\_\\_imul\\_\\_\n",
    "* \"r\" - reversed: \\_\\_radd\\_\\_, \\_\\_rmul\\_\\_\n",
    "\n",
    "\n",
    "\\_\\_call\\_\\_ - wywoływanie obiektu jak funkcji\n",
    "\n",
    "\\_\\_getitem\\_\\_, \\_\\_setitem\\_\\_, \\_\\_delitem\\_\\_ - dostęp jak do słownika\n",
    "\n",
    "\\_\\_getattr\\_\\_, \\_\\_setattr\\_\\_, \\_\\_delattr\\_\\_, \\_\\_getattribute\\_\\_ - dostęp do atrybutów\n",
    "\n",
    "\\_\\_hash\\_\\_ - wyznaczanie hashu obiektu - jeżeli \n",
    "\n",
    "\n",
    "### sekwencje\n",
    "definiuje:\n",
    "\n",
    "\\_\\_len\\_\\_ - długosć sekwencji\n",
    "\\_\\_getitem\\_\\_ - wybieranie elementu z sekwencji - liczba lub slice\n",
    "\n",
    "jeżeli sekwencja nie ma metody \\_\\_iter\\_\\_ to iterowanie następuje przez wrzucanie kolejnych liczb całkowitych od 0 do metody \\_\\_getitem\\_\\_ aż do skutku.\n",
    "\n",
    "sekwencja może dodatkowo zdefiniować metodę \\_\\_conteins\\_\\_ do obsługi operatora **in**\n",
    "\n",
    "\n",
    "### obiekt iterowalny\n",
    "definiuje:\n",
    "\n",
    "\\_\\_iter\\_\\_ - ma zwracać iterator a nie sekwencję\n",
    "\\_\\_getitem\\_\\_\n",
    "\n",
    "\n",
    "### iterator:\n",
    "definiuje:\n",
    "\n",
    "\\_\\_next\\_\\_, next - zwraca kolejny element obiektu po którym ma iterować\n",
    "\\_\\_iter\\_\\_ - zwraca self\n",
    "\n",
    "\n",
    "\n",
    "## NotImplemented vs NotImplementedError\n",
    "NotImplemented jest obiektem, który powinna zwracać metoda jezeli nie implementuje danej operacji (np dodawanie), ponieważ wtedy interpreter jest wstanie podjąć akcje mające na celu zwrócenie wyniku.\n",
    "\n",
    "NotImplementedError to bład, który jest wyrzucany, kiedy interpreter nie jest juz w stanie zapewnić wyniku operacji - można go obsłuzyć:"
   ]
  },
  {
   "cell_type": "code",
   "execution_count": null,
   "metadata": {},
   "outputs": [],
   "source": [
    "class A(object):    \n",
    "    def __eq__(self, other):\n",
    "        print 'A.__eq__'\n",
    "        if not isinstance(other, A):\n",
    "            return NotImplemented\n",
    "        return True\n",
    "        \n",
    "\n",
    "class B(object):\n",
    "    def __eq__(self, other):\n",
    "        print 'B.__eq__'\n",
    "        if not isinstance(other, B):\n",
    "            return False\n",
    "        return True\n",
    "    \n",
    "a = A()\n",
    "b = B()\n",
    "\n",
    "a == b"
   ]
  },
  {
   "cell_type": "markdown",
   "metadata": {},
   "source": [
    "## Atrybuty Klasy\n",
    "\n",
    "Tak jak instancja ma atrybuty, tak i klasa może mieć atrybuty.\n",
    "\n",
    "Atrybuty klasą są współdzielone pomiędzy instancjami.\n",
    "\n",
    "Atrybuty klasy definiowane są w bloku klasy:"
   ]
  },
  {
   "cell_type": "code",
   "execution_count": null,
   "metadata": {
    "collapsed": true
   },
   "outputs": [],
   "source": [
    "class A(object):\n",
    "    x = 2\n",
    "    y = 3"
   ]
  },
  {
   "cell_type": "markdown",
   "metadata": {},
   "source": [
    "Do atrybutów klasy można odwoływać się przez klasę i przez instancję (jezeli instancja nie ma juz zdefinowanych atrybutów o tej samej nazwie)"
   ]
  },
  {
   "cell_type": "code",
   "execution_count": null,
   "metadata": {},
   "outputs": [],
   "source": [
    "a = A()\n",
    "\n",
    "print A.x\n",
    "print a.x\n",
    "\n",
    "a.x = 4\n",
    "print a.x"
   ]
  },
  {
   "cell_type": "code",
   "execution_count": null,
   "metadata": {},
   "outputs": [],
   "source": [
    "b = A()\n",
    "print b.x\n",
    "\n",
    "print a.y\n",
    "print b.y\n",
    "\n",
    "A.y = 33\n",
    "print a.y\n",
    "print b.y"
   ]
  },
  {
   "cell_type": "markdown",
   "metadata": {},
   "source": [
    "### classmethods i staticmethods\n",
    "\n",
    "Poza standardowymi metodami, istnieja też metody statyczne i klasy.\n",
    "\n",
    "classmethods przyjmują jako pierwszy argument klasę (a nie instancję) a metody statyczne nie przyjmują żadnej z powyższych. Metody statyczne i klasowe tworzy się używając dekoratorów."
   ]
  },
  {
   "cell_type": "code",
   "execution_count": null,
   "metadata": {},
   "outputs": [],
   "source": [
    "class A(object):\n",
    "    @classmethod\n",
    "    def f(cls):\n",
    "        print cls\n",
    "    \n",
    "    @staticmethod\n",
    "    def g():\n",
    "        print 'g'\n",
    "        \n",
    "\n",
    "a = A()\n",
    "a.f()\n",
    "A.f()\n",
    "a.g()"
   ]
  },
  {
   "cell_type": "markdown",
   "metadata": {},
   "source": [
    "## Dziedziczenie\n",
    "\n",
    "W Pythonie klasy bazowe są określane w nawiasie koło nazwy klasy. W Pythonie jedna klasa może mieć wiele klas bazowych.\n",
    "W celu określenia kolejności poszukiwania metod używa się mro (method resolution order)"
   ]
  },
  {
   "cell_type": "code",
   "execution_count": null,
   "metadata": {},
   "outputs": [],
   "source": [
    "class A(object):\n",
    "    pass\n",
    "\n",
    "class B(object):\n",
    "    pass\n",
    "\n",
    "class C(A):\n",
    "        pass\n",
    "        \n",
    "class D(B):\n",
    "        pass\n",
    "        \n",
    "class E(C, D):\n",
    "    pass\n",
    "        \n",
    "        \n",
    "print E.mro()"
   ]
  },
  {
   "cell_type": "code",
   "execution_count": null,
   "metadata": {},
   "outputs": [],
   "source": [
    "# metoda super wywołuje inną metodę z kalsy bazowej\n",
    "\n",
    "class A(object):\n",
    "    def f(self):\n",
    "        print 'A.f'\n",
    "        super(A, self).f()\n",
    "\n",
    "class B(object):\n",
    "    def f(self):\n",
    "        print 'B.f'\n",
    "        super(B, self).f()\n",
    "\n",
    "class C(A):\n",
    "    def f(self):\n",
    "        print 'C.f'\n",
    "        super(C, self).f()\n",
    "        \n",
    "class D(B):\n",
    "    def f(self):\n",
    "        print 'D.f'\n",
    "        super(D, self).f()\n",
    "        \n",
    "class E(C, D):\n",
    "    def f(self):\n",
    "        print 'E.f'\n",
    "        super(E, self).f()\n",
    "        \n",
    "class F(C, D):\n",
    "    def f(self):\n",
    "        print 'F.f'\n",
    "        super(C, self).f()\n",
    "        \n",
    "        \n",
    "print E.mro()\n",
    "try:\n",
    "    E().f()\n",
    "except:\n",
    "    pass\n",
    "\n",
    "print F.mro()\n",
    "try:\n",
    "    F().f()\n",
    "except:\n",
    "    pass"
   ]
  },
  {
   "cell_type": "markdown",
   "metadata": {},
   "source": [
    "## Managery kontekstu\n",
    "\n",
    "Managery kontekstu funkcjonują w połaczeniu z wyrażeniem *with*.\n",
    "Interfejs managera to 2 metody: \\_\\_enter\\_\\_ i \\_\\_exit\\_\\_.\n",
    "\n",
    "Obiekt, który będzie zwrócony w metodzie enter będzie przypisany do zmiennej po 'as'"
   ]
  },
  {
   "cell_type": "code",
   "execution_count": null,
   "metadata": {},
   "outputs": [],
   "source": [
    "class Manager(object):\n",
    "    def __enter__(self):\n",
    "        print 'Manager.__enter__'\n",
    "        return 22\n",
    "    \n",
    "    def __exit__(self, exc_type, exc_value, traceback):\n",
    "        if exc_type is KeyboardInterrupt:\n",
    "            print 'ctrl c'\n",
    "            return True\n",
    "        print 'Exception not handled'\n",
    "        return False\n",
    "        \n",
    "\n",
    "with Manager() as x:\n",
    "    print x\n",
    "    raise KeyboardInterrupt('stop')\n",
    "    \n",
    "    \n",
    "with Manager() as x:\n",
    "    print x\n",
    "    {}[1]\n",
    "    "
   ]
  }
 ],
 "metadata": {
  "kernelspec": {
   "display_name": "Python 2",
   "language": "python",
   "name": "python2"
  },
  "language_info": {
   "codemirror_mode": {
    "name": "ipython",
    "version": 2
   },
   "file_extension": ".py",
   "mimetype": "text/x-python",
   "name": "python",
   "nbconvert_exporter": "python",
   "pygments_lexer": "ipython2",
   "version": "2.7.12"
  }
 },
 "nbformat": 4,
 "nbformat_minor": 2
}
