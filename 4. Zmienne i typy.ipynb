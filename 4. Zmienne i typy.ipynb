{
 "cells": [
  {
   "cell_type": "markdown",
   "metadata": {},
   "source": [
    "Python jest językiem dynamicznie typowanym (nie deklaruje się typu zmiennej przez przypisaniem)\n",
    "i silnie typowanym (każda zmienna jest jakiegoś typu)"
   ]
  },
  {
   "cell_type": "markdown",
   "metadata": {},
   "source": [
    "W Pythonie zmienne definiuje się przez znak \"=\".\n",
    "Zmienna **nie jest** \"opakowaniem do którego wrzucamy obiekt\", jest \"etykietką, którą przyczepiamy do obiektu\" "
   ]
  },
  {
   "cell_type": "code",
   "execution_count": null,
   "metadata": {},
   "outputs": [],
   "source": [
    "from __future__ import print_function\n",
    "# definicja zmiennej x \"przyczepionej\" do obiektu typu int i mającego wartosć 3\n",
    "x = 3\n",
    "\n",
    "a = b = []  # do a i b jest przypisana dokładnie ta sama lista. równoważne z a = []; b = a;\n",
    "\n",
    "# definicja zmiennej x przyczepionej do pustej listy\n",
    "x = []\n",
    "# definicja zmiennej y przyczepionej do tego samego obiektu co zmienna x - pustą listę\n",
    "y = x \n",
    "\n",
    "# operator is oprównuje obiekt pod kątem identycznosci - czy to jest ten sam obiekt -\n",
    "# na poziomie implementacji jest to porównanie wkaźników\n",
    "x is y"
   ]
  },
  {
   "cell_type": "code",
   "execution_count": null,
   "metadata": {},
   "outputs": [],
   "source": [
    "# funkcja id pokazuje miejsce w pamięci obiektu - (implementacja w C), w przypadku innych implementacji\n",
    "# id może pokazywać inna wartosć identyfikującą obiekt\n",
    "id(x), id(y), id(x) == id(y)"
   ]
  },
  {
   "cell_type": "markdown",
   "metadata": {},
   "source": [
    "### global i nonlocal\n",
    "\n",
    "jezeli w jakimś bloku (np w funkcji) pojawi się *global* przed nazwą zmiennej, zmienna ta będzie odnosić się do zmiennej globalnej w tamtym bloku"
   ]
  },
  {
   "cell_type": "code",
   "execution_count": null,
   "metadata": {},
   "outputs": [],
   "source": [
    "x = 1\n",
    "\n",
    "def f():\n",
    "    global x\n",
    "    x = []\n",
    "    \n",
    "f()\n",
    "print(x)  # int zmieniony w listę"
   ]
  },
  {
   "cell_type": "markdown",
   "metadata": {},
   "source": [
    "nonlocal (tylko Python 3) działa podobnie jak global, tylko odnosi się do najblizszego okalającego zakresu (za wyjątkiem globalnego)"
   ]
  },
  {
   "cell_type": "code",
   "execution_count": null,
   "metadata": {},
   "outputs": [],
   "source": [
    "# Python 3\n",
    "\n",
    "x = 1\n",
    "\n",
    "def f():\n",
    "    x = []\n",
    "    print('przed podmianą:', x)\n",
    "    def g():\n",
    "        nonlocal x\n",
    "        x = {}\n",
    "    g()  # trzeba wywołać g, żeby podmienić x\n",
    "    print('po podmianie:', x)\n",
    "    \n",
    "f()\n",
    "print('globalny x:', x)"
   ]
  },
  {
   "cell_type": "markdown",
   "metadata": {},
   "source": [
    "# Usuwanie zmiennych.\n",
    "\n",
    "W Pythonie każdy obiekt ma \"reference counter\", który oznacza w ilu miejcach jest odniesienie do niego,\n",
    "kiedy reference counter danego obiektu spadnie do 0, wtedy jest on usuwany przez garbage collector.\n",
    "\n",
    "słowo kluczowe del usuwa zmienną (etykietkę), ale niekoniecznie obiekt (kiedy do danego obiektu odwołuje się inny obiekt/zmienna to nie jest on usuwany)"
   ]
  },
  {
   "cell_type": "code",
   "execution_count": null,
   "metadata": {},
   "outputs": [],
   "source": [
    "x = []\n",
    "y = x\n",
    "\n",
    "# zmienna x zostaje usunięta\n",
    "del x\n",
    "print(x)  # tutaj zmienna x juz nie istnieje - NameError"
   ]
  },
  {
   "cell_type": "code",
   "execution_count": null,
   "metadata": {},
   "outputs": [],
   "source": [
    "# ale lista nie - jest dostępna pod mienną y:\n",
    "print(y)"
   ]
  },
  {
   "cell_type": "markdown",
   "metadata": {},
   "source": [
    "# Typy obiektów w Pythonie:\n",
    "Obiekty w pythonie można podzielić na 2 grupy - modyfikowalne (mutowalne) i niemodyfikowalne (niemutowalne).\n",
    "\n",
    "W Pythonie 2:\n",
    "    Do typów niemodyfikowalnych należą:\n",
    "    - string (str)\n",
    "    - znaki unicode (unicode)\n",
    "    - krotka (tuple)\n",
    "    - zamrożony zbiór (frozenset)\n",
    "\n",
    "    Do typów modyfikowalnych należą:\n",
    "    - słownik (dict)\n",
    "    - zbiór (set)\n",
    "    - lista (list)\n",
    "    - tablica bajtów (bytearray)\n",
    "    \n",
    "W Pythonie 3:\n",
    "    Do typów niemodyfikowalnych należą:\n",
    "    - string/unicode (str)\n",
    "    - bajty (bytes)\n",
    "    - krotka (tuple)\n",
    "    - zamrożony zbiór (frozenset)\n",
    "\n",
    "    Do typów modyfikowalnych należą:\n",
    "    - słownik (dict)\n",
    "    - zbiór (set)\n",
    "    - lista (list)\n",
    "    - tablica bajtów (bytearray)"
   ]
  },
  {
   "cell_type": "markdown",
   "metadata": {},
   "source": [
    "Listę atrybutów każdego obiektu można podejrzeć uzywajac funkcji \"dir\""
   ]
  },
  {
   "cell_type": "code",
   "execution_count": null,
   "metadata": {},
   "outputs": [],
   "source": [
    "dir(2)"
   ]
  },
  {
   "cell_type": "markdown",
   "metadata": {},
   "source": [
    "Atrybuty zaczynające i kończące się na __ (podwójny cudzysłów - tzw dunder) mają specjalne znaczenie dla interpretera - ich znaczenie zostanie później omówione"
   ]
  },
  {
   "cell_type": "markdown",
   "metadata": {},
   "source": [
    "Duża część atrybutów i obiektów posiada dokumentację, która zawarta jest w atrybucie __doc__:"
   ]
  },
  {
   "cell_type": "code",
   "execution_count": null,
   "metadata": {},
   "outputs": [],
   "source": [
    "print(list.__doc__)"
   ]
  },
  {
   "cell_type": "code",
   "execution_count": null,
   "metadata": {},
   "outputs": [],
   "source": [
    "print(list.append.__doc__)"
   ]
  },
  {
   "cell_type": "markdown",
   "metadata": {},
   "source": [
    "listę atrybutów i ich dokumentację można wyciągnąć przy pomocy funkcji help:"
   ]
  },
  {
   "cell_type": "code",
   "execution_count": null,
   "metadata": {},
   "outputs": [],
   "source": [
    "help(list)"
   ]
  },
  {
   "cell_type": "markdown",
   "metadata": {},
   "source": [
    "# Typy wbudowane:"
   ]
  },
  {
   "cell_type": "markdown",
   "metadata": {},
   "source": [
    "## 1. Lista\n",
    "\n",
    "Lista przechowuje `referencje` do obiektów a nie ich kopie - jeżeli obiekt jest modyfikowalny to jego zmianna w innym miejscu powoduje zmianę elementu w liscie.\n",
    "Listę oznacza się przez nawiasy kwadratowe []."
   ]
  },
  {
   "cell_type": "code",
   "execution_count": null,
   "metadata": {},
   "outputs": [],
   "source": [
    "# x jest pustą listą\n",
    "x = []\n",
    "# y jest listą zawierającą 1 element - pustą listę - x\n",
    "y = [x]\n",
    "print(y)"
   ]
  },
  {
   "cell_type": "code",
   "execution_count": null,
   "metadata": {},
   "outputs": [],
   "source": [
    "# modyfikujemy obiekt - nie mozemy tego zrobic przez nowe przypisanie x = [3] pownieważ wtedy x zostanie 'odczepione' od\n",
    "# poprzedniej listy i przyczepione do nowej listy [3]\n",
    "x.append(3)\n",
    "print(x)"
   ]
  },
  {
   "cell_type": "code",
   "execution_count": null,
   "metadata": {},
   "outputs": [],
   "source": [
    "print(y)"
   ]
  },
  {
   "cell_type": "code",
   "execution_count": null,
   "metadata": {},
   "outputs": [],
   "source": [
    "# element w liście y został zmieniony, chociaż modyfikowaliśmy go na zewnątrz listy"
   ]
  },
  {
   "cell_type": "markdown",
   "metadata": {},
   "source": [
    "Metody listy:\n",
    "*  append(element) - dodaje element na koniec listy\n",
    "*  count(element) - zwraca liczbę wystompień elementu element w liscie\n",
    "*  extend(inna_lista) - rozszerza listę o elementy z inna_lista\n",
    "*  index(element[, start[, stop]]) - zwraca indeks pierwszego element'u w liscie lub wyrzuca wyjątek ValueError jeżeli elementu w liscie niema, lub fragmencie listy, jeżeli podane zostały argumenty start i stop\n",
    "*  insert(index, element) - wsadza element do listy pod podany indeks\n",
    "*  pop([index]) - usuwa element o indeksie index z listy lub ostatni\n",
    "*  remove(element) - usuwa pierwszy napotkany element z listy lub wyrzuca ValueError, jeżeli nie ma takiego elementu\n",
    "*  reverse() - odwraca listę w miejscu (nie tworzy nowego obiektu tylko modyfikuje oryginalną listę)\n",
    "*  sort() - sortuje listę w miejscu (nie tworzy nowego obiektu tylko modyfikuje oryginalną listę)\n",
    "\n",
    "\n",
    "Aby sprawdzić czy element jest w liscie, nie trzeba używac metody index, można użyc operatora in:\n",
    "element in lista  # zwróci True albo False"
   ]
  },
  {
   "cell_type": "markdown",
   "metadata": {},
   "source": [
    "## 2. Ciąg znaków / String\n",
    "String jest ciągiem znaków, string zawiera sie pomiędzy znakami ' albo \". \n",
    "String posiada kilka odmian:\n",
    "* raw string - string, w którym każdy znak jest traktowany **dosłownie** - poprzedzony literą r: r'hello\\n'\n",
    "* unicode - Pozwala zapisywać znaki nie ASCII - konstruuje się przez dopisanie 'u' z przodu lub funkcję unicode: u'hello'; unicode(\"hello\")\n",
    "* wieloliniowy - tworzony przez użycie \"\"\" lub ''' - pozwala na wstawianei znaków nowej linii"
   ]
  },
  {
   "cell_type": "markdown",
   "metadata": {},
   "source": [
    "metody stringa:"
   ]
  },
  {
   "cell_type": "code",
   "execution_count": null,
   "metadata": {},
   "outputs": [],
   "source": [
    "help(str)"
   ]
  },
  {
   "cell_type": "markdown",
   "metadata": {},
   "source": [
    "Do uzupełaniania stringa wartosciami obiektów można użyć znaku % (jak w C),\n",
    "ale zalecana jest metoda format (https://pyformat.info/ - porównanie % i metody format)"
   ]
  },
  {
   "cell_type": "markdown",
   "metadata": {},
   "source": [
    "## 3. Krotka/ Tupla\n",
    "Krotka jest podobna do listy, natomiast zasadniczą różnicą jest to, że ktorka nie jest modyfikowalna - nie można dodawać i usuwać elementów z krotki = można za to modyfikować same elementy, jeżeli są one zmienialne.\n",
    "Krotke konstruuje się przez ().\n",
    "\n",
    "** Krotka z jednym elementem musi zawierać przecinek: (element,) **"
   ]
  },
  {
   "cell_type": "code",
   "execution_count": null,
   "metadata": {},
   "outputs": [],
   "source": [
    "# pusta krotka\n",
    "x = ()\n",
    "\n",
    "# krotka z jednym elementem\n",
    "y = (1,)\n",
    "y = 1,  # też krotka z jednym elementem\n",
    "\n",
    "# krotka z kilkoma elementami\n",
    "z = (1, 2, 3)\n",
    "\n",
    "# krotki nie można modyfikować - brak metod append, pop i podobnych\n",
    "# nie można tez podmieniać elementów w krotce\n",
    "z[1] = 13"
   ]
  },
  {
   "cell_type": "code",
   "execution_count": null,
   "metadata": {},
   "outputs": [],
   "source": [
    "# można zato modyfikować obiekty będące w krotce:\n",
    "\n",
    "z = (1, [], 'a')\n",
    "print('przed:', z) \n",
    "\n",
    "z[1].append(3)\n",
    "print('po:', z)"
   ]
  },
  {
   "cell_type": "markdown",
   "metadata": {},
   "source": [
    "## Typ Liczbowy\n",
    "W pythonie funkcjonuje kilka typów liczb:\n",
    "* całkowite (int) - np. 1, 2\n",
    "* zmiennoprzecinkowe (float) - np. 1.5, 1.\n",
    "* zespolone (complex) - complex(1, 1), 1+1j, 1j"
   ]
  },
  {
   "cell_type": "code",
   "execution_count": null,
   "metadata": {},
   "outputs": [],
   "source": [
    "help(int)"
   ]
  },
  {
   "cell_type": "code",
   "execution_count": null,
   "metadata": {},
   "outputs": [],
   "source": [
    "0xA  # szesnastkowy int\n",
    "0b1001  # binarny int\n",
    "0o123  # ósemkowy int\n",
    "123_456_123  # liczba 123456123 z podziałem - python 3.6+"
   ]
  },
  {
   "cell_type": "code",
   "execution_count": null,
   "metadata": {},
   "outputs": [],
   "source": [
    "help(float)"
   ]
  },
  {
   "cell_type": "code",
   "execution_count": null,
   "metadata": {},
   "outputs": [],
   "source": [
    "10.\n",
    ".10\n",
    ".10_10\n",
    "1e10\n",
    "1e-2\n",
    "0e0"
   ]
  },
  {
   "cell_type": "code",
   "execution_count": null,
   "metadata": {},
   "outputs": [],
   "source": [
    "help(complex)"
   ]
  },
  {
   "cell_type": "code",
   "execution_count": null,
   "metadata": {},
   "outputs": [],
   "source": [
    "1J\n",
    "1j\n",
    "1 + 1J\n",
    "1 + 1j"
   ]
  },
  {
   "cell_type": "markdown",
   "metadata": {},
   "source": [
    "## Słownik\n",
    "\n",
    "Słownik przechowuje dane w formacie klucz-wartosć.\n",
    "Kluczami mogą być tylko obiekty, dla których funkcja hash() zwraca jakąkolwiek wartosć\n",
    "(na tej podstawie obiekty wstawiane są jako klucze, a nie na podstawie funkcji id).\n",
    "\n",
    "Słowniki są nieuporządkowanymi strukturami.\n",
    "\n",
    "Do konstrukcji słownika używa się nawiasów klamrowych: {}"
   ]
  },
  {
   "cell_type": "code",
   "execution_count": null,
   "metadata": {},
   "outputs": [],
   "source": [
    "# dofinicja pustego słownika\n",
    "\n",
    "x = {}\n",
    "\n",
    "# definicja słownika z elementami początkowymi - klucze są po lewej stronie znaku ':' a wartosci po prawej\n",
    "\n",
    "x = {1:1, 2:2, 3:3}\n",
    "\n",
    "# dodawanie elementów do słownika\n",
    "x[3] = 5\n",
    "x['a'] = 55\n",
    "x[8.0] = 'asdf'\n",
    "x[complex(1,1)] = []\n",
    "\n",
    "# pobieranie elementu ze słownika:\n",
    "x[3]\n",
    "x['a']\n",
    "\n",
    "# jeżeli klucz nie istnieje w słowniku zostanie wyrzucony wyjątek KeyError:\n",
    "x[44]"
   ]
  },
  {
   "cell_type": "code",
   "execution_count": null,
   "metadata": {},
   "outputs": [],
   "source": [
    "# żeby sprawdzić czy dany klucz znajduje się w słowniku, można użyc metody haskey lub operatora in\n",
    "print(3 in x)\n",
    "print(44 in x)"
   ]
  },
  {
   "cell_type": "code",
   "execution_count": null,
   "metadata": {},
   "outputs": [],
   "source": [
    "# w celu uniknięcia nieoczekiwanego wyjątku można zastosować metodę get,\n",
    "# która w przypadku braku takiego klucza zwróci wartosć domyślną (domyślnie None)\n",
    "y = x.get(44)\n",
    "\n",
    "print(y)"
   ]
  },
  {
   "cell_type": "code",
   "execution_count": null,
   "metadata": {},
   "outputs": [],
   "source": [
    "y = x.get(44, 'Awaria')\n",
    "print(y)"
   ]
  },
  {
   "cell_type": "code",
   "execution_count": null,
   "metadata": {},
   "outputs": [],
   "source": [
    "# Czasami jednak checmy, żeby w przypadku braku klucza, od razu do słownika została dodana wartosć domyślna:\n",
    "x = {1:[], 2:[]}\n",
    "\n",
    "y = x.get(3, 'brak-klucza')\n",
    "if y == 'brak-klucza':\n",
    "    y = []\n",
    "    x[3] = y\n",
    "    \n",
    "print('x:', x, 'y:', y)"
   ]
  },
  {
   "cell_type": "code",
   "execution_count": null,
   "metadata": {},
   "outputs": [],
   "source": [
    "# taki kod wygląda na dosyc skomplikowany, do osiągnięcia takiego samego celu można użyc metody setdefault:\n",
    "x = {1:[], 2:[]}\n",
    "\n",
    "y = x.setdefault(3, [])\n",
    "print('x:', x, 'y:', y)"
   ]
  },
  {
   "cell_type": "code",
   "execution_count": null,
   "metadata": {},
   "outputs": [],
   "source": [
    "default = []\n",
    "print(id(default))\n",
    "y = x.setdefault(4, default)\n",
    "print('x:', x, 'y:', y)\n",
    "print(default is y)\n",
    "print(x[4] is default)\n",
    "# do x[4] i y został przypisany dokładnie TEN SAM obiekt, będący również przypisany do default"
   ]
  },
  {
   "cell_type": "code",
   "execution_count": null,
   "metadata": {},
   "outputs": [],
   "source": [
    "# usuwanie elementu ze słownika:\n",
    "del x[3]  # jeżeli nie ma elementu o kluczu 3 w słowniku zostanie wyrzucony wyjątek KeyError\n",
    "\n",
    "x[3] = 5\n",
    "# lub, jezeli chcemy przy okazji zachować tę wartość w zmiennej to:\n",
    "y = x.pop(3)\n",
    "print(y)"
   ]
  },
  {
   "cell_type": "code",
   "execution_count": null,
   "metadata": {},
   "outputs": [],
   "source": [
    "# jeżeli nie ma elementu o kluczu 3 w słowniku zostanie wyrzucony wyjątek KeyError\n",
    "# dlatego, do metody pop można dodac dodatkowy argument, który zostanie zwrócony, w przypadku,\n",
    "# kiedy danego klucza niema w słowniku:\n",
    "\n",
    "y = x.pop(5, None)\n",
    "print(y)"
   ]
  },
  {
   "cell_type": "code",
   "execution_count": null,
   "metadata": {},
   "outputs": [],
   "source": [
    "help(dict)"
   ]
  },
  {
   "cell_type": "markdown",
   "metadata": {},
   "source": [
    "## Zbiór\n",
    "Zbiór jest nieuporządkowaną listą - z tą różnicą, że każdy element pojawia się w nim tylko raz.\n",
    "Żeby element można było dodać do zbioru, dla tego elementu funkcja hash musi zwracać jakąkolwiek wartosć.\n",
    "Zbiór tworzy się za pomocą klamer {} - ale bez uzywania znaku ':' lub za pomocą klasy set().\n",
    "\n",
    "** Pusty zbiór można konstruować tylko przy pomocy wywołania set() - inaczej będzie to słownik **"
   ]
  },
  {
   "cell_type": "code",
   "execution_count": null,
   "metadata": {},
   "outputs": [],
   "source": [
    "# to nie jest zbiór\n",
    "x = {}\n",
    "print('x = {} -> typ:', type(x))\n",
    "\n",
    "# to jest zbiór\n",
    "x = set()\n",
    "print('x = set() -> typ:', type(x))\n",
    "\n",
    "# to też jest zbiór\n",
    "x = {1, 2, 3, 4, 5}\n",
    "\n",
    "# na zbiór można konwertowac też listę:\n",
    "x = set([1, 2, 3, 4])\n",
    "\n",
    "# każdy element o tym samym hashu może pojawiać się w zbiorze tylko raz:\n",
    "x = {1, 1, 1, 1}\n",
    "print('x = {1, 1, 1, 1} ->', x)"
   ]
  },
  {
   "cell_type": "markdown",
   "metadata": {},
   "source": [
    "zaletą zbiorów i słowników jest bardzo szybki dostęp do elementów, idealnie nadają się do sprawdzania zawierania (operator **in**). Osiągnięte jest to przez haszhowanie (więcej przy optymalizacji)"
   ]
  },
  {
   "cell_type": "markdown",
   "metadata": {},
   "source": [
    "## Ellipsis\n",
    "\n",
    "Specjalnym obiektem jest Ellipsis. Jest to wielokropek. Jest używany do oznaczenia, że w sekwencji coś jest pomiedzy dwoma wartościami (np, w przypadku macierzy w numpy)"
   ]
  },
  {
   "cell_type": "code",
   "execution_count": null,
   "metadata": {},
   "outputs": [],
   "source": [
    "print(...)"
   ]
  },
  {
   "cell_type": "markdown",
   "metadata": {},
   "source": [
    "## Slice\n",
    "\n",
    "Slice jest obiektem, który jest przekazywany do metody \\_\\_getitem\\_\\_ w przypadku wywołania [] z zakresem, np ```x[1:2]```. Opcjonalnie, można samemu taki obiekt stworzyć, wywołując wbudowaną funkcję *slice*"
   ]
  },
  {
   "cell_type": "code",
   "execution_count": null,
   "metadata": {},
   "outputs": [],
   "source": [
    "x = list(range(10))\n",
    "\n",
    "print(x[1:5])\n",
    "s = slice(1, 5)\n",
    "print(x[s])\n",
    "\n",
    "# slice zawiera metodę indices, która przyjmuje wartosć całkowitą, a zwraca krotkę 3 elementową z wartościami,\n",
    "# jakie by efektywnie były przekazane do sekwencji o zadanej długości:\n",
    "\n",
    "print()\n",
    "print(s.indices(20))  # (1, 5 ,1) - odpowiednik x[1:5:1]\n",
    "print(s.indices(3))  # (1, 3, 1) - odpowiednik x[1:3:1]"
   ]
  },
  {
   "cell_type": "markdown",
   "metadata": {
    "collapsed": true
   },
   "source": [
    "## Operatory\n",
    "W pythonie funkcjonuje kilka typów operatorów:\n",
    "1. Arytmetyczne\n",
    "    * +/- -dodawanie i doejmowanie\n",
    "    * \\* /- mnożenie i dzielenie (dzielone liczby całkowite zaokrąglane są w dół do najbliższej liczby całkowitej)\n",
    "    * \\*\\* - potęgowanie\n",
    "    * % - dzielenie modulo\n",
    "    * </<=/>/>= - większy/większy lub równy/mniejszy/ mniejszy lub równy\n",
    "    * ==/!= - równe/różne\n",
    "    \n",
    "    w Pythonie 3.5+:\n",
    "    * @ - \\_\\_matmul\\_\\_ - mnożenie macierzy\n",
    "2. Binarne\n",
    "    * ~ - negacja bitowa\n",
    "    * <</>> - przesunięcie bitów w lewo/w prawo\n",
    "    * &/| - iloczyn bitowy/suma bitowy\n",
    "    * ^ - xor\n",
    "3. Logiczne:\n",
    "    * is - identyczność (porównanie czy to samo id())\n",
    "    * in - zawieranie (element w sekwencji)\n",
    "    * and/or/not - iloczyn/suma/zaprzeczenie logiczne"
   ]
  },
  {
   "cell_type": "markdown",
   "metadata": {},
   "source": [
    "## Kopiowanie obiektów\n",
    "Jeżeli nie chcemy żeby nowa zmienna byłą referencją do oiektu tylko innym obiektem to musimy skopiować obiekt (dal typów wbudowanych jest to zazwyczaj wywołąniestworznie nowego typu od isniejącego obiektu, np. list([1,2,3,4]))\n",
    "Jest to kopia płytka: pomomo tego że obiekty są rózne to ich zawartosć ma referencje do oryginalnych obiektów - zmiana któ©egokolwiek z nich skutują zmianą w obydwóch obiektach.\n",
    "\n",
    "dlatego funkcjonuje jeszcze kopia głąboka - któ©a kopiuje wszystkie elementy rekurencyjnie.\n",
    "głęboką kopię uzyskuje się funkcją deepcopy z modułu copy\n",
    "\n",
    "kopiowanie w klasach użytkownika można obsłuzyc implementująć metody \\_\\_copy\\_\\_ i \\_\\_deepcopy\\_\\__"
   ]
  }
 ],
 "metadata": {
  "kernelspec": {
   "display_name": "Python 3",
   "language": "python",
   "name": "python3"
  },
  "language_info": {
   "codemirror_mode": {
    "name": "ipython",
    "version": 3
   },
   "file_extension": ".py",
   "mimetype": "text/x-python",
   "name": "python",
   "nbconvert_exporter": "python",
   "pygments_lexer": "ipython3",
   "version": "3.6.1"
  }
 },
 "nbformat": 4,
 "nbformat_minor": 2
}
