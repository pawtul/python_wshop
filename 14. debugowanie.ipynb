{
 "cells": [
  {
   "cell_type": "markdown",
   "metadata": {},
   "source": [
    "Do debugowania służy wbudowany moduł pdb"
   ]
  },
  {
   "cell_type": "code",
   "execution_count": null,
   "metadata": {},
   "outputs": [],
   "source": [
    "# najprostsze użycie\n",
    "\n",
    "def funkcja(*args, **kwargs):\n",
    "    # kod\n",
    "    # kod\n",
    "    import pdb; pdb.set_trace()\n",
    "    # kod\n",
    "    # kod\n",
    "    \n",
    "funkcja()"
   ]
  },
  {
   "cell_type": "markdown",
   "metadata": {},
   "source": [
    "pdb możę również odpalać skrypty z posiomu terminala\n",
    "\n",
    "*python -m pdb skrypt.py*\n",
    "\n",
    "wywołanie takie sprawi, że skrypt zostanie załadowany a pdb zatrzyma się na pierwszej niepustej linijce (komentarze itp. sie nie liczą)"
   ]
  },
  {
   "cell_type": "markdown",
   "metadata": {},
   "source": [
    "Debugowanie można odpalić z trybu interaktywnego uzywajac funkcji *run* - funkcja *run*\n",
    "przyjmuje argument będący stringiem i wykonuje go, przy okazji zatrzymuąc debuger na pierwszej linii"
   ]
  },
  {
   "cell_type": "code",
   "execution_count": null,
   "metadata": {},
   "outputs": [],
   "source": [
    "import pdb\n",
    "from examples.pdb import pdb_modul\n",
    "\n",
    "\n",
    "pdb.run('pdb_modul.funkcja(1, 2, 3)')"
   ]
  },
  {
   "cell_type": "markdown",
   "metadata": {},
   "source": [
    "pdb może być urucomiony w trybie *post mortem* - wtedy kiedy program zakończy się niepowodzeniem. Do tego uruchomienia służą funkcja *pm*"
   ]
  },
  {
   "cell_type": "code",
   "execution_count": null,
   "metadata": {},
   "outputs": [],
   "source": [
    "import pdb\n",
    "from examples.pdb import pdb_modul\n",
    "\n",
    "pdb_modul.funkcja_broken()"
   ]
  },
  {
   "cell_type": "code",
   "execution_count": null,
   "metadata": {},
   "outputs": [],
   "source": [
    "pdb.pm()"
   ]
  },
  {
   "cell_type": "markdown",
   "metadata": {},
   "source": [
    "## Poruszanie się w debuggerze\n",
    "\n",
    "do poruszania się po debugerze dłuzy kilka komend\n",
    "\n",
    "lista komend może byc przywołana komendą help/h\n",
    "\n",
    "inne przydathe komendy:\n",
    "* where/w - pokazuje informacje o obacnej linijce - linijka + moduł + numer linii + stos wywołań\n",
    "* list/l - pokazuje okalający fragment kodu z zaznaczoną obecna linijką\n",
    "* up/down - poruszanie się po stosie wywołań w górę (starsze wywołania) i dół\n",
    "* args/a - pokazuje argumenty z jakimi została wywołąna funkcja\n",
    "* ! - oznacza fragment kody pythonowego do wykonania\n",
    "* pp - pretty printing - print tylko z ładnym formatowaniem\n",
    "* step/s - wchodzi do wywoływanej funkcji lub wykonuje kolejną linijkę\n",
    "* next/n - wykonuje kolejną linijkę bez wchodzenia do funkcji\n",
    "* until - jak next tylko wykonuje kod tak długo póki nie przejdzie do kolejnej linijki (dobre w przypadku pętli)\n",
    "\n",
    "* return - wykonuje się a do czasu zwracania przez obecną funkcję (ale nie zwraca i można podejrzeć zwracaną wartość)\n",
    "\n",
    "\n",
    "* break - ustawia breakpoint (bez argumentów wyświetla breakpointy)\n",
    "* continue - wykonuje kod aż do breakpointu\n",
    "* disable - deaktywuje breakpoint o danym ID (wziętym z komendy break)\n",
    "* enable - aktywuje breakpoint \n",
    "* clear - usuwa breakpoint(y)\n",
    "* tbreak - breakpoint tymczasowy - na 1 raz\n",
    "* condition - dodaje warunek do breakpointu, który musi byc spełniony, żeby zatrzymać debugger\n",
    "* ignore - ignoruje breakpoint określoną liczbę razy - powtórne ignorowanei z counterem 0 aktywuje breakpoint\n",
    "* commands ... end - pozwala zdefiniować komendy triggerowane na breakpoincie\n",
    "* jump - do przeskakiwania fragmentów kodu\n",
    "\n",
    "\n",
    "* run - restartuje program - argumenty podane po run są traktowane jak argumenty z linii komend\n",
    "* alias - dodaje alias do kodu pythonowego\n",
    "* unalias - cofa definicję aliasu\n",
    "\n",
    "konfiguracja startowa może być przechowywana w pliku .pdbrc w katalogu domowym i lokalnym katalogu projektu\n",
    "\n"
   ]
  },
  {
   "cell_type": "code",
   "execution_count": null,
   "metadata": {},
   "outputs": [],
   "source": [
    "import pdb\n",
    "pdb.set_trace()"
   ]
  },
  {
   "cell_type": "markdown",
   "metadata": {},
   "source": [
    "Nakładką na pdb jest moduł ipdb (zewnętrzny)."
   ]
  },
  {
   "cell_type": "code",
   "execution_count": null,
   "metadata": {
    "collapsed": true
   },
   "outputs": [],
   "source": []
  }
 ],
 "metadata": {
  "kernelspec": {
   "display_name": "Python 2",
   "language": "python",
   "name": "python2"
  },
  "language_info": {
   "codemirror_mode": {
    "name": "ipython",
    "version": 2
   },
   "file_extension": ".py",
   "mimetype": "text/x-python",
   "name": "python",
   "nbconvert_exporter": "python",
   "pygments_lexer": "ipython2",
   "version": "2.7.13"
  }
 },
 "nbformat": 4,
 "nbformat_minor": 2
}
