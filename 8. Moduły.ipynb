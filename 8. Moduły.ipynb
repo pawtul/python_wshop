{
 "cells": [
  {
   "cell_type": "markdown",
   "metadata": {},
   "source": [
    "## Moduły"
   ]
  },
  {
   "cell_type": "markdown",
   "metadata": {},
   "source": [
    "Moduły służą do przechowywania kodu do ponownego użytku.\n",
    "\n",
    "Importowanie:\n",
    "\n",
    "import <nazwa> [as <alias>] \n",
    "\n",
    "from <nazwa> import <obiekt> [as <alias>]\n",
    "\n",
    "from <nazwa> import *  <- importuje całą zawartość mogułu - odradzane\n"
   ]
  },
  {
   "cell_type": "code",
   "execution_count": null,
   "metadata": {},
   "outputs": [],
   "source": [
    "from __future__ import print_function\n",
    "\n",
    "import collections as col\n",
    "from collections import Counter as C\n",
    "from collections import *"
   ]
  },
  {
   "cell_type": "markdown",
   "metadata": {},
   "source": [
    "## Pakiety\n",
    "\n",
    "Moduły można grupować w pakiety (package) - katalogi z modułami.\n",
    "Żeby Python zinterpretował katalog jako pakiet, w katalogu musi się znajdować plik \\_\\_init\\_\\_.py (może być pusty)"
   ]
  },
  {
   "cell_type": "markdown",
   "metadata": {},
   "source": [
    "## Wczytywanie ponowne modułu\n",
    "Moduł można wczytać ponownie przy pomocy funkcji reload. Moduł musi być wcześniej zaimportowany."
   ]
  },
  {
   "cell_type": "code",
   "execution_count": null,
   "metadata": {},
   "outputs": [],
   "source": [
    "# Python2\n",
    "import collections\n",
    "reload(collections)"
   ]
  },
  {
   "cell_type": "code",
   "execution_count": null,
   "metadata": {},
   "outputs": [],
   "source": [
    "# Python3\n",
    "from importlib import reload\n",
    "reload(collections)"
   ]
  },
  {
   "cell_type": "markdown",
   "metadata": {},
   "source": [
    "# Zakres globalny i lokalny\n",
    "\n",
    "Zakres globalny to zakres lokalny pliku. Nie da się zrobić zobiektów 'obiektywnie' globalnych bez importowania ich w poszczególnych modułach\n",
    "\n",
    "Obiekty dostępne w przestrzeni globalnej można uzyskać dzięki funkcji globals().\n",
    "\n",
    "Obiekty lokalne w danm zakresie można uzyskać funkcją locals()"
   ]
  },
  {
   "cell_type": "code",
   "execution_count": null,
   "metadata": {},
   "outputs": [],
   "source": [
    "from pprint import pprint\n",
    "\n",
    "x = 1\n",
    "y = 2\n",
    "\n",
    "def f():\n",
    "    a = 0\n",
    "    b = 9\n",
    "    print('f/locals')\n",
    "    pprint(locals())\n",
    "\n",
    "\n",
    "f()"
   ]
  },
  {
   "cell_type": "code",
   "execution_count": null,
   "metadata": {},
   "outputs": [],
   "source": [
    "pprint(globals())"
   ]
  },
  {
   "cell_type": "code",
   "execution_count": null,
   "metadata": {},
   "outputs": [],
   "source": [
    "pprint(locals())"
   ]
  },
  {
   "cell_type": "markdown",
   "metadata": {},
   "source": [
    "## Specjalne nazwy\n",
    "obiekty których nazwy rozpoczynają się od _ nie są importowane podczas importu:\n",
    "from <nazwa> import *\n",
    "\n",
    "chyba, że zostaną dodane do listy (ich nazwy) \\_\\_all\\_\\_ (wszystkie nieuwzglednione obiekty zostaną pominięte - nawet te mające nazwy nie rozpoczynające się od _)"
   ]
  },
  {
   "cell_type": "code",
   "execution_count": null,
   "metadata": {},
   "outputs": [],
   "source": [
    "# zawartosć with_private.py\n",
    "#def f():\n",
    "#    print 'with_private.f'\n",
    "#\n",
    "#\n",
    "#def _private():\n",
    "#    print 'with_private._private'\n",
    "\n",
    "\n",
    "from examples.modules.with_private import *\n",
    "\n",
    "f()  # zaimportowane\n",
    "try:\n",
    "    _private()  # nie zaimportowane\n",
    "except NameError:\n",
    "    print ':('\n",
    "    \n",
    "\n",
    "print('---')\n",
    "# zawartosć with_all.py\n",
    "#__all__ = ['_private', 'g']\n",
    "#\n",
    "#def f():\n",
    "#    print 'with_private.f'\n",
    "#\n",
    "#\n",
    "#def _private():\n",
    "#    print 'with_private._private'\n",
    "#\n",
    "#\n",
    "#def g():\n",
    "#    print 'with_private.g'\n",
    "\n",
    "from examples.modules.with_all import *\n",
    "\n",
    "_private()  # zaimportowało się\n",
    "g()  # zaimportowało sie\n",
    "f()  # nie zaimportowało się - wywołuje się z poprzedniego importu\n",
    "\n",
    "\n"
   ]
  },
  {
   "cell_type": "markdown",
   "metadata": {},
   "source": [
    "## Plik \\_\\_init\\_\\_.py\n",
    "\n",
    "Wewnątrz pakadży dodaje się plik \\_\\_init\\_\\_.py jest on wywoływany przy importowaniu pakadżu a lokalne obiekty są przypinane jako atrybuty tego pakadżu (importy też)"
   ]
  },
  {
   "cell_type": "code",
   "execution_count": null,
   "metadata": {},
   "outputs": [],
   "source": [
    "# wnętrze inited/__init__.py\n",
    "#import collections\n",
    "#\n",
    "#print \"__init__.py\"\n",
    "#\n",
    "#def _private():\n",
    "#    print '_private w __init__.py'\n",
    "#.   return 'zwrocone przez _private'\n",
    "#\n",
    "#x = 55\n",
    "#\n",
    "#class A:\n",
    "#    pass\n",
    "#\n",
    "\n",
    "\n",
    "from examples.modules import inited\n",
    "\n",
    "print('inited.A: ', inited.A) # klasa lokalnie zdefiniowana\n",
    "print('inited.x: ', inited.x)  # zmienna lokalna\n",
    "print('inited._private(): ', inited._private())  # funkcja lokalna\n",
    "print('inited.collections: ', inited.collections)  # moduł z biblioteki standardowej zaimportowany w __init__.py\n"
   ]
  },
  {
   "cell_type": "markdown",
   "metadata": {},
   "source": [
    "## if \\_\\_name\\_\\_ == \"\\_\\_main\\_\\_\"\n",
    "\n",
    "w odróżnieniu do innych języków, np. Java czy C++ do uruchomienia skryptu nie jest konieczna \"magiczna\" funkcja main().\n",
    "Równiez wyrażenie _if \\_\\_name\\_\\_ == '\\_\\_main\\_\\_'_ nie jest w żaden sposób magiczne - jest to zwykła instrukcja warunkowa.\n",
    "\n",
    "Ponieważ można wykonywać zarówno \"moduły\" jak i \"skrypty\" i można tez importować \"moduły\" i \"skrypty\" (każdy \"skrypt\" jest też modułem) to potrzebny jest mechanizm, który pozwoli odróznić czy moduł został wykonany czy zaimortowany.\n",
    "\n",
    "Dlatego Interpreter ustawia zmienną \\_\\_name\\_\\_ w module na wartosć \"\\_\\_main\\_\\_\" jeżeli moduł został wykonany jako skrypt a w przypadku importu ustawia wartosć \\_\\_name\\_\\_ na nazwę modułu (np. \"requests\" albo \"urllib\").\n",
    "\n",
    "Nic też nie stoi na przeszkodzie, żeby samemu ustawić zmienną \\_\\_name\\_\\_ i potrolować interpreter (jak w przykładzie)\n",
    "\n",
    "pliki z przykładu są w katalogu examples/modules/name_variable"
   ]
  },
  {
   "cell_type": "code",
   "execution_count": null,
   "metadata": {},
   "outputs": [],
   "source": [
    "# mod1.py\n",
    "print(__name__)  # wypisujemy wartość zmiennej __name__ - chociaż teraz się wydaje, że tej zmiennej niema, to python\n",
    "                 # ustawi ja za nas\n",
    "\n",
    "if __name__ == '__main__':  # sprawdzenie czy zmienna __name__ ma wartosć main - czyli czy moduł wykonuje się jako skrypt\n",
    "    print('uruchomiony')\n",
    "\n",
    "    \n",
    "# mod2.py\n",
    "__name__ = 'kitku'  # sami ustawiamy zmienną __name__ na naszą wybraną wartosć\n",
    "\n",
    "if __name__ == '__main__':  # sprawdzenie czy __name__ to __main__\n",
    "    print('uruchomiono')\n",
    "\n",
    "if __name__ == 'kitku':  # inne sprawdzenie czy __name__ to \"kitku\" - nikt nie zabraniał nam dodać kolejnego sprawdzenia\n",
    "    print('__name__ to kitku')  # czy wartość to przypadkiem nie jest kitku - takich wariacji może byc jeszcze cała masa...\n",
    "\n",
    "    \n",
    "# uruchom.sh\n",
    "\n",
    "#echo \"importowanie mod1.py\"  \n",
    "#python -c \"import mod1\"  # sprawdzamy co się stanie jak moduł będzie zaimportowany\n",
    "#\n",
    "#echo \"============================\"\n",
    "#echo \"uruchamianie mod1.py\"\n",
    "#python mod1.py  # sprawdzamy co się stanie jak moduł będzie uruchomiony\n",
    "#\n",
    "#echo \"============================\"\n",
    "#echo \"importowanie mod2.py\"\n",
    "#python -c \"import mod2\"  # sprawdzamy co się stanie jak zaimportujemy drugi moduł (ten z kitku)\n",
    "#\n",
    "#echo \"============================\"\n",
    "#echo \"uruchamianie mod2.py\"\n",
    "#python mod2.py  # sprawdzamy co się stanie jak uruchomimy mod2.py\n",
    "\n",
    "\n",
    "\n",
    "\n",
    "# wynik po wywołaniu uruchom.sh\n",
    "#importowanie mod1.py\n",
    "#mod1                                       # to oznacza, ze przy imporcie, python ustawił __name__ na mod1\n",
    "#============================\n",
    "#uruchamianie mod1.py\n",
    "#__main__                                   # to oznacza, ze przy uruchomieiu python ustawił __name__ na __main__\n",
    "#uruchomiony                                # i przy okazji wykonał zawartosć bloku if\n",
    "#============================\n",
    "#importowanie mod2.py\n",
    "#__name__ to kitku                          # przy importowaniu mod2 wartosć __name__ została nadpisana przez nas\n",
    "#============================\n",
    "#uruchamianie mod2.py\n",
    "#__name__ to kitku                          # przy uruchomieniu dalej mamy ręcznie ustawiona wartosć __name__ i wywołanie\n",
    "                                            # odpowiedniego bliku if\n"
   ]
  },
  {
   "cell_type": "markdown",
   "metadata": {},
   "source": [
    "powyższe rozwazania można rozszerzyć i dzięki zmiennej \\_\\_file\\_\\_ (przechowującą nazwę pliku - np mod1.py)\n",
    "stworzyć blok if, który wykonuje się tylko przy imporcie:"
   ]
  },
  {
   "cell_type": "code",
   "execution_count": null,
   "metadata": {},
   "outputs": [],
   "source": [
    "module_name = __file__[:-3]  # __file__ zawiera .py\n",
    "# kod\n",
    "if __name__ == module_name:\n",
    "    print(\"zaimportowano mnie :O\")"
   ]
  },
  {
   "cell_type": "markdown",
   "metadata": {},
   "source": [
    "## Ustawianie zmiennych z innych modułach\n",
    "\n",
    "w przypadku zaimportowaniu modułu i podstawieniu/stworzeniu w nim zmiennej, jest ona widoczna dla innych modułów:"
   ]
  },
  {
   "cell_type": "code",
   "execution_count": null,
   "metadata": {},
   "outputs": [],
   "source": [
    "# b.py - pusty plik\n",
    "\n",
    "# a.py\n",
    "import b\n",
    "b.x = 23\n",
    "\n",
    "# main.py\n",
    "import a  # w tym momencie ustawiana jest zmienna x=23 w module b przez moduł a\n",
    "import b  # moduł jest importowany\n",
    "print(b.x)  # wypisze 23 - chociaż moduł b jest pusty\n",
    "\n",
    "# zmiana kolejności importów a i b nie wpływa na rezultat"
   ]
  },
  {
   "cell_type": "code",
   "execution_count": null,
   "metadata": {},
   "outputs": [],
   "source": []
  }
 ],
 "metadata": {
  "kernelspec": {
   "display_name": "Python 3",
   "language": "python",
   "name": "python3"
  },
  "language_info": {
   "codemirror_mode": {
    "name": "ipython",
    "version": 3
   },
   "file_extension": ".py",
   "mimetype": "text/x-python",
   "name": "python",
   "nbconvert_exporter": "python",
   "pygments_lexer": "ipython3",
   "version": "3.6.1"
  }
 },
 "nbformat": 4,
 "nbformat_minor": 2
}
