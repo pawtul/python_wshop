{
 "cells": [
  {
   "cell_type": "markdown",
   "metadata": {},
   "source": [
    "## Moduły"
   ]
  },
  {
   "cell_type": "markdown",
   "metadata": {},
   "source": [
    "Moduły służą do przechowywania kodu do ponownego użytku.\n",
    "\n",
    "Importowanie:\n",
    "\n",
    "import <nazwa> [as <alias>] \n",
    "\n",
    "from <nazwa> import <obiekt> [as <alias>]\n",
    "\n",
    "from <nazwa> import *  <- importuje całą zawartość mogułu - odradzane\n"
   ]
  },
  {
   "cell_type": "code",
   "execution_count": 1,
   "metadata": {
    "collapsed": true
   },
   "outputs": [],
   "source": [
    "import collections as col\n",
    "from collections import Counter as C\n",
    "from collections import *"
   ]
  },
  {
   "cell_type": "markdown",
   "metadata": {},
   "source": [
    "## Pakiety\n",
    "\n",
    "Moduły można grupować w pakiety (package) - katalogi z modułami.\n",
    "Żeby Python zinterpretował katalog jako pakiet, w katalogu musi się znajdować plik \\_\\_init\\_\\_.py (może być pusty)"
   ]
  },
  {
   "cell_type": "code",
   "execution_count": 2,
   "metadata": {},
   "outputs": [
    {
     "ename": "NameError",
     "evalue": "name 'collections' is not defined",
     "output_type": "error",
     "traceback": [
      "\u001b[0;31m---------------------------------------------------------------------------\u001b[0m",
      "\u001b[0;31mNameError\u001b[0m                                 Traceback (most recent call last)",
      "\u001b[0;32m<ipython-input-2-1e5867b64aae>\u001b[0m in \u001b[0;36m<module>\u001b[0;34m()\u001b[0m\n\u001b[0;32m----> 1\u001b[0;31m \u001b[0mreload\u001b[0m\u001b[0;34m(\u001b[0m\u001b[0mcollections\u001b[0m\u001b[0;34m)\u001b[0m\u001b[0;34m\u001b[0m\u001b[0m\n\u001b[0m",
      "\u001b[0;31mNameError\u001b[0m: name 'collections' is not defined"
     ]
    }
   ],
   "source": [
    "reload(collections)\n"
   ]
  },
  {
   "cell_type": "markdown",
   "metadata": {},
   "source": [
    "## Wczytywanie ponowne modułu\n",
    "Moduł można wczytać ponownie przy pomocy funkcji reload. Moduł musi być wcześniej zaimportowany."
   ]
  },
  {
   "cell_type": "code",
   "execution_count": 3,
   "metadata": {},
   "outputs": [
    {
     "data": {
      "text/plain": [
       "<module 'collections' from '/usr/lib/python2.7/collections.pyc'>"
      ]
     },
     "execution_count": 3,
     "metadata": {},
     "output_type": "execute_result"
    }
   ],
   "source": [
    "import collections\n",
    "reload(collections)"
   ]
  },
  {
   "cell_type": "markdown",
   "metadata": {},
   "source": [
    "# Zakres globalny i lokalny\n",
    "\n",
    "Obiekty dostępne w przestrzeni globalnej można uzyskać dzię…i funkcji globals().\n",
    "\n",
    "Obiekty lokalne w danm zakresie można uzyskać funkcją locals()"
   ]
  },
  {
   "cell_type": "code",
   "execution_count": 11,
   "metadata": {},
   "outputs": [
    {
     "name": "stdout",
     "output_type": "stream",
     "text": [
      "{'a': 0, 'b': 9}\n",
      "==================================================\n",
      "{'C': <class 'collections.Counter'>,\n",
      " 'Callable': <class '_abcoll.Callable'>,\n",
      " 'Container': <class '_abcoll.Container'>,\n",
      " 'Counter': <class 'collections.Counter'>,\n",
      " 'Hashable': <class '_abcoll.Hashable'>,\n",
      " 'In': ['',\n",
      "        u'import collections as col\\nfrom collections import Counter as C\\nfrom collections import *',\n",
      "        u'reload(collections)',\n",
      "        u'import collections\\nreload(collections)',\n",
      "        u'x = 1\\ny = 2\\n\\ndef f():\\n    a = 0\\n    b = 9\\n    print locals()\\n    \\nprint globals()\\nprint locals()',\n",
      "        u\"x = 1\\ny = 2\\n\\ndef f():\\n    a = 0\\n    b = 9\\n    print locals()\\n    \\nprint globals()\\nprint 50 * '='\\nprint locals()\",\n",
      "        u\"x = 1\\ny = 2\\n\\ndef f():\\n    a = 0\\n    b = 9\\n    print locals()\\n    print 50 * '='\\n\\n    \\nprint globals()\\nprint 50 * '='\\nprint locals()\",\n",
      "        u\"from pprint import pprint\\n\\nx = 1\\ny = 2\\n\\ndef f():\\n    a = 0\\n    b = 9\\n    pprint(locals())\\n    print 50 * '='\\n\\n    \\nprint globals()\\nprint 50 * '='\\nprint locals()\",\n",
      "        u\"from pprint import pprint\\n\\nx = 1\\ny = 2\\n\\ndef f():\\n    a = 0\\n    b = 9\\n    pprint(locals())\\n    print 50 * '='\\n\\n    \\npprint(globals())\\nprint 50 * '='\\npprint(locals())\",\n",
      "        u\"from pprint import pprint\\n\\nx = 1\\ny = 2\\n\\ndef f():\\n    a = 0\\n    b = 9\\n    pprint(locals())\\n    print 50 * '='\\n\\n\\nf()\\nprint 50 * '='\\npprint(globals())\\nprint 50 * '='\\npprint(locals())\",\n",
      "        u\"from pprint import pprint\\n\\nx = 1\\ny = 2\\n\\ndef f():\\n    a = 0\\n    b = 9\\n    pprint(locals())\\n\\n\\nf()\\nprint 50 * '='\\npprint(globals())\\nprint 50 * '='\\npprint(locals())\",\n",
      "        u\"from pprint import pprint\\n\\nx = 1\\ny = 2\\n\\ndef f():\\n    a = 0\\n    b = 9\\n    pprint(locals())\\n\\n\\nf()\\nprint 50 * '='\\npprint(globals())\\nprint 50 * '='\\npprint(locals())\"],\n",
      " 'ItemsView': <class '_abcoll.ItemsView'>,\n",
      " 'Iterable': <class '_abcoll.Iterable'>,\n",
      " 'Iterator': <class '_abcoll.Iterator'>,\n",
      " 'KeysView': <class '_abcoll.KeysView'>,\n",
      " 'Mapping': <class '_abcoll.Mapping'>,\n",
      " 'MappingView': <class '_abcoll.MappingView'>,\n",
      " 'MutableMapping': <class '_abcoll.MutableMapping'>,\n",
      " 'MutableSequence': <class '_abcoll.MutableSequence'>,\n",
      " 'MutableSet': <class '_abcoll.MutableSet'>,\n",
      " 'OrderedDict': <class 'collections.OrderedDict'>,\n",
      " 'Out': {3: <module 'collections' from '/usr/lib/python2.7/collections.pyc'>},\n",
      " 'Sequence': <class '_abcoll.Sequence'>,\n",
      " 'Set': <class '_abcoll.Set'>,\n",
      " 'Sized': <class '_abcoll.Sized'>,\n",
      " 'ValuesView': <class '_abcoll.ValuesView'>,\n",
      " '_': <module 'collections' from '/usr/lib/python2.7/collections.pyc'>,\n",
      " '_3': <module 'collections' from '/usr/lib/python2.7/collections.pyc'>,\n",
      " '__': '',\n",
      " '___': '',\n",
      " '__builtin__': <module '__builtin__' (built-in)>,\n",
      " '__builtins__': <module '__builtin__' (built-in)>,\n",
      " '__doc__': 'Automatically created module for IPython interactive environment',\n",
      " '__name__': '__main__',\n",
      " '__package__': None,\n",
      " '_dh': [u'/home/pawel/projekty/spampy2/python_wshop'],\n",
      " '_i': u\"from pprint import pprint\\n\\nx = 1\\ny = 2\\n\\ndef f():\\n    a = 0\\n    b = 9\\n    pprint(locals())\\n\\n\\nf()\\nprint 50 * '='\\npprint(globals())\\nprint 50 * '='\\npprint(locals())\",\n",
      " '_i1': u'import collections as col\\nfrom collections import Counter as C\\nfrom collections import *',\n",
      " '_i10': u\"from pprint import pprint\\n\\nx = 1\\ny = 2\\n\\ndef f():\\n    a = 0\\n    b = 9\\n    pprint(locals())\\n\\n\\nf()\\nprint 50 * '='\\npprint(globals())\\nprint 50 * '='\\npprint(locals())\",\n",
      " '_i11': u\"from pprint import pprint\\n\\nx = 1\\ny = 2\\n\\ndef f():\\n    a = 0\\n    b = 9\\n    pprint(locals())\\n\\n\\nf()\\nprint 50 * '='\\npprint(globals())\\nprint 50 * '='\\npprint(locals())\",\n",
      " '_i2': u'reload(collections)',\n",
      " '_i3': u'import collections\\nreload(collections)',\n",
      " '_i4': u'x = 1\\ny = 2\\n\\ndef f():\\n    a = 0\\n    b = 9\\n    print locals()\\n    \\nprint globals()\\nprint locals()',\n",
      " '_i5': u\"x = 1\\ny = 2\\n\\ndef f():\\n    a = 0\\n    b = 9\\n    print locals()\\n    \\nprint globals()\\nprint 50 * '='\\nprint locals()\",\n",
      " '_i6': u\"x = 1\\ny = 2\\n\\ndef f():\\n    a = 0\\n    b = 9\\n    print locals()\\n    print 50 * '='\\n\\n    \\nprint globals()\\nprint 50 * '='\\nprint locals()\",\n",
      " '_i7': u\"from pprint import pprint\\n\\nx = 1\\ny = 2\\n\\ndef f():\\n    a = 0\\n    b = 9\\n    pprint(locals())\\n    print 50 * '='\\n\\n    \\nprint globals()\\nprint 50 * '='\\nprint locals()\",\n",
      " '_i8': u\"from pprint import pprint\\n\\nx = 1\\ny = 2\\n\\ndef f():\\n    a = 0\\n    b = 9\\n    pprint(locals())\\n    print 50 * '='\\n\\n    \\npprint(globals())\\nprint 50 * '='\\npprint(locals())\",\n",
      " '_i9': u\"from pprint import pprint\\n\\nx = 1\\ny = 2\\n\\ndef f():\\n    a = 0\\n    b = 9\\n    pprint(locals())\\n    print 50 * '='\\n\\n\\nf()\\nprint 50 * '='\\npprint(globals())\\nprint 50 * '='\\npprint(locals())\",\n",
      " '_ih': ['',\n",
      "         u'import collections as col\\nfrom collections import Counter as C\\nfrom collections import *',\n",
      "         u'reload(collections)',\n",
      "         u'import collections\\nreload(collections)',\n",
      "         u'x = 1\\ny = 2\\n\\ndef f():\\n    a = 0\\n    b = 9\\n    print locals()\\n    \\nprint globals()\\nprint locals()',\n",
      "         u\"x = 1\\ny = 2\\n\\ndef f():\\n    a = 0\\n    b = 9\\n    print locals()\\n    \\nprint globals()\\nprint 50 * '='\\nprint locals()\",\n",
      "         u\"x = 1\\ny = 2\\n\\ndef f():\\n    a = 0\\n    b = 9\\n    print locals()\\n    print 50 * '='\\n\\n    \\nprint globals()\\nprint 50 * '='\\nprint locals()\",\n",
      "         u\"from pprint import pprint\\n\\nx = 1\\ny = 2\\n\\ndef f():\\n    a = 0\\n    b = 9\\n    pprint(locals())\\n    print 50 * '='\\n\\n    \\nprint globals()\\nprint 50 * '='\\nprint locals()\",\n",
      "         u\"from pprint import pprint\\n\\nx = 1\\ny = 2\\n\\ndef f():\\n    a = 0\\n    b = 9\\n    pprint(locals())\\n    print 50 * '='\\n\\n    \\npprint(globals())\\nprint 50 * '='\\npprint(locals())\",\n",
      "         u\"from pprint import pprint\\n\\nx = 1\\ny = 2\\n\\ndef f():\\n    a = 0\\n    b = 9\\n    pprint(locals())\\n    print 50 * '='\\n\\n\\nf()\\nprint 50 * '='\\npprint(globals())\\nprint 50 * '='\\npprint(locals())\",\n",
      "         u\"from pprint import pprint\\n\\nx = 1\\ny = 2\\n\\ndef f():\\n    a = 0\\n    b = 9\\n    pprint(locals())\\n\\n\\nf()\\nprint 50 * '='\\npprint(globals())\\nprint 50 * '='\\npprint(locals())\",\n",
      "         u\"from pprint import pprint\\n\\nx = 1\\ny = 2\\n\\ndef f():\\n    a = 0\\n    b = 9\\n    pprint(locals())\\n\\n\\nf()\\nprint 50 * '='\\npprint(globals())\\nprint 50 * '='\\npprint(locals())\"],\n",
      " '_ii': u\"from pprint import pprint\\n\\nx = 1\\ny = 2\\n\\ndef f():\\n    a = 0\\n    b = 9\\n    pprint(locals())\\n    print 50 * '='\\n\\n\\nf()\\nprint 50 * '='\\npprint(globals())\\nprint 50 * '='\\npprint(locals())\",\n",
      " '_iii': u\"from pprint import pprint\\n\\nx = 1\\ny = 2\\n\\ndef f():\\n    a = 0\\n    b = 9\\n    pprint(locals())\\n    print 50 * '='\\n\\n    \\npprint(globals())\\nprint 50 * '='\\npprint(locals())\",\n",
      " '_oh': {3: <module 'collections' from '/usr/lib/python2.7/collections.pyc'>},\n",
      " '_sh': <module 'IPython.core.shadowns' from '/home/pawel/projekty/spampy2/local/lib/python2.7/site-packages/IPython/core/shadowns.pyc'>,\n",
      " 'col': <module 'collections' from '/usr/lib/python2.7/collections.pyc'>,\n",
      " 'collections': <module 'collections' from '/usr/lib/python2.7/collections.pyc'>,\n",
      " 'defaultdict': <type 'collections.defaultdict'>,\n",
      " 'deque': <type 'collections.deque'>,\n",
      " 'exit': <IPython.core.autocall.ZMQExitAutocall object at 0x7f8db638f3d0>,\n",
      " 'f': <function f at 0x7f8db02fb938>,\n",
      " 'get_ipython': <bound method ZMQInteractiveShell.get_ipython of <ipykernel.zmqshell.ZMQInteractiveShell object at 0x7f8db63b12d0>>,\n",
      " 'namedtuple': <function namedtuple at 0x7f8db65e30c8>,\n",
      " 'pprint': <function pprint at 0x7f8db6114410>,\n",
      " 'quit': <IPython.core.autocall.ZMQExitAutocall object at 0x7f8db638f3d0>,\n",
      " 'x': 1,\n",
      " 'y': 2}\n",
      "==================================================\n",
      "{'C': <class 'collections.Counter'>,\n",
      " 'Callable': <class '_abcoll.Callable'>,\n",
      " 'Container': <class '_abcoll.Container'>,\n",
      " 'Counter': <class 'collections.Counter'>,\n",
      " 'Hashable': <class '_abcoll.Hashable'>,\n",
      " 'In': ['',\n",
      "        u'import collections as col\\nfrom collections import Counter as C\\nfrom collections import *',\n",
      "        u'reload(collections)',\n",
      "        u'import collections\\nreload(collections)',\n",
      "        u'x = 1\\ny = 2\\n\\ndef f():\\n    a = 0\\n    b = 9\\n    print locals()\\n    \\nprint globals()\\nprint locals()',\n",
      "        u\"x = 1\\ny = 2\\n\\ndef f():\\n    a = 0\\n    b = 9\\n    print locals()\\n    \\nprint globals()\\nprint 50 * '='\\nprint locals()\",\n",
      "        u\"x = 1\\ny = 2\\n\\ndef f():\\n    a = 0\\n    b = 9\\n    print locals()\\n    print 50 * '='\\n\\n    \\nprint globals()\\nprint 50 * '='\\nprint locals()\",\n",
      "        u\"from pprint import pprint\\n\\nx = 1\\ny = 2\\n\\ndef f():\\n    a = 0\\n    b = 9\\n    pprint(locals())\\n    print 50 * '='\\n\\n    \\nprint globals()\\nprint 50 * '='\\nprint locals()\",\n",
      "        u\"from pprint import pprint\\n\\nx = 1\\ny = 2\\n\\ndef f():\\n    a = 0\\n    b = 9\\n    pprint(locals())\\n    print 50 * '='\\n\\n    \\npprint(globals())\\nprint 50 * '='\\npprint(locals())\",\n",
      "        u\"from pprint import pprint\\n\\nx = 1\\ny = 2\\n\\ndef f():\\n    a = 0\\n    b = 9\\n    pprint(locals())\\n    print 50 * '='\\n\\n\\nf()\\nprint 50 * '='\\npprint(globals())\\nprint 50 * '='\\npprint(locals())\",\n",
      "        u\"from pprint import pprint\\n\\nx = 1\\ny = 2\\n\\ndef f():\\n    a = 0\\n    b = 9\\n    pprint(locals())\\n\\n\\nf()\\nprint 50 * '='\\npprint(globals())\\nprint 50 * '='\\npprint(locals())\",\n",
      "        u\"from pprint import pprint\\n\\nx = 1\\ny = 2\\n\\ndef f():\\n    a = 0\\n    b = 9\\n    pprint(locals())\\n\\n\\nf()\\nprint 50 * '='\\npprint(globals())\\nprint 50 * '='\\npprint(locals())\"],\n",
      " 'ItemsView': <class '_abcoll.ItemsView'>,\n",
      " 'Iterable': <class '_abcoll.Iterable'>,\n",
      " 'Iterator': <class '_abcoll.Iterator'>,\n",
      " 'KeysView': <class '_abcoll.KeysView'>,\n",
      " 'Mapping': <class '_abcoll.Mapping'>,\n",
      " 'MappingView': <class '_abcoll.MappingView'>,\n",
      " 'MutableMapping': <class '_abcoll.MutableMapping'>,\n",
      " 'MutableSequence': <class '_abcoll.MutableSequence'>,\n",
      " 'MutableSet': <class '_abcoll.MutableSet'>,\n",
      " 'OrderedDict': <class 'collections.OrderedDict'>,\n",
      " 'Out': {3: <module 'collections' from '/usr/lib/python2.7/collections.pyc'>},\n",
      " 'Sequence': <class '_abcoll.Sequence'>,\n",
      " 'Set': <class '_abcoll.Set'>,\n",
      " 'Sized': <class '_abcoll.Sized'>,\n",
      " 'ValuesView': <class '_abcoll.ValuesView'>,\n",
      " '_': <module 'collections' from '/usr/lib/python2.7/collections.pyc'>,\n",
      " '_3': <module 'collections' from '/usr/lib/python2.7/collections.pyc'>,\n",
      " '__': '',\n",
      " '___': '',\n",
      " '__builtin__': <module '__builtin__' (built-in)>,\n",
      " '__builtins__': <module '__builtin__' (built-in)>,\n",
      " '__doc__': 'Automatically created module for IPython interactive environment',\n",
      " '__name__': '__main__',\n",
      " '__package__': None,\n",
      " '_dh': [u'/home/pawel/projekty/spampy2/python_wshop'],\n",
      " '_i': u\"from pprint import pprint\\n\\nx = 1\\ny = 2\\n\\ndef f():\\n    a = 0\\n    b = 9\\n    pprint(locals())\\n\\n\\nf()\\nprint 50 * '='\\npprint(globals())\\nprint 50 * '='\\npprint(locals())\",\n",
      " '_i1': u'import collections as col\\nfrom collections import Counter as C\\nfrom collections import *',\n",
      " '_i10': u\"from pprint import pprint\\n\\nx = 1\\ny = 2\\n\\ndef f():\\n    a = 0\\n    b = 9\\n    pprint(locals())\\n\\n\\nf()\\nprint 50 * '='\\npprint(globals())\\nprint 50 * '='\\npprint(locals())\",\n",
      " '_i11': u\"from pprint import pprint\\n\\nx = 1\\ny = 2\\n\\ndef f():\\n    a = 0\\n    b = 9\\n    pprint(locals())\\n\\n\\nf()\\nprint 50 * '='\\npprint(globals())\\nprint 50 * '='\\npprint(locals())\",\n",
      " '_i2': u'reload(collections)',\n",
      " '_i3': u'import collections\\nreload(collections)',\n",
      " '_i4': u'x = 1\\ny = 2\\n\\ndef f():\\n    a = 0\\n    b = 9\\n    print locals()\\n    \\nprint globals()\\nprint locals()',\n",
      " '_i5': u\"x = 1\\ny = 2\\n\\ndef f():\\n    a = 0\\n    b = 9\\n    print locals()\\n    \\nprint globals()\\nprint 50 * '='\\nprint locals()\",\n",
      " '_i6': u\"x = 1\\ny = 2\\n\\ndef f():\\n    a = 0\\n    b = 9\\n    print locals()\\n    print 50 * '='\\n\\n    \\nprint globals()\\nprint 50 * '='\\nprint locals()\",\n",
      " '_i7': u\"from pprint import pprint\\n\\nx = 1\\ny = 2\\n\\ndef f():\\n    a = 0\\n    b = 9\\n    pprint(locals())\\n    print 50 * '='\\n\\n    \\nprint globals()\\nprint 50 * '='\\nprint locals()\",\n",
      " '_i8': u\"from pprint import pprint\\n\\nx = 1\\ny = 2\\n\\ndef f():\\n    a = 0\\n    b = 9\\n    pprint(locals())\\n    print 50 * '='\\n\\n    \\npprint(globals())\\nprint 50 * '='\\npprint(locals())\",\n",
      " '_i9': u\"from pprint import pprint\\n\\nx = 1\\ny = 2\\n\\ndef f():\\n    a = 0\\n    b = 9\\n    pprint(locals())\\n    print 50 * '='\\n\\n\\nf()\\nprint 50 * '='\\npprint(globals())\\nprint 50 * '='\\npprint(locals())\",\n",
      " '_ih': ['',\n",
      "         u'import collections as col\\nfrom collections import Counter as C\\nfrom collections import *',\n",
      "         u'reload(collections)',\n",
      "         u'import collections\\nreload(collections)',\n",
      "         u'x = 1\\ny = 2\\n\\ndef f():\\n    a = 0\\n    b = 9\\n    print locals()\\n    \\nprint globals()\\nprint locals()',\n",
      "         u\"x = 1\\ny = 2\\n\\ndef f():\\n    a = 0\\n    b = 9\\n    print locals()\\n    \\nprint globals()\\nprint 50 * '='\\nprint locals()\",\n",
      "         u\"x = 1\\ny = 2\\n\\ndef f():\\n    a = 0\\n    b = 9\\n    print locals()\\n    print 50 * '='\\n\\n    \\nprint globals()\\nprint 50 * '='\\nprint locals()\",\n",
      "         u\"from pprint import pprint\\n\\nx = 1\\ny = 2\\n\\ndef f():\\n    a = 0\\n    b = 9\\n    pprint(locals())\\n    print 50 * '='\\n\\n    \\nprint globals()\\nprint 50 * '='\\nprint locals()\",\n",
      "         u\"from pprint import pprint\\n\\nx = 1\\ny = 2\\n\\ndef f():\\n    a = 0\\n    b = 9\\n    pprint(locals())\\n    print 50 * '='\\n\\n    \\npprint(globals())\\nprint 50 * '='\\npprint(locals())\",\n",
      "         u\"from pprint import pprint\\n\\nx = 1\\ny = 2\\n\\ndef f():\\n    a = 0\\n    b = 9\\n    pprint(locals())\\n    print 50 * '='\\n\\n\\nf()\\nprint 50 * '='\\npprint(globals())\\nprint 50 * '='\\npprint(locals())\",\n",
      "         u\"from pprint import pprint\\n\\nx = 1\\ny = 2\\n\\ndef f():\\n    a = 0\\n    b = 9\\n    pprint(locals())\\n\\n\\nf()\\nprint 50 * '='\\npprint(globals())\\nprint 50 * '='\\npprint(locals())\",\n",
      "         u\"from pprint import pprint\\n\\nx = 1\\ny = 2\\n\\ndef f():\\n    a = 0\\n    b = 9\\n    pprint(locals())\\n\\n\\nf()\\nprint 50 * '='\\npprint(globals())\\nprint 50 * '='\\npprint(locals())\"],\n",
      " '_ii': u\"from pprint import pprint\\n\\nx = 1\\ny = 2\\n\\ndef f():\\n    a = 0\\n    b = 9\\n    pprint(locals())\\n    print 50 * '='\\n\\n\\nf()\\nprint 50 * '='\\npprint(globals())\\nprint 50 * '='\\npprint(locals())\",\n",
      " '_iii': u\"from pprint import pprint\\n\\nx = 1\\ny = 2\\n\\ndef f():\\n    a = 0\\n    b = 9\\n    pprint(locals())\\n    print 50 * '='\\n\\n    \\npprint(globals())\\nprint 50 * '='\\npprint(locals())\",\n",
      " '_oh': {3: <module 'collections' from '/usr/lib/python2.7/collections.pyc'>},\n",
      " '_sh': <module 'IPython.core.shadowns' from '/home/pawel/projekty/spampy2/local/lib/python2.7/site-packages/IPython/core/shadowns.pyc'>,\n",
      " 'col': <module 'collections' from '/usr/lib/python2.7/collections.pyc'>,\n",
      " 'collections': <module 'collections' from '/usr/lib/python2.7/collections.pyc'>,\n",
      " 'defaultdict': <type 'collections.defaultdict'>,\n",
      " 'deque': <type 'collections.deque'>,\n",
      " 'exit': <IPython.core.autocall.ZMQExitAutocall object at 0x7f8db638f3d0>,\n",
      " 'f': <function f at 0x7f8db02fb938>,\n",
      " 'get_ipython': <bound method ZMQInteractiveShell.get_ipython of <ipykernel.zmqshell.ZMQInteractiveShell object at 0x7f8db63b12d0>>,\n",
      " 'namedtuple': <function namedtuple at 0x7f8db65e30c8>,\n",
      " 'pprint': <function pprint at 0x7f8db6114410>,\n",
      " 'quit': <IPython.core.autocall.ZMQExitAutocall object at 0x7f8db638f3d0>,\n",
      " 'x': 1,\n",
      " 'y': 2}\n"
     ]
    }
   ],
   "source": [
    "from pprint import pprint\n",
    "\n",
    "x = 1\n",
    "y = 2\n",
    "\n",
    "def f():\n",
    "    a = 0\n",
    "    b = 9\n",
    "    pprint(locals())\n",
    "\n",
    "\n",
    "f()\n",
    "print 50 * '='\n",
    "pprint(globals())\n",
    "print 50 * '='\n",
    "pprint(locals())"
   ]
  },
  {
   "cell_type": "markdown",
   "metadata": {},
   "source": [
    "## Specjalne nazwy\n",
    "obiekty których nazwy rozpoczynają się od _ nie są importowane podczas importu:\n",
    "from <nazwa> import *\n",
    "\n",
    "chyba, że zostaną dodane do listy (ich nazwy) __all__ (wszystkie nieuwzglednione obiekty zostaną pominięte)"
   ]
  }
 ],
 "metadata": {
  "kernelspec": {
   "display_name": "Python 2",
   "language": "python",
   "name": "python2"
  },
  "language_info": {
   "codemirror_mode": {
    "name": "ipython",
    "version": 2
   },
   "file_extension": ".py",
   "mimetype": "text/x-python",
   "name": "python",
   "nbconvert_exporter": "python",
   "pygments_lexer": "ipython2",
   "version": "2.7.12"
  }
 },
 "nbformat": 4,
 "nbformat_minor": 2
}
