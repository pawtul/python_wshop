{
 "cells": [
  {
   "cell_type": "markdown",
   "metadata": {},
   "source": [
    "## Moduły"
   ]
  },
  {
   "cell_type": "markdown",
   "metadata": {},
   "source": [
    "Moduły służą do przechowywania kodu do ponownego użytku.\n",
    "\n",
    "Importowanie:\n",
    "\n",
    "import <nazwa> [as <alias>] \n",
    "\n",
    "from <nazwa> import <obiekt> [as <alias>]\n",
    "\n",
    "from <nazwa> import *  <- importuje całą zawartość mogułu - odradzane\n"
   ]
  },
  {
   "cell_type": "code",
   "execution_count": null,
   "metadata": {
    "collapsed": true
   },
   "outputs": [],
   "source": [
    "import collections as col\n",
    "from collections import Counter as C\n",
    "from collections import *"
   ]
  },
  {
   "cell_type": "markdown",
   "metadata": {},
   "source": [
    "## Pakiety\n",
    "\n",
    "Moduły można grupować w pakiety (package) - katalogi z modułami.\n",
    "Żeby Python zinterpretował katalog jako pakiet, w katalogu musi się znajdować plik \\_\\_init\\_\\_.py (może być pusty)"
   ]
  },
  {
   "cell_type": "code",
   "execution_count": null,
   "metadata": {},
   "outputs": [],
   "source": [
    "reload(collections)\n"
   ]
  },
  {
   "cell_type": "markdown",
   "metadata": {},
   "source": [
    "## Wczytywanie ponowne modułu\n",
    "Moduł można wczytać ponownie przy pomocy funkcji reload. Moduł musi być wcześniej zaimportowany."
   ]
  },
  {
   "cell_type": "code",
   "execution_count": null,
   "metadata": {},
   "outputs": [],
   "source": [
    "import collections\n",
    "reload(collections)"
   ]
  },
  {
   "cell_type": "markdown",
   "metadata": {},
   "source": [
    "# Zakres globalny i lokalny\n",
    "\n",
    "Obiekty dostępne w przestrzeni globalnej można uzyskać dzię…i funkcji globals().\n",
    "\n",
    "Obiekty lokalne w danm zakresie można uzyskać funkcją locals()"
   ]
  },
  {
   "cell_type": "code",
   "execution_count": null,
   "metadata": {},
   "outputs": [],
   "source": [
    "from pprint import pprint\n",
    "\n",
    "x = 1\n",
    "y = 2\n",
    "\n",
    "def f():\n",
    "    a = 0\n",
    "    b = 9\n",
    "    pprint(locals())\n",
    "\n",
    "\n",
    "f()\n",
    "print 50 * '='\n",
    "pprint(globals())\n",
    "print 50 * '='\n",
    "pprint(locals())"
   ]
  },
  {
   "cell_type": "markdown",
   "metadata": {},
   "source": [
    "## Specjalne nazwy\n",
    "obiekty których nazwy rozpoczynają się od _ nie są importowane podczas importu:\n",
    "from <nazwa> import *\n",
    "\n",
    "chyba, że zostaną dodane do listy (ich nazwy) __all__ (wszystkie nieuwzglednione obiekty zostaną pominięte)"
   ]
  }
 ],
 "metadata": {
  "kernelspec": {
   "display_name": "Python 2",
   "language": "python",
   "name": "python2"
  },
  "language_info": {
   "codemirror_mode": {
    "name": "ipython",
    "version": 2
   },
   "file_extension": ".py",
   "mimetype": "text/x-python",
   "name": "python",
   "nbconvert_exporter": "python",
   "pygments_lexer": "ipython2",
   "version": "2.7.13"
  }
 },
 "nbformat": 4,
 "nbformat_minor": 2
}
