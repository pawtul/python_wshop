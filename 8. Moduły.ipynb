{
 "cells": [
  {
   "cell_type": "markdown",
   "metadata": {},
   "source": [
    "## Moduły"
   ]
  },
  {
   "cell_type": "markdown",
   "metadata": {},
   "source": [
    "Moduły służą do przechowywania kodu do ponownego użytku.\n",
    "\n",
    "Importowanie:\n",
    "\n",
    "import <nazwa> [as <alias>] \n",
    "\n",
    "from <nazwa> import <obiekt> [as <alias>]\n",
    "\n",
    "from <nazwa> import *  <- importuje całą zawartość mogułu - odradzane\n"
   ]
  },
  {
   "cell_type": "code",
   "execution_count": null,
   "metadata": {},
   "outputs": [],
   "source": [
    "import collections as col\n",
    "from collections import Counter as C\n",
    "from collections import *"
   ]
  },
  {
   "cell_type": "markdown",
   "metadata": {},
   "source": [
    "## Pakiety\n",
    "\n",
    "Moduły można grupować w pakiety (package) - katalogi z modułami.\n",
    "Żeby Python zinterpretował katalog jako pakiet, w katalogu musi się znajdować plik \\_\\_init\\_\\_.py (może być pusty)"
   ]
  },
  {
   "cell_type": "markdown",
   "metadata": {},
   "source": [
    "# Zakres globalny i lokalny\n",
    "\n",
    "Obiekty dostępne w przestrzeni globalnej można uzyskać dzięki funkcji globals().\n",
    "\n",
    "Obiekty lokalne w danm zakresie można uzyskać funkcją locals()"
   ]
  },
  {
   "cell_type": "code",
   "execution_count": null,
   "metadata": {},
   "outputs": [],
   "source": [
    "from pprint import pprint\n",
    "\n",
    "x = 1\n",
    "y = 2\n",
    "\n",
    "def f():\n",
    "    a = 0\n",
    "    b = 9\n",
    "    pprint(locals())\n",
    "\n",
    "\n",
    "f()\n",
    "print(50 * '=')\n",
    "pprint(globals())\n",
    "print(50 * '=')\n",
    "pprint(locals())"
   ]
  },
  {
   "cell_type": "markdown",
   "metadata": {},
   "source": [
    "## Specjalne nazwy\n",
    "obiekty których nazwy rozpoczynają się od _ nie są importowane podczas importu:\n",
    "from <nazwa> import *\n",
    "\n",
    "chyba, że zostaną dodane do listy (ich nazwy) \\_\\_all\\_\\_ (wszystkie nieuwzglednione obiekty zostaną pominięte)"
   ]
  },
  {
   "cell_type": "code",
   "execution_count": null,
   "metadata": {},
   "outputs": [],
   "source": [
    "# zawartosć with_private.py\n",
    "#def f():\n",
    "#    print('with_private.f')\n",
    "#\n",
    "#\n",
    "#def _private():\n",
    "#    print('with_private._private')\n",
    "\n",
    "\n",
    "from examples.modules.with_private import *\n",
    "\n",
    "f()  # zaimportowane\n",
    "try:\n",
    "    _private()  # nie zaimportowane\n",
    "except NameError:\n",
    "    print(':(')\n",
    "    \n",
    "\n",
    "print('---')\n",
    "# zawartosć with_all.py\n",
    "#__all__ = ['_private', 'g']\n",
    "#\n",
    "#def f():\n",
    "#    print('with_private.f')\n",
    "#\n",
    "#\n",
    "#def _private():\n",
    "#    print('with_private._private')\n",
    "#\n",
    "#\n",
    "#def g():\n",
    "\n",
    "from examples.modules.with_all import *\n",
    "\n",
    "_private()  # zaimportowało się\n",
    "g()  # zaimportowało sie\n",
    "f()  # nie zaimportowało się - wywołuje się z poprzedniego importu\n",
    "\n",
    "\n"
   ]
  },
  {
   "cell_type": "markdown",
   "metadata": {},
   "source": [
    "## Plik \\_\\_init\\_\\_.py\n",
    "\n",
    "Wewnątrz pakadży dodaje się plik \\_\\_init\\_\\_.py jest on wywoływany przy importowaniu pakadżu a lokalne obiekty są przypinane jako atrybuty tego pakadżu (importy też)"
   ]
  },
  {
   "cell_type": "code",
   "execution_count": null,
   "metadata": {},
   "outputs": [],
   "source": [
    "# wnętrze inited/__init__.py\n",
    "#import collections\n",
    "#\n",
    "#print \"__init__.py\"\n",
    "#\n",
    "#def _private():\n",
    "#    print '_private w __init__.py'\n",
    "#.   return 'zwrocone przez _private'\n",
    "#\n",
    "#x = 55\n",
    "#\n",
    "#class A:\n",
    "#    pass\n",
    "#\n",
    "\n",
    "\n",
    "from examples.modules import inited\n",
    "\n",
    "print('inited.A: ', inited.A)  # klasa lokalnie zdefiniowana\n",
    "print('inited.x: ', inited.x)  # zmienna lokalna\n",
    "print('inited._private(): ', inited._private())  # funkcja lokalna\n",
    "print('inited.collections: ', inited.collections)  # moduł z biblioteki standardowej zaimportowany w __init__.py\n"
   ]
  }
 ],
 "metadata": {
  "kernelspec": {
   "display_name": "Python 3",
   "language": "python",
   "name": "python3"
  },
  "language_info": {
   "codemirror_mode": {
    "name": "ipython",
    "version": 3
   },
   "file_extension": ".py",
   "mimetype": "text/x-python",
   "name": "python",
   "nbconvert_exporter": "python",
   "pygments_lexer": "ipython3",
   "version": "3.6.1"
  }
 },
 "nbformat": 4,
 "nbformat_minor": 2
}
