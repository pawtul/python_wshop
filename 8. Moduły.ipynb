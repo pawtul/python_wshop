{
 "cells": [
  {
   "cell_type": "markdown",
   "metadata": {},
   "source": [
    "## Moduły"
   ]
  },
  {
   "cell_type": "markdown",
   "metadata": {},
   "source": [
    "Moduły służą do przechowywania kodu do ponownego użytku.\n",
    "\n",
    "Importowanie:\n",
    "```\n",
    "import <nazwa> [as <alias>] \n",
    "\n",
    "from <nazwa> import <obiekt> [as <alias>]\n",
    "\n",
    "from <nazwa> import *  # importuje całą zawartość modułu - odradzane\n",
    "\n",
    "import <nazwa> [as <alias>], <nazwa2> [as <alias2>]  # importowanie kilku modułów na raz\n",
    "\n",
    "from <nazwa> import <obiekt> [as <alias>], <obiekt2> [as <alias2>]  # importowanie kilku obiektów\n",
    "```"
   ]
  },
  {
   "cell_type": "code",
   "execution_count": null,
   "metadata": {},
   "outputs": [],
   "source": [
    "from __future__ import print_function\n",
    "\n",
    "import collections as col\n",
    "from collections import Counter as C\n",
    "from collections import *"
   ]
  },
  {
   "cell_type": "markdown",
   "metadata": {},
   "source": [
    "## Pakiety\n",
    "\n",
    "Moduły można grupować w pakiety (package) - katalogi z modułami.\n",
    "Żeby Python zinterpretował katalog jako pakiet, w katalogu musi się znajdować plik \\_\\_init\\_\\_.py (może być pusty).\n",
    "\n",
    "Podczas importu subpakadżu/modułu wykonywany jest plik \\_\\_init\\_\\_.py tego pakadżu (i subpakadżu, jeżeli został zaimportowany)\n",
    "\n",
    "Pakietem jest również moduł, który ma atrybut \\_\\_path\\_\\_  (lista ze ścieżkami na dysku)\n",
    "\n",
    "\n",
    "Poza zwykłymi pakadżami są jeszcze namespace packages."
   ]
  },
  {
   "cell_type": "markdown",
   "metadata": {},
   "source": [
    "## Namespace Packages\n",
    "\n",
    "Jest to pakadż, skaładający się z wielu katalogów (lub plików zip) składających się na subpackages tego pakadżu.\n",
    "Subpackage te mogą znajdować się w dowolnych miejscach systemu plików/plików zip/sieci. \n",
    "\n",
    "Namespace Packages nie używają atrybutu \\_\\_path\\_\\_ do wyznaczania położenia. Zamiast tego używają typu, który automatycznie wykrywa subpackage przy następnej próbie importu z tego pakadżu\n",
    "\n",
    "Namespace Packages nie mają pliku \\_\\_init\\_\\_.py "
   ]
  },
  {
   "cell_type": "markdown",
   "metadata": {},
   "source": [
    "## Wczytywanie ponowne modułu\n",
    "Moduł można wczytać ponownie przy pomocy funkcji reload. Moduł musi być wcześniej zaimportowany."
   ]
  },
  {
   "cell_type": "code",
   "execution_count": null,
   "metadata": {},
   "outputs": [],
   "source": [
    "# Python2\n",
    "import collections\n",
    "reload(collections)"
   ]
  },
  {
   "cell_type": "code",
   "execution_count": null,
   "metadata": {},
   "outputs": [],
   "source": [
    "# Python3\n",
    "from importlib import reload\n",
    "reload(collections)"
   ]
  },
  {
   "cell_type": "markdown",
   "metadata": {},
   "source": [
    "# Zakres globalny i lokalny\n",
    "\n",
    "Zakres globalny to zakres lokalny pliku. Nie da się zrobić zobiektów 'obiektywnie' globalnych bez importowania ich w poszczególnych modułach\n",
    "\n",
    "Obiekty dostępne w przestrzeni globalnej można uzyskać dzięki funkcji globals().\n",
    "\n",
    "Obiekty lokalne w danm zakresie można uzyskać funkcją locals()"
   ]
  },
  {
   "cell_type": "code",
   "execution_count": null,
   "metadata": {},
   "outputs": [],
   "source": [
    "from pprint import pprint\n",
    "\n",
    "x = 1\n",
    "y = 2\n",
    "\n",
    "def f():\n",
    "    a = 0\n",
    "    b = 9\n",
    "    print('f/locals')\n",
    "    pprint(locals())\n",
    "\n",
    "\n",
    "f()"
   ]
  },
  {
   "cell_type": "code",
   "execution_count": null,
   "metadata": {},
   "outputs": [],
   "source": [
    "pprint(globals())"
   ]
  },
  {
   "cell_type": "code",
   "execution_count": null,
   "metadata": {},
   "outputs": [],
   "source": [
    "pprint(locals())"
   ]
  },
  {
   "cell_type": "markdown",
   "metadata": {},
   "source": [
    "## Specjalne nazwy\n",
    "obiekty których nazwy rozpoczynają się od _ nie są importowane podczas importu:\n",
    "from <nazwa> import *\n",
    "\n",
    "chyba, że zostaną dodane do listy (ich nazwy) \\_\\_all\\_\\_ (wszystkie nieuwzglednione obiekty zostaną pominięte - nawet te mające nazwy nie rozpoczynające się od _)"
   ]
  },
  {
   "cell_type": "code",
   "execution_count": null,
   "metadata": {},
   "outputs": [],
   "source": [
    "# zawartosć with_private.py\n",
    "#def f():\n",
    "#    print 'with_private.f'\n",
    "#\n",
    "#\n",
    "#def _private():\n",
    "#    print 'with_private._private'\n",
    "\n",
    "\n",
    "from examples.modules.with_private import *\n",
    "\n",
    "f()  # zaimportowane\n",
    "try:\n",
    "    _private()  # nie zaimportowane\n",
    "except NameError:\n",
    "    print ':('\n",
    "    \n",
    "\n",
    "print('---')\n",
    "# zawartosć with_all.py\n",
    "#__all__ = ['_private', 'g']\n",
    "#\n",
    "#def f():\n",
    "#    print 'with_private.f'\n",
    "#\n",
    "#\n",
    "#def _private():\n",
    "#    print 'with_private._private'\n",
    "#\n",
    "#\n",
    "#def g():\n",
    "#    print 'with_private.g'\n",
    "\n",
    "from examples.modules.with_all import *\n",
    "\n",
    "_private()  # zaimportowało się\n",
    "g()  # zaimportowało sie\n",
    "f()  # nie zaimportowało się - wywołuje się z poprzedniego importu\n",
    "\n",
    "\n"
   ]
  },
  {
   "cell_type": "markdown",
   "metadata": {},
   "source": [
    "## Plik \\_\\_init\\_\\_.py\n",
    "\n",
    "Wewnątrz pakadży dodaje się plik \\_\\_init\\_\\_.py jest on wywoływany przy importowaniu pakadżu a lokalne obiekty są przypinane jako atrybuty tego pakadżu (importy też)"
   ]
  },
  {
   "cell_type": "code",
   "execution_count": null,
   "metadata": {},
   "outputs": [],
   "source": [
    "# wnętrze inited/__init__.py\n",
    "#import collections\n",
    "#\n",
    "#print \"__init__.py\"\n",
    "#\n",
    "#def _private():\n",
    "#    print '_private w __init__.py'\n",
    "#.   return 'zwrocone przez _private'\n",
    "#\n",
    "#x = 55\n",
    "#\n",
    "#class A:\n",
    "#    pass\n",
    "#\n",
    "\n",
    "\n",
    "from examples.modules import inited\n",
    "\n",
    "print('inited.A: ', inited.A) # klasa lokalnie zdefiniowana\n",
    "print('inited.x: ', inited.x)  # zmienna lokalna\n",
    "print('inited._private(): ', inited._private())  # funkcja lokalna\n",
    "print('inited.collections: ', inited.collections)  # moduł z biblioteki standardowej zaimportowany w __init__.py\n"
   ]
  },
  {
   "cell_type": "markdown",
   "metadata": {},
   "source": [
    "## if \\_\\_name\\_\\_ == \"\\_\\_main\\_\\_\"\n",
    "\n",
    "w odróżnieniu do innych języków, np. Java czy C++ do uruchomienia skryptu nie jest konieczna \"magiczna\" funkcja main().\n",
    "Równiez wyrażenie _if \\_\\_name\\_\\_ == '\\_\\_main\\_\\_'_ nie jest w żaden sposób magiczne - jest to zwykła instrukcja warunkowa.\n",
    "\n",
    "Ponieważ można wykonywać zarówno \"moduły\" jak i \"skrypty\" i można tez importować \"moduły\" i \"skrypty\" (każdy \"skrypt\" jest też modułem) to potrzebny jest mechanizm, który pozwoli odróznić czy moduł został wykonany czy zaimortowany.\n",
    "\n",
    "Dlatego Interpreter ustawia zmienną \\_\\_name\\_\\_ w module na wartosć \"\\_\\_main\\_\\_\" jeżeli moduł został wykonany jako skrypt a w przypadku importu ustawia wartosć \\_\\_name\\_\\_ na nazwę modułu (np. \"requests\" albo \"urllib\").\n",
    "\n",
    "Nic też nie stoi na przeszkodzie, żeby samemu ustawić zmienną \\_\\_name\\_\\_ i potrolować interpreter (jak w przykładzie)\n",
    "\n",
    "pliki z przykładu są w katalogu examples/modules/name_variable"
   ]
  },
  {
   "cell_type": "code",
   "execution_count": null,
   "metadata": {},
   "outputs": [],
   "source": [
    "# mod1.py\n",
    "print(__name__)  # wypisujemy wartość zmiennej __name__ - chociaż teraz się wydaje, że tej zmiennej niema, to python\n",
    "                 # ustawi ja za nas\n",
    "\n",
    "if __name__ == '__main__':  # sprawdzenie czy zmienna __name__ ma wartosć main - czyli czy moduł wykonuje się jako skrypt\n",
    "    print('uruchomiony')\n",
    "\n",
    "    \n",
    "# mod2.py\n",
    "__name__ = 'kitku'  # sami ustawiamy zmienną __name__ na naszą wybraną wartosć\n",
    "\n",
    "if __name__ == '__main__':  # sprawdzenie czy __name__ to __main__\n",
    "    print('uruchomiono')\n",
    "\n",
    "if __name__ == 'kitku':  # inne sprawdzenie czy __name__ to \"kitku\" - nikt nie zabraniał nam dodać kolejnego sprawdzenia\n",
    "    print('__name__ to kitku')  # czy wartość to przypadkiem nie jest kitku - takich wariacji może byc jeszcze cała masa...\n",
    "\n",
    "    \n",
    "# uruchom.sh\n",
    "\n",
    "#echo \"importowanie mod1.py\"  \n",
    "#python -c \"import mod1\"  # sprawdzamy co się stanie jak moduł będzie zaimportowany\n",
    "#\n",
    "#echo \"============================\"\n",
    "#echo \"uruchamianie mod1.py\"\n",
    "#python mod1.py  # sprawdzamy co się stanie jak moduł będzie uruchomiony\n",
    "#\n",
    "#echo \"============================\"\n",
    "#echo \"importowanie mod2.py\"\n",
    "#python -c \"import mod2\"  # sprawdzamy co się stanie jak zaimportujemy drugi moduł (ten z kitku)\n",
    "#\n",
    "#echo \"============================\"\n",
    "#echo \"uruchamianie mod2.py\"\n",
    "#python mod2.py  # sprawdzamy co się stanie jak uruchomimy mod2.py\n",
    "\n",
    "\n",
    "\n",
    "\n",
    "# wynik po wywołaniu uruchom.sh\n",
    "#importowanie mod1.py\n",
    "#mod1                                       # to oznacza, ze przy imporcie, python ustawił __name__ na mod1\n",
    "#============================\n",
    "#uruchamianie mod1.py\n",
    "#__main__                                   # to oznacza, ze przy uruchomieiu python ustawił __name__ na __main__\n",
    "#uruchomiony                                # i przy okazji wykonał zawartosć bloku if\n",
    "#============================\n",
    "#importowanie mod2.py\n",
    "#__name__ to kitku                          # przy importowaniu mod2 wartosć __name__ została nadpisana przez nas\n",
    "#============================\n",
    "#uruchamianie mod2.py\n",
    "#__name__ to kitku                          # przy uruchomieniu dalej mamy ręcznie ustawiona wartosć __name__ i wywołanie\n",
    "                                            # odpowiedniego bliku if\n"
   ]
  },
  {
   "cell_type": "markdown",
   "metadata": {},
   "source": [
    "powyższe rozwazania można rozszerzyć i dzięki zmiennej \\_\\_file\\_\\_ (przechowującą nazwę pliku - np mod1.py)\n",
    "stworzyć blok if, który wykonuje się tylko przy imporcie:"
   ]
  },
  {
   "cell_type": "code",
   "execution_count": null,
   "metadata": {},
   "outputs": [],
   "source": [
    "module_name = __file__[:-3]  # __file__ zawiera .py\n",
    "# kod\n",
    "if __name__ == module_name:\n",
    "    print(\"zaimportowano mnie :O\")"
   ]
  },
  {
   "cell_type": "markdown",
   "metadata": {},
   "source": [
    "#### \\_\\_name\\_\\_ == \\_\\_main\\_\\_ a pakadże\n",
    "\n",
    "Jeżeli chcemu uruchomić pakadż (mający formę katalogu) jako skrypt to możemy to zrobić - do katalogu należy dodać plik \\_\\_main\\_\\_.py, który będzie wykonany kiedy będziemy chcieli wywołać pakadź (bezpośrednio albo z opcją -m):"
   ]
  },
  {
   "cell_type": "markdown",
   "metadata": {},
   "source": [
    "## Ustawianie zmiennych z innych modułach\n",
    "\n",
    "w przypadku zaimportowaniu modułu i podstawieniu/stworzeniu w nim zmiennej, jest ona widoczna dla innych modułów:"
   ]
  },
  {
   "cell_type": "code",
   "execution_count": null,
   "metadata": {},
   "outputs": [],
   "source": [
    "# b.py - pusty plik\n",
    "\n",
    "# a.py\n",
    "import b\n",
    "b.x = 23\n",
    "\n",
    "# main.py\n",
    "import a  # w tym momencie ustawiana jest zmienna x=23 w module b przez moduł a\n",
    "import b  # moduł jest importowany\n",
    "print(b.x)  # wypisze 23 - chociaż moduł b jest pusty\n",
    "\n",
    "# zmiana kolejności importów a i b nie wpływa na rezultat"
   ]
  },
  {
   "cell_type": "markdown",
   "metadata": {},
   "source": [
    "## Cache'owanie modułów\n",
    "\n",
    "*sys.modules* to słownik - cache na moduły - trafiają tam wszystkie zaimportowane do tej pory moduły. \n",
    "Przeszukiwanie sys.modules jest pierwszym punktem przy imporcie modułu - można samemu dodać moduł do sys.modules\n",
    "i wtedy można będzie go zaimportować, nawet jeżeli wcześniej było ModuleNotFoundError lub importError.\n",
    "\n",
    "W sys.modules również zapisywane są podmoduły - jako osobne elementy słownika\n",
    "\n",
    "Usunięcie modułu z sys.modules bedzie skutkowało ponownym przeszukiwaniem ścieżek pod kontem tego modułu przy następnym imporcie, aczkolwiek, wszystkie istniejące referencje do tego modułu nie zostaną zastąpione - jeżeli stara wersja modułu została przypisana do zmiennej, to po ponownym imporcie ta zmienna to dalej będzie ten stary moduł. Dopiero użycie reload (wbudowane - python2 - albo z modułu importlib - python 3) uaktualni stary moduł - bo zaktualizuje ten sam obiekt a nie stworzy nowy obiekt i przypisze do nazwy modułu"
   ]
  },
  {
   "cell_type": "code",
   "execution_count": null,
   "metadata": {},
   "outputs": [],
   "source": [
    "import sys\n",
    "\n",
    "print({k for k in sys.modules.keys() if 'email' in k})  # zaimportowanie email.header dodaje też email do listy"
   ]
  },
  {
   "cell_type": "markdown",
   "metadata": {},
   "source": [
    "Jeżeli do modułu w sys.modules jest przypisane None to podczas importu tego modułu zostanie wyrzucony wyjątek ModuleNotFoundError"
   ]
  },
  {
   "cell_type": "code",
   "execution_count": null,
   "metadata": {},
   "outputs": [],
   "source": [
    "import sys\n",
    "\n",
    "sys.modules['trzydziescitrzy'] = 33  # dodajemu moduł do cache\n",
    "\n",
    "import trzydziescitrzy  # teraz się importuje\n",
    "\n",
    "print('>><<')\n",
    "\n",
    "sys.modules['trzydziescitrzy'] = None  # przypisanie None\n",
    "import trzydziescitrzy  # a teraz nie"
   ]
  },
  {
   "cell_type": "markdown",
   "metadata": {},
   "source": [
    "### importlib\n",
    "\n",
    "importlib to biblioteka, która pozwala na interakcję z sysemem importu."
   ]
  },
  {
   "cell_type": "markdown",
   "metadata": {},
   "source": [
    "## Zaawansowane aspekty"
   ]
  },
  {
   "cell_type": "markdown",
   "metadata": {},
   "source": [
    "Pakadże to moduły, które mają atrybuty będące modułami (i mają ustawiony atrybut \\_\\_path\\_\\_)"
   ]
  },
  {
   "cell_type": "markdown",
   "metadata": {},
   "source": [
    "### Ścieżka importu\n",
    "\n",
    "to lista ścieżek, plików zip, urli, zapytań sql itp. w których należy szukać modułów (ale inne typy niż stringi i bytesy będą ignorowane)."
   ]
  },
  {
   "cell_type": "markdown",
   "metadata": {},
   "source": [
    "### Loadery, Findery i Importery\n",
    "\n",
    "Finder to obiekt, który sprawdza czy w ogóle istnieje pożądany moduł i zwraca jego \"opis\" (spec)- informacje niezbędne do zaimportowania modułu.\n",
    "\n",
    "Loader to obiekt, który tworzy i ładuje wskazany moduł na podstawie speca.\n",
    "\n",
    "Importer to obiekt, który jest zarówno loaderem i finderem"
   ]
  },
  {
   "cell_type": "markdown",
   "metadata": {},
   "source": [
    "### import-hooki\n",
    "\n",
    "służą do rozszerzania sposobu importowania modułów. dzielą się na *meta hooki* i *import path hooki*\n",
    "\n",
    "Meta hooki są przechowywane w *sys.meta_path* a import path hooki w *sys.path_hooks* (do obydwóch list można dodawać swoje)"
   ]
  },
  {
   "cell_type": "code",
   "execution_count": null,
   "metadata": {},
   "outputs": [],
   "source": [
    "import sys\n",
    "print('path_hooks:', sys.path_hooks)\n",
    "print()\n",
    "print('meta_path:', sys.meta_path)\n"
   ]
  },
  {
   "cell_type": "markdown",
   "metadata": {},
   "source": [
    "### Meta Hooki\n",
    "\n",
    "Meta hooki są odpytywane przed uruchomieniem procesu importu modułu. Można je dodawać dodając nowe findery (*meta path findery*) do *sys.meta_path*. \n",
    "\n",
    "\n",
    "#### proces znajdowania modułu\n",
    "Jeżeli modułu niema w sys.modules to z obiektów z sys.meta_path wywoływana jest ich metoda *find_spec*. Jeżeli któryś z finderów wie o jaki moduł chodzi to zwraca jego *spec* (opis), a jeżeli finder nie wie o jaki moduł chodzi to zwraca None. \n",
    "\n",
    "Jeżeli po drodze pojawią się jakieś inne wyjątki to przerywają proces importu i są wyrzucane.\n",
    "\n",
    "Jeżeli żaden z finderów nie zwróci speca modułu to wyrzucany jest wyjątek ModuleNotFoundError.\n",
    "\n",
    "Jeżeli spec został zwrócony to na jego podstawie moduł będzie załadowany przez *loader*  (druga cześć importu)\n",
    "\n",
    "####  find\\_spec\n",
    "\n",
    "Metoda find\\_spec jest wywoływana z dwoma albe trzema argumentami:\n",
    "* pełna nazwą modułu (qualname - np. os.path zamiast path)\n",
    "* ścieżkami do przeszukania (jeżeli to submoduł to jest to \\_\\_path\\_\\_ pakadżu - jeżeli nie ma takiego atrybutu, a to subpakadż/podmoduł to wyrzucane jest ModuleNotFoundError) albo None jeżeli to nie jest submoduł/subpakadż\n",
    "* moduł (obiekt)- jeżeli był wcześniej zaimportowany - na potrzeby przeładowania modułu.\n",
    "\n",
    "Meta path może być przeszukiwana wielokrotnie podczas jednego importu - jeżeli pakadż, z którego importujemy moduły nie jest w sys.modules (przecież zanim nie zaimportujemy pakadżu to nie ma jego \\_\\_path\\_\\_ - bo skąd) a chcemy zaimportować jego podmoduły/podpakadże"
   ]
  },
  {
   "cell_type": "code",
   "execution_count": null,
   "metadata": {},
   "outputs": [],
   "source": [
    "# przykład\n",
    "\n",
    "class SomeFinder:\n",
    "    def find_spec(self, modulename, paths, moduleinstance):\n",
    "        print(modulename, paths, moduleinstance)\n",
    "        return None  # Na razie uznajemy moduł (każdy) za taki, którego nie umiemy znaleźć tym finderem - kolejne\n",
    "                     # findery na liście będą go szukały\n",
    "\n",
    "    \n",
    "import sys\n",
    "sys.meta_path.append(SomeFinder())  # wrzucamy instancję findera do meta_path\n",
    "\n",
    "# teraz zaimportowany będzie nieistniejący moduł. ponieważ niema go w sys.modules to nie może zostać z tamtąd zwrócony\n",
    "# dlatego, żeby go znaleźć, wszystkie findery z sys.meta_path będą odpytane o spec tego modułu.\n",
    "\n",
    "import qwert  # widać, ze wywoluje się find_spec - tylko z samym qwert, None, None\n",
    "\n",
    "# import zakończył się ModuleNotFoundError bo żaden finder z sys.meta_path nie zwrócił speca tego modułu - \n",
    "# wszystkie findery zwróciły None\n",
    "    \n",
    "sys.meta_path.pop()  # usuwanie customowego findera - żeby przy wywołaniu tego fragmentu wiele razy nie dodać za\n",
    "                     # finderów"
   ]
  },
  {
   "cell_type": "code",
   "execution_count": null,
   "metadata": {},
   "outputs": [],
   "source": [
    "# dalsza część przykładu - najpierw odplaić poprzednią cześć!\n",
    "sys.meta_path.append(SomeFinder())  # wrzucamy spowrotem instancję findera do meta_path\n",
    "\n",
    "class FakeModule:  # fejkowy pakadż - ma __path__\n",
    "    __path__ = ['/path/to/package', 'other/path']\n",
    "    def __init__(self, name):\n",
    "        self.__name__ = name\n",
    "    \n",
    "sys.modules['qwert'] = FakeModule('qwert')  # ręcznie \"cacheujemy\" pakadż\n",
    "\n",
    "import qwert  # teraz przejdzie - bo moduł w pierwszej kolejności jest brany z sys.modules - to cache na moduły\n",
    "\n",
    "print('>>><<<')\n",
    "from qwert import spam  # qwert było zaimportowane - importowanie podmodułu spam - nie ma potrzeby ponownego ładowania\n",
    "                   # qwert bo jest w sys.modules - ładownie tylko podmodułu spam - bo qwert.spam nie ma w sys.modules\n",
    "                   # taki sam efekt bedzie przy import qwert.spam\n",
    "\n",
    "# sprzątanie po sobie\n",
    "sys.meta_path.pop()\n",
    "sys.modules.pop('qwert')"
   ]
  },
  {
   "cell_type": "markdown",
   "metadata": {},
   "source": [
    "#### Spec:\n",
    "\n",
    "spec modułu zawiera informacje, która jest niezbędna do poprawnego zaimportowania modułu, np. jego nazwę albo loader, który będzie go tworzył i wykonywał.\n",
    "\n",
    "spec modułu przechowywane w atrybucie \\_\\_spec\\_\\_ tego modułu\n",
    "\n",
    "Podstawową klasą reprezentującą spec jest importlib.machinery.ModuleSpec.\n",
    "Konstruktor ModuleSpeca przyjmuje następujące argumenty i mapuje je na następujące atrybuty modułu:\n",
    "* name -> \\_\\_name\\_\\_\n",
    "* loader -> \\_\\_loader\\_\\_ (w przypadku namespace modułów jest ustawiane na None)\n",
    "* origin -> \\_\\_file\\_\\_ (miejsce z którego moduł został załadowany - ustawiane jeżeli has_location jest True) - może być None\n",
    "* loader_state -> *nic* dodatkowe informacje potrzebne do ładowania modułu (może być None) - używane przez finder i loader\n",
    "* is_package -> *nic* określa czy moduł to pakadż\n",
    "\n",
    "dodatkowe atrybuty:\n",
    "\n",
    "* submodule_search_locations -> \\__path\\__ (None jeżeli moduł nie jest pakadżem)\n",
    "* cached -> \\_\\_cached\\_\\_ - określa gdzie przechowywać skompilowany moduł\n",
    "* parent -> \\_\\_package\\_\\_ - pełna nazwa pakadżu (notacja z kropkami) do którego należy moduł jeżeli jest podmodułem (może być None)\n",
    "* has_location -> *nic* określa czy origin odnosi się do lokalizacji, którą można załadować\n",
    "\n",
    "\n",
    "Spec można też tworzyć użīwając funkcji z modułu importlib.util:\n",
    "* spec_from_file_location - tworzy spec'a na podstawie pliku\n",
    "* spec_from_loader - tworzy spec'a na podstawie podanego loadera"
   ]
  },
  {
   "cell_type": "code",
   "execution_count": null,
   "metadata": {},
   "outputs": [],
   "source": [
    "from importlib.machinery import ModuleSpec, SourceFileLoader\n",
    "from importlib.util import spec_from_file_location, spec_from_loader\n",
    "\n",
    "# w tym katalogu jest moduł examples/modules/with_private.py - dla niego stworzymy spece\n",
    "\n",
    "spec1 = ModuleSpec('examples', 'loader-na razie tylko string') # pierwszy argument to name, drugi to loader\n",
    "print(spec1)                                                   # na razie zamiast loadera wsadzamy string\n",
    "\n",
    "spec2 = spec_from_file_location('with_private', './examples/modules/with_private.py')  # pierwszy argument to nazwa\n",
    "print(spec2)                                                                           # drugi to ścieżka"
   ]
  },
  {
   "cell_type": "markdown",
   "metadata": {},
   "source": [
    "w przypadku użycia funkcji spec_from_file_location atrybuty spec'a są ustawione w następujący sposób:\n",
    "* origin jest ustawiane na ścieżkę (drugi argument) lub loader.get_filename() jeżeli nie ma ścieżki a jest loader\n",
    "* has_location jest ustawiane na True\n",
    "* cached jest ustawiane na wynik funkcji importlib.util.cache_from_source ze ścieżką jako argumentem\n",
    "* loader jest ustawiany na podstawie ścieżki\n",
    "* submodule_search_locations jest ustawiane na podstawie loader.is_package() lub os.path.dirname jeżeli ścieżka prowadzi do pliku\n",
    "\n",
    "\n",
    "spec_from_loader ustawia następujące atrybuty:\n",
    "* has_location jest ustawiane na podstawie loader.get_data\n",
    "* origin jest ustawianie przez wywyołąnie loader.get_filename()\n",
    "* submodule_search_locations to wynik wywołania loader.is_package() albo os.path.dirname z połozenia, jeżeli jest plikiem\n",
    "\n"
   ]
  },
  {
   "cell_type": "markdown",
   "metadata": {},
   "source": [
    "#### Namespace Pakadże\n",
    "\n",
    "Jeżli pakadż jest pakadżem namespacowym to jego spec powienien mieć ustawione *loader* na *None* a *submodule_search_locations* na listę ścieżek, w której dostępne są części tego pakadżu"
   ]
  },
  {
   "cell_type": "markdown",
   "metadata": {},
   "source": [
    "#### Ładownie modułu:\n",
    "\n",
    "kiedy spec modułu został znaleziony, do załadownia modułu użyte odpowiedni loader (określony przez spec modułu - atrybut *loader*) - tworzenie modułu (instancji klasy ModuleType) jest podzielone na 2 części - tworzenie modułu (pythonowego obiektu) i wykonywanie modułu (wykonanie zawartosci w celu uzyskanie namespacu modułu). Bezpośrednio przed wykonaniem kodu modułu, moduł jest dodawany do sys.modules (zeby uniknąć rekurencyjnego tworzenia modułu jeżeli moduł by chciał importować samego siebie) - jeżeli wystąpi błąd podczas wykonywania modułu to moduł jest usuwany z sys.modules."
   ]
  },
  {
   "cell_type": "markdown",
   "metadata": {},
   "source": [
    "#### Loadery\n",
    "\n",
    "interfejsem loadera jest ```importlib.abc.Loader```. Metoda exec_module przyjmuje jeden argument - moduł (obiekt pythonowy) - który potem bedzie wykonany.\n",
    "metoda exec_module zastąpiła w Pythonie 3.4+ metodę load_module, która ma rozszerzone działanie (nie tylko wykonywanie modułu ale też cała otoczka która jest wymagana przy wykonywaniu modułu - defioniwanie metody load_module jest niewskazane)\n",
    "\n",
    "Metoda *create_module* (Wprowadzona w Pythonie 3.4) ma za zadnie stowrzyć moduł (obiekt). Przyjmuje jeden argument - spec. Jezeli create_module zwróci None zamiast modułu (obiektu) to automatycznie zostanie stworzony nowy moduł - przez instancjalizację klasy ModuleType.\n",
    "\n",
    "W Pythonie3.6 jeżeli loader definiuje exec_module, musi również definiować create_module - inaczej będzie ImportError\n",
    "\n",
    "Jeżeli loader nie może wykonać kodu modułu powinien wyrzucić ImportError. Jeżeli pojawi się po drodze jakis inny wyjątek trzeba go ponownie wyrzucić.\n"
   ]
  },
  {
   "cell_type": "code",
   "execution_count": null,
   "metadata": {},
   "outputs": [],
   "source": [
    "import importlib\n",
    "import sys\n",
    "\n",
    "from types import ModuleType\n",
    "\n",
    "class Loader:\n",
    "    @classmethod\n",
    "    def create_module(self, spec):\n",
    "        # tworzenie nowego \"pustego\" modułu na podstawie spec'a\n",
    "        print('Loader.create_module. spec:', spec)\n",
    "        return ModuleType(spec.name)  # tworzymy moduł o nazwie z speca\n",
    "    \n",
    "    @classmethod\n",
    "    def exec_module(self, module):\n",
    "        # module code może być wzięte z dowolnego miejsca\n",
    "        module_code = \"\"\"\n",
    "x = 23\n",
    "y = 44\n",
    "        \"\"\" \n",
    "        # poniższą funkcję można by było zastąpić przez exec, ale ta funkcja usuwa niepotrzebne żeczy z tracebacku\n",
    "        # _call_with_frames_removed wywoła funkcję exec z arguemtnami module_code i module.__dict__:\n",
    "        # exec(module_code, module.__dict__)\n",
    "        return importlib._bootstrap._call_with_frames_removed(exec, module_code, module.__dict__)\n",
    "    \n",
    "    \n",
    "class Finder:\n",
    "    def find_spec(self, modulename, path, target):\n",
    "        print('Finder.find_spec:', modulename, path, target)\n",
    "        if not modulename.startswith('asd'):  # selektywne wybieranie modułu po nazwie\n",
    "            return\n",
    "        return importlib.machinery.ModuleSpec(modulename, Loader())  # dodajemy loader\n",
    "    \n",
    " \n",
    "sys.meta_path.insert(0, Finder())  # wrzucamy finder do meta_path - na początek\n",
    "\n",
    "import asdf  # import modułu asdf\n",
    "\n",
    "\n",
    "# moduł ma zmienne x i y - został załadowany\n",
    "print(asdf.x)\n",
    "print(asdf.y)\n",
    "\n",
    "sys.meta_path.pop(0)"
   ]
  },
  {
   "cell_type": "markdown",
   "metadata": {},
   "source": [
    "### Import path hooki\n",
    "\n",
    "import path hooki to dodatek do meta path hooków - konkretnie do PathFinder'a (domyśłnie w sys.meta_path) -\n",
    "pozwala to na obsłużenie ścieżek, które są w sys.path albo \\_\\_path\\_\\_ pakadżu, ale nie nie są obsługiwane przez inne findery (np. adresy sieciowe)\n",
    "\n",
    "Import path hooki to obiekty wywoływalne, które przyjmują jeden argument podczas wywołania - ścieżkę, a zwracają finder, który ma załadować speca dla modułu będącego w tamtej lokalizacji, albo wyrzucić ImportError.\n",
    "\n",
    "**Uwaga - w przypadku usunięcia PathFindera z sys.meta_path, paht hooki nie będą wywoływane**\n",
    "\n",
    "podczas importowanie modułu, jeżeli akurat z sys.meta_path zostanie wywołny PathFinder (bo poprzednie findery na liście nie znajdą speca dla żadanego modułu) to PathFinder dla każdej ścieżki z sys.path podejmie następujące akcje:\n",
    "1. sprawdzi czy ścieżka nie jest w sys.path_importer_cache - jeżeli jest to zwróci odpowiadający jej finder, a jeżeli nie to przejdzie do następnych punktów\n",
    "2. po kolei wywołuje funkcje z sys.path_hooks - Jeżeli taka funkcja wywoła ImportError to PathFinder go przechwytuje, tłumi i wywołuje kolejną funkcję z sys.path_hooks, a jeżeli zwróci finder'a to wtedy będzie on użyty przez PathFindera do załadowania speca modułu z przekazanej ścieżki.\n",
    "\n",
    "Jeżeli PathFinder po odpytaniu wszystkich path_hooków nie będzie miał findera to w sys.path_importer_cache do tej ścieżki przypisze None - żeby wiedzieć, że dla tej ścieżki nie odnalazł findera (optymalizacja) i zwróci None - żeby python mógł wywołać kolejne findery z sys.meta_path.\n",
    "\n",
    "sys.path_importer_cache to słownik, w którym kluczami są ścieżki a wartosciami findery, które potrafią załadować moduł z takiej lokalizacji.\n",
    "\n",
    "W przypadku kiedy z pakadża importowany jest podmoduł to zamiast sys.path PathImporter przeszukuje sys.path\\_hooki przekazując tam funkcje z \\_\\_path\\_\\_ pakadża (Python przekazuje to jako drugi arguemne metody find_spec PathFindera)\n",
    "\n",
    "\n",
    "Findery, które chcemy dodać jako wyniki wywoływania funkcji w sys.path_hooks muszą implementować metodę find_spec - tak jak normalne meta path hooki, z tą różnicą, że find_spec w tych finderach przyjmuje tylko maksymalnie 2 argumenty - pełną nazwę modułu (notacja z kropką) i obiekt modułu (przekazywany tylko przy reloadzie modułu).\n",
    "Metoda find_spec musi zwrócić spec modułu albo None (jeżeli nie może znaleźć modułu). "
   ]
  },
  {
   "cell_type": "markdown",
   "metadata": {},
   "source": [
    "### Podsumowanie - ogólny flow importów\n",
    "\n",
    "kolejnosć postępowania w sytuacji importowania modułów:\n",
    "1. sprawdzenie czy modułu nie ma w sys.modules\n",
    "2. wywołanie po kolei find_spec wszystkich hooków z sys.meta_path\n",
    "\n",
    " 2a. Jeżeli jest PathFinder po drodze to wywołuje on wszystkie hooki z sys.path\\_hooks przekazujac im ścieżki z sys.path i \\_\\_path\\_\\_ pakadżu\n",
    " \n",
    "3. Jeżeli wszystkie find_spec hooków z sys.meta_path zwrócą None to wyrzucany jest wyjatek ModuleNotFoundError\n",
    "4. Jeżeli spec został odnaleziony to na podstawie loadera jest tworzony obkeit modułu (jeżeli jest to akuran namespace package to on nie będzie miał loadera - wtedy jest tworzona instancja klasy types.ModuleType)\n",
    "5. Następnie jest wywoływana metoda exec_module a loadera (po przygotowaniu sys.modules) - jeżeli moduł to namespace package to jest tylko sprawdzane czy jest atrybut submodule\\_search\\_locations - jak jest to moduł utworzony w kroku 4 jest dodawany do nazwy modułu w sys.modules\n",
    "6. zwracany jest obiekt o nazwie modułu z sys.modules.\n",
    "\n",
    "Jeżeli po drodze pojawiają się jakieś błędy to są one wyrzucane podczas importu, a nazwa modułu jest usunięta z sys.modules (jeżeli była tam dodana)"
   ]
  },
  {
   "cell_type": "markdown",
   "metadata": {},
   "source": [
    "### Różnica w Pythonie 2\n",
    "\n",
    "loadery w pythonie 2 mogą implementować metodę load_module zamiast exec_module, ale wtedy trzeba samemu zadbać o dodawanie modułudo sys.path i o ten cały narzut"
   ]
  },
  {
   "cell_type": "markdown",
   "metadata": {},
   "source": [
    "#### Manipulacja systemem importów\n",
    "\n",
    "W celu zastąpienia wbudowanego import systemu customowym należy domyślny sys.meta_path zastąpić listą z własnymi klasami albo zastąpić funkcję \\_\\_ import \\_\\_. Zastąpienie funkcji \\_\\_import\\_\\_ ma taką zaletę, że obowiązuje tylko w tym module, w którym została nadpisana.\n",
    "\n",
    "W celu zapobiegnięcia importu niektórych modułów, można dodać meta path hooka na początek listy, który przy odpowiednich modułach wyrzuca ModuleNotFoundError i usunąć ten moduł z sys.modules (jeżeli był wcześniej zaimportowany), ewentualnie można przypisać None do wybranego modułu w sys.modules i nie modyfikować wtedy nic innego"
   ]
  },
  {
   "cell_type": "markdown",
   "metadata": {},
   "source": [
    "### Podmoduły\n",
    "\n",
    "podczas importowania podmodułu, następuje doczepienie go do pakadżu nadrzędnego jako jego atrybutu.\n",
    "Podmoduły są przechowywane w sys.path w postaci notacji z kropką: np podmoduł path modułu os będzie w sys modules jako os.path"
   ]
  },
  {
   "cell_type": "code",
   "execution_count": null,
   "metadata": {},
   "outputs": [],
   "source": [
    "# Przykad\n",
    "\n",
    "from email import asdf  # ImportError"
   ]
  },
  {
   "cell_type": "code",
   "execution_count": null,
   "metadata": {},
   "outputs": [],
   "source": [
    "# Dlasza część\n",
    "\n",
    "import sys\n",
    "sys.modules['email.asdf'] = 33  # zastępczo - mógłby to być inny moduł albo inny obiekt\n",
    "\n",
    "\n",
    "from email import asdf  # teraz działa - asdf zostało wyciągnięte z cache"
   ]
  },
  {
   "cell_type": "markdown",
   "metadata": {},
   "source": [
    "### Moduł \\_\\_main\\_\\_\n",
    "\n",
    "\\_\\_main\\_\\_ jest specjalnym modułem (można go zaimportować, ale nie jest to żaden konkretny plik na dysku), który reprezentuje wykonywany moduł i jego przestrzeń nazw.\n"
   ]
  }
 ],
 "metadata": {
  "kernelspec": {
   "display_name": "Python 3",
   "language": "python",
   "name": "python3"
  },
  "language_info": {
   "codemirror_mode": {
    "name": "ipython",
    "version": 3
   },
   "file_extension": ".py",
   "mimetype": "text/x-python",
   "name": "python",
   "nbconvert_exporter": "python",
   "pygments_lexer": "ipython3",
   "version": "3.6.1"
  }
 },
 "nbformat": 4,
 "nbformat_minor": 2
}
