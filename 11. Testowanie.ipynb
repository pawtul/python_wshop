{
 "cells": [
  {
   "cell_type": "markdown",
   "metadata": {},
   "source": [
    "## Testy Jednosktowe\n",
    "\n",
    "Najpopularniejszymi modułami do testowania jednostkowego są: unittest (w bibliotece standardowej) i pytest. Ponadto funkcjonuje jeszcze doctest.\n",
    "\n",
    "Do odpalania testów jednostkowych można użyć modułu nose - komenda nosetests"
   ]
  },
  {
   "cell_type": "code",
   "execution_count": 14,
   "metadata": {},
   "outputs": [],
   "source": [
    "import unittest\n",
    "\n",
    "class PrzykladowyTestCase(unittest.TestCase):  # definiujemy test case - dziedziczy po unittest.TestCase\n",
    "    @classmethod\n",
    "    def setUpClass(cls):  # metoda wykonywana przed każdym testem\n",
    "        pass\n",
    "    \n",
    "    def setUp(self):  # metoda wykonywana przed każdym testem\n",
    "        pass\n",
    "    \n",
    "    def test_add(self):  # metody-testy zaczynają się ok test_\n",
    "        self.assertEqual(2+2, 4, ':(')  # testuje, czy pierwszy argument jest równy drugiemu\n",
    "                                        # jeżeli nie, na ekran zostanie wypisany trzeci argument\n",
    "            \n",
    "    def tearDown(self):  # metoda wywoływana po każdym tescie\n",
    "        pass\n",
    "    \n",
    "    @classmethod\n",
    "    def tearDownClass(cls):\n",
    "        pass\n",
    "\n",
    "            \n",
    "#if __name__ == '__main__':\n",
    "#    unittest.main()  # odpalenie testu z linii komend"
   ]
  },
  {
   "cell_type": "code",
   "execution_count": 16,
   "metadata": {
    "collapsed": true
   },
   "outputs": [],
   "source": [
    "# sprawdzanie czy testowany kod wyrzuca wyjątek\n",
    "import unittest\n",
    "\n",
    "\n",
    "def explosion(a, b):\n",
    "    return a + b\n",
    "\n",
    "\n",
    "class ExpolsionTestCase(unittest.TestCase):\n",
    "    def test_addition(self):\n",
    "        self.assertEquals(explosion(2, 2), 4)\n",
    "        \n",
    "    def test_explosion_explodes(self):\n",
    "        self.assertRaises(TypeError, explosion, 'Asdf', 4)\n",
    "        \n",
    "        # alternatywnie\n",
    "        with self.assertRaises(TypeError):\n",
    "            explosion('Asdf', 4)\n"
   ]
  },
  {
   "cell_type": "markdown",
   "metadata": {},
   "source": [
    "## struktura testów\n",
    "\n",
    "* Zaleca sie przechowywanie testów jednostkowych w katalogu test/unit\n",
    "* struktura katalogu wewnątrz test/unit powinna odpowiadać strukturze projektu\n",
    "* nazwy plików z testami powinny kończyć się \\_test"
   ]
  },
  {
   "cell_type": "markdown",
   "metadata": {},
   "source": [
    "## inne przydatne metody:\n",
    "\n",
    "* assertNotEqual - test różności\n",
    "* assertAlmostEqual/assertAlmostNotEqual - porównanie wartosći z uwzglednieniem tolerancji\n",
    "* assertDictContainsSubset - sprawdza czy słownik zawiera się w innym słowniku\n",
    "* assertDictEqual - poruwnuje słowniki\n",
    "* assertTrue/assertFalse - sprawdza wartosć logiczną\n",
    "* assertGreater/assertGreaterEqual - sprawdza warunki > i >=\n",
    "* assertIn - test na zawartosć elementu w kolekcji\n",
    "* assertIs/assertIsNot - test identyczności\n",
    "* assertIsInstance/assertNotIsInstance - sprawdza czy obiekt (nie)jest instancją klasy\n",
    "* assertIsNone/assertIsNotNone - sprawdzanie czy obiekt (nie)jest None\n",
    "* assertLess/assertLessEqual - sprawdzanie < i <=\n",
    "* assertItemsEqual - porównanie kolekcji pod kontem zawartości"
   ]
  },
  {
   "cell_type": "markdown",
   "metadata": {},
   "source": [
    "## nose i nosetests\n",
    "\n",
    "komenda *nosetests* odpala testy. Do wykonania pojedyńczego testu można użyć *nosetests **plik** *\n",
    "\n",
    "nose pozwala na uruchomienie sesji pdb w przypadku błędu. Osiąga się to opcją *--pdb* lub \n",
    "*--pdb-failures*\n",
    "\n",
    "Opcja *-v* zwiększa szczegółowość wyniku testów\n",
    "\n",
    "do kolorowania wyników testów można użyc możńa użyć modułu *rednose* i do komendy nosetests dodać opcję *--rednose*\n",
    "\n",
    "## pokrycie kodu\n",
    "\n",
    "Nose integruje się z modułęm Coverage (pip isntall nose-cov), który pomaga określić pokrycie kodu i wskazać, która część kodu jest nieprzetestowana.\n",
    "\n",
    "w celu wyswietlenia pokrycia możńa wywołać komendę:\n",
    "\n",
    "*nosetests --with-coverage **plik***\n"
   ]
  },
  {
   "cell_type": "markdown",
   "metadata": {},
   "source": [
    "## PyTest\n",
    "\n",
    "PyTest jest alternatywą dla nose. Do uruchomienia testów wystarczy komenda *py.test*\n",
    "\n",
    "opcja *-v* zwiększa szczegółowość wyników.\n",
    "\n",
    "PyTest również wspiera możliwość uruchomienia pdb - za pomocą opcji *--pdb*\n",
    "\n",
    "PyTest pozwala na mierzenie pokrycia kodu przy pomocy pluginu pytest-cov, a wywoływany jest z opcją *--cov*"
   ]
  },
  {
   "cell_type": "markdown",
   "metadata": {},
   "source": [
    "## Doctest.\n",
    "\n",
    "Doctest polega na wpisywaniu do docstringów kawałków tekstu wygladajacego jak wycinki interaktywnej sesji Pythona. Do wykoniania testów słuzy moduł doctest.\n",
    "\n",
    "Doctesty można uruchamiać użīwajac nose dodajac opcję *--with-doctest*"
   ]
  },
  {
   "cell_type": "code",
   "execution_count": 32,
   "metadata": {
    "collapsed": true
   },
   "outputs": [],
   "source": [
    "def suma(a, b):\n",
    "    \"\"\"\n",
    "    >>> suma(1, 3)\n",
    "    4\n",
    "    \n",
    "    >>> suma(44, 56)\n",
    "    100\n",
    "    \n",
    "    >>> suma('a', 44)\n",
    "    Traceback (most recent call last):\n",
    "     ...\n",
    "    TypeError: unsupported operand type(s) for +: 'int' and 'str'\n",
    "    \"\"\"\n",
    "    return a + b\n",
    "\n",
    "\n",
    "if __name__ == '__main__':\n",
    "    import doctest\n",
    "    doctest.testmod()"
   ]
  },
  {
   "cell_type": "markdown",
   "metadata": {},
   "source": [
    "## Coverage\n",
    "\n",
    "można konfigurować w pliku .coveragerc\n",
    "\n",
    "żeby pominąć niektóre pliki należy do sekcji [run] wpisać omit=***regexp***\n",
    "\n",
    "\n",
    "## Mockowanie\n",
    "\n",
    "Mockowanie ma na celu podmianę komponentów (np. wykonujących połaczenia sieciowe itp.)\n",
    "\n",
    "Do mockowania służy moduł mock"
   ]
  },
  {
   "cell_type": "code",
   "execution_count": 28,
   "metadata": {},
   "outputs": [
    {
     "name": "stdout",
     "output_type": "stream",
     "text": [
      "=====nieistniejacy atrybut\n",
      "<MagicMock name='mock.nieistniejacy_atrybut' id='4409612368'>\n",
      "=====wywolanie metody\n",
      "<MagicMock name='mock.metoda()' id='4404594640'>\n",
      "123\n",
      "=====wywolanie metody z side_effect\n",
      "side effect\n",
      "None\n"
     ]
    }
   ],
   "source": [
    "import unittest\n",
    "\n",
    "import mock\n",
    "\n",
    "# właściwosci mocka\n",
    "mock_obj = mock.MagicMock()\n",
    "print \"=====nieistniejacy atrybut\"\n",
    "print mock_obj.nieistniejacy_atrybut  # nieistniejące atrybuty zostaną zastąpione nowymi Mockami\n",
    "mock_obj.metoda = mock.MagicMock()  # to będzie metoda\n",
    "print \"=====wywolanie metody\"\n",
    "print mock_obj.metoda()  # znowu jest MagicMock\n",
    "mock_obj.metoda.return_value = 123\n",
    "print mock_obj.metoda()  # teraz jest wartość\n",
    "\n",
    "print \"=====wywolanie metody z side_effect\"\n",
    "def side_effect():\n",
    "    print \"side effect\"\n",
    "    \n",
    "mock_obj.metoda.side_effect = side_effect\n",
    "print mock_obj.metoda()  # wykonał się side_effect - ale nie ma return value!\n",
    "\n",
    "\n",
    "\n",
    "def read_content_of_file(path):\n",
    "    with open('path') as f:\n",
    "        return f.read()\n",
    "\n",
    "\n",
    "class MockedTestCase(unittest.TestCase):\n",
    "    def test_reading_content(self):\n",
    "        open = mock.MagicMock()  # podstawiamy za funkcję 'open' naszego mocka\n",
    "        open.read.read.return_value = 'Hello'  # każemy atrybutowi read przy wowołąniu zwrócić Hello\n",
    "        content = read_content_of_file('blablabla')\n",
    "        self.assertEqual(content, 'Hello')\n"
   ]
  },
  {
   "cell_type": "markdown",
   "metadata": {},
   "source": [
    "## Patchowanie\n",
    "\n",
    "NIe zawsze można prosto zMockować jakiś obiekt - jeżeli jest zaimportowany i ma zależnosci w swoim module to użycie MagicMocka jest nieeleganckie"
   ]
  },
  {
   "cell_type": "code",
   "execution_count": 30,
   "metadata": {
    "collapsed": true
   },
   "outputs": [],
   "source": [
    "##\n",
    "#\n",
    "#\n",
    "#  przykałady na patchowanie z zastosowaniem zewnętrzych modułów\n",
    "#\n",
    "#"
   ]
  },
  {
   "cell_type": "markdown",
   "metadata": {},
   "source": [
    "# TDD\n",
    "\n",
    "Podstawową zasadą TDD jest pisanie nieprzechodzących testów zanim napisze się właściwy kodu.\n",
    "\n",
    "Cykl TDD. \n",
    "\n",
    "\n",
    "\n",
    "## Ping-Pong programming\n",
    "\n",
    "Dodatek do Pair Programmingu - Jedna osoba pisze test, druga kod"
   ]
  },
  {
   "cell_type": "markdown",
   "metadata": {},
   "source": [
    "# Acceptance Tests\n",
    "\n",
    "Sprawdzają działanie pod kontem wymagań funkcjonalnych - są pisane po angielsku - pierwonie jako biblioteka Cucumber Rubyego. W Pythonie moduł *lettuce*\n",
    "\n",
    "Składnia Gherkina - to słowa kluczowe wykorzystywane do definiowania testów:\n",
    "* Feature: - opisuje funkcjonalność\n",
    "* Scenario: - Parsowany przez lettuce - zawiera słowa kluczowe Given, When, Then, And\n",
    "* Scenario Outline: - sparametryzowany scenariusz\n",
    "* Given\n",
    "* When\n",
    "* Then\n",
    "* And"
   ]
  }
 ],
 "metadata": {
  "kernelspec": {
   "display_name": "Python 2",
   "language": "python",
   "name": "python2"
  },
  "language_info": {
   "codemirror_mode": {
    "name": "ipython",
    "version": 2
   },
   "file_extension": ".py",
   "mimetype": "text/x-python",
   "name": "python",
   "nbconvert_exporter": "python",
   "pygments_lexer": "ipython2",
   "version": "2.7.13"
  }
 },
 "nbformat": 4,
 "nbformat_minor": 2
}
