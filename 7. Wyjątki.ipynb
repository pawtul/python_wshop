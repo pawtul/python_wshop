{
 "cells": [
  {
   "cell_type": "markdown",
   "metadata": {},
   "source": [
    "Wyjątki, służą do zasygnalizowania, że \"coś poszło nie tak\" z możłiwoscią obsługi sytuacji.\n",
    "W typhinie, skłądnia bloku dla któ©ego obsługujemy wyjątki wygląda nastęþująco:\n",
    "\n",
    "try:\n",
    "\n",
    "    ...\n",
    "    \n",
    "except [Bład]:\n",
    "\n",
    "    ...\n",
    "    \n",
    "else:\n",
    "\n",
    "    ...\n",
    "    \n",
    "finally:\n",
    "\n",
    "    ...\n",
    "    \n",
    "Kod zawarty w bloku finally wykonuje się zawsze, kod zawarty w klauzuli except wykonuje iśę tylko wtedy kiedy wystąpił wyjątek, kod w klauzuli else wykonuje się wtedy kiedy kod w bloku try przejdzie bez wyrzucania wyjątkuu"
   ]
  },
  {
   "cell_type": "code",
   "execution_count": 2,
   "metadata": {},
   "outputs": [
    {
     "name": "stdout",
     "output_type": "stream",
     "text": [
      "try\n",
      "else\n",
      "finally\n"
     ]
    }
   ],
   "source": [
    "try:\n",
    "    print 'try'\n",
    "except:\n",
    "    print 'except'\n",
    "else:\n",
    "    print 'else'\n",
    "finally:\n",
    "    print 'finally'"
   ]
  },
  {
   "cell_type": "code",
   "execution_count": 3,
   "metadata": {},
   "outputs": [
    {
     "name": "stdout",
     "output_type": "stream",
     "text": [
      "try\n",
      "except\n",
      "finally\n"
     ]
    }
   ],
   "source": [
    "try:\n",
    "    print 'try'\n",
    "    {}[1]\n",
    "except:\n",
    "    print 'except'\n",
    "else:\n",
    "    print 'else'\n",
    "finally:\n",
    "    print 'finally'"
   ]
  },
  {
   "cell_type": "markdown",
   "metadata": {},
   "source": [
    "Do wyrzucania wyjątku słuzy polecenie raise. Skłądnia:\n",
    "\n",
    "raise [wyjątek]\n",
    "\n",
    "jeżeli wyjątek nie zostanie podany, zostaje wyrzucony pooprzeni wyjątek"
   ]
  },
  {
   "cell_type": "code",
   "execution_count": 4,
   "metadata": {},
   "outputs": [
    {
     "name": "stdout",
     "output_type": "stream",
     "text": [
      "except KeyError\n"
     ]
    },
    {
     "ename": "KeyError",
     "evalue": "1",
     "output_type": "error",
     "traceback": [
      "\u001b[0;31m---------------------------------------------------------------------------\u001b[0m",
      "\u001b[0;31mKeyError\u001b[0m                                  Traceback (most recent call last)",
      "\u001b[0;32m<ipython-input-4-853a0f38b595>\u001b[0m in \u001b[0;36m<module>\u001b[0;34m()\u001b[0m\n\u001b[1;32m      1\u001b[0m \u001b[0;32mtry\u001b[0m\u001b[0;34m:\u001b[0m\u001b[0;34m\u001b[0m\u001b[0m\n\u001b[0;32m----> 2\u001b[0;31m     \u001b[0;34m{\u001b[0m\u001b[0;34m}\u001b[0m\u001b[0;34m[\u001b[0m\u001b[0;36m1\u001b[0m\u001b[0;34m]\u001b[0m\u001b[0;34m\u001b[0m\u001b[0m\n\u001b[0m\u001b[1;32m      3\u001b[0m \u001b[0;32mexcept\u001b[0m \u001b[0mIndexError\u001b[0m\u001b[0;34m:\u001b[0m\u001b[0;34m\u001b[0m\u001b[0m\n\u001b[1;32m      4\u001b[0m     \u001b[0;32mprint\u001b[0m \u001b[0;34m'except IndexError'\u001b[0m\u001b[0;34m\u001b[0m\u001b[0m\n\u001b[1;32m      5\u001b[0m \u001b[0;32mexcept\u001b[0m \u001b[0mKeyError\u001b[0m\u001b[0;34m:\u001b[0m\u001b[0;34m\u001b[0m\u001b[0m\n",
      "\u001b[0;31mKeyError\u001b[0m: 1"
     ]
    }
   ],
   "source": [
    "try:\n",
    "    {}[1]\n",
    "except IndexError:\n",
    "    print 'except IndexError'\n",
    "except KeyError:\n",
    "    print 'except KeyError'\n",
    "    raise"
   ]
  },
  {
   "cell_type": "code",
   "execution_count": null,
   "metadata": {
    "collapsed": true
   },
   "outputs": [],
   "source": []
  }
 ],
 "metadata": {
  "kernelspec": {
   "display_name": "Python 2",
   "language": "python",
   "name": "python2"
  },
  "language_info": {
   "codemirror_mode": {
    "name": "ipython",
    "version": 2
   },
   "file_extension": ".py",
   "mimetype": "text/x-python",
   "name": "python",
   "nbconvert_exporter": "python",
   "pygments_lexer": "ipython2",
   "version": "2.7.12"
  }
 },
 "nbformat": 4,
 "nbformat_minor": 2
}
