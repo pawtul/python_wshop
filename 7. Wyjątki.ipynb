{
 "cells": [
  {
   "cell_type": "markdown",
   "metadata": {},
   "source": [
    "Wyjątki, służą do zasygnalizowania, że \"coś poszło nie tak\" z możłiwoscią obsługi sytuacji.\n",
    "W Pythonie, składnia bloku dla którego obsługujemy wyjątki wygląda nastęþująco:\n",
    "```\n",
    "try:\n",
    "    ...\n",
    "except [Bład]:\n",
    "    ...\n",
    "else:\n",
    "    ...\n",
    "finally:\n",
    "    ...\n",
    "```    \n",
    "\n",
    "\n",
    "Można pominąć *else* i *except* a zostawić samo *try* i *finally*:\n",
    "\n",
    "```\n",
    "try:\n",
    "    ...\n",
    "finally:\n",
    "    ...\n",
    "```    \n",
    "\n",
    "Kod zawarty w bloku finally wykonuje się zawsze, kod zawarty w bloku except wykonuje się tylko wtedy kiedy wystąpił wyjątek, kod w bloku else wykonuje się wtedy kiedy kod w bloku try przejdzie bez wyrzucania wyjątku.\n",
    "\n",
    "\n",
    "Kiedy wyjątek juz zostanie wyrzucony, to nie ma możliwości wznowienia działania od momentu, w którym wyją†ek został wyrzucony (np. przez zmianę wartosci jakiejś zmiennej). W takiej sytuacji kod trzeba umieścić w bloku except"
   ]
  },
  {
   "cell_type": "code",
   "execution_count": null,
   "metadata": {},
   "outputs": [],
   "source": [
    "from __future__ import print_function\n",
    "try:\n",
    "    print('try')\n",
    "except:\n",
    "    print('except')\n",
    "else:\n",
    "    print('else')\n",
    "finally:\n",
    "    print('finally')"
   ]
  },
  {
   "cell_type": "code",
   "execution_count": null,
   "metadata": {},
   "outputs": [],
   "source": [
    "try:\n",
    "    print('try')\n",
    "    {}[1]  # będzie błąd - z pustego słownika wyciągana jest wartosć dla 1\n",
    "except:\n",
    "    print('except')\n",
    "else:\n",
    "    print('else')\n",
    "finally:\n",
    "    print('finally')"
   ]
  },
  {
   "cell_type": "markdown",
   "metadata": {},
   "source": [
    "W przypadku kiedy jest kilka bloków except, wyszukiwanie odpowiedniego wyjatku odbywa się po kolei i sprawdzana jest instancja wyjątku - klasy bazowe powinny być później niż pochodne, a puste except (jeżeli ma być) powinno być na samym końcu - jako że przechwytuje wszystkie wyjątki.\n",
    "\n",
    "\n",
    "Jeżeli nie będzie bloku pasującego do wyjątku to wyjątek zostanie wyrzucony."
   ]
  },
  {
   "cell_type": "code",
   "execution_count": null,
   "metadata": {},
   "outputs": [],
   "source": [
    "class Karrrramba(KeyError):\n",
    "    pass\n",
    "\n",
    "try:\n",
    "    raise Karrrramba('Arrrrr')\n",
    "except KeyError:\n",
    "    print('KeyError')  # wrzucana jest Karrrramba ale łapie to blok KeyError - bo isinstance(Karrrramba, KeyError)\n",
    "except Karrrramba:\n",
    "    print('Karrrramba')"
   ]
  },
  {
   "cell_type": "markdown",
   "metadata": {},
   "source": [
    "Do wyrzucania wyjątku słuzy polecenie *raise*. Składnia:\n",
    "\n",
    "```raise [wyjątek]```\n",
    "\n",
    "jeżeli wyjątek nie zostanie podany, zostaje wyrzucony poprzeni wyjątek. \n",
    "\n",
    "Jeżeli nie było żadnego wyjątku, a użyta została instrukcja raise, wyrzucany jest RuntimeError"
   ]
  },
  {
   "cell_type": "code",
   "execution_count": null,
   "metadata": {},
   "outputs": [],
   "source": [
    "try:\n",
    "    {}[1]\n",
    "except IndexError:\n",
    "    print('except IndexError')\n",
    "except KeyError:\n",
    "    print('except KeyError')\n",
    "    raise"
   ]
  },
  {
   "cell_type": "code",
   "execution_count": null,
   "metadata": {},
   "outputs": [],
   "source": [
    "# łapanie wiele wyjątków w jednym except:\n",
    "try:\n",
    "    {}[1]\n",
    "except (KeyError, IndexError) as e:\n",
    "    print(str(e))"
   ]
  },
  {
   "cell_type": "markdown",
   "metadata": {},
   "source": [
    "przy wyjsciu z bloku except zmienna, do której został przypisany wyjątek jest usuwana (np \"e\" e poprzednim przykładzie), dlatego, żeby móc się odwołać do tego wyjątku poza tym blokeim, trzeba wyja†ek przypisać do innej zmiennej"
   ]
  },
  {
   "cell_type": "code",
   "execution_count": null,
   "metadata": {},
   "outputs": [],
   "source": [
    "try:\n",
    "    {}[1]\n",
    "except KeyError as err:\n",
    "    xxxx = err\n",
    "\n",
    "print(repr(xxxx))  # wypisuje KeyError\n",
    "print(repr(err))  # Wyrzuca NameError - zmienna err została usunięta przy wychodzeniu z bloku"
   ]
  },
  {
   "cell_type": "markdown",
   "metadata": {},
   "source": [
    "W Pythonie 3 można łączyć wyjatki - wyrzucać inne wyjatki na podstawie poprzednich używając instrukcji raise ... from ..."
   ]
  },
  {
   "cell_type": "code",
   "execution_count": null,
   "metadata": {},
   "outputs": [],
   "source": [
    "# Python 3\n",
    "\n",
    "try:\n",
    "    {}[1]\n",
    "except KeyError as e:\n",
    "    raise TypeError('message') from e"
   ]
  },
  {
   "cell_type": "markdown",
   "metadata": {},
   "source": [
    "Jeżeli po from będzie None zamist innego wyjątku, nastąpi \"ucięcie\" łańcucha wyjątków:"
   ]
  },
  {
   "cell_type": "code",
   "execution_count": null,
   "metadata": {},
   "outputs": [],
   "source": [
    "# Python 3\n",
    "\n",
    "try:\n",
    "    {}[1]\n",
    "except KeyError as e:\n",
    "    raise TypeError('message') from None"
   ]
  },
  {
   "cell_type": "markdown",
   "metadata": {},
   "source": [
    "#### finally\n",
    "\n",
    "Jeżeli wyjątek nie został obsłużony a jest blok finally, to wyjątek jest chowany, wykonywany jest blok finally i wyjątek jest wyrzucany - za wyjątkiem sytuacji, kiedy w finally jest return - wtedy wyjątek jest tłumiony"
   ]
  },
  {
   "cell_type": "code",
   "execution_count": null,
   "metadata": {},
   "outputs": [],
   "source": [
    "# Python 2/3\n",
    "def f():\n",
    "    try:\n",
    "        {}[1]\n",
    "    finally:\n",
    "        return 1\n",
    "    \n",
    "f()  # zwraca 1 zamiast wyrzucić KeyError - chociaż był on nie obslużony"
   ]
  },
  {
   "cell_type": "markdown",
   "metadata": {},
   "source": [
    "Jeżeli jest kilka return'ów w bloku try/finally, to wartość zwracana przez funkcję jest tą, która jest w ostatnim wykonanym returnie:"
   ]
  },
  {
   "cell_type": "code",
   "execution_count": null,
   "metadata": {},
   "outputs": [],
   "source": [
    "def f():\n",
    "    try:\n",
    "        return 'try'\n",
    "    finally:\n",
    "        return 'finally'  # to zostanie zwrócone\n",
    "    \n",
    "print(f())"
   ]
  },
  {
   "cell_type": "markdown",
   "metadata": {},
   "source": [
    "Uwaga na zagnieżdżone wyjątki w Pythonie 2:"
   ]
  },
  {
   "cell_type": "code",
   "execution_count": null,
   "metadata": {},
   "outputs": [],
   "source": [
    "#Python2\n",
    "try:\n",
    "    {}[1]  # KeyError\n",
    "except:\n",
    "    try:\n",
    "        [][1]  # IndexError\n",
    "    except:\n",
    "        pass\n",
    "    raise  # chcemy wyrzucić wyjątek KeyError - jesteśmy w bloku obsługi tego wyjatku\n",
    "\n",
    "# IndexError a nie KeyError"
   ]
  },
  {
   "cell_type": "markdown",
   "metadata": {},
   "source": [
    "### Uwaga - Wyjątku SyntaxError nie można obsłużyć w bloku try-except"
   ]
  },
  {
   "cell_type": "code",
   "execution_count": null,
   "metadata": {},
   "outputs": [],
   "source": [
    "try:\n",
    "    )(\n",
    "except SyntaxError:  # Krzychu, to je SyntaxError, tego nie obsłużysz\n",
    "    pass"
   ]
  }
 ],
 "metadata": {
  "kernelspec": {
   "display_name": "Python 3",
   "language": "python",
   "name": "python3"
  },
  "language_info": {
   "codemirror_mode": {
    "name": "ipython",
    "version": 3
   },
   "file_extension": ".py",
   "mimetype": "text/x-python",
   "name": "python",
   "nbconvert_exporter": "python",
   "pygments_lexer": "ipython3",
   "version": "3.6.1"
  }
 },
 "nbformat": 4,
 "nbformat_minor": 2
}
