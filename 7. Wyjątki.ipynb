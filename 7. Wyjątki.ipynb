{
 "cells": [
  {
   "cell_type": "markdown",
   "metadata": {},
   "source": [
    "Wyjątki, służą do zasygnalizowania, że \"coś poszło nie tak\" z możłiwoscią obsługi sytuacji.\n",
    "W Pythonie, składnia bloku dla którego obsługujemy wyjątki wygląda nastęþująco:\n",
    "\n",
    "try:\n",
    "\n",
    "    ...\n",
    "    \n",
    "except [Bład]:\n",
    "\n",
    "    ...\n",
    "    \n",
    "else:\n",
    "\n",
    "    ...\n",
    "    \n",
    "finally:\n",
    "\n",
    "    ...\n",
    "    \n",
    "Kod zawarty w bloku finally wykonuje się zawsze, kod zawarty w klauzuli except wykonuje iśę tylko wtedy kiedy wystąpił wyjątek, kod w klauzuli else wykonuje się wtedy kiedy kod w bloku try przejdzie bez wyrzucania wyjątkuu"
   ]
  },
  {
   "cell_type": "code",
   "execution_count": null,
   "metadata": {},
   "outputs": [],
   "source": [
    "try:\n",
    "    print('try')\n",
    "except:\n",
    "    print('except')\n",
    "else:\n",
    "    print('else')\n",
    "finally:\n",
    "    print('finally')"
   ]
  },
  {
   "cell_type": "code",
   "execution_count": null,
   "metadata": {},
   "outputs": [],
   "source": [
    "try:\n",
    "    print('try')\n",
    "    {}[1]\n",
    "except:\n",
    "    print('except')\n",
    "else:\n",
    "    print('else')\n",
    "finally:\n",
    "    print('finally')"
   ]
  },
  {
   "cell_type": "markdown",
   "metadata": {},
   "source": [
    "Do wyrzucania wyjątku słuzy polecenie raise. Skłądnia:\n",
    "\n",
    "raise [wyjątek]\n",
    "\n",
    "jeżeli wyjątek nie zostanie podany, zostaje wyrzucony pooprzeni wyjątek"
   ]
  },
  {
   "cell_type": "code",
   "execution_count": null,
   "metadata": {},
   "outputs": [],
   "source": [
    "try:\n",
    "    {}[1]\n",
    "except IndexError:\n",
    "    print('except IndexError')\n",
    "except KeyError:\n",
    "    print('except KeyError')\n",
    "    raise  # wyrzucanie ponownie wyjątku"
   ]
  },
  {
   "cell_type": "code",
   "execution_count": null,
   "metadata": {},
   "outputs": [],
   "source": [
    "# łapanie wiele wyjątków w jednym except:\n",
    "try:\n",
    "    {}[1]\n",
    "except (KeyError, IndexError) as e:\n",
    "    print(str(e))"
   ]
  }
 ],
 "metadata": {
  "kernelspec": {
   "display_name": "Python 3",
   "language": "python",
   "name": "python3"
  },
  "language_info": {
   "codemirror_mode": {
    "name": "ipython",
    "version": 3
   },
   "file_extension": ".py",
   "mimetype": "text/x-python",
   "name": "python",
   "nbconvert_exporter": "python",
   "pygments_lexer": "ipython3",
   "version": "3.6.1"
  }
 },
 "nbformat": 4,
 "nbformat_minor": 2
}
