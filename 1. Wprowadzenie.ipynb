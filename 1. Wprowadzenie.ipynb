{
 "cells": [
  {
   "cell_type": "markdown",
   "metadata": {
    "collapsed": true
   },
   "source": [
    "Python to język interpretowany. CPython (potocznie zwany Pythonem) jest najpopularniejszą implementacją.\n",
    "Istnieją jeszcze inne implementacje, najbardziej znane to:\n",
    "1. Jyton - Python zaimplementowany w Javie\n",
    "2. PyPy - Python zaimplementowany w Pythonie\n",
    "3. IronPython - Python zaimplementowany w C#"
   ]
  },
  {
   "cell_type": "code",
   "execution_count": null,
   "metadata": {},
   "outputs": [],
   "source": [
    "# Filozofię pythona opisuje \"Zen of Python\"\n",
    "\n",
    "import this"
   ]
  },
  {
   "cell_type": "code",
   "execution_count": null,
   "metadata": {},
   "outputs": [],
   "source": [
    "# Głównym elementem składni pythona jest brak średników i nawiasów, oraz znak : oznaczający nowy blok\n",
    "# moduł __future__ zawiera nowe funkcjonalnosci języka, które zostały przeniesione z nowszych wersji Pythona\n",
    "from __future__ import braces  # easter egg twórców Pythona"
   ]
  },
  {
   "cell_type": "code",
   "execution_count": null,
   "metadata": {},
   "outputs": [],
   "source": [
    "# Nowy blok oznacza się wcięciem - w Pythonie nie można mieszać Tabów i spacji w obrebie bloków.\n",
    "# Wszystkie linijki w obrębie bloku muszą mieć takie samo wcięcie\n",
    "\n",
    "def perm(l):\n",
    "        # Compute the list of all permutations of l\n",
    "    if len(l) <= 1:\n",
    "                  return [l]\n",
    "    r = []\n",
    "    for i in range(len(l)):\n",
    "             s = l[:i] + l[i+1:]\n",
    "             p = perm(s)\n",
    "             for x in p:\n",
    "              r.append(l[i:i+1] + x)\n",
    "    return r"
   ]
  },
  {
   "cell_type": "code",
   "execution_count": null,
   "metadata": {},
   "outputs": [],
   "source": [
    "# komentarze zaczynają się od znaku # i trwają do końca linii\n",
    "# pusty blok oznacza się słowem kluczowym \"pass\"\n",
    "\n",
    "# if, który nic nie robi\n",
    "if False:\n",
    "    pass"
   ]
  },
  {
   "cell_type": "code",
   "execution_count": null,
   "metadata": {},
   "outputs": [],
   "source": [
    "# W interaktywnej sesji interpretera znak _ ma szczególną właściwość - przechowuje wynik ostatniej operacji.\n",
    "# Właściwosć ta nie obowiązuje przy standarodwym uruchomieniu skryptu.\n",
    "# W praktyce _ w kodzie oznacza wartość, która nie ma znaczenia\n",
    "\n",
    "# przykład przechowania wyniku sumowania w zmiennej _\n",
    "2 + 2"
   ]
  },
  {
   "cell_type": "code",
   "execution_count": null,
   "metadata": {},
   "outputs": [],
   "source": [
    "_"
   ]
  },
  {
   "cell_type": "code",
   "execution_count": null,
   "metadata": {},
   "outputs": [],
   "source": [
    "# przechowywanie niepotrzebnych wartosci w zmiennej _:\n",
    "\n",
    "for _ in range(3):\n",
    "    print(\"Hello World\")"
   ]
  },
  {
   "cell_type": "code",
   "execution_count": null,
   "metadata": {},
   "outputs": [],
   "source": [
    "# znak \\  pozwala na przełamanie linii\n",
    "\n",
    "if 1\\\n",
    "    or 2:\n",
    "        print(123)\n",
    "        \n",
    "# nie działa kiedy po nim pojawia się komentarz oraz nie pozwala na kontynuowanie komentarzy\n",
    "\n",
    "# if 1\\ # com  - SyntaxError\n",
    "#     or 2:\n",
    "#         print(123)\n",
    "        \n",
    "# znak \\ nie ma wpływu na wcięcie - nie można używając znaku \\ \"usunąć\" wcięcia\n",
    "if 2:\n",
    "   \\ print(x)"
   ]
  },
  {
   "cell_type": "code",
   "execution_count": null,
   "metadata": {},
   "outputs": [],
   "source": [
    "# automatyczne łączenie linii:\n",
    "# nawiasy [] {} () i \"\"\" (wieloliowy string) pozwalają rozwijać kod na kilka linii (zawierające znak nowej linii)\n",
    "# bez używania znaku \\\n",
    "# w takim przypadku dozwolone jest komentowanie pomiędzy nawiasami\n",
    "\n",
    "x = [1,  # komentarz\n",
    "     \n",
    "     2]\n",
    "\n",
    "print(x)\n",
    "\n",
    "s = \"\"\"Witaj # to nie jest komentarz\n",
    "Swiecie\n",
    "\"\"\"\n",
    "print(s)\n",
    "\n",
    "# połączone zostaną również niczym (poza komentarzem) nieoddzielone stringi\n",
    "x = (\"hello \" \"world\"  #komentarz\n",
    "\"!\")\n",
    "print(x)"
   ]
  },
  {
   "cell_type": "code",
   "execution_count": null,
   "metadata": {},
   "outputs": [],
   "source": []
  }
 ],
 "metadata": {
  "kernelspec": {
   "display_name": "Python 3",
   "language": "python",
   "name": "python3"
  },
  "language_info": {
   "codemirror_mode": {
    "name": "ipython",
    "version": 3
   },
   "file_extension": ".py",
   "mimetype": "text/x-python",
   "name": "python",
   "nbconvert_exporter": "python",
   "pygments_lexer": "ipython3",
   "version": "3.6.1"
  }
 },
 "nbformat": 4,
 "nbformat_minor": 2
}
