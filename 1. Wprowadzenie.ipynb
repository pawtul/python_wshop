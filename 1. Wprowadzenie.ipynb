{
 "cells": [
  {
   "cell_type": "markdown",
   "metadata": {
    "collapsed": true
   },
   "source": [
    "Python to język interpretowany. CPython (potocznie zwany Pythonem) jest najpopularniejszą implementacją.\n",
    "Istnieją jeszcze inne implementacje, najbardziej znane to:\n",
    "1. Jyton - Python zaimplementowany w Javie\n",
    "2. PyPy - Python zaimplementowany w Pythonie\n",
    "3. IronPython - Python zaimplementowany w C#"
   ]
  },
  {
   "cell_type": "code",
   "execution_count": null,
   "metadata": {
    "collapsed": true
   },
   "outputs": [],
   "source": [
    "# Filozofię pythona opisuje \"Zen of Python\"\n",
    "\n",
    "import this"
   ]
  },
  {
   "cell_type": "code",
   "execution_count": null,
   "metadata": {},
   "outputs": [],
   "source": [
    "# Głównym elementem składni pythona jest brak średników i nawiasów, oraz znak : oznaczający nowy blok\n",
    "# moduł __future__ zawiera nowe funkcjonalnosci języka, które zostały przeniesione z nowszych wersji Pythona\n",
    "from __future__ import braces  # easter egg twórców Pythona"
   ]
  },
  {
   "cell_type": "code",
   "execution_count": null,
   "metadata": {
    "collapsed": true
   },
   "outputs": [],
   "source": [
    "# komentarze zaczynają się od znaku # i trwają do końca linii\n",
    "# pusty blok oznacza się słowem kluczowym \"pass\"\n",
    "\n",
    "# if, który nic nie robi\n",
    "if False:\n",
    "    pass"
   ]
  },
  {
   "cell_type": "code",
   "execution_count": null,
   "metadata": {},
   "outputs": [],
   "source": [
    "# W interaktywnej sesji interpretera znak _ ma szczególną właściwość - przechowuje wynik ostatniej operacji.\n",
    "# Właściwosć ta nie obowiązuje przy standarodwym uruchomieniu skryptu.\n",
    "# W praktyce _ w kodzie oznacza wartość, która nie ma znaczenia\n",
    "\n",
    "# przykład przechowania wyniku sumowania w zmiennej _\n",
    "2 + 2"
   ]
  },
  {
   "cell_type": "code",
   "execution_count": null,
   "metadata": {},
   "outputs": [],
   "source": [
    "_"
   ]
  },
  {
   "cell_type": "code",
   "execution_count": null,
   "metadata": {},
   "outputs": [],
   "source": [
    "# przechowywanie niepotrzebnych wartosci w zmiennej _:\n",
    "\n",
    "for _ in range(3):\n",
    "    print \"Hello World\""
   ]
  },
  {
   "cell_type": "code",
   "execution_count": null,
   "metadata": {
    "collapsed": true
   },
   "outputs": [],
   "source": []
  }
 ],
 "metadata": {
  "kernelspec": {
   "display_name": "Python 2",
   "language": "python",
   "name": "python2"
  },
  "language_info": {
   "codemirror_mode": {
    "name": "ipython",
    "version": 2
   },
   "file_extension": ".py",
   "mimetype": "text/x-python",
   "name": "python",
   "nbconvert_exporter": "python",
   "pygments_lexer": "ipython2",
   "version": "2.7.13"
  }
 },
 "nbformat": 4,
 "nbformat_minor": 2
}
