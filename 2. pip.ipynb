{
 "cells": [
  {
   "cell_type": "markdown",
   "metadata": {},
   "source": [
    "pip to narzędzie służące do zarządzania pakietami pythonowymi\n",
    "pip --help pokazuje wszystkie dostępne opcje wywołąnia programu:\n",
    "\n",
    "Usage:   \n",
    "  pip <command> [options]\n",
    "\n",
    "Commands:\n",
    "  install                     Install packages.\n",
    "  download                    Download packages.\n",
    "  uninstall                   Uninstall packages.\n",
    "  freeze                      Output installed packages in requirements format.\n",
    "  list                        List installed packages.\n",
    "  show                        Show information about installed packages.\n",
    "  check                       Verify installed packages have compatible dependencies.\n",
    "  search                      Search PyPI for packages.\n",
    "  wheel                       Build wheels from your requirements.\n",
    "  hash                        Compute hashes of package archives.\n",
    "  completion                  A helper command used for command completion.\n",
    "  help                        Show help for commands.\n",
    "\n",
    "General Options:\n",
    "  -h, --help                  Show help.\n",
    "  --isolated                  Run pip in an isolated mode, ignoring environment variables and user configuration.\n",
    "  -v, --verbose               Give more output. Option is additive, and can be used up to 3 times.\n",
    "  -V, --version               Show version and exit.\n",
    "  -q, --quiet                 Give less output. Option is additive, and can be used up to 3 times (corresponding to WARNING, ERROR, and CRITICAL logging levels).\n",
    "  --log <path>                Path to a verbose appending log.\n",
    "  --proxy <proxy>             Specify a proxy in the form [user:passwd@]proxy.server:port.\n",
    "  --retries <retries>         Maximum number of retries each connection should attempt (default 5 times).\n",
    "  --timeout <sec>             Set the socket timeout (default 15 seconds).\n",
    "  --exists-action <action>    Default action when a path already exists: (s)witch, (i)gnore, (w)ipe, (b)ackup, (a)bort.\n",
    "  --trusted-host <hostname>   Mark this host as trusted, even though it does not have valid or any HTTPS.\n",
    "  --cert <path>               Path to alternate CA bundle.\n",
    "  --client-cert <path>        Path to SSL client certificate, a single file containing the private key and the certificate in PEM format.\n",
    "  --cache-dir <dir>           Store the cache data in <dir>.\n",
    "  --no-cache-dir              Disable the cache.\n",
    "  --disable-pip-version-check\n",
    "                              Don't periodically check PyPI to determine whether a new version of pip is available for download. Implied with --no-index.\n"
   ]
  },
  {
   "cell_type": "markdown",
   "metadata": {},
   "source": [
    "\"pip search <tekst>\" wyszukuje pakiety mające \"tekst\" w opisie, np: \n",
    "pip search opencv\n",
    "\n",
    "aircv (1.4.6)                    - Find object position based on python-opencv2.\n",
    "airtest (0.0.1.dev6)             - Automation test library for android based on opencv\n",
    "opencv-python-armv7l (3.2.0)     - opencv-python on armv7l.\n",
    "athentoimaging (0.1)             - Image cleaning and OCR improvement package in Python using OpenCV.\n",
    "atx (1.1.3.dev32)                - Automation test library for android based on opencv\n",
    "opencv-contrib-python (3.3.0.9)  - Wrapper package for OpenCV python bindings.\n",
    "ctypes-opencv (0.8.0)            - ctypes-opencv - A Python wrapper for OpenCV using ctypes\n",
    "cv2-wrapper (0.1)                - Wrapper for python opencv 2.4.12 32bit\n",
    "cv2wrap (1.0)                    - Wrapper for python opencv 2.4.12 32bit\n",
    "cv_utils (0.2.0)                 - Computer Vision or OpenCV python utility functions. It also includes basic utilities \n",
    "... <- output skrócony"
   ]
  },
  {
   "cell_type": "markdown",
   "metadata": {},
   "source": [
    "\"pip install <pakiet>\" i \"pip uninstall <pakiet>\" służą do instalacji/usunięcia pakietu\n",
    "dodatkowo można przy instalacji sprecyzować wersję:\n",
    "pip install django==1.9.1\n",
    "pip install django>1.8\n",
    "itp."
   ]
  },
  {
   "cell_type": "markdown",
   "metadata": {},
   "source": [
    "\"pip download <pakiet>\" pobiera pakiet pythonowy (użyteczne, gdy chcemy przenieść pakiet do środowiska bez dostępu do sieci)\n",
    "taki pakiet (w formacie .whl albo tar.gz) można zainstalować wchodząc do folderu z paczką i wpisując:\n",
    "pip install pakiet.tar.gz"
   ]
  },
  {
   "cell_type": "code",
   "execution_count": null,
   "metadata": {
    "collapsed": true
   },
   "outputs": [],
   "source": []
  }
 ],
 "metadata": {
  "kernelspec": {
   "display_name": "Python 2",
   "language": "python",
   "name": "python2"
  },
  "language_info": {
   "codemirror_mode": {
    "name": "ipython",
    "version": 2
   },
   "file_extension": ".py",
   "mimetype": "text/x-python",
   "name": "python",
   "nbconvert_exporter": "python",
   "pygments_lexer": "ipython2",
   "version": "2.7.12"
  }
 },
 "nbformat": 4,
 "nbformat_minor": 2
}
