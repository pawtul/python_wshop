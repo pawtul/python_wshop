{
 "cells": [
  {
   "cell_type": "markdown",
   "metadata": {},
   "source": [
    "Python może korzystać tylko z jednej wersji zainstalowanej paczki,\n",
    "a poniewaz często rózne projekty (zwłaszcza zewnętrzne) mogą polegać na róznej wersji tego samego pakietu\n",
    "powstała potrzeba stworzenia wirtualnych środowisk pythona."
   ]
  },
  {
   "cell_type": "markdown",
   "metadata": {},
   "source": [
    "Moduł virtualenv pozwala na tworzenie niezależnych od siebie środowisk pythonowych.\n",
    "\n",
    "instalacja:\n",
    "pip install virtualenv\n",
    "\n",
    "\n",
    "uruchamianie:\n",
    "virtualenv [-p ścieżka_do_interpretera] <nazwa>\n",
    "\n",
    "np.\n",
    "virtualenv test\n",
    "virtualenv -p `which python2` test\n",
    "virtualenv .  # tworzy środowisko wirtualne w obecnym folderze"
   ]
  },
  {
   "cell_type": "markdown",
   "metadata": {},
   "source": [
    "w przypadku kiedy virtualenv jest zainstalowany w pythonie3 i pythone2 mozemy wybrać \n",
    "wersję z konkretnego pythona wywołując:\n",
    "python3 -m virtualenv [-p ...] <nazwa>\n",
    "python2 -m virtualenv [-p ...] <nazwa>"
   ]
  },
  {
   "cell_type": "markdown",
   "metadata": {},
   "source": [
    "Dodatkiem do virtualenva jest virtualenvwrapper, który uraszcza zarządzanie środowiskami wirtualnymi"
   ]
  }
 ],
 "metadata": {
  "kernelspec": {
   "display_name": "Python 3",
   "language": "python",
   "name": "python3"
  },
  "language_info": {
   "codemirror_mode": {
    "name": "ipython",
    "version": 3
   },
   "file_extension": ".py",
   "mimetype": "text/x-python",
   "name": "python",
   "nbconvert_exporter": "python",
   "pygments_lexer": "ipython3",
   "version": "3.6.1"
  }
 },
 "nbformat": 4,
 "nbformat_minor": 2
}
