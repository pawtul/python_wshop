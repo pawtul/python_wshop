{
 "cells": [
  {
   "cell_type": "markdown",
   "metadata": {},
   "source": [
    "Jak wiele innych języków Python również zawiera wyrażenia warunkowe.\n",
    "3 słowa kluczowe to: if, elif i else.\n",
    "\n",
    "W Pythonie nie funkcjonuje \"case\""
   ]
  },
  {
   "cell_type": "code",
   "execution_count": null,
   "metadata": {},
   "outputs": [],
   "source": [
    "x = 1\n",
    "if x == 1:\n",
    "    print 'x = 1'\n",
    "elif x == 2:\n",
    "    print 'x = 2'\n",
    "else:\n",
    "    print 'x to ani 1 ani 2'"
   ]
  },
  {
   "cell_type": "code",
   "execution_count": null,
   "metadata": {
    "collapsed": true
   },
   "outputs": [],
   "source": [
    "# część elif i else jest opcjonalna\n",
    "\n",
    "x = 2\n",
    "if x == 2:\n",
    "    print 'x = 2'"
   ]
  },
  {
   "cell_type": "markdown",
   "metadata": {},
   "source": [
    "Warunek wyrażenia nie musi być porównaniem - może to byc dowolny obiekt Pythonowy"
   ]
  },
  {
   "cell_type": "code",
   "execution_count": null,
   "metadata": {
    "collapsed": true
   },
   "outputs": [],
   "source": [
    "x = [1, 2, 3]\n",
    "if x:\n",
    "    print 'x nie jest puste'"
   ]
  },
  {
   "cell_type": "markdown",
   "metadata": {},
   "source": [
    "Generalnie, typy wbudowane mają wartosć logiczną Prawdziwa jeżeli nie są puste (w przypadku sekwencji) lub są różne od 0 (liczby).\n",
    "Klasy definiowane przez użytkownika mogą zaimplementować metodę \\__bool\\__, w celu określenia wartosći logicznej. W przypadku braku metody \\__bool\\__ sprawdzona zostaje metoda \\__len\\__.\n",
    "\n",
    "Do sprawdzenia wartosci logicznej 'ręcznie' można użyć funkcji _bool_"
   ]
  },
  {
   "cell_type": "code",
   "execution_count": null,
   "metadata": {},
   "outputs": [],
   "source": [
    "print 'bool(\"\"):', bool(\"\")\n",
    "print 'bool(\" \"):', bool(\" \")\n",
    "print 'bool([]):', bool([])\n",
    "print 'bool([1]):', bool([1])\n",
    "print 'bool(()):', bool(())\n",
    "print 'bool((1,)):', bool((1,))  # UWAGA: krotka z jednym elementem musi zawierać , (przecinek)\n",
    "print 'bool({}):', bool({})\n",
    "print 'bool({1:1}):', bool({1:1})\n",
    "print 'bool(set()):', bool(set())\n",
    "print 'bool({1}):', bool({1})\n",
    "print 'bool(0):', bool(0)\n",
    "print 'bool(1):', bool(1)\n",
    "print 'bool(-1):', bool(-1)\n",
    "print 'bool(0.0):', bool(0.0)\n",
    "print 'bool(1.4):', bool(1.4)\n",
    "print 'bool(None):', bool(None)"
   ]
  },
  {
   "cell_type": "markdown",
   "metadata": {},
   "source": [
    "W przypadku kiedy chcemy przyrównać coś None uzywamy operatora is zamiast ==\n"
   ]
  },
  {
   "cell_type": "code",
   "execution_count": null,
   "metadata": {
    "collapsed": true
   },
   "outputs": [],
   "source": [
    "x = None\n",
    "if x is None:\n",
    "    print 'x to None'\n",
    "\n",
    "x = 2\n",
    "if x is not None:\n",
    "    print 'x to nie None'"
   ]
  },
  {
   "cell_type": "markdown",
   "metadata": {},
   "source": [
    "W Pythonie funkcjonuje róznież forma operatora trójargumentowego:\n",
    "[jeżeli warunek to True] if [warunek] else [jeżeli warunek to False]\n",
    "\n",
    "W tym wyrażeniu klauzule 'else' jest wymagana"
   ]
  },
  {
   "cell_type": "code",
   "execution_count": null,
   "metadata": {
    "collapsed": true
   },
   "outputs": [],
   "source": [
    "x = 2\n",
    "y = 22 if x == 2 else 33\n",
    "print y\n",
    "\n",
    "y = 22 if x == 3 else 33\n",
    "print y"
   ]
  },
  {
   "cell_type": "markdown",
   "metadata": {},
   "source": [
    "Operator trójargumentowy można zapisać też przy pomocy operatorów or i and:\n",
    "[warunek] and [wartosć jeżeli warunek prawdziwy] or [wartość jeżeli warunek fałszywy]\n",
    "\n",
    "Rozwiązanie to ma jedną wadę - jezeli wartosć dla warunku prawdziwego sama w sobie ma wartosć fałsz (np. 0 albo pusta sekwencja) to zwrócona zostanie wartość taka jak dla warunku fałszywego"
   ]
  },
  {
   "cell_type": "code",
   "execution_count": null,
   "metadata": {
    "collapsed": true
   },
   "outputs": [],
   "source": [
    "# pożądane działanie operatora:\n",
    "x = 2\n",
    "y = x == 2 and 2 or None\n",
    "print y\n",
    "\n",
    "y = x != 2 and 2 or None\n",
    "print y\n",
    "\n",
    "# działanie niepożądane - spodziewamy się None a nie 2\n",
    "y = x != 2 and None or 2\n",
    "print y\n"
   ]
  },
  {
   "cell_type": "markdown",
   "metadata": {},
   "source": [
    "# Pętle"
   ]
  },
  {
   "cell_type": "markdown",
   "metadata": {},
   "source": [
    "## Pętla for\n",
    "\n",
    "Python ma 2 rodzaje pętli: for i while.\n",
    "Pętla for, w przeciwieństwie do wielu języków, iteruje po kolekcji:\n",
    "\n",
    "for [zmienna] in [kolekcja]:\n",
    "    ...\n",
    "\n",
    "w przypadku kiedy elementy kolekcji są krotkami, mozna skorzystać z \"tuple unpackingu\":\n",
    "kolekcja = [(a, b), (a, b), (a, b)]\n",
    "\n",
    "for item1, item2 in kolekcja:\n",
    "    # item1 to a, item2 to b\n",
    "    "
   ]
  },
  {
   "cell_type": "code",
   "execution_count": null,
   "metadata": {
    "collapsed": true
   },
   "outputs": [],
   "source": [
    "kolekcja = [1, 2, 3, 4, 5]\n",
    "for i in kolekcja:\n",
    "    print i\n",
    "\n",
    "print 10 * '='\n",
    "kolekcja = [(1, 1), (2, 2), (3, 3), (4, 4), (5, 5)]\n",
    "for i in kolekcja:\n",
    "    print i\n",
    "    \n",
    "print 10 * '='    \n",
    "for i, j in kolekcja:\n",
    "    print i, j"
   ]
  },
  {
   "cell_type": "markdown",
   "metadata": {},
   "source": [
    "do przerwania działąnia pętli słuzy słowo kluczowe _break_"
   ]
  },
  {
   "cell_type": "code",
   "execution_count": null,
   "metadata": {
    "collapsed": true
   },
   "outputs": [],
   "source": [
    "x = [1, 2, 3, 4, 5]\n",
    "for i in x:\n",
    "    print i\n",
    "    if i == 3:\n",
    "        break"
   ]
  },
  {
   "cell_type": "markdown",
   "metadata": {},
   "source": [
    "Dodatkiem do pętli for jest klauzula else: \n",
    "działa to na tej zasadzie, zę jeżeli pętla nie zostanie przerwana to python wykona\n",
    "kod z części else"
   ]
  },
  {
   "cell_type": "code",
   "execution_count": null,
   "metadata": {
    "collapsed": true
   },
   "outputs": [],
   "source": [
    "x = range(5)\n",
    "for i in x:\n",
    "    if i == 3:\n",
    "        print 'jest break'\n",
    "        break\n",
    "else:\n",
    "    print 'nie było break'\n",
    "    \n",
    "print 30 * '='\n",
    "x = range(5)\n",
    "for i in x:\n",
    "    if i == 6:\n",
    "        print 'jest break'\n",
    "        break\n",
    "else:\n",
    "    print 'nie było break'"
   ]
  },
  {
   "cell_type": "markdown",
   "metadata": {},
   "source": [
    "## Pętla while\n",
    "Pętla while wykonuje się tak długo jak wartość będąca w warunku jest prawdziwa:\n",
    "\n",
    "składnia:\n",
    "\n",
    "while [warunek]:\n",
    "    # ....\n",
    "else:\n",
    "    # ...\n",
    "    \n",
    "else w przypadku pętli while działa tak samo jak w przypadku pętli for"
   ]
  },
  {
   "cell_type": "code",
   "execution_count": null,
   "metadata": {
    "collapsed": true
   },
   "outputs": [],
   "source": [
    "x = 0\n",
    "while x < 5:\n",
    "    print x\n",
    "    x += 1\n",
    "    \n",
    "print \"=\" * 10\n",
    "x = 5\n",
    "while x:\n",
    "    print x\n",
    "    x -= 1\n",
    "else:\n",
    "    print 'nie było break'\n",
    "\n",
    "print \"=\" * 10\n",
    "x = 5\n",
    "while True:\n",
    "    print x\n",
    "    x -= 1\n",
    "    if x == 3:\n",
    "        break\n",
    "else:\n",
    "    print 'nie było break'"
   ]
  },
  {
   "cell_type": "markdown",
   "metadata": {},
   "source": [
    "## Comprehensions\n",
    "\n",
    "w Pythonie, funkcjąnują 4 rodzaje comprehensions - są to udogodnienia to tworzenia nowych list, słowników i zbiorów.\n",
    "\n",
    "składnia jest następująca:\n",
    "\n",
    "### List comprehension:\n",
    "\n",
    "nowa_lista = [[nowy element] for [element starej sekwencji] in [stara sekwencja] [if warunek]]\n",
    "\n",
    "jest to równoważne z:\n",
    "\n",
    "nowa_lista\n",
    "for [element starej sekwencji] in [stara sekwencja]:\n",
    "    ...\n",
    "    ...\n",
    "    [nowy element] = ...\n",
    "    ...\n",
    "    if [warunek]:  # jeżeli ten warunek jest - jeżeli nie to element zawsze zostanie dodany\n",
    "        nowa_lista.append([nowy_element])"
   ]
  },
  {
   "cell_type": "code",
   "execution_count": null,
   "metadata": {
    "collapsed": true
   },
   "outputs": [],
   "source": [
    "lista = [int(i) for i in '12345']\n",
    "print lista\n",
    "\n",
    "print 10 * '='\n",
    "lista = [int(i) for i in '12345' if i not in '24']\n",
    "print lista\n",
    "\n",
    "# pętle wewnątrz comprehension można zagnieżdżać\n",
    "print 10 * '='\n",
    "lista = [int(i) for j in ['123', '456', '789'] for i in j if i not in '2468']\n",
    "print lista"
   ]
  },
  {
   "cell_type": "markdown",
   "metadata": {},
   "source": [
    "### Dict comprehension\n",
    "Składnia jest dokłądnie taka sama jak w przypadku list comprehension z jedną drobnymi różnicami:\n",
    "* zmieniają się nawiasy [] na klamry {}\n",
    "* nowy element to para klucz:wartość"
   ]
  },
  {
   "cell_type": "code",
   "execution_count": null,
   "metadata": {
    "collapsed": true
   },
   "outputs": [],
   "source": [
    "d = {i: 2*i for i in range(15) if not i%2}\n",
    "print d"
   ]
  },
  {
   "cell_type": "markdown",
   "metadata": {},
   "source": [
    "### Set comprehension\n",
    "Skłądnia jest bardzo podobna do dict i list comprehension:\n",
    "* nawiasy [] zmienione są na klamry {}\n",
    "* nowy element zbioru jest jednoczłonowy"
   ]
  },
  {
   "cell_type": "code",
   "execution_count": null,
   "metadata": {
    "collapsed": true
   },
   "outputs": [],
   "source": [
    "zbior = {2*i for i in range(15) if not i%2}\n",
    "print zbior"
   ]
  }
 ],
 "metadata": {
  "kernelspec": {
   "display_name": "Python 2",
   "language": "python",
   "name": "python2"
  },
  "language_info": {
   "codemirror_mode": {
    "name": "ipython",
    "version": 2
   },
   "file_extension": ".py",
   "mimetype": "text/x-python",
   "name": "python",
   "nbconvert_exporter": "python",
   "pygments_lexer": "ipython2",
   "version": "2.7.13"
  }
 },
 "nbformat": 4,
 "nbformat_minor": 2
}
