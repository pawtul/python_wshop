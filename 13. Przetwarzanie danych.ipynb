{
 "cells": [
  {
   "cell_type": "markdown",
   "metadata": {},
   "source": [
    "# JSON\n",
    "\n",
    "- moduł json (wbudowany)"
   ]
  },
  {
   "cell_type": "code",
   "execution_count": 45,
   "metadata": {},
   "outputs": [
    {
     "name": "stdout",
     "output_type": "stream",
     "text": [
      "{\"a\": 1, \"b\": 2}\n",
      "{\n",
      "    \"a\": 1, \n",
      "    \"b\": 2\n",
      "}\n",
      "True\n"
     ]
    }
   ],
   "source": [
    "import json\n",
    "\n",
    "\n",
    "d = {'a': 1, 'b': 2}\n",
    "\n",
    "d_json = json.dumps(d)  # zrzuca JSONa do stringu\n",
    "print d_json\n",
    "\n",
    "d_json = json.dumps(d, indent=4)  # dodaje wcięcia do JSONA\n",
    "print d_json\n",
    "\n",
    "d2 = json.loads(d_json)  # wczytuje JSONa ze stringu\n",
    "print d2 == d\n",
    "\n",
    "# json.dump(open('plik.json', 'w'), d) - zrzuca json do pliku\n",
    "# d3 = json.load(open('plik.json'))  # wczytuje json z pliku"
   ]
  },
  {
   "cell_type": "code",
   "execution_count": 9,
   "metadata": {},
   "outputs": [
    {
     "name": "stdout",
     "output_type": "stream",
     "text": [
      "{u'a': 1, u'b': 2}\n",
      "{u'a': 1, u'b': 2}\n",
      "{u'a': 1, u'b': 2}\n",
      "<function <lambda> at 0x10668f9b0>\n"
     ]
    }
   ],
   "source": [
    "# można dodać dekoder dla słowników\n",
    "import json\n",
    "\n",
    "def decoder(obj):\n",
    "    print obj\n",
    "    # ...\n",
    "    return obj\n",
    "\n",
    "d = {'a': 1, 'b': 2}\n",
    "dj = json.dumps(d)\n",
    "\n",
    "d2 = json.loads(dj, object_hook=decoder)\n",
    "print d2\n",
    "\n",
    "# dekoder wcale nie musi zwracać słownika\n",
    "def decoder(obj):\n",
    "    print obj\n",
    "    # ...\n",
    "    return lambda: None\n",
    "\n",
    "d = {'a': 1, 'b': 2}\n",
    "dj = json.dumps(d)\n",
    "\n",
    "d2 = json.loads(dj, object_hook=decoder)\n",
    "print d2"
   ]
  },
  {
   "cell_type": "code",
   "execution_count": 44,
   "metadata": {},
   "outputs": [
    {
     "name": "stdout",
     "output_type": "stream",
     "text": [
      "encoding:  set([1, 2, 3])\n",
      "[1, 2, 3]\n"
     ]
    }
   ],
   "source": [
    "# zrzucanie\n",
    "import json\n",
    "\n",
    "\n",
    "class Encoder(json.JSONEncoder):\n",
    "    def default(self, o):      # default jest wykonywane kiedy mamy typ, którego json.dumps\n",
    "        print 'encoding: ', o  # sam nie zakoduje\n",
    "        if isinstance(o, set):\n",
    "            o = list(o)\n",
    "        return json.dumps(o)\n",
    "    \n",
    "\n",
    "def decoder(obj):\n",
    "    print 'decoding: ', o\n",
    "    return set(obj)\n",
    "\n",
    "def encoder(o):\n",
    "    print 'encoding: ', o  # sam nie zakoduje\n",
    "    if isinstance(o, set):\n",
    "        o = list(o)\n",
    "    return json.dumps(o)\n",
    "\n",
    "\n",
    "d = set([1, 2, 3])\n",
    "# dj = Encoder().encode(d)           # można zakodowywać bezpośrednio klasą kodującą\n",
    "# dj = json.dumps(d, cls=Encoder)    # można przekazać klasę kodującą jako parametr cls\n",
    "dj = json.dumps(d, default=encoder)  # można przekazać funkcję jako parametr default\n",
    "# default się wywołuje kiedy json sam nie jest w stanie zrzucić obiektu - powinno zwracać jakiś\n",
    "# obiekt lub wyrzucać TypeError\n",
    "\n",
    "d2 = json.loads(dj, object_hook=decoder)\n",
    "print d2\n",
    "    "
   ]
  },
  {
   "cell_type": "markdown",
   "metadata": {},
   "source": [
    "do ładnego wypisywania JSONa z poziomu terminala można użyć json.tool:\n",
    "\n",
    "cat plik.json | python -m json.tool"
   ]
  },
  {
   "cell_type": "markdown",
   "metadata": {},
   "source": [
    "# XML\n",
    "\n",
    " - moduł xml (wbudowany)"
   ]
  },
  {
   "cell_type": "markdown",
   "metadata": {},
   "source": [
    "## moduł xml"
   ]
  },
  {
   "cell_type": "code",
   "execution_count": 98,
   "metadata": {},
   "outputs": [
    {
     "name": "stdout",
     "output_type": "stream",
     "text": [
      "[<DOM Element: package at 0x10698d830>]\n",
      "[<DOM Element: module at 0x10698d908>, <DOM Element: module at 0x1036258c0>]\n",
      "child nodes of module  <DOM Element: module at 0x10698d908> :  [<DOM Text node \"u'\\n\\t\\t'\">, <DOM Element: version at 0x10698d998>, <DOM Text node \"u'\\n\\t\\t'\">, <DOM Element: component at 0x10698df38>, <DOM Text node \"u'\\n\\t'\">]\n",
      "node name:  #text\n",
      "\n",
      "\t\t\n",
      "node name:  version\n",
      "architecture: AX\n",
      "<version architecture=\"AX\">15.5</version>\n",
      "node name:  #text\n",
      "\n",
      "\t\t\n",
      "node name:  component\n",
      "spam: \n",
      "<component>APG</component>\n",
      "node name:  #text\n",
      "\n",
      "\t\n",
      "child nodes of module  <DOM Element: module at 0x1036258c0> :  [<DOM Text node \"u'\\n\\t\\t'\">, <DOM Element: version at 0x103625518>, <DOM Text node \"u'\\n\\t\\t'\">, <DOM Element: component at 0x103625440>, <DOM Text node \"u'\\n\\t'\">]\n",
      "node name:  #text\n",
      "\n",
      "\t\t\n",
      "node name:  version\n",
      "architecture: CX\n",
      "<version architecture=\"CX\">13.3</version>\n",
      "node name:  #text\n",
      "\n",
      "\t\t\n",
      "node name:  component\n",
      "spam: \n",
      "<component>APZ</component>\n",
      "node name:  #text\n",
      "\n",
      "\t\n"
     ]
    }
   ],
   "source": [
    "from xml.dom import minidom\n",
    "\n",
    "content = \"\"\"\n",
    "<package>\n",
    "\t<module>\n",
    "\t\t<version architecture=\"AX\">15.5</version>\n",
    "\t\t<component>APG</component>\n",
    "\t</module>\n",
    "\t<module>\n",
    "\t\t<version architecture=\"CX\">13.3</version>\n",
    "\t\t<component>APZ</component>\n",
    "\t</module>\n",
    "</package>\n",
    "\"\"\"\n",
    "\n",
    "# tree = minidom.parse(path)  # otiwera xml z pliku\n",
    "root = minidom.parseString(content)\n",
    "\n",
    "child_nodes = root.childNodes\n",
    "print child_nodes\n",
    "\n",
    "modules = root.getElementsByTagName(\"module\")\n",
    "print modules\n",
    "for module in modules:\n",
    "    print \"child nodes of module \", module, ': ', module.childNodes\n",
    "    for node in module.childNodes:\n",
    "        print \"node name: \", node.nodeName\n",
    "        if node.nodeName == 'version':\n",
    "            arch = node.getAttribute('architecture')\n",
    "            print \"architecture:\", arch\n",
    "        elif node.nodeName == 'component':\n",
    "            spam = node.getAttribute(\"spam\")  # get nonexisting attribute\n",
    "            print 'spam:', spam\n",
    "        content = node.toxml()\n",
    "        print content"
   ]
  },
  {
   "cell_type": "code",
   "execution_count": 116,
   "metadata": {},
   "outputs": [
    {
     "name": "stdout",
     "output_type": "stream",
     "text": [
      "<Element 'package' at 0x103616c10>\n",
      "<Element 'version' at 0x1036557d0> {'architecture': 'AX'} 15.5\n",
      "<Element 'component' at 0x103655810> {} APG\n",
      "<Element 'version' at 0x103655890> {'architecture': 'CX'} 13.3\n",
      "<Element 'component' at 0x1036558d0> {} APZ\n",
      "==================================================\n",
      "<Element 'version' at 0x1036557d0> 15.5\n",
      "<Element 'version' at 0x103655890> 13.3\n",
      "==================================================\n",
      "<package>\n",
      "\t<module>\n",
      "\t\t<version architecture=\"AX\">15.5</version>\n",
      "\t\t<component legacy=\"true\">APG</component>\n",
      "\t</module>\n",
      "\t<module>\n",
      "\t\t<version architecture=\"CX\">13.3</version>\n",
      "\t\t<component legacy=\"true\">APZ</component>\n",
      "\t</module>\n",
      "</package>\n",
      "None\n",
      "==================================================\n",
      "<package>\n",
      "\t<module>\n",
      "\t\t<version architecture=\"AX\">15.5</version>\n",
      "\t\t<component legacy=\"true\">APG</component>\n",
      "\t</module>\n",
      "\t</package>\n",
      "None\n",
      "==================================================\n",
      "<package>\n",
      "\t<module>\n",
      "\t\t<version architecture=\"AX\">15.5</version>\n",
      "\t\t<component legacy=\"true\">APG</component>\n",
      "\t</module>\n",
      "\t<module><version architecture=\"AY\">15.8</version><component>CP</component></module></package>\n",
      "None\n"
     ]
    }
   ],
   "source": [
    "from xml.etree import ElementTree as ET\n",
    "\n",
    "content = \"\"\"\n",
    "<package>\n",
    "\t<module>\n",
    "\t\t<version architecture=\"AX\">15.5</version>\n",
    "\t\t<component>APG</component>\n",
    "\t</module>\n",
    "\t<module>\n",
    "\t\t<version architecture=\"CX\">13.3</version>\n",
    "\t\t<component>APZ</component>\n",
    "\t</module>\n",
    "</package>\n",
    "\"\"\"\n",
    "\n",
    "root = ET.fromstring(content)\n",
    "print root\n",
    "for module in root:\n",
    "    version, component = list(module)\n",
    "    print version, version.attrib, version.text\n",
    "    print component, component.attrib, component.text\n",
    "\n",
    "    \n",
    "print 50 * '='\n",
    "for version in root.iter('version'):  # iteruje po wszystkich tagach version\n",
    "    print version, version.text\n",
    "    \n",
    "    \n",
    "print 50 * '='\n",
    "for version in root.findall('version'):  # iteruje po tagach version będących\n",
    "    print version, version.text          # bezpośrednimi dziecmi\n",
    "    \n",
    "    \n",
    "for component in root.iter('component'):\n",
    "    component.set('legacy', 'true')  # do każdego komponentu ustaw atrybur legacy na true\n",
    "\n",
    "\n",
    "print ET.dump(root)  # zrzuć tag na xml - widać zmienione komponenty\n",
    "\n",
    "print 50 * '='\n",
    "for module in root:\n",
    "    if module[1].text == \"APZ\": # tag component\n",
    "        root.remove(module)\n",
    "        \n",
    "print ET.dump(root)  # zrzuć tag na xml - widać usunięty moduł\n",
    "\n",
    "print 50 * '='\n",
    "new_module = ET.Element('module')\n",
    "new_version = ET.SubElement(new_module, 'version')\n",
    "new_version.attrib['architecture'] = 'AY'\n",
    "new_version.text = '15.8'\n",
    "new_component = ET.SubElement(new_module, 'component')\n",
    "new_component.text = 'CP'\n",
    "\n",
    "root.append(new_module)\n",
    "print ET.dump(root)"
   ]
  }
 ],
 "metadata": {
  "kernelspec": {
   "display_name": "Python 2",
   "language": "python",
   "name": "python2"
  },
  "language_info": {
   "codemirror_mode": {
    "name": "ipython",
    "version": 2
   },
   "file_extension": ".py",
   "mimetype": "text/x-python",
   "name": "python",
   "nbconvert_exporter": "python",
   "pygments_lexer": "ipython2",
   "version": "2.7.12"
  }
 },
 "nbformat": 4,
 "nbformat_minor": 2
}
