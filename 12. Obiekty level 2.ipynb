{
 "cells": [
  {
   "cell_type": "markdown",
   "metadata": {},
   "source": [
    "# Metaklasy\n",
    "\n",
    "Wszystko jest obiektem - tak jak instancje mają swoje klasy/typy które określają ich zachowanie, tak klasy mają swoje klasy/typy, które określają ich zachowanie. Są to właśnie metaklasy. Podstawiową metaklasą jest type (tak, to type, które mówi nam jakiego typu są obiekty); type jest metaklasą dla samego siebie.\n",
    "\n",
    "Metaklasy to funkcje albo klasy, które powinny zwrócić nową klasę "
   ]
  },
  {
   "cell_type": "code",
   "execution_count": 11,
   "metadata": {},
   "outputs": [
    {
     "name": "stdout",
     "output_type": "stream",
     "text": [
      "<type 'int'>\n",
      "<type 'type'>\n",
      "<type 'type'>\n"
     ]
    },
    {
     "data": {
      "text/plain": [
       "'mleko'"
      ]
     },
     "execution_count": 11,
     "metadata": {},
     "output_type": "execute_result"
    }
   ],
   "source": [
    "print type(2)\n",
    "print type(int)\n",
    "print type(type)\n",
    "\n",
    "Kotek = type('Kotek', (), {'co_lubi': 'mleko', 'f': lambda self: self.co_lubi})\n",
    "kotek  = Kotek()\n",
    "kotek.co_lubi\n",
    "isinstance(kotek, int)\n",
    "Kotek.mro()\n",
    "kotek.f()\n"
   ]
  },
  {
   "cell_type": "code",
   "execution_count": 16,
   "metadata": {},
   "outputs": [
    {
     "name": "stdout",
     "output_type": "stream",
     "text": [
      "metaklasa pozdrawia\n",
      "name:  A\n",
      "bs (<type 'object'>,)\n",
      "ns {'__module__': '__main__', '__metaclass__': <function metaklasa at 0x7f5bbc6f8b18>}\n",
      "==============================\n"
     ]
    }
   ],
   "source": [
    "# metaklasa przyjmuje 3 argumenty -\n",
    "# nazwę klasy, listę klas bazowych i namespace - atrybuty i metody\n",
    "def metaklasa(name, bs, ns):\n",
    "    print 'metaklasa pozdrawia'\n",
    "    print 'name: ', name\n",
    "    print 'bs', bs\n",
    "    print 'ns', ns\n",
    "    return type(name, bs, ns)\n",
    "\n",
    "\n",
    "# metaklasę podpina się w pythonie 2 do atrybutu __metaclass__\n",
    "class A(object):\n",
    "    __metaclass__ = metaklasa\n",
    "\n",
    "    \n",
    "print 30 * '='\n",
    "class B(A):\n",
    "    __metaclass__ = metaklasa\n",
    "    x = 23\n",
    "    def f(self):\n",
    "        print self"
   ]
  },
  {
   "cell_type": "code",
   "execution_count": null,
   "metadata": {
    "collapsed": true
   },
   "outputs": [],
   "source": [
    "# generalnie metaklasa wcale nie musi wywoływać type i tworzyć obiektu określonej klasy,\n",
    "# może na przykałd zwracać int\n",
    "\n",
    "def metaklasa(*a):\n",
    "    return 2\n",
    "\n",
    "class A:\n",
    "    __metaclass__ = metaklasa\n",
    "    \n",
    "\n",
    "print A"
   ]
  },
  {
   "cell_type": "code",
   "execution_count": 26,
   "metadata": {},
   "outputs": [
    {
     "name": "stdout",
     "output_type": "stream",
     "text": [
      "tworzenie obiektu\n",
      "inicjalizacja\n",
      "A (<type 'object'>,) {'__module__': '__main__', '__metaclass__': <class '__main__.Meta'>}\n",
      "Meta.__call__\n",
      "tworzenie obiektu\n",
      "inicjalizacja\n",
      "Aasdf (<class '__main__.A'>,) {'x': 23, '__module__': '__main__'}\n",
      "<class '__main__.Aasdf'>\n",
      "Aasdf\n",
      "[<class '__main__.Aasdf'>, <class '__main__.A'>, <type 'object'>]\n",
      "['__class__', '__delattr__', '__dict__', '__doc__', '__format__', '__getattribute__', '__hash__', '__init__', '__metaclass__', '__module__', '__new__', '__reduce__', '__reduce_ex__', '__repr__', '__setattr__', '__sizeof__', '__str__', '__subclasshook__', '__weakref__', 'x']\n",
      "23\n",
      "Meta.__call__\n",
      "==============\n",
      "tworzenie obiektu\n",
      "inicjalizacja\n",
      "Klaska () {}\n",
      "<class '__main__.Klaska'>\n"
     ]
    }
   ],
   "source": [
    "# w praktyce, metaklalsy to klasy, które dziedziczą po type\n",
    "# (oczywiscie nie muszą, ale wtedy trzeba samemu zatroszyc się o odpowiednie tworzenie\n",
    "# obiektów)\n",
    "\n",
    "class Meta(type):\n",
    "    def __new__(cls, name, bs, ns):\n",
    "        # new to classmethod  - cls jest metaklasą Meta\n",
    "        # przechwytywanie procesu tworzenia klasy - tego co będzie przypisane do zmiennej\n",
    "        # o znawie name\n",
    "        print 'tworzenie obiektu'\n",
    "        # można wpływac na atrybuty, mro, i nazwę klasy, ale teraz nie zrobimy nic\n",
    "        return super(Meta, cls).__new__(cls, name, bs, ns)\n",
    "    \n",
    "    def __init__(self, name , bs, ns):\n",
    "        # na tym etapie self to juz utworzona klasa\n",
    "        # inicjalizacja klasy - nazwa jest już nadana, to za późno, żeby to zmienić,\n",
    "        # tak samo klasy bazowe i atrybuty\n",
    "        print \"inicjalizacja\"\n",
    "        print name, bs, ns\n",
    "        name = name.upper()\n",
    "        bs = ()\n",
    "        ns = {'x': 24}\n",
    "        return super(Meta, self).__init__(name, bs, ns)\n",
    "    \n",
    "    def __call__(self, *a, **kw):\n",
    "        # tak jak a() wywoływało metodę __call__ z klasy na rzecz tego obiektu,\n",
    "        # tak A() wywołuje __call__ metaklasy, na rzecz tej klasy\n",
    "        # jeżeli klasa nie jest wywoływalna (nie ma __call__ w metaklasie to nie można\n",
    "        # stworzyć instancji klasy)\n",
    "        print 'Meta.__call__'\n",
    "        return super(Meta, self).__call__(*a, **kw)\n",
    "        \n",
    "\n",
    "class A(object):\n",
    "    __metaclass__ = Meta\n",
    "    \n",
    "A()\n",
    "    \n",
    "\n",
    "class Aasdf(A):  # jeżeli klasa bazowa nie ma zdefiniowanej metaklasy,\n",
    "    x = 23       # to uzywana jest ta z klasy bazowej - metaklasy są dziedziczone\n",
    "    \n",
    "print Aasdf\n",
    "print Aasdf.__name__  # __init__ nie wpływa na nazwę klasy\n",
    "print Aasdf.mro()  # __init__ nie wpływa na mro\n",
    "print dir(Aasdf)  # __init__ nie wpływa na listę atrybutów\n",
    "print Aasdf.x  # __init__ nie wpływa na wartosći atrybutów\n",
    "\n",
    "a = Aasdf()\n",
    "\n",
    "\n",
    "print '=============='\n",
    "# alternatywnie można towrzyć klasy wywołujac metaklasę - dokładnie tak jak tworząc instancję klasy wywoływać klase -\n",
    "# bo w rzeczywistości klasy są instancjami metaklas\n",
    "Klaska = Meta('Klaska', (), {})\n",
    "print Klaska"
   ]
  },
  {
   "cell_type": "code",
   "execution_count": null,
   "metadata": {},
   "outputs": [],
   "source": [
    "In [46]: class BSCMeta(type):\n",
    "    ...:     def __getitem__(self, item):\n",
    "    ...:         print self\n",
    "    ...:         if isinstance(item, slice):\n",
    "    ...:             return [self(i) for i in range(item.start, item.stop, item.step or 1)]\n",
    "    ...:         return self(item)\n",
    "    \n",
    "    \n",
    "    \n",
    "In [49]: class BSC:\n",
    "    ...:     __metaclass__ = BSCMeta\n",
    "    ...:     def __init__(self, id):\n",
    "    ...:         self.id = id\n",
    "    ...:         \n"
   ]
  },
  {
   "cell_type": "markdown",
   "metadata": {},
   "source": [
    "## klasy abstrakcyjne\n",
    "moduł abc (Abstract Base Classes) zawiera metaklasę ABCMeta, która jest uzywana do tworzenia \n",
    "m.in metod abstrakcyjnych, ale równiez kilku innyc hciekawych rzeczy"
   ]
  },
  {
   "cell_type": "code",
   "execution_count": 22,
   "metadata": {},
   "outputs": [
    {
     "name": "stdout",
     "output_type": "stream",
     "text": [
      "[<type 'tuple'>, <type 'object'>]\n",
      "True\n",
      "True\n",
      "False\n",
      "False\n",
      "========================================\n",
      "False\n",
      "False\n"
     ]
    }
   ],
   "source": [
    "# można dodac 'virtualne klasy bazowe' przy pomocy funkcji register\n",
    "\n",
    "import abc\n",
    "\n",
    "\n",
    "class Sekwencja:\n",
    "    __metaclass__ = abc.ABCMeta\n",
    "    \n",
    "    \n",
    "Sekwencja.register(tuple)  # krotka będzie widziana jako podklasa Sekwencji\n",
    "\n",
    "\n",
    "print tuple.mro()  # Sekwencji nie ma w mro\n",
    "\n",
    "\n",
    "print issubclass(tuple, Sekwencja)  # ale i tak pokazuje że krotka jest podklasą\n",
    "print isinstance((), Sekwencja)\n",
    "\n",
    "print issubclass(list, Sekwencja)  # lista nie jest tak postrzegana\n",
    "print isinstance([], Sekwencja)\n",
    "\n",
    "print 40 * '='\n",
    "\n",
    "class Sekwencja2(Sekwencja):\n",
    "    pass\n",
    "\n",
    "print issubclass(tuple, Sekwencja2)  # funkcja register nie działa dla klas dizedziczącyk po\n",
    "print isinstance((), Sekwencja2)     # wirtualnej klasie bazowej"
   ]
  },
  {
   "cell_type": "code",
   "execution_count": 23,
   "metadata": {},
   "outputs": [
    {
     "name": "stdout",
     "output_type": "stream",
     "text": [
      "[<type 'tuple'>, <type 'object'>]\n",
      "True\n",
      "True\n",
      "========================================\n",
      "True\n",
      "True\n"
     ]
    }
   ],
   "source": [
    "# alternatywnie można zaimplementować metodę __subclasshook__ jako classmethod\n",
    "\n",
    "import abc\n",
    "\n",
    "\n",
    "class Sekwencja :\n",
    "    __metaclass__ = abc.ABCMeta\n",
    "    \n",
    "    @classmethod\n",
    "    def __subclasshook__(cls, subclass):\n",
    "        if subclass in [tuple, list]:  # krotki i listy są uważane za podklasy\n",
    "            return True\n",
    "        return False\n",
    "\n",
    "\n",
    "print tuple.mro()  # Sekwencji nie ma w mro\n",
    "\n",
    "\n",
    "print issubclass(tuple, Sekwencja)  # ale i tak pokazuje że krotka jest podklasą\n",
    "print isinstance((), Sekwencja)\n",
    "\n",
    "\n",
    "print 40 * '='\n",
    "\n",
    "class Sekwencja2(Sekwencja):\n",
    "    pass\n",
    "\n",
    "print issubclass(tuple, Sekwencja2)  # działa dla klasy pochodnej - register nie działało\n",
    "print isinstance((), Sekwencja2)\n",
    "\n",
    "\n",
    "# metodę __subclasshook__ i funkcję register można łączyć - wtedy \"lista podklas\"\n",
    "# to suma zbiorów klas zarejestrowanych i tych określonych przez metodę __subclasshook__"
   ]
  },
  {
   "cell_type": "markdown",
   "metadata": {},
   "source": [
    "### metody i property abstrakcyjne"
   ]
  },
  {
   "cell_type": "code",
   "execution_count": 19,
   "metadata": {},
   "outputs": [
    {
     "ename": "NotImplementedError",
     "evalue": "",
     "output_type": "error",
     "traceback": [
      "\u001b[0;31m---------------------------------------------------------------------------\u001b[0m",
      "\u001b[0;31mNotImplementedError\u001b[0m                       Traceback (most recent call last)",
      "\u001b[0;32m<ipython-input-19-eb97dc10ecd8>\u001b[0m in \u001b[0;36m<module>\u001b[0;34m()\u001b[0m\n\u001b[1;32m     15\u001b[0m \u001b[0;34m\u001b[0m\u001b[0m\n\u001b[1;32m     16\u001b[0m \u001b[0;31m# w zupełnie innym pliku 2000 linii kodu dalej\u001b[0m\u001b[0;34m\u001b[0m\u001b[0;34m\u001b[0m\u001b[0m\n\u001b[0;32m---> 17\u001b[0;31m \u001b[0ma\u001b[0m\u001b[0;34m.\u001b[0m\u001b[0mmetoda_abstrakcyjna\u001b[0m\u001b[0;34m(\u001b[0m\u001b[0;34m)\u001b[0m  \u001b[0;31m# wykrzaczy się - dużo debugowania\u001b[0m\u001b[0;34m\u001b[0m\u001b[0m\n\u001b[0m\u001b[1;32m     18\u001b[0m \u001b[0;34m\u001b[0m\u001b[0m\n",
      "\u001b[0;32m<ipython-input-19-eb97dc10ecd8>\u001b[0m in \u001b[0;36mmetoda_abstrakcyjna\u001b[0;34m(self)\u001b[0m\n\u001b[1;32m      4\u001b[0m     \u001b[0;31m# dużo metod\u001b[0m\u001b[0;34m\u001b[0m\u001b[0;34m\u001b[0m\u001b[0m\n\u001b[1;32m      5\u001b[0m     \u001b[0;32mdef\u001b[0m \u001b[0mmetoda_abstrakcyjna\u001b[0m\u001b[0;34m(\u001b[0m\u001b[0mself\u001b[0m\u001b[0;34m)\u001b[0m\u001b[0;34m:\u001b[0m\u001b[0;34m\u001b[0m\u001b[0m\n\u001b[0;32m----> 6\u001b[0;31m         \u001b[0;32mraise\u001b[0m \u001b[0mNotImplementedError\u001b[0m\u001b[0;34m(\u001b[0m\u001b[0;34m)\u001b[0m \u001b[0;31m# generalnie zadziała\u001b[0m\u001b[0;34m\u001b[0m\u001b[0m\n\u001b[0m\u001b[1;32m      7\u001b[0m \u001b[0;34m\u001b[0m\u001b[0m\n\u001b[1;32m      8\u001b[0m \u001b[0;34m\u001b[0m\u001b[0m\n",
      "\u001b[0;31mNotImplementedError\u001b[0m: "
     ]
    }
   ],
   "source": [
    "# tak drzewiej bywało:\n",
    "\n",
    "class Abstrakcyjna(object):\n",
    "    # dużo metod\n",
    "    def metoda_abstrakcyjna(self):\n",
    "        raise NotImplementedError() # generalnie zadziała\n",
    "        \n",
    "        \n",
    "class NieAbstrakcyjna(Abstrakcyjna):\n",
    "    # programista naspisuje inne metody - tylko zapomniał o tej o nazwie metoda_abstrakcyjna\n",
    "    pass\n",
    "        \n",
    "    \n",
    "a = NieAbstrakcyjna()  # przejdzie, a nie powinno, bo programista nie nadpisał metody abstrakcyjnej\n",
    "\n",
    "# w zupełnie innym pliku 2000 linii kodu dalej\n",
    "a.metoda_abstrakcyjna()  # wykrzaczy się - dużo debugowania\n",
    "        \n"
   ]
  },
  {
   "cell_type": "code",
   "execution_count": 21,
   "metadata": {},
   "outputs": [
    {
     "ename": "TypeError",
     "evalue": "Can't instantiate abstract class B with abstract methods f",
     "output_type": "error",
     "traceback": [
      "\u001b[0;31m---------------------------------------------------------------------------\u001b[0m",
      "\u001b[0;31mTypeError\u001b[0m                                 Traceback (most recent call last)",
      "\u001b[0;32m<ipython-input-21-a1553faa3b33>\u001b[0m in \u001b[0;36m<module>\u001b[0;34m()\u001b[0m\n\u001b[1;32m     16\u001b[0m     \u001b[0;32mpass\u001b[0m\u001b[0;34m\u001b[0m\u001b[0m\n\u001b[1;32m     17\u001b[0m \u001b[0;34m\u001b[0m\u001b[0m\n\u001b[0;32m---> 18\u001b[0;31m \u001b[0mb\u001b[0m \u001b[0;34m=\u001b[0m \u001b[0mB\u001b[0m\u001b[0;34m(\u001b[0m\u001b[0;34m)\u001b[0m  \u001b[0;31m# error\u001b[0m\u001b[0;34m\u001b[0m\u001b[0m\n\u001b[0m\u001b[1;32m     19\u001b[0m \u001b[0;34m\u001b[0m\u001b[0m\n\u001b[1;32m     20\u001b[0m \u001b[0;34m\u001b[0m\u001b[0m\n",
      "\u001b[0;31mTypeError\u001b[0m: Can't instantiate abstract class B with abstract methods f"
     ]
    }
   ],
   "source": [
    "# metody abstrakcyjne muszą być nadpisane w klasach bazowych\n",
    "\n",
    "import abc\n",
    "\n",
    "class A:\n",
    "    __metaclass__ = abc.ABCMeta  # do klas abstrakcyjnych musi być dodana ABCMeta\n",
    "    \n",
    "    @abc.abstractmethod\n",
    "    def f(self):\n",
    "        pass\n",
    "    \n",
    "\n",
    "# a = A()  # error\n",
    "\n",
    "class B(A):\n",
    "    pass\n",
    "\n",
    "# b = B()  # error\n",
    "\n",
    "\n",
    "class C(B):\n",
    "    def f(self):\n",
    "        pass\n",
    "    \n",
    "c = C()  # działa"
   ]
  },
  {
   "cell_type": "code",
   "execution_count": null,
   "metadata": {
    "collapsed": true
   },
   "outputs": [],
   "source": [
    "import abc\n",
    "\n",
    "class A:\n",
    "    __metaclass__ = abc.ABCMeta\n",
    "    \n",
    "    @abc.abstractproperty\n",
    "    def f(self):\n",
    "        pass\n",
    "    \n",
    "\n",
    "# a = A()  # error\n",
    "\n",
    "class B(A):\n",
    "    pass\n",
    "\n",
    "# b = B()  # error\n",
    "\n",
    "\n",
    "class C(B):\n",
    "    @property\n",
    "    def f(self):\n",
    "        pass\n",
    "    \n",
    "c = C()  # działa"
   ]
  },
  {
   "cell_type": "markdown",
   "metadata": {
    "collapsed": true
   },
   "source": [
    "## Weakref\n",
    "\n",
    "Słabe referencje to obiekty, które nawiązują do innego obiektu, nie nie zwiększają liczby dowiązać (oryginalny obiekt nie ma zwiększonej liczby referencji)"
   ]
  },
  {
   "cell_type": "code",
   "execution_count": 27,
   "metadata": {},
   "outputs": [
    {
     "name": "stdout",
     "output_type": "stream",
     "text": [
      "<__main__.A object at 0x7f5bbc704790>.__init__\n",
      "<weakref at 0x7f5bbc5e6d60; to 'A' at 0x7f5bbc704790> ;  <__main__.A object at 0x7f5bbc704790>\n",
      "callback:  <weakref at 0x7f5bbc5e6d60; dead>\n",
      "<__main__.A object at 0x7f5bbc704790>.__del__\n",
      "None\n",
      "==================================================\n",
      "<__main__.A object at 0x7f5bbc630d90>.__init__\n",
      "<__main__.A object at 0x7f5bbc62ead0>.__init__\n",
      "<__main__.A object at 0x7f5bbc62ea90>.__init__\n",
      "<__main__.A object at 0x7f5bbc62ea10>.__init__\n",
      "<__main__.A object at 0x7f5bbc62e9d0>.__init__\n",
      "<WeakKeyDictionary at 140031979509736> [<__main__.A object at 0x7f5bbc630d90>, <__main__.A object at 0x7f5bbc62ead0>, <__main__.A object at 0x7f5bbc62ea90>, <__main__.A object at 0x7f5bbc62e9d0>, <__main__.A object at 0x7f5bbc62ea10>]\n",
      "5\n",
      "<__main__.A object at 0x7f5bbc62e9d0>.__del__\n",
      "4\n",
      "==================================================\n",
      "<__main__.A object at 0x7f5bbc62e9d0>.__init__\n",
      "<__main__.A object at 0x7f5bbc62eb10>.__init__\n",
      "<__main__.A object at 0x7f5bbc62eb50>.__init__\n",
      "<__main__.A object at 0x7f5bbc62eb90>.__init__\n",
      "<__main__.A object at 0x7f5bbc62ebd0>.__init__\n",
      "<WeakValueDictionary at 140031979509952> [<__main__.A object at 0x7f5bbc62e9d0>, <__main__.A object at 0x7f5bbc62eb10>, <__main__.A object at 0x7f5bbc62eb50>, <__main__.A object at 0x7f5bbc62eb90>, <__main__.A object at 0x7f5bbc62ebd0>]\n",
      "5\n",
      "<__main__.A object at 0x7f5bbc62ebd0>.__del__\n",
      "4\n",
      "==================================================\n",
      "<__main__.A object at 0x7f5bbc62ebd0>.__init__\n",
      "<__main__.A object at 0x7f5bbc62ec10>.__init__\n",
      "<__main__.A object at 0x7f5bbc62ec50>.__init__\n",
      "<__main__.A object at 0x7f5bbc62ec90>.__init__\n",
      "<__main__.A object at 0x7f5bbc62ecd0>.__init__\n",
      "{<__main__.A object at 0x7f5bbc62ec10>: 1, <__main__.A object at 0x7f5bbc62ec90>: 3, <__main__.A object at 0x7f5bbc62ebd0>: 0, <__main__.A object at 0x7f5bbc62ecd0>: 4, <__main__.A object at 0x7f5bbc62ec50>: 2} [1, 3, 0, 4, 2]\n",
      "5\n",
      "5\n",
      "==================================================\n",
      "<__main__.A object at 0x7f5bbc62ed10>.__init__\n",
      "<__main__.A object at 0x7f5bbc62ed50>.__init__\n",
      "<__main__.A object at 0x7f5bbc62ed90>.__init__\n",
      "<__main__.A object at 0x7f5bbc62edd0>.__init__\n",
      "<__main__.A object at 0x7f5bbc62ee10>.__init__\n",
      "<_weakrefset.WeakSet object at 0x7f5bbc704810>\n",
      "5\n",
      "<__main__.A object at 0x7f5bbc62ee10>.__del__\n",
      "4\n"
     ]
    }
   ],
   "source": [
    "import weakref\n",
    "\n",
    "class A(object):\n",
    "    def __init__(self):\n",
    "        print '{}.__init__'.format(self)\n",
    "        \n",
    "    def __del__(self):\n",
    "        print '{}.__del__'.format(self)\n",
    "        del self\n",
    "\n",
    "a = A()\n",
    "\n",
    "def callback(obj):\n",
    "    print 'callback: ', obj\n",
    "\n",
    "aref = weakref.ref(a, callback)\n",
    "print aref, '; ', aref()  # żeby dostać się do referenta, trzeba wywołać referencję\n",
    "\n",
    "del a\n",
    "print aref()  # referent został usunięty, więc referencja pokazuje na None\n",
    "\n",
    "\n",
    "print 50 * '='\n",
    "keys_list1 = [A() for i in range(5)]\n",
    "d1 = weakref.WeakKeyDictionary({a: i for i, a in enumerate(keys_list1)})\n",
    "print d1, d1.keys()\n",
    "print len(d1)\n",
    "keys_list1.pop()\n",
    "print len(d1)\n",
    "\n",
    "print 50 * '='\n",
    "keys_list2 = [A() for i in range(5)]\n",
    "d2 = weakref.WeakValueDictionary({i: a for i, a in enumerate(keys_list2)})\n",
    "print d2, d2.values()\n",
    "print len(d2)\n",
    "keys_list2.pop()\n",
    "print len(d2)\n",
    "\n",
    "\n",
    "print 50 * '='\n",
    "# dla porównania normalny słownik\n",
    "keys_list3 = [A() for i in range(5)]\n",
    "d3 = {a: i for i, a in enumerate(keys_list3)}\n",
    "print d3, d3.values()\n",
    "print len(d3)\n",
    "keys_list3.pop()  # nie wywołuje się __del__\n",
    "print len(d3)  # dalej jest 5 - bo w słowniku zostały utworzone nowe \"twarde\" \n",
    "               # referencje do obiektów i obiekt nie jest nawet usunięty\n",
    "\n",
    "    \n",
    "print 50 * '='\n",
    "# alternatywnie do słownika można uzyc zbioru\n",
    "item_list = [A() for i in range(5)]\n",
    "s = weakref.WeakSet({a for a in item_list})\n",
    "print s\n",
    "print len(s)\n",
    "item_list.pop()\n",
    "print len(s)\n",
    "\n",
    "# dodatkowe __del__e w outpucie to usunięte zmienne z poprzedniego uruchomienia"
   ]
  },
  {
   "cell_type": "code",
   "execution_count": null,
   "metadata": {},
   "outputs": [],
   "source": []
  }
 ],
 "metadata": {
  "kernelspec": {
   "display_name": "Python 2",
   "language": "python",
   "name": "python2"
  },
  "language_info": {
   "codemirror_mode": {
    "name": "ipython",
    "version": 2
   },
   "file_extension": ".py",
   "mimetype": "text/x-python",
   "name": "python",
   "nbconvert_exporter": "python",
   "pygments_lexer": "ipython2",
   "version": "2.7.13"
  }
 },
 "nbformat": 4,
 "nbformat_minor": 2
}
