{
 "cells": [
  {
   "cell_type": "markdown",
   "metadata": {},
   "source": [
    "# Metaklasy\n",
    "\n",
    "Wszystko jest obiektem - tak jak instancje mają swoje klasy/typy które określają ich zachowanie, tak klasy mają swoje klasy/typy, które określają ich zachowanie. Są to właśnie metaklasy. Podstawową metaklasą jest type (tak, to type, które mówi nam jakiego typu są obiekty); type jest metaklasą dla samego siebie.\n",
    "\n",
    "Metaklasy to funkcje albo klasy, które powinny zwrócić nową klasę.\n",
    "\n",
    "Cały flow tworzenia klasy jest następujący:\n",
    "1. określana jest metaklasa\n",
    "2. przygotowywany jest namespace dla klasy (metoda \\_\\_prepare\\_\\_)\n",
    "3. wykonywane jest ciało klasy\n",
    "4. tworzony jest obiekt klasy"
   ]
  },
  {
   "cell_type": "code",
   "execution_count": null,
   "metadata": {},
   "outputs": [],
   "source": [
    "from __future__ import print_function\n",
    "print(type(2))\n",
    "print(type(int))\n",
    "print(type(type))"
   ]
  },
  {
   "cell_type": "code",
   "execution_count": null,
   "metadata": {},
   "outputs": [],
   "source": [
    "# alternatywna do class metoda tworzenia klas - type z trzema argumetnami:\n",
    "# type(NazwaKlasy, KrotkaKlasBazowych, SłownikAtrybutów)\n",
    "\n",
    "Kotek = type(\n",
    "    'Kotek',  # klasa będzie miała nazwę Kotek - nazwa może być inna niż zmienna, do której jest przypisywana\n",
    "    (), # nie ma zadnych dodatkowych klas bazowych, będzie tylko object\n",
    "    {'co_lubi': 'mleko', 'f': lambda self: self.co_lubi})  # atrybut klasy *co_lubi* i metoda *f*\n",
    "\n",
    "kotek  = Kotek()\n",
    "print('kotek.co_lubi:', kotek.co_lubi)\n",
    "print('vars(kotek):', vars(kotek))  # instancja nie ma dodatkowych atrybutów\n",
    "print('vars(Kotek):', vars(Kotek))  # co_lubi jest atrybutem klasy\n",
    "print('Kotek.mro():', Kotek.mro())\n",
    "kotek.f()"
   ]
  },
  {
   "cell_type": "code",
   "execution_count": null,
   "metadata": {},
   "outputs": [],
   "source": [
    "# metaklasa w formie funkcji przyjmuje 3 argumenty -\n",
    "# nazwę klasy, listę klas bazowych i namespace - atrybuty i metody\n",
    "def metaklasa(name, bs, ns):\n",
    "    print('metaklasa pozdrawia')\n",
    "    print('name: ', name)\n",
    "    print('bs', bs)  # bs - Bases\n",
    "    print('ns', ns)  # ns - Namespace\n",
    "    return type(name, bs, ns)\n",
    "\n",
    "# jeżeli metaklasa jest funkcją, trzeba ją ręcznie podpiąć do każdej klasy, w której chcemy ją mieć"
   ]
  },
  {
   "cell_type": "code",
   "execution_count": null,
   "metadata": {},
   "outputs": [],
   "source": [
    "# Python 2\n",
    "\n",
    "# metaklasę podpina się do atrybutu __metaclass__\n",
    "class A(object):\n",
    "    __metaclass__ = metaklasa\n",
    "\n",
    "class B(A):\n",
    "    __metaclass__ = metaklasa  # nie jest konieczne, żeby klasa bazowa miała podpiętą metaklasę\n",
    "    x = 23\n",
    "    def f(self):\n",
    "        print(self)"
   ]
  },
  {
   "cell_type": "code",
   "execution_count": null,
   "metadata": {},
   "outputs": [],
   "source": [
    "# Python 3\n",
    "\n",
    "# metaklasę podaje się przy definicji klasy, po klasach bazowych - jako keyword\n",
    "class A(metaclass=metaklasa):\n",
    "    pass\n",
    "\n",
    "print('>>')\n",
    "class B(A, metaclass=metaklasa):\n",
    "    x = 23\n",
    "    def f(self):\n",
    "        print(self)"
   ]
  },
  {
   "cell_type": "markdown",
   "metadata": {},
   "source": [
    "generalnie metaklasa wcale nie musi wywoływać type i tworzyć obiektu określonej klasy,\n",
    "może na przykałd zwracać int"
   ]
  },
  {
   "cell_type": "code",
   "execution_count": null,
   "metadata": {},
   "outputs": [],
   "source": [
    "# Python 2\n",
    "def metaklasa(*a):\n",
    "    return 2\n",
    "\n",
    "class A:\n",
    "    __metaclass__ = metaklasa\n",
    "    \n",
    "\n",
    "print(A)  # A to jest liczba 2 a nie <class '__main__.A'>"
   ]
  },
  {
   "cell_type": "code",
   "execution_count": null,
   "metadata": {},
   "outputs": [],
   "source": [
    "# Python 3\n",
    "def metaklasa(*a):\n",
    "    return 2\n",
    "\n",
    "class A(metaclass=metaklasa):\n",
    "    pass\n",
    "    \n",
    "print(A)  # A to jest liczba 2 a nie <class '__main__.A'>"
   ]
  },
  {
   "cell_type": "code",
   "execution_count": null,
   "metadata": {},
   "outputs": [],
   "source": [
    "# w praktyce, metaklasy to klasy, które dziedziczą po type\n",
    "# (oczywiscie nie muszą, ale wtedy trzeba samemu zatroszyc się o odpowiednie tworzenie\n",
    "# obiektów)\n",
    "\n",
    "class Meta(type):\n",
    "    def __new__(cls, name, bs, ns):\n",
    "        # __new__ to classmethod  - cls jest metaklasą Meta\n",
    "        # przechwytywanie procesu tworzenia klasy - tego co będzie przypisane do zmiennej\n",
    "        # o znawie name\n",
    "        print('tworzenie obiektu')\n",
    "        # można wpływac na atrybuty, mro, i nazwę klasy, ale teraz nie zrobimy nic\n",
    "        return super(Meta, cls).__new__(cls, name, bs, ns)\n",
    "    \n",
    "    def __init__(self, name , bs, ns):\n",
    "        # na tym etapie self to juz utworzona klasa\n",
    "        # inicjalizacja klasy - nazwa jest już nadana, to za późno, żeby to zmienić,\n",
    "        # tak samo klasy bazowe i atrybuty\n",
    "        print(\"inicjalizacja\")\n",
    "        print( name, bs, ns)\n",
    "        name = name.upper()\n",
    "        bs = ()\n",
    "        ns = {'x': 24}\n",
    "        return super(Meta, self).__init__(name, bs, ns)\n",
    "    \n",
    "    def __call__(self, *a, **kw):\n",
    "        # tak jak a() wywoływało metodę __call__ z klasy na rzecz tego obiektu,\n",
    "        # tak A() wywołuje __call__ metaklasy, na rzecz tej klasy\n",
    "        # jeżeli klasa nie jest wywoływalna (nie ma __call__ w metaklasie to nie można\n",
    "        # stworzyć instancji klasy)\n",
    "        print('Meta.__call__')\n",
    "        return super(Meta, self).__call__(*a, **kw)"
   ]
  },
  {
   "cell_type": "code",
   "execution_count": null,
   "metadata": {},
   "outputs": [],
   "source": [
    "# Python 2\n",
    "class A(object):\n",
    "    __metaclass__ = Meta"
   ]
  },
  {
   "cell_type": "code",
   "execution_count": null,
   "metadata": {},
   "outputs": [],
   "source": [
    "# Python 2\n",
    "A()"
   ]
  },
  {
   "cell_type": "code",
   "execution_count": null,
   "metadata": {},
   "outputs": [],
   "source": [
    "# Python 2\n",
    "class Aasdf(A):  # jeżeli klasa bazowa nie ma zdefiniowanej metaklasy,\n",
    "    x = 23       # to uzywana jest ta z klasy bazowej - metaklasy w formie klas  są dziedziczone"
   ]
  },
  {
   "cell_type": "code",
   "execution_count": null,
   "metadata": {},
   "outputs": [],
   "source": [
    "# Python 2\n",
    "print('Aasdf:', Aasdf)\n",
    "print('Aasdf.__name__:', Aasdf.__name__)  # __init__ nie wpływa na nazwę klasy\n",
    "print('Aasdf.mro():', Aasdf.mro())  # __init__ nie wpływa na mro\n",
    "print('dir(Aasdf):', dir(Aasdf))  # __init__ nie wpływa na listę atrybutów\n",
    "print('Aasdf.x:', Aasdf.x)  # __init__ nie wpływa na wartosći atrybutów"
   ]
  },
  {
   "cell_type": "code",
   "execution_count": null,
   "metadata": {},
   "outputs": [],
   "source": [
    "# Python 2\n",
    "a = Aasdf()"
   ]
  },
  {
   "cell_type": "code",
   "execution_count": null,
   "metadata": {},
   "outputs": [],
   "source": [
    "# Python 2\n",
    "# alternatywnie można towrzyć klasy wywołujac metaklasę - dokładnie tak jak tworząc instancję klasy wywoływać klase -\n",
    "# bo w rzeczywistości klasy są instancjami metaklas\n",
    "Klaska = Meta('Klaska', (), {})  # wywołanie takie jak type(..., ..., ...)\n",
    "print(Klaska)"
   ]
  },
  {
   "cell_type": "code",
   "execution_count": null,
   "metadata": {},
   "outputs": [],
   "source": [
    "# Python 3\n",
    "class A(metaclass=Meta):\n",
    "    pass"
   ]
  },
  {
   "cell_type": "code",
   "execution_count": null,
   "metadata": {},
   "outputs": [],
   "source": [
    "# Python 3\n",
    "A()  # tworzenie instancji -> Meta.__call__"
   ]
  },
  {
   "cell_type": "code",
   "execution_count": null,
   "metadata": {},
   "outputs": [],
   "source": [
    "# Python 3\n",
    "class Aasdf(A):  # jeżeli klasa bazowa nie ma zdefiniowanej metaklasy,\n",
    "    x = 23       # to uzywana jest ta z klasy bazowej - metaklasy w formie klas są dziedziczone"
   ]
  },
  {
   "cell_type": "code",
   "execution_count": null,
   "metadata": {},
   "outputs": [],
   "source": [
    "# Python 3\n",
    "print('Aasdf:', Aasdf)\n",
    "print('Aasdf.__name__:', Aasdf.__name__)  # __init__ nie wpływa na nazwę klasy\n",
    "print('Aasdf.mro():', Aasdf.mro())  # __init__ nie wpływa na mro\n",
    "print('dir(Aasdf):', dir(Aasdf))  # __init__ nie wpływa na listę atrybutów\n",
    "print('Aasdf.x:', Aasdf.x)  # __init__ nie wpływa na wartosći atrybutów"
   ]
  },
  {
   "cell_type": "code",
   "execution_count": null,
   "metadata": {},
   "outputs": [],
   "source": [
    "# Python 3\n",
    "a = Aasdf()"
   ]
  },
  {
   "cell_type": "code",
   "execution_count": null,
   "metadata": {},
   "outputs": [],
   "source": [
    "# Python 3\n",
    "# alternatywnie można towrzyć klasy wywołujac metaklasę - dokładnie tak jak tworząc instancję klasy wywoływać klase -\n",
    "# bo w rzeczywistości klasy są instancjami metaklas\n",
    "Klaska = Meta('Klaska', (), {})  # wywołanie takie jak type(..., ..., ...)\n",
    "print(Klaska)"
   ]
  },
  {
   "cell_type": "markdown",
   "metadata": {},
   "source": [
    "Przykład"
   ]
  },
  {
   "cell_type": "code",
   "execution_count": null,
   "metadata": {},
   "outputs": [],
   "source": [
    "class BSCMeta(type):\n",
    "    def __getitem__(self, item):\n",
    "        print(self)\n",
    "        if isinstance(item, slice):\n",
    "            return [self(i) for i in range(item.start, item.stop, item.step or 1)]\n",
    "        return self(item)"
   ]
  },
  {
   "cell_type": "code",
   "execution_count": null,
   "metadata": {},
   "outputs": [],
   "source": [
    "# Python 2\n",
    "class BSC:\n",
    "    __metaclass__ = BSCMeta\n",
    "    def __init__(self, id):\n",
    "        self.id = id      \n"
   ]
  },
  {
   "cell_type": "code",
   "execution_count": null,
   "metadata": {},
   "outputs": [],
   "source": [
    "#Python 3\n",
    "class BSC(metaclass=BSCMeta):\n",
    "    def __init__(self, id):\n",
    "        self.id = id      \n"
   ]
  },
  {
   "cell_type": "markdown",
   "metadata": {},
   "source": [
    "Skoro już wiadomo, że stworzenie instancji klasy, to wywołanie klasy, to można zastosować dekorator partial, również do klas"
   ]
  },
  {
   "cell_type": "code",
   "execution_count": null,
   "metadata": {},
   "outputs": [],
   "source": [
    "import sys\n",
    "\n",
    "from functools import partial\n",
    "from io import StringIO\n",
    "\n",
    "\n",
    "class Logger(object):\n",
    "    def __init__(self, file, config=None):\n",
    "        print('file, config:', file, config)\n",
    "        self.file = file\n",
    "        self.config = config\n",
    "        \n",
    "        \n",
    "stdout_logger = partial(Logger, sys.stdout)\n",
    "file_logger = partial(Logger, StringIO())\n",
    "ls1 = stdout_logger(1)  # tylko config\n",
    "ls2 = stdout_logger(2)\n",
    "lf1 = file_logger(1)  # Uwaga, bo instancja StringIO jest ta sama dla obydwóch loggerów lf1 i lf2\n",
    "lf2 = file_logger(2)"
   ]
  },
  {
   "cell_type": "markdown",
   "metadata": {},
   "source": [
    "## Python 3 - keywordy w klasach\n",
    "\n",
    "w Pythonie 3, podaczas definiowania klasy, można przekazywać dodatkowe paramerty do metaklasy"
   ]
  },
  {
   "cell_type": "code",
   "execution_count": null,
   "metadata": {},
   "outputs": [],
   "source": [
    "# Python 3\n",
    "def meta(name, bases, namespace, keyword=None):  # argument keywords\n",
    "    print(name, bases, namespace, keyword, sep='|')\n",
    "    return type(name, bases, namespace)\n",
    "\n",
    "class A(metaclass=meta, keyword=3):\n",
    "    pass"
   ]
  },
  {
   "cell_type": "code",
   "execution_count": null,
   "metadata": {},
   "outputs": [],
   "source": [
    "class Meta(type):\n",
    "    def __new__(mcls, name, bases, namespace, keyword=None):  # do __new__ i __init__ nalezy dodać kolejny argument\n",
    "        print(name, bases, namespace, keyword, sep='|')\n",
    "        return super().__new__(mcls, name, bases, namespace)\n",
    "    \n",
    "class A(metaclass=Meta, keyword=3):\n",
    "    pass    "
   ]
  },
  {
   "cell_type": "markdown",
   "metadata": {},
   "source": [
    "## Python 3.6 - __init_subclass__\n",
    "\n",
    "W klasie można zdefiniować metodę statyczną \\_\\_init\\_subclass\\_\\_.\n",
    "\n",
    "Do \\_\\_init\\_subclass\\_\\_ nie jest przekazywana metaklasy."
   ]
  },
  {
   "cell_type": "code",
   "execution_count": null,
   "metadata": {},
   "outputs": [],
   "source": [
    "class A:\n",
    "    def __init_subclass__(cls, *args, **kwargs):\n",
    "        print('__init_subclass__')\n",
    "        print(cls, args, kwargs)\n",
    "    \n",
    "    \n",
    "# cls to klasa B, args i kwargs są puste\n",
    "class B(A):\n",
    "    pass\n",
    "\n",
    "# cls to C, args są puste, keywords zawiera klucz keyword z wartością 123\n",
    "class C(A, keyword=123):\n",
    "    pass"
   ]
  },
  {
   "cell_type": "markdown",
   "metadata": {},
   "source": [
    "### Python 3 - przygotowywanie namespacu\n",
    "\n",
    "w Pythonie 3 można zaimplementować metodę \\_\\_prepare\\_\\_ w metaklasie, która służy do przygotowania przestrzeni klasy, która potem bedzie uzupełniana podczas tworzenia klasy.\n",
    "\\_\\_prepare\\_\\_ jest wywoływana przed wywołaniem \\_\\_new\\_\\_"
   ]
  },
  {
   "cell_type": "code",
   "execution_count": null,
   "metadata": {},
   "outputs": [],
   "source": [
    "class Meta(type):\n",
    "    @classmethod  # to musi być metaklasa a nie klasa - jeszcze klasa nie istnieje\n",
    "    def __prepare__(mcls, name, bases, **kwargs):  # nie ma tutaj argumentu namespace - namespace będzie tworzona\n",
    "        return {'a': 33}\n",
    "    \n",
    "class A(metaclass=Meta):\n",
    "    pass\n",
    "\n",
    "print(dir(A))  # jest atrybut 'a'"
   ]
  },
  {
   "cell_type": "markdown",
   "metadata": {},
   "source": [
    "## klasy abstrakcyjne\n",
    "moduł abc (Abstract Base Classes) zawiera metaklasę ABCMeta, która jest uzywana do tworzenia \n",
    "m.in metod abstrakcyjnych, ale równiez kilku innyc hciekawych rzeczy"
   ]
  },
  {
   "cell_type": "code",
   "execution_count": null,
   "metadata": {},
   "outputs": [],
   "source": [
    "# Python 2\n",
    "# można dodac 'virtualne klasy bazowe' przy pomocy funkcji register\n",
    "\n",
    "import abc\n",
    "\n",
    "\n",
    "class Sekwencja:\n",
    "    __metaclass__ = abc.ABCMeta"
   ]
  },
  {
   "cell_type": "code",
   "execution_count": null,
   "metadata": {},
   "outputs": [],
   "source": [
    "# Python 3\n",
    "# można dodac 'virtualne klasy bazowe' przy pomocy funkcji register\n",
    "\n",
    "import abc\n",
    "\n",
    "\n",
    "class Sekwencja(metaclass=abc.ABCMeta):\n",
    "    pass"
   ]
  },
  {
   "cell_type": "code",
   "execution_count": null,
   "metadata": {},
   "outputs": [],
   "source": [
    "# Python2/3\n",
    "    \n",
    "Sekwencja.register(tuple)  # krotka będzie widziana jako podklasa Sekwencji\n",
    "\n",
    "\n",
    "print(tuple.mro())  # Sekwencji nie ma w mro\n",
    "\n",
    "\n",
    "print(issubclass(tuple, Sekwencja))  # ale i tak pokazuje że krotka jest podklasą\n",
    "print(isinstance((), Sekwencja))\n",
    "\n",
    "print(issubclass(list, Sekwencja))  # lista nie jest tak postrzegana\n",
    "print(isinstance([], Sekwencja))\n",
    "\n",
    "print(40 * '=')\n",
    "\n",
    "class Sekwencja2(Sekwencja):\n",
    "    pass\n",
    "\n",
    "print(issubclass(tuple, Sekwencja2))  # funkcja register nie działa dla klas dizedziczącyk po\n",
    "print(isinstance((), Sekwencja2))     # wirtualnej klasie bazowej"
   ]
  },
  {
   "cell_type": "code",
   "execution_count": null,
   "metadata": {},
   "outputs": [],
   "source": [
    "# Python2\n",
    "# alternatywnie można zaimplementować metodę __subclasshook__ jako classmethod\n",
    "\n",
    "import abc\n",
    "\n",
    "\n",
    "class Sekwencja :\n",
    "    __metaclass__ = abc.ABCMeta\n",
    "    \n",
    "    @classmethod\n",
    "    def __subclasshook__(cls, subclass):\n",
    "        if subclass in [tuple, list]:  # krotki i listy są uważane za podklasy\n",
    "            return True\n",
    "        return False"
   ]
  },
  {
   "cell_type": "code",
   "execution_count": null,
   "metadata": {},
   "outputs": [],
   "source": [
    "# Python 3\n",
    "# alternatywnie można zaimplementować metodę __subclasshook__ jako classmethod\n",
    "\n",
    "import abc\n",
    "\n",
    "\n",
    "class Sekwencja(metaclass=abc.ABCMeta):\n",
    "    pass\n",
    "    \n",
    "    @classmethod\n",
    "    def __subclasshook__(cls, subclass):\n",
    "        if subclass in [tuple, list]:  # krotki i listy są uważane za podklasy\n",
    "            return True\n",
    "        return False"
   ]
  },
  {
   "cell_type": "code",
   "execution_count": null,
   "metadata": {},
   "outputs": [],
   "source": [
    "# Python 2/3\n",
    "print(tuple.mro())  # Sekwencji nie ma w mro\n",
    "\n",
    "\n",
    "print(issubclass(tuple, Sekwencja))  # ale i tak pokazuje że krotka jest podklasą\n",
    "print(isinstance((), Sekwencja))\n",
    "\n",
    "\n",
    "print(40 * '=')\n",
    "\n",
    "class Sekwencja2(Sekwencja):\n",
    "    pass\n",
    "\n",
    "print(issubclass(tuple, Sekwencja2))  # działa dla klasy pochodnej - register nie działało\n",
    "print(isinstance((), Sekwencja2))\n",
    "\n",
    "\n",
    "# metodę __subclasshook__ i funkcję register można łączyć - wtedy \"lista podklas\"\n",
    "# to suma zbiorów klas zarejestrowanych i tych określonych przez metodę __subclasshook__"
   ]
  },
  {
   "cell_type": "markdown",
   "metadata": {},
   "source": [
    "### metody i property abstrakcyjne"
   ]
  },
  {
   "cell_type": "code",
   "execution_count": null,
   "metadata": {},
   "outputs": [],
   "source": [
    "# tak drzewiej bywało:\n",
    "\n",
    "class Abstrakcyjna(object):\n",
    "    # dużo metod\n",
    "    def metoda_abstrakcyjna(self):\n",
    "        raise NotImplementedError() # generalnie zadziała\n",
    "        \n",
    "        \n",
    "class NieAbstrakcyjna(Abstrakcyjna):\n",
    "    # programista naspisuje inne metody - tylko zapomniał o tej o nazwie metoda_abstrakcyjna\n",
    "    pass\n",
    "        \n",
    "    \n",
    "a = NieAbstrakcyjna()  # przejdzie, a nie powinno, bo programista nie nadpisał metody abstrakcyjnej\n",
    "\n",
    "# w zupełnie innym pliku 2000 linii kodu dalej\n",
    "a.metoda_abstrakcyjna()  # wykrzaczy się - dużo debugowania\n",
    "        \n"
   ]
  },
  {
   "cell_type": "code",
   "execution_count": null,
   "metadata": {},
   "outputs": [],
   "source": [
    "# Python 2\n",
    "# metody abstrakcyjne muszą być nadpisane w klasach bazowych\n",
    "\n",
    "import abc\n",
    "\n",
    "class A:\n",
    "    __metaclass__ = abc.ABCMeta  # do klas abstrakcyjnych musi być dodana ABCMeta\n",
    "    \n",
    "    @abc.abstractmethod\n",
    "    def f(self):\n",
    "        pass"
   ]
  },
  {
   "cell_type": "code",
   "execution_count": null,
   "metadata": {},
   "outputs": [],
   "source": [
    "# Python 3\n",
    "# metody abstrakcyjne muszą być nadpisane w klasach bazowych\n",
    "\n",
    "import abc\n",
    "\n",
    "class A(metaclass=abc.ABCMeta):  # do klas abstrakcyjnych musi być dodana ABCMeta\n",
    "    pass\n",
    "\n",
    "    @abc.abstractmethod\n",
    "    def f(self):\n",
    "        pass"
   ]
  },
  {
   "cell_type": "code",
   "execution_count": null,
   "metadata": {},
   "outputs": [],
   "source": [
    "# Python 2/3\n",
    "\n",
    "# a = A()  # error\n",
    "\n",
    "class B(A):\n",
    "    pass\n",
    "\n",
    "# b = B()  # error\n",
    "\n",
    "\n",
    "class C(B):\n",
    "    def f(self):\n",
    "        pass\n",
    "    \n",
    "c = C()  # działa"
   ]
  },
  {
   "cell_type": "markdown",
   "metadata": {},
   "source": [
    "Metody abstrakcyjne w Pythonie mogą mieć implementację - i można ją wywołąć używając super:"
   ]
  },
  {
   "cell_type": "code",
   "execution_count": null,
   "metadata": {},
   "outputs": [],
   "source": [
    "# Python 2\n",
    "import abc\n",
    "\n",
    "class Base:\n",
    "    __metaclass__=abc.ABCMeta\n",
    "    @abc.abstractmethod\n",
    "    def f(self):\n",
    "        print('domyślna implementacja')\n",
    "        \n",
    "class A(Base):\n",
    "    def f(self):\n",
    "        print('A.f')\n",
    "        super(A, self).f()\n",
    "        \n",
    "a = A()\n",
    "a.f()"
   ]
  },
  {
   "cell_type": "code",
   "execution_count": null,
   "metadata": {},
   "outputs": [],
   "source": [
    "# Python 3\n",
    "import abc\n",
    "\n",
    "class Base(metaclass=abc.ABCMeta):\n",
    "    @abc.abstractmethod\n",
    "    def f(self):\n",
    "        print('domyślna implementacja')\n",
    "        \n",
    "class A(Base):\n",
    "    def f(self):\n",
    "        print('A.f')\n",
    "        super().f()\n",
    "        \n",
    "a = A()\n",
    "a.f()"
   ]
  },
  {
   "cell_type": "code",
   "execution_count": null,
   "metadata": {},
   "outputs": [],
   "source": [
    "# Python 2\n",
    "import abc\n",
    "\n",
    "class A:\n",
    "    __metaclass__ = abc.ABCMeta\n",
    "    \n",
    "    @abc.abstractproperty\n",
    "    def f(self):\n",
    "        pass"
   ]
  },
  {
   "cell_type": "code",
   "execution_count": null,
   "metadata": {},
   "outputs": [],
   "source": [
    "# Python 3\n",
    "import abc\n",
    "\n",
    "class A(metaclass=abc.ABCMeta):\n",
    "    pass\n",
    "    \n",
    "    @abc.abstractproperty\n",
    "    def f(self):\n",
    "        pass"
   ]
  },
  {
   "cell_type": "code",
   "execution_count": null,
   "metadata": {},
   "outputs": [],
   "source": [
    "# Python 2/3\n",
    "    \n",
    "# a = A()  # error\n",
    "\n",
    "class B(A):\n",
    "    pass\n",
    "\n",
    "# b = B()  # error\n",
    "\n",
    "\n",
    "class C(B):\n",
    "    @property\n",
    "    def f(self):\n",
    "        pass\n",
    "    \n",
    "c = C()  # działa"
   ]
  },
  {
   "cell_type": "markdown",
   "metadata": {},
   "source": [
    "## Trochę więcej o metodach"
   ]
  },
  {
   "cell_type": "code",
   "execution_count": null,
   "metadata": {
    "scrolled": true
   },
   "outputs": [],
   "source": [
    "# Python 2\n",
    "\n",
    "class A(object):\n",
    "    def f(self):\n",
    "        return self\n",
    "    \n",
    "a = A()\n",
    "\n",
    "print(type(A.f))  # typ to instancemethod\n",
    "print(A.f)  # <unbound method A.f>\n",
    "print(dir(A.f))\n",
    "\n",
    "print()\n",
    "print()\n",
    "print(type(a.f))  # typ to instancemethod\n",
    "print(a.f)  # <bound method A.f of <__main__.A object at ...>>\n",
    "print(dir(a.f))  # metoda ma ciekawe atrybuty: __func__ i __self__\n",
    "\n",
    "# __func__ to jest funkcja, która potem zostanie wywołana jako metoda \n",
    "\n",
    "print('a.f is A.f:', a.f is A.f)  # metoda a.f to coś innego niż A.f\n",
    "\n",
    "# __self__ to jest instancja (a), która będzie przekazana do funkcji a.f.__func__ jako pierwszy argument\n",
    "print('a.f.__self__ is a:', a.f.__self__ is a)\n",
    "print('A.f.__self__:', A.f.__self__)  # None - nie ma __self__\n",
    "\n",
    "# W Pythonie 2 metoda jest deskryptorem! - i to non-data deskryptorem - można przysłaniać w instancjach -\n",
    "# staticmethos i classmethod też"
   ]
  },
  {
   "cell_type": "code",
   "execution_count": null,
   "metadata": {},
   "outputs": [],
   "source": [
    "# Python 2\n",
    "\n",
    "A.f()  # TypeError: unbound method f() must be called with A instance as first argument (got nothing instead)"
   ]
  },
  {
   "cell_type": "code",
   "execution_count": null,
   "metadata": {},
   "outputs": [],
   "source": [
    "# Python 2\n",
    "A.f(a)  # To teraz dostarczamy pierwszy argument, będący instancją klasy A"
   ]
  },
  {
   "cell_type": "code",
   "execution_count": null,
   "metadata": {},
   "outputs": [],
   "source": [
    "# Python 2\n",
    "class B(A):\n",
    "    pass\n",
    "\n",
    "b = B()\n",
    "A.f(b)  # też zadziała - b jest też instancją klasy A - przez dziedziczenie"
   ]
  },
  {
   "cell_type": "code",
   "execution_count": null,
   "metadata": {},
   "outputs": [],
   "source": [
    "# Python 2\n",
    "# Metody klasy i statyczne\n",
    "\n",
    "class A(object):\n",
    "    @classmethod\n",
    "    def f(cls):\n",
    "        return cls\n",
    "    \n",
    "    @staticmethod\n",
    "    def g():\n",
    "        pass\n",
    "    \n",
    "a = A()\n",
    "print(type(A.f))  # typ to 'instancemethod'\n",
    "print(A.f)  # <bound method type.f of <class '__main__.A'>> - dla klasycznych metod to było unbound method\n",
    "print('A.f.__self__ is A:', A.f.__self__ is A)  # __self__ jest teraz klasą - w zwykłych metodach to była instancja\n",
    "                                                # albo None\n",
    "\n",
    "print()\n",
    "print()\n",
    "\n",
    "print(type(a.f))\n",
    "print(a.f)\n",
    "print(dir(a.f))\n",
    "print('a.f.__self__ is A:', a.f.__self__ is A)  # a.f.__self__ teraz jest klasą"
   ]
  },
  {
   "cell_type": "code",
   "execution_count": null,
   "metadata": {},
   "outputs": [],
   "source": [
    "# Python 2\n",
    "print(type(A.g))  # typ to 'function'\n",
    "print(dir(A.g))  # brak __self__ - przecież jest to metoda statyczna\n",
    "\n",
    "\n",
    "print(type(a.g))  # jak wcześniej\n",
    "print(dir(a.g))  # jak wcześniej\n"
   ]
  },
  {
   "cell_type": "code",
   "execution_count": null,
   "metadata": {},
   "outputs": [],
   "source": [
    "# Python 2\n",
    "# Przysłanianie metod:\n",
    "\n",
    "class A(object):\n",
    "    def f(self):\n",
    "        return 23\n",
    "    \n",
    "    @classmethod\n",
    "    def g(cls):\n",
    "        return 24\n",
    "    \n",
    "    @staticmethod\n",
    "    def h():\n",
    "        return 25\n",
    "    \n",
    "a = A()\n",
    "print(a.f())\n",
    "print(a.g())\n",
    "print(a.h())\n",
    "\n",
    "a.f = 1\n",
    "a.g = 2\n",
    "a.h = 3\n",
    "\n",
    "print(a.f)\n",
    "print(a.g)\n",
    "print(a.h)"
   ]
  },
  {
   "cell_type": "code",
   "execution_count": null,
   "metadata": {},
   "outputs": [],
   "source": [
    "# Python 3\n",
    "\n",
    "class A:\n",
    "    def f(self):\n",
    "        return self\n",
    "    \n",
    "a = A()    \n",
    "\n",
    "print(type(A.f))  # Metoda z poziomu klasy to zwykła funkcja zdefiniowana w zakresie klasy A\n",
    "print(A.f)  # <function A.f at 0x102317950>\n",
    "print(dir(A.f))\n",
    "\n",
    "print()\n",
    "print()\n",
    "\n",
    "print(type(a.f))  # Metoda z poziomu instancji jest typu *method*\n",
    "print(a.f)  # <bound method A.f of <__main__.A object at ...>>\n",
    "print(dir(a.f))  # metoda ma ciekawe atrybuty: __func__ i __self__\n",
    "\n",
    "# __func__ to jest funkcja, która potem zostanie wywołana jako metoda \n",
    "\n",
    "print('a.f is A.f:', a.f is A.f)  # metoda a.f to coś innego niż A.f\n",
    "print('a.f.__func__ is A.f:', a.f.__func__ is A.f)  # ale a.f.__func__ to to samo co A.f\n",
    "\n",
    "# __self__ to jest instancja (a), która będzie przekazana do funkcji a.f.__func__ jako pierwszy argument\n",
    "print('a.f.__self__ is a.f():', a.f.__self__ is a)"
   ]
  },
  {
   "cell_type": "code",
   "execution_count": null,
   "metadata": {},
   "outputs": [],
   "source": [
    "# Python 3\n",
    "\n",
    "# wywołanie A.f (metody instancji) z poziomu klasy:\n",
    "A.f()  # TypeError: f() missing 1 required positional argument: 'self'"
   ]
  },
  {
   "cell_type": "code",
   "execution_count": null,
   "metadata": {},
   "outputs": [],
   "source": [
    "# Python 3\n",
    "# to przekażmy parametr:\n",
    "A.f(2)  # wywołaliśmy metodę klasy, jak zwykłą funkcję z argumentem nie będącym instancją klasy A -\n",
    "        # ale przecież A.f to zwykła funkcja, to nie ma się co dziwić"
   ]
  },
  {
   "cell_type": "code",
   "execution_count": null,
   "metadata": {},
   "outputs": [],
   "source": [
    "# Python 3\n",
    "# Metody klasy i statyczne\n",
    "\n",
    "class A:\n",
    "    @classmethod\n",
    "    def f(cls):\n",
    "        return cls\n",
    "    \n",
    "    @staticmethod\n",
    "    def g():\n",
    "        pass\n",
    "    \n",
    "a = A()\n",
    "print(type(A.f))  # typ to 'method' a nie function jak w przypadku 'klasycznych' metod\n",
    "print(dir(A.f))  # jak metoda jest metodą klasy to __self__ jest już widoczne z poziomu klasy\n",
    "print('A.f.__self__ is A:', A.f.__self__ is A)\n",
    "\n",
    "print(type(a.f))\n",
    "print(dir(a.f))\n",
    "print('a.f.__self__ is A:', a.f.__self__ is A)  # a.f.__self__ teraz jest klasą"
   ]
  },
  {
   "cell_type": "code",
   "execution_count": null,
   "metadata": {},
   "outputs": [],
   "source": [
    "# Python 3\n",
    "print(type(A.g))  # typ to 'function'\n",
    "print(dir(A.g))  # brak __self__ - przecież jest to metoda statyczna\n",
    "\n",
    "\n",
    "print(type(a.g))  # jak wcześniej\n",
    "print(dir(a.g)) \n"
   ]
  },
  {
   "cell_type": "code",
   "execution_count": null,
   "metadata": {},
   "outputs": [],
   "source": [
    "# Python 3\n",
    "# Tak jak w Pythonie 2 można przysłaniać metody:\n",
    "\n",
    "class A:\n",
    "    def f(self):\n",
    "        return 23\n",
    "    \n",
    "    @classmethod\n",
    "    def g(cls):\n",
    "        return 24\n",
    "    \n",
    "    @staticmethod\n",
    "    def h():\n",
    "        return 25\n",
    "    \n",
    "a = A()\n",
    "print(a.f())\n",
    "print(a.g())\n",
    "print(a.h())\n",
    "\n",
    "a.f = 1\n",
    "a.g = 2\n",
    "a.h = 3\n",
    "\n",
    "print(a.f)\n",
    "print(a.g)\n",
    "print(a.h)"
   ]
  },
  {
   "cell_type": "markdown",
   "metadata": {},
   "source": [
    "## Inne typy\n",
    "\n",
    "Poza klasami tworzonymi przez słowo class i wywołanie type, do dyspozycji jest jeszcze trochę innych typów.\n",
    "Można je znaleźć w module types"
   ]
  },
  {
   "cell_type": "code",
   "execution_count": null,
   "metadata": {},
   "outputs": [],
   "source": [
    "import types\n",
    "\n",
    "print(dir(types))"
   ]
  },
  {
   "cell_type": "markdown",
   "metadata": {},
   "source": [
    "I na tej podstawie można robić np. moduły inaczej niż przez pliki:"
   ]
  },
  {
   "cell_type": "code",
   "execution_count": null,
   "metadata": {},
   "outputs": [],
   "source": [
    "class Modul(types.ModuleType):\n",
    "    x = 23\n",
    "    \n",
    "mod = Modul()  # TypeError: Required argument 'name' (pos 1) not found"
   ]
  },
  {
   "cell_type": "code",
   "execution_count": null,
   "metadata": {},
   "outputs": [],
   "source": [
    "mod = Modul('mod')\n",
    "print(mod.__name__)\n",
    "\n",
    "# albo\n",
    "import kot  # nie ma takiego modułu"
   ]
  },
  {
   "cell_type": "code",
   "execution_count": null,
   "metadata": {},
   "outputs": [],
   "source": [
    "import sys\n",
    "sys.modules['kot'] = Modul('kotek')  # wrzucamy moduł do listy modułów\n",
    "\n",
    "import kot  # importuje się - moduł wstrzyknięty\n",
    "print(kot.__name__)\n",
    "print(kot.x)"
   ]
  },
  {
   "cell_type": "markdown",
   "metadata": {},
   "source": [
    "### Podmiana typów\n",
    "\n",
    "Typy obiektów również można zmieniać \"w locie\" podmieniając atrybut \\_\\_class\\_\\_ instancji:"
   ]
  },
  {
   "cell_type": "code",
   "execution_count": null,
   "metadata": {},
   "outputs": [],
   "source": [
    "class A(object):\n",
    "    x = 123  # atrybut klasy\n",
    "    def __init__(self):\n",
    "        self.y = 33  # ustawianie nowego atrybutu w instancji\n",
    "        print(\"A.__init__\")\n",
    "        \n",
    "    def f(self):\n",
    "        print(\"A.f\")\n",
    "        \n",
    "class B(object):\n",
    "    x = 777 \n",
    "    def __init__(self):\n",
    "        self.y = 44  \n",
    "        print(\"A.__init__\")\n",
    "        \n",
    "    def f(self):\n",
    "        print(\"B.f\")    \n",
    "        \n",
    "a = A()\n",
    "print(a.__class__)\n",
    "print(a.x)\n",
    "print(a.y)\n",
    "a.f()\n",
    "\n",
    "print('>>>podmiana<<<')\n",
    "a.__class__ = B\n",
    "print(a.__class__)  # klasa podmienione\n",
    "print(a.x)  # x podmienione - bo to atrybut klasy\n",
    "print(a.y)  # atrybut instancji nie zmieniony - byłby podmieniony dopiero przy wywołaniu __init__\n",
    "a.f()  # metoda wywołana z klasay B\n",
    "\n",
    "\n",
    "# Wniosek\n",
    "# Po podmianie klasy, elementy wyciągane z klasy - czyli metody i atrybuty klasy są uaktualnione, natomiast \n",
    "# nie są uaktualnione atrybuty instancji - nie zosatło wywołane nawet __init__ (w sumie logiczne -\n",
    "# podmieniony został atrybut __class__ instancji a zadna metoda nie została wywołana).\n",
    "# żeby zaktualizować atrybut y trzeba ręcznie wywołać __init__"
   ]
  },
  {
   "cell_type": "code",
   "execution_count": null,
   "metadata": {},
   "outputs": [],
   "source": [
    "a.__init__()  # podmiana atrybutu instancji\n",
    "print(a.y)  # teraz nowa wartosć"
   ]
  },
  {
   "cell_type": "markdown",
   "metadata": {
    "collapsed": true
   },
   "source": [
    "## Weakref\n",
    "\n",
    "Słabe referencje to obiekty, które nawiązują do innego obiektu, nie nie zwiększają liczby dowiązać (oryginalny obiekt nie ma zwiększonej liczby referencji)"
   ]
  },
  {
   "cell_type": "code",
   "execution_count": null,
   "metadata": {},
   "outputs": [],
   "source": [
    "import weakref\n",
    "\n",
    "class A(object):\n",
    "    def __init__(self):\n",
    "        print('{}.__init__'.format(self))\n",
    "        \n",
    "    def __del__(self):\n",
    "        print('{}.__del__'.format(self))\n",
    "        del self\n",
    "\n",
    "a = A()\n",
    "\n",
    "def callback(obj):\n",
    "    print('callback: ', obj)\n",
    "\n",
    "aref = weakref.ref(a, callback)\n",
    "print(aref, '; ', aref())  # żeby dostać się do referenta, trzeba wywołać referencję\n",
    "\n",
    "del a\n",
    "print(aref())  # referent został usunięty, więc referencja pokazuje na None"
   ]
  },
  {
   "cell_type": "code",
   "execution_count": null,
   "metadata": {},
   "outputs": [],
   "source": [
    "# WeakKeyDictionary - klucze są slabymi referencjami - przy tworzeniu zbioru klucze będą zamienione na\n",
    "# słabe referencje\n",
    "\n",
    "keys_list1 = [A() for i in range(5)]\n",
    "d1 = weakref.WeakKeyDictionary(dict(zip(keys_list1, range(5))))\n",
    "print(d1, list(d1.keys()))\n",
    "print(len(d1))\n",
    "keys_list1.pop()\n",
    "print(len(d1))"
   ]
  },
  {
   "cell_type": "code",
   "execution_count": null,
   "metadata": {},
   "outputs": [],
   "source": [
    "# WeakValueDictionary - podobnie jak wcześniej tylko wartosci są słabymi referencjami\n",
    "\n",
    "keys_list2 = [A() for i in range(5)]\n",
    "d2 = weakref.WeakValueDictionary(dict(enumerate(keys_list2)))\n",
    "print(d2, list(d2.values()))\n",
    "print(len(d2))\n",
    "keys_list2.pop()\n",
    "print(len(d2))"
   ]
  },
  {
   "cell_type": "code",
   "execution_count": null,
   "metadata": {},
   "outputs": [],
   "source": [
    "# dla porównania normalny słownik\n",
    "keys_list3 = [A() for i in range(5)]\n",
    "d3 = dict(enumerate(keys_list3))\n",
    "print(d3, list(d3.values()))\n",
    "print(len(d3))\n",
    "keys_list3.pop()  # nie wywołuje się __del__\n",
    "print(len(d3))  # dalej jest 5 - bo w słowniku zostały utworzone nowe \"twarde\" \n",
    "               # referencje do obiektów i obiekt nie jest nawet usunięty"
   ]
  },
  {
   "cell_type": "code",
   "execution_count": null,
   "metadata": {},
   "outputs": [],
   "source": [
    "# alternatywnie do słownika można uzyc zbioru\n",
    "item_list = [A() for i in range(5)]\n",
    "s = weakref.WeakSet(item_list)\n",
    "print(s)\n",
    "print(len(s))\n",
    "item_list.pop()\n",
    "print(len(s))\n",
    "\n",
    "# dodatkowe __del__e w outpucie to usunięte zmienne z poprzedniego uruchomienia"
   ]
  }
 ],
 "metadata": {
  "kernelspec": {
   "display_name": "Python 3",
   "language": "python",
   "name": "python3"
  },
  "language_info": {
   "codemirror_mode": {
    "name": "ipython",
    "version": 3
   },
   "file_extension": ".py",
   "mimetype": "text/x-python",
   "name": "python",
   "nbconvert_exporter": "python",
   "pygments_lexer": "ipython3",
   "version": "3.6.1"
  }
 },
 "nbformat": 4,
 "nbformat_minor": 2
}
