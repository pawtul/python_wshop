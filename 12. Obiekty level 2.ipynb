{
 "cells": [
  {
   "cell_type": "markdown",
   "metadata": {},
   "source": [
    "# Metaklasy\n",
    "\n",
    "Wszystko jest obiektem - tak jak instancje mają swoje klasy/typy które określają ich zachowanie, tak klasy mają swoje klasy/typy, które określają ich zachowanie. Są to właśnie metaklasy. Podstawiową metaklasą jest type (tak, to type, które mówi nam jakiego typu są obiekty); type jest metaklasą dla samego siebie.\n",
    "\n",
    "Metaklasy to funkcje albo klasy, które powinny zwrócić nową klasę "
   ]
  },
  {
   "cell_type": "code",
   "execution_count": 2,
   "metadata": {},
   "outputs": [
    {
     "name": "stdout",
     "output_type": "stream",
     "text": [
      "<type 'int'>\n",
      "<type 'type'>\n",
      "<type 'type'>\n"
     ]
    }
   ],
   "source": [
    "print type(2)\n",
    "print type(int)\n",
    "print type(type)"
   ]
  },
  {
   "cell_type": "code",
   "execution_count": 11,
   "metadata": {},
   "outputs": [
    {
     "name": "stdout",
     "output_type": "stream",
     "text": [
      "metaklasa pozdrawia\n",
      "name:  A\n",
      "bs (<type 'object'>,)\n",
      "ns {'__module__': '__main__', '__metaclass__': <function metaklasa at 0x10667ade8>}\n",
      "==============================\n",
      "metaklasa pozdrawia\n",
      "name:  B\n",
      "bs (<class '__main__.A'>, <type 'object'>)\n",
      "ns {'x': 23, '__module__': '__main__', '__metaclass__': <function metaklasa at 0x10667ade8>, 'f': <function f at 0x1066a6758>}\n"
     ]
    }
   ],
   "source": [
    "# metaklasa przyjmuje 3 argumenty -\n",
    "# nazwę klasy, listę klas bozowych i namespace - atrybuty i metody\n",
    "def metaklasa(name, bs, ns):\n",
    "    print 'metaklasa pozdrawia'\n",
    "    print 'name: ', name\n",
    "    print 'bs', bs\n",
    "    print 'ns', ns\n",
    "    return type(name, bs, ns)\n",
    "\n",
    "# metaklasę podpina się w pythonie 2 do atrybutu __metaclass__\n",
    "class A(object):\n",
    "    __metaclass__ = metaklasa\n",
    "    \n",
    "print 30 * '='\n",
    "class B(A, object):\n",
    "    __metaclass__ = metaklasa\n",
    "    x = 23\n",
    "    def f(self):\n",
    "        print self"
   ]
  },
  {
   "cell_type": "code",
   "execution_count": 13,
   "metadata": {},
   "outputs": [
    {
     "name": "stdout",
     "output_type": "stream",
     "text": [
      "2\n"
     ]
    }
   ],
   "source": [
    "# generalnie metaklasa wcale nie musi wywoływać type\n",
    "\n",
    "def metaklasa(*a):\n",
    "    return 2\n",
    "\n",
    "class A:\n",
    "    __metaclass__ = metaklasa\n",
    "    \n",
    "\n",
    "print A"
   ]
  },
  {
   "cell_type": "code",
   "execution_count": 33,
   "metadata": {},
   "outputs": [
    {
     "name": "stdout",
     "output_type": "stream",
     "text": [
      "tworzenie obiektu\n",
      "inicjalizacja\n",
      "Aasdf (<class '__main__.A'>,) {'x': 23, '__module__': '__main__', '__metaclass__': <class '__main__.Meta'>}\n",
      "<class '__main__.Aasdf'>\n",
      "Aasdf\n",
      "[<class '__main__.Aasdf'>, <class '__main__.A'>, <type 'object'>]\n",
      "['__class__', '__delattr__', '__dict__', '__doc__', '__format__', '__getattribute__', '__hash__', '__init__', '__metaclass__', '__module__', '__new__', '__reduce__', '__reduce_ex__', '__repr__', '__setattr__', '__sizeof__', '__str__', '__subclasshook__', '__weakref__', 'x']\n",
      "23\n",
      "Meta.__call__\n"
     ]
    }
   ],
   "source": [
    "# w praktyce, metaklalsy to klasy, które dziedziczą po type (oczywiscie nie muszą)\n",
    "\n",
    "class Meta(type):\n",
    "    def __new__(cls, name, bs, ns):\n",
    "        # new to classmethod  - cls jest metaklasą Meta\n",
    "        # przechwytywanie procesu tworzenia klasy - tego co będzie przypisane do zmiennej\n",
    "        # o znawie name\n",
    "        print 'tworzenie obiektu'\n",
    "        # można wpływac na atrybuty, mro, i nazwę klasy, ale teraz nie zrobimy nic\n",
    "        return super(Meta, cls).__new__(cls, name, bs, ns)\n",
    "    \n",
    "    def __init__(self, name , bs, ns):\n",
    "        # na tym etapie self to juz utworzona klasa\n",
    "        # inicjalizacja klasy - nazwa jest już nadana, to za późno, żeby to zmienić,\n",
    "        # tak samo klasy bazowe i atrybuty\n",
    "        print \"inicjalizacja\"\n",
    "        print name, bs, ns\n",
    "        name = name.upper()\n",
    "        bs = ()\n",
    "        ns = {'x': 24}\n",
    "        return super(Meta, self).__init__(name, bs, ns)\n",
    "    \n",
    "    def __call__(self, *a, **kw):\n",
    "        # tak jak a() wywoływało metodę __call__ z klasy na rzecz tego obiektu,\n",
    "        # tak A() wywołuje __call__ metaklasy, na rzecz tej klasy\n",
    "        print 'Meta.__call__'\n",
    "        return super(Meta, self).__call__(*a, **kw)\n",
    "        \n",
    "\n",
    "class A(object):\n",
    "    pass\n",
    "    \n",
    "    \n",
    "class Aasdf(A):\n",
    "    __metaclass__ = Meta\n",
    "    x = 23\n",
    "    \n",
    "print Aasdf\n",
    "print Aasdf.__name__  # __init__ nie wpływa na nazwę klasy\n",
    "print Aasdf.mro()  # __init__ nie wpływa na mro\n",
    "print dir(Aasdf)  # __init__ nie wpływa na listę atrybutów\n",
    "print Aasdf.x  # __init__ nie wpływa na wartosći atrybutów\n",
    "\n",
    "a = Aasdf()"
   ]
  },
  {
   "cell_type": "markdown",
   "metadata": {},
   "source": [
    "## klasy abstrakcyjne\n",
    "moduł abc (Abstract Base Classes) zawiera metaklasę ABCMeta, która jest uzywana do tworzenia \n",
    "m.in metod abstrakcyjnych, ale równiez kilku innyc hciekawych rzeczy"
   ]
  },
  {
   "cell_type": "code",
   "execution_count": 38,
   "metadata": {},
   "outputs": [
    {
     "name": "stdout",
     "output_type": "stream",
     "text": [
      "[<type 'tuple'>, <type 'object'>]\n",
      "True\n",
      "True\n",
      "========================================\n",
      "False\n",
      "False\n"
     ]
    }
   ],
   "source": [
    "# można dodac 'virtualne klasy bazowe' przy pomocy funkcji register\n",
    "\n",
    "import abc\n",
    "\n",
    "\n",
    "class KlasaBazowa:\n",
    "    __metaclass__ = abc.ABCMeta\n",
    "    \n",
    "    \n",
    "KlasaBazowa.register(tuple)  # krotka będzie widziana jako podklasa KlasyBazowej\n",
    "\n",
    "\n",
    "print tuple.mro()  # KlasyBazowej nie ma w mro\n",
    "\n",
    "\n",
    "print issubclass(tuple, KlasaBazowa)  # ale i tak pokazuje że krotka jest podklasą\n",
    "print isinstance((), KlasaBazowa)\n",
    "\n",
    "print issubclass(list, KlasaBazowa)  # lista nei jest tak postrzegana\n",
    "print isinstance([], KlasaBazowa)\n",
    "\n",
    "print 40 * '='\n",
    "\n",
    "class KlasaBazowa2(KlasaBazowa):\n",
    "    pass\n",
    "\n",
    "print issubclass(tuple, KlasaBazowa2)  # funkcja register nie działa dla klas dizedziczącyk po\n",
    "print isinstance((), KlasaBazowa2)     # wirtualnej klasie bazowej"
   ]
  },
  {
   "cell_type": "code",
   "execution_count": 42,
   "metadata": {},
   "outputs": [
    {
     "name": "stdout",
     "output_type": "stream",
     "text": [
      "[<type 'tuple'>, <type 'object'>]\n",
      "True\n",
      "True\n",
      "False\n",
      "False\n",
      "========================================\n",
      "True\n",
      "True\n"
     ]
    }
   ],
   "source": [
    "# alternatywnie można zaimplementować metodę __subclasshook__ jako classmethod\n",
    "\n",
    "import abc\n",
    "\n",
    "\n",
    "class KlasaBazowa:\n",
    "    __metaclass__ = abc.ABCMeta\n",
    "    \n",
    "    @classmethod\n",
    "    def __subclasshook__(cls, instance):\n",
    "        if instance in [tuple, int]:  # krotki i inty są uważane za podklasy\n",
    "            return True\n",
    "        return False\n",
    "\n",
    "\n",
    "print tuple.mro()  # KlasyBazowej nie ma w mro\n",
    "\n",
    "\n",
    "print issubclass(tuple, KlasaBazowa)  # ale i tak pokazuje że krotka jest podklasą\n",
    "print isinstance((), KlasaBazowa)\n",
    "\n",
    "print issubclass(list, KlasaBazowa)  # lista nei jest tak postrzegana\n",
    "print isinstance([], KlasaBazowa)\n",
    "\n",
    "print 40 * '='\n",
    "\n",
    "class KlasaBazowa2(KlasaBazowa):\n",
    "    pass\n",
    "\n",
    "print issubclass(tuple, KlasaBazowa2)  # działą dla klasy pochodnej - register nei działało\n",
    "print isinstance((), KlasaBazowa2)\n",
    "\n",
    "\n",
    "# metodę __subclasshook__ i funkcję register możńa łączyć - wtedy \"lista podklas\"\n",
    "# to suma zbiorów klas zarejestrowanych i tych określonych przez metodę __subclasshook__"
   ]
  },
  {
   "cell_type": "code",
   "execution_count": 47,
   "metadata": {
    "collapsed": true
   },
   "outputs": [],
   "source": [
    "# metody abstrakcyjne muszą być nadpisane w klasach bazowych\n",
    "\n",
    "import abc\n",
    "\n",
    "class A:\n",
    "    __metaclass__ = abc.ABCMeta\n",
    "    \n",
    "    @abc.abstractmethod\n",
    "    def f(self):\n",
    "        pass\n",
    "    \n",
    "\n",
    "# a = A()  # error\n",
    "\n",
    "class B(A):\n",
    "    pass\n",
    "\n",
    "# b = B()  # error\n",
    "\n",
    "\n",
    "class C(B):\n",
    "    def f(self):\n",
    "        pass\n",
    "    \n",
    "c = C()  # działa"
   ]
  },
  {
   "cell_type": "code",
   "execution_count": 51,
   "metadata": {
    "collapsed": true
   },
   "outputs": [],
   "source": [
    "import abc\n",
    "\n",
    "class A:\n",
    "    __metaclass__ = abc.ABCMeta\n",
    "    \n",
    "    @abc.abstractproperty\n",
    "    def f(self):\n",
    "        pass\n",
    "    \n",
    "\n",
    "# a = A()  # error\n",
    "\n",
    "class B(A):\n",
    "    pass\n",
    "\n",
    "# b = B()  # error\n",
    "\n",
    "\n",
    "class C(B):\n",
    "    @property\n",
    "    def f(self):\n",
    "        pass\n",
    "    \n",
    "c = C()  # działa"
   ]
  },
  {
   "cell_type": "code",
   "execution_count": null,
   "metadata": {
    "collapsed": true
   },
   "outputs": [],
   "source": []
  }
 ],
 "metadata": {
  "kernelspec": {
   "display_name": "Python 2",
   "language": "python",
   "name": "python2"
  },
  "language_info": {
   "codemirror_mode": {
    "name": "ipython",
    "version": 2
   },
   "file_extension": ".py",
   "mimetype": "text/x-python",
   "name": "python",
   "nbconvert_exporter": "python",
   "pygments_lexer": "ipython2",
   "version": "2.7.12"
  }
 },
 "nbformat": 4,
 "nbformat_minor": 2
}
